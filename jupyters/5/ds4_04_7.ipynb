{
  "cells": [
    {
      "cell_type": "markdown",
      "metadata": {
        "id": "ilthBvnZCQto"
      },
      "source": [
        "# Algorithms for Big Data - Exercise 7\n",
        "This lecture is focused on the more advanced examples of the RNN usage for text data anylysis.\n",
        "\n",
        "We will deal with the sentiment analysis task using Twitter data.\n",
        "\n",
        "You can download the dataset from [this link](https://github.com/MohamedAfham/Twitter-Sentiment-Analysis-Supervised-Learning/tree/master/Data)\n"
      ]
    },
    {
      "cell_type": "markdown",
      "metadata": {
        "id": "Fi2Jwhs35Itq"
      },
      "source": [
        "[Open in Google colab](https://colab.research.google.com/github/rasvob/2020-21-ARD/blob/master/abd_07.ipynb)\n",
        "[Download from Github](https://github.com/rasvob/2020-21-ARD/blob/master/abd_07.ipynb)"
      ]
    },
    {
      "cell_type": "code",
      "execution_count": 1,
      "metadata": {
        "colab": {
          "base_uri": "https://localhost:8080/",
          "height": 35
        },
        "id": "0UJfkDzeOR3n",
        "outputId": "6f1094ae-fe35-479e-fecd-574cbfb576d9"
      },
      "outputs": [
        {
          "output_type": "execute_result",
          "data": {
            "text/plain": [
              "'2.8.0'"
            ],
            "application/vnd.google.colaboratory.intrinsic+json": {
              "type": "string"
            }
          },
          "metadata": {},
          "execution_count": 1
        }
      ],
      "source": [
        "from __future__ import absolute_import\n",
        "from __future__ import division\n",
        "from __future__ import print_function\n",
        "\n",
        "import matplotlib.pyplot as plt # plotting\n",
        "import matplotlib.image as mpimg # images\n",
        "import numpy as np #numpy\n",
        "import seaborn as sns\n",
        "import tensorflow.compat.v2 as tf #use tensorflow v2 as a main \n",
        "import tensorflow.keras as keras # required for high level applications\n",
        "from sklearn.model_selection import train_test_split # split for validation sets\n",
        "from sklearn.metrics import accuracy_score, f1_score, confusion_matrix, classification_report\n",
        "from sklearn.preprocessing import normalize # normalization of the matrix\n",
        "import scipy\n",
        "import pandas as pd\n",
        "from collections import Counter\n",
        "\n",
        "tf.version.VERSION"
      ]
    },
    {
      "cell_type": "code",
      "execution_count": 2,
      "metadata": {
        "id": "4vhRv4wJOR3p"
      },
      "outputs": [],
      "source": [
        "import unicodedata, re, string\n",
        "import nltk\n",
        "from textblob import TextBlob"
      ]
    },
    {
      "cell_type": "code",
      "execution_count": 3,
      "metadata": {
        "id": "XK36kwNIOR3p"
      },
      "outputs": [],
      "source": [
        "def show_history(history):\n",
        "    plt.figure()\n",
        "    for key in history.history.keys():\n",
        "        plt.plot(history.epoch, history.history[key], label=key)\n",
        "    plt.legend()\n",
        "    plt.tight_layout()"
      ]
    },
    {
      "cell_type": "code",
      "execution_count": 4,
      "metadata": {
        "id": "XYLlBbfEOR3q"
      },
      "outputs": [],
      "source": [
        "class Mish(keras.layers.Activation):\n",
        "    '''\n",
        "    Mish Activation Function.\n",
        "    .. math::\n",
        "        mish(x) = x * tanh(softplus(x)) = x * tanh(ln(1 + e^{x}))\n",
        "    Shape:\n",
        "        - Input: Arbitrary. Use the keyword argument `input_shape`\n",
        "        (tuple of integers, does not include the samples axis)\n",
        "        when using this layer as the first layer in a model.\n",
        "        - Output: Same shape as the input.\n",
        "    Examples:\n",
        "        >>> X = Activation('Mish', name=\"conv1_act\")(X_input)\n",
        "    '''\n",
        "\n",
        "    def __init__(self, activation, **kwargs):\n",
        "        super(Mish, self).__init__(activation, **kwargs)\n",
        "        self.__name__ = 'Mish'\n",
        "\n",
        "\n",
        "def mish(inputs):\n",
        "    return inputs * tf.math.tanh(tf.math.softplus(inputs))\n",
        "\n",
        "keras.utils.get_custom_objects().update({'mish': Mish(mish)})"
      ]
    },
    {
      "cell_type": "code",
      "execution_count": 5,
      "metadata": {
        "colab": {
          "base_uri": "https://localhost:8080/"
        },
        "id": "SHnF-PpWOR3r",
        "outputId": "1bc84349-c80d-4874-84f4-b893cb0c8a8a"
      },
      "outputs": [
        {
          "output_type": "stream",
          "name": "stdout",
          "text": [
            "[nltk_data] Downloading package punkt to /root/nltk_data...\n",
            "[nltk_data]   Unzipping tokenizers/punkt.zip.\n"
          ]
        },
        {
          "output_type": "execute_result",
          "data": {
            "text/plain": [
              "True"
            ]
          },
          "metadata": {},
          "execution_count": 5
        }
      ],
      "source": [
        "nltk.download('punkt')"
      ]
    },
    {
      "cell_type": "code",
      "execution_count": 6,
      "metadata": {
        "id": "ihYpu4rrOR3s"
      },
      "outputs": [],
      "source": [
        "df = pd.read_csv('https://raw.githubusercontent.com/rasvob/2020-21-ARD/master/datasets/train_tweets.csv')"
      ]
    },
    {
      "cell_type": "code",
      "execution_count": 7,
      "metadata": {
        "colab": {
          "base_uri": "https://localhost:8080/",
          "height": 206
        },
        "id": "WRT4pex4OR3t",
        "outputId": "37362202-6d98-4546-f5e7-8386cee2c34d"
      },
      "outputs": [
        {
          "output_type": "execute_result",
          "data": {
            "text/plain": [
              "   id  label                                              tweet\n",
              "0   1      0   @user when a father is dysfunctional and is s...\n",
              "1   2      0  @user @user thanks for #lyft credit i can't us...\n",
              "2   3      0                                bihday your majesty\n",
              "3   4      0  #model   i love u take with u all the time in ...\n",
              "4   5      0             factsguide: society now    #motivation"
            ],
            "text/html": [
              "\n",
              "  <div id=\"df-30390cfb-b759-4f8b-9a1a-3fb8c519316d\">\n",
              "    <div class=\"colab-df-container\">\n",
              "      <div>\n",
              "<style scoped>\n",
              "    .dataframe tbody tr th:only-of-type {\n",
              "        vertical-align: middle;\n",
              "    }\n",
              "\n",
              "    .dataframe tbody tr th {\n",
              "        vertical-align: top;\n",
              "    }\n",
              "\n",
              "    .dataframe thead th {\n",
              "        text-align: right;\n",
              "    }\n",
              "</style>\n",
              "<table border=\"1\" class=\"dataframe\">\n",
              "  <thead>\n",
              "    <tr style=\"text-align: right;\">\n",
              "      <th></th>\n",
              "      <th>id</th>\n",
              "      <th>label</th>\n",
              "      <th>tweet</th>\n",
              "    </tr>\n",
              "  </thead>\n",
              "  <tbody>\n",
              "    <tr>\n",
              "      <th>0</th>\n",
              "      <td>1</td>\n",
              "      <td>0</td>\n",
              "      <td>@user when a father is dysfunctional and is s...</td>\n",
              "    </tr>\n",
              "    <tr>\n",
              "      <th>1</th>\n",
              "      <td>2</td>\n",
              "      <td>0</td>\n",
              "      <td>@user @user thanks for #lyft credit i can't us...</td>\n",
              "    </tr>\n",
              "    <tr>\n",
              "      <th>2</th>\n",
              "      <td>3</td>\n",
              "      <td>0</td>\n",
              "      <td>bihday your majesty</td>\n",
              "    </tr>\n",
              "    <tr>\n",
              "      <th>3</th>\n",
              "      <td>4</td>\n",
              "      <td>0</td>\n",
              "      <td>#model   i love u take with u all the time in ...</td>\n",
              "    </tr>\n",
              "    <tr>\n",
              "      <th>4</th>\n",
              "      <td>5</td>\n",
              "      <td>0</td>\n",
              "      <td>factsguide: society now    #motivation</td>\n",
              "    </tr>\n",
              "  </tbody>\n",
              "</table>\n",
              "</div>\n",
              "      <button class=\"colab-df-convert\" onclick=\"convertToInteractive('df-30390cfb-b759-4f8b-9a1a-3fb8c519316d')\"\n",
              "              title=\"Convert this dataframe to an interactive table.\"\n",
              "              style=\"display:none;\">\n",
              "        \n",
              "  <svg xmlns=\"http://www.w3.org/2000/svg\" height=\"24px\"viewBox=\"0 0 24 24\"\n",
              "       width=\"24px\">\n",
              "    <path d=\"M0 0h24v24H0V0z\" fill=\"none\"/>\n",
              "    <path d=\"M18.56 5.44l.94 2.06.94-2.06 2.06-.94-2.06-.94-.94-2.06-.94 2.06-2.06.94zm-11 1L8.5 8.5l.94-2.06 2.06-.94-2.06-.94L8.5 2.5l-.94 2.06-2.06.94zm10 10l.94 2.06.94-2.06 2.06-.94-2.06-.94-.94-2.06-.94 2.06-2.06.94z\"/><path d=\"M17.41 7.96l-1.37-1.37c-.4-.4-.92-.59-1.43-.59-.52 0-1.04.2-1.43.59L10.3 9.45l-7.72 7.72c-.78.78-.78 2.05 0 2.83L4 21.41c.39.39.9.59 1.41.59.51 0 1.02-.2 1.41-.59l7.78-7.78 2.81-2.81c.8-.78.8-2.07 0-2.86zM5.41 20L4 18.59l7.72-7.72 1.47 1.35L5.41 20z\"/>\n",
              "  </svg>\n",
              "      </button>\n",
              "      \n",
              "  <style>\n",
              "    .colab-df-container {\n",
              "      display:flex;\n",
              "      flex-wrap:wrap;\n",
              "      gap: 12px;\n",
              "    }\n",
              "\n",
              "    .colab-df-convert {\n",
              "      background-color: #E8F0FE;\n",
              "      border: none;\n",
              "      border-radius: 50%;\n",
              "      cursor: pointer;\n",
              "      display: none;\n",
              "      fill: #1967D2;\n",
              "      height: 32px;\n",
              "      padding: 0 0 0 0;\n",
              "      width: 32px;\n",
              "    }\n",
              "\n",
              "    .colab-df-convert:hover {\n",
              "      background-color: #E2EBFA;\n",
              "      box-shadow: 0px 1px 2px rgba(60, 64, 67, 0.3), 0px 1px 3px 1px rgba(60, 64, 67, 0.15);\n",
              "      fill: #174EA6;\n",
              "    }\n",
              "\n",
              "    [theme=dark] .colab-df-convert {\n",
              "      background-color: #3B4455;\n",
              "      fill: #D2E3FC;\n",
              "    }\n",
              "\n",
              "    [theme=dark] .colab-df-convert:hover {\n",
              "      background-color: #434B5C;\n",
              "      box-shadow: 0px 1px 3px 1px rgba(0, 0, 0, 0.15);\n",
              "      filter: drop-shadow(0px 1px 2px rgba(0, 0, 0, 0.3));\n",
              "      fill: #FFFFFF;\n",
              "    }\n",
              "  </style>\n",
              "\n",
              "      <script>\n",
              "        const buttonEl =\n",
              "          document.querySelector('#df-30390cfb-b759-4f8b-9a1a-3fb8c519316d button.colab-df-convert');\n",
              "        buttonEl.style.display =\n",
              "          google.colab.kernel.accessAllowed ? 'block' : 'none';\n",
              "\n",
              "        async function convertToInteractive(key) {\n",
              "          const element = document.querySelector('#df-30390cfb-b759-4f8b-9a1a-3fb8c519316d');\n",
              "          const dataTable =\n",
              "            await google.colab.kernel.invokeFunction('convertToInteractive',\n",
              "                                                     [key], {});\n",
              "          if (!dataTable) return;\n",
              "\n",
              "          const docLinkHtml = 'Like what you see? Visit the ' +\n",
              "            '<a target=\"_blank\" href=https://colab.research.google.com/notebooks/data_table.ipynb>data table notebook</a>'\n",
              "            + ' to learn more about interactive tables.';\n",
              "          element.innerHTML = '';\n",
              "          dataTable['output_type'] = 'display_data';\n",
              "          await google.colab.output.renderOutput(dataTable, element);\n",
              "          const docLink = document.createElement('div');\n",
              "          docLink.innerHTML = docLinkHtml;\n",
              "          element.appendChild(docLink);\n",
              "        }\n",
              "      </script>\n",
              "    </div>\n",
              "  </div>\n",
              "  "
            ]
          },
          "metadata": {},
          "execution_count": 7
        }
      ],
      "source": [
        "df.head()"
      ]
    },
    {
      "cell_type": "markdown",
      "metadata": {
        "id": "B4J0-vTcOR3t"
      },
      "source": [
        "# Let's take a look at the data"
      ]
    },
    {
      "cell_type": "code",
      "execution_count": 8,
      "metadata": {
        "colab": {
          "base_uri": "https://localhost:8080/"
        },
        "id": "RjI3WiOUOR3u",
        "outputId": "5f33dcf0-33b2-4c9f-bc0b-32b3b68c3fdc"
      },
      "outputs": [
        {
          "output_type": "execute_result",
          "data": {
            "text/plain": [
              "(31962, 3)"
            ]
          },
          "metadata": {},
          "execution_count": 8
        }
      ],
      "source": [
        "df.shape"
      ]
    },
    {
      "cell_type": "markdown",
      "metadata": {
        "id": "JxK9Bx9WOR3u"
      },
      "source": [
        "## We can see that the classification task is highly imbalanced, because we have only 2242 negative tweets compared with positive one"
      ]
    },
    {
      "cell_type": "code",
      "execution_count": 9,
      "metadata": {
        "colab": {
          "base_uri": "https://localhost:8080/",
          "height": 296
        },
        "id": "AI1vLSriOR3u",
        "outputId": "a50e88ee-9204-40e1-e76c-8cc01faf3eae"
      },
      "outputs": [
        {
          "output_type": "execute_result",
          "data": {
            "text/plain": [
              "<matplotlib.axes._subplots.AxesSubplot at 0x7f2256df30d0>"
            ]
          },
          "metadata": {},
          "execution_count": 9
        },
        {
          "output_type": "display_data",
          "data": {
            "text/plain": [
              "<Figure size 432x288 with 1 Axes>"
            ],
            "image/png": "[encoded data removed]"
          },
          "metadata": {
            "needs_background": "light"
          }
        }
      ],
      "source": [
        "sns.countplot(x='label', data=df)"
      ]
    },
    {
      "cell_type": "code",
      "execution_count": 10,
      "metadata": {
        "colab": {
          "base_uri": "https://localhost:8080/"
        },
        "id": "OjV43gUOOR3v",
        "outputId": "0f20e714-2822-493d-bd75-cc7e93e83821"
      },
      "outputs": [
        {
          "output_type": "execute_result",
          "data": {
            "text/plain": [
              "0    29720\n",
              "1     2242\n",
              "Name: label, dtype: int64"
            ]
          },
          "metadata": {},
          "execution_count": 10
        }
      ],
      "source": [
        "df.label.value_counts()"
      ]
    },
    {
      "cell_type": "code",
      "execution_count": 11,
      "metadata": {
        "id": "agE3Py9dOR3v"
      },
      "outputs": [],
      "source": [
        "df['length'] = df.tweet.apply(len)"
      ]
    },
    {
      "cell_type": "markdown",
      "metadata": {
        "id": "uE0_dydVOR3v"
      },
      "source": [
        "### We can see that the sentences are of similar lengths"
      ]
    },
    {
      "cell_type": "code",
      "execution_count": 12,
      "metadata": {
        "colab": {
          "base_uri": "https://localhost:8080/",
          "height": 296
        },
        "id": "jzzngN9pOR3w",
        "outputId": "3aeac1f7-d5a9-43ce-e4b4-961d195db7c5"
      },
      "outputs": [
        {
          "output_type": "execute_result",
          "data": {
            "text/plain": [
              "<matplotlib.axes._subplots.AxesSubplot at 0x7f2256d56dd0>"
            ]
          },
          "metadata": {},
          "execution_count": 12
        },
        {
          "output_type": "display_data",
          "data": {
            "text/plain": [
              "<Figure size 432x288 with 1 Axes>"
            ],
            "image/png": "[encoded data removed]"
          },
          "metadata": {
            "needs_background": "light"
          }
        }
      ],
      "source": [
        "sns.barplot(x='label', y='length', data = df)"
      ]
    },
    {
      "cell_type": "markdown",
      "metadata": {
        "id": "EXz5o-vCOR3w"
      },
      "source": [
        "# We can see that the text data are full of noise\n",
        "\n",
        "- Social posts suffer the most from this effect\n",
        "- The text is full of hashtags, emojis, @mentions and so on\n",
        "- These parts usually don't influence the sentiment score by much\n",
        "- Although most advanced models usually extract even this features because e.g. emojis can help you with the sarcasm understanding"
      ]
    },
    {
      "cell_type": "code",
      "execution_count": 14,
      "metadata": {
        "colab": {
          "base_uri": "https://localhost:8080/"
        },
        "id": "hSD9iX2sOR3w",
        "outputId": "7d52271e-605b-4264-cfac-a83af3e88ee1"
      },
      "outputs": [
        {
          "output_type": "stream",
          "name": "stdout",
          "text": [
            " @user when a father is dysfunctional and is so selfish he drags his kids into his dysfunction.   #run\n",
            "---------\n",
            "@user @user thanks for #lyft credit i can't use cause they don't offer wheelchair vans in pdx.    #disapointed #getthanked\n",
            "---------\n",
            "  bihday your majesty\n",
            "---------\n",
            "#model   i love u take with u all the time in urð±!!! ððððð¦ð¦ð¦  \n",
            "---------\n",
            " factsguide: society now    #motivation\n",
            "---------\n",
            "[2/2] huge fan fare and big talking before they leave. chaos and pay disputes when they get there. #allshowandnogo  \n",
            "---------\n",
            " @user camping tomorrow @user @user @user @user @user @user @user dannyâ¦\n",
            "---------\n",
            "the next school year is the year for exams.ð¯ can't think about that ð­ #school #exams   #hate #imagine #actorslife #revolutionschool #girl\n",
            "---------\n",
            "we won!!! love the land!!! #allin #cavs #champions #cleveland #clevelandcavaliers  â¦ \n",
            "---------\n",
            " @user @user welcome here !  i'm   it's so #gr8 ! \n",
            "---------\n",
            " â #ireland consumer price index (mom) climbed from previous 0.2% to 0.5% in may   #blog #silver #gold #forex\n",
            "---------\n"
          ]
        }
      ],
      "source": [
        "for x in df.loc[:10, 'tweet']:\n",
        "    print(x)\n",
        "    print('---------')"
      ]
    },
    {
      "cell_type": "markdown",
      "metadata": {
        "id": "Wg4Lzh0BOR3w"
      },
      "source": [
        "## Stemming\n",
        "Stemming is the process of producing morphological variants of a root/base word. Stemming programs are commonly referred to as stemming algorithms or stemmers. A stemming algorithm reduces the words “chocolates”, “chocolatey”, “choco” to the root word, “chocolate” and “retrieval”, “retrieved”, “retrieves” reduce to the stem “retrieve”,\n",
        "\n",
        "## Lemmatization \n",
        "Lemmatization is the process of grouping together the different inflected forms of a word so they can be analysed as a single item. Lemmatization is similar to stemming but it brings context to the words. So it links words with similar meaning to one word.\n",
        "\n",
        "Examples of lemmatization:\n",
        "\n",
        "- rocks : rock\n",
        "- corpora : corpus\n",
        "- better : good\n",
        "\n",
        "## Both techiques can be used in the preprocessing pipeline\n",
        "You have to decide if it is beneficial to you, because this steps leads to some generalization of the data by itself. You will definitely lose some pieces of the information. If you use some form of embedding like Word2Vec or Glove, it is better to skip this steps because the embedding vocabulary skipped it as well."
      ]
    },
    {
      "cell_type": "code",
      "execution_count": 15,
      "metadata": {
        "id": "vO3ZZv2wOR3x"
      },
      "outputs": [],
      "source": [
        "def remove_non_ascii(words):\n",
        "    \"\"\"Remove non-ASCII characters from list of tokenized words\"\"\"\n",
        "    new_words = []\n",
        "    for word in words:\n",
        "        new_word = unicodedata.normalize('NFKD', word).encode('ascii', 'ignore').decode('utf-8', 'ignore')\n",
        "        new_words.append(new_word)\n",
        "    return new_words\n",
        "\n",
        "def to_lowercase(words):\n",
        "    \"\"\"Convert all characters to lowercase from list of tokenized words\"\"\"\n",
        "    new_words = []\n",
        "    for word in words:\n",
        "        new_word = word.lower()\n",
        "        new_words.append(new_word)\n",
        "    return new_words\n",
        "\n",
        "def remove_punctuation(words):\n",
        "    \"\"\"Remove punctuation from list of tokenized words\"\"\"\n",
        "    new_words = []\n",
        "    for word in words:\n",
        "        new_word = re.sub(r'[^\\w\\s]', '', word)\n",
        "        if new_word != '':\n",
        "            new_words.append(new_word)\n",
        "    return new_words\n",
        "\n",
        "def remove_numbers(words):\n",
        "    \"\"\"Remove all interger occurrences in list of tokenized words with textual representation\"\"\"\n",
        "    new_words = []\n",
        "    for word in words:\n",
        "        new_word = re.sub(\"\\d+\", \"\", word)\n",
        "        if new_word != '':\n",
        "            new_words.append(new_word)\n",
        "    return new_words\n",
        "\n",
        "def remove_stopwords(words):\n",
        "    \"\"\"Remove stop words from list of tokenized words\"\"\"\n",
        "    new_words = []\n",
        "    for word in words:\n",
        "        if word not in stopwords.words('english'):\n",
        "            new_words.append(word)\n",
        "    return new_words\n",
        "\n",
        "def stem_words(words):\n",
        "    \"\"\"Stem words in list of tokenized words\"\"\"\n",
        "    stemmer = LancasterStemmer()\n",
        "    stems = []\n",
        "    for word in words:\n",
        "        stem = stemmer.stem(word)\n",
        "        stems.append(stem)\n",
        "    return stems\n",
        "\n",
        "def lemmatize_verbs(words):\n",
        "    \"\"\"Lemmatize verbs in list of tokenized words\"\"\"\n",
        "    lemmatizer = WordNetLemmatizer()\n",
        "    lemmas = []\n",
        "    for word in words:\n",
        "        lemma = lemmatizer.lemmatize(word, pos='v')\n",
        "        lemmas.append(lemma)\n",
        "    return lemmas\n",
        "\n",
        "def normalize(words):\n",
        "    words = remove_non_ascii(words)\n",
        "    words = to_lowercase(words)\n",
        "# words = remove_punctuation(words)\n",
        "    words = remove_numbers(words)\n",
        "#    words = remove_stopwords(words)\n",
        "    return words\n",
        "\n",
        "def form_sentence(tweet):\n",
        "    tweet_blob = TextBlob(tweet)\n",
        "    return tweet_blob.words"
      ]
    },
    {
      "cell_type": "markdown",
      "metadata": {
        "id": "wlkBWq0gOR3y"
      },
      "source": [
        "# Tokenize sentences and remove puncuation by TextBlob library"
      ]
    },
    {
      "cell_type": "code",
      "execution_count": 16,
      "metadata": {
        "id": "7NHD13mNOR3y"
      },
      "outputs": [],
      "source": [
        "df['Words'] = df['tweet'].apply(form_sentence)"
      ]
    },
    {
      "cell_type": "code",
      "execution_count": 17,
      "metadata": {
        "colab": {
          "base_uri": "https://localhost:8080/",
          "height": 206
        },
        "id": "WBevn9keOR3y",
        "outputId": "2f917b22-ae0c-479b-c121-21ec4af7c8ff"
      },
      "outputs": [
        {
          "output_type": "execute_result",
          "data": {
            "text/plain": [
              "   id  label                                              tweet  length  \\\n",
              "0   1      0   @user when a father is dysfunctional and is s...     102   \n",
              "1   2      0  @user @user thanks for #lyft credit i can't us...     122   \n",
              "2   3      0                                bihday your majesty      21   \n",
              "3   4      0  #model   i love u take with u all the time in ...      86   \n",
              "4   5      0             factsguide: society now    #motivation      39   \n",
              "\n",
              "                                               Words  \n",
              "0  [user, when, a, father, is, dysfunctional, and...  \n",
              "1  [user, user, thanks, for, lyft, credit, i, ca,...  \n",
              "2                            [bihday, your, majesty]  \n",
              "3  [model, i, love, u, take, with, u, all, the, t...  \n",
              "4             [factsguide, society, now, motivation]  "
            ],
            "text/html": [
              "\n",
              "  <div id=\"df-c271463b-efdc-4d4f-9b6e-204c1afdd2fd\">\n",
              "    <div class=\"colab-df-container\">\n",
              "      <div>\n",
              "<style scoped>\n",
              "    .dataframe tbody tr th:only-of-type {\n",
              "        vertical-align: middle;\n",
              "    }\n",
              "\n",
              "    .dataframe tbody tr th {\n",
              "        vertical-align: top;\n",
              "    }\n",
              "\n",
              "    .dataframe thead th {\n",
              "        text-align: right;\n",
              "    }\n",
              "</style>\n",
              "<table border=\"1\" class=\"dataframe\">\n",
              "  <thead>\n",
              "    <tr style=\"text-align: right;\">\n",
              "      <th></th>\n",
              "      <th>id</th>\n",
              "      <th>label</th>\n",
              "      <th>tweet</th>\n",
              "      <th>length</th>\n",
              "      <th>Words</th>\n",
              "    </tr>\n",
              "  </thead>\n",
              "  <tbody>\n",
              "    <tr>\n",
              "      <th>0</th>\n",
              "      <td>1</td>\n",
              "      <td>0</td>\n",
              "      <td>@user when a father is dysfunctional and is s...</td>\n",
              "      <td>102</td>\n",
              "      <td>[user, when, a, father, is, dysfunctional, and...</td>\n",
              "    </tr>\n",
              "    <tr>\n",
              "      <th>1</th>\n",
              "      <td>2</td>\n",
              "      <td>0</td>\n",
              "      <td>@user @user thanks for #lyft credit i can't us...</td>\n",
              "      <td>122</td>\n",
              "      <td>[user, user, thanks, for, lyft, credit, i, ca,...</td>\n",
              "    </tr>\n",
              "    <tr>\n",
              "      <th>2</th>\n",
              "      <td>3</td>\n",
              "      <td>0</td>\n",
              "      <td>bihday your majesty</td>\n",
              "      <td>21</td>\n",
              "      <td>[bihday, your, majesty]</td>\n",
              "    </tr>\n",
              "    <tr>\n",
              "      <th>3</th>\n",
              "      <td>4</td>\n",
              "      <td>0</td>\n",
              "      <td>#model   i love u take with u all the time in ...</td>\n",
              "      <td>86</td>\n",
              "      <td>[model, i, love, u, take, with, u, all, the, t...</td>\n",
              "    </tr>\n",
              "    <tr>\n",
              "      <th>4</th>\n",
              "      <td>5</td>\n",
              "      <td>0</td>\n",
              "      <td>factsguide: society now    #motivation</td>\n",
              "      <td>39</td>\n",
              "      <td>[factsguide, society, now, motivation]</td>\n",
              "    </tr>\n",
              "  </tbody>\n",
              "</table>\n",
              "</div>\n",
              "      <button class=\"colab-df-convert\" onclick=\"convertToInteractive('df-c271463b-efdc-4d4f-9b6e-204c1afdd2fd')\"\n",
              "              title=\"Convert this dataframe to an interactive table.\"\n",
              "              style=\"display:none;\">\n",
              "        \n",
              "  <svg xmlns=\"http://www.w3.org/2000/svg\" height=\"24px\"viewBox=\"0 0 24 24\"\n",
              "       width=\"24px\">\n",
              "    <path d=\"M0 0h24v24H0V0z\" fill=\"none\"/>\n",
              "    <path d=\"M18.56 5.44l.94 2.06.94-2.06 2.06-.94-2.06-.94-.94-2.06-.94 2.06-2.06.94zm-11 1L8.5 8.5l.94-2.06 2.06-.94-2.06-.94L8.5 2.5l-.94 2.06-2.06.94zm10 10l.94 2.06.94-2.06 2.06-.94-2.06-.94-.94-2.06-.94 2.06-2.06.94z\"/><path d=\"M17.41 7.96l-1.37-1.37c-.4-.4-.92-.59-1.43-.59-.52 0-1.04.2-1.43.59L10.3 9.45l-7.72 7.72c-.78.78-.78 2.05 0 2.83L4 21.41c.39.39.9.59 1.41.59.51 0 1.02-.2 1.41-.59l7.78-7.78 2.81-2.81c.8-.78.8-2.07 0-2.86zM5.41 20L4 18.59l7.72-7.72 1.47 1.35L5.41 20z\"/>\n",
              "  </svg>\n",
              "      </button>\n",
              "      \n",
              "  <style>\n",
              "    .colab-df-container {\n",
              "      display:flex;\n",
              "      flex-wrap:wrap;\n",
              "      gap: 12px;\n",
              "    }\n",
              "\n",
              "    .colab-df-convert {\n",
              "      background-color: #E8F0FE;\n",
              "      border: none;\n",
              "      border-radius: 50%;\n",
              "      cursor: pointer;\n",
              "      display: none;\n",
              "      fill: #1967D2;\n",
              "      height: 32px;\n",
              "      padding: 0 0 0 0;\n",
              "      width: 32px;\n",
              "    }\n",
              "\n",
              "    .colab-df-convert:hover {\n",
              "      background-color: #E2EBFA;\n",
              "      box-shadow: 0px 1px 2px rgba(60, 64, 67, 0.3), 0px 1px 3px 1px rgba(60, 64, 67, 0.15);\n",
              "      fill: #174EA6;\n",
              "    }\n",
              "\n",
              "    [theme=dark] .colab-df-convert {\n",
              "      background-color: #3B4455;\n",
              "      fill: #D2E3FC;\n",
              "    }\n",
              "\n",
              "    [theme=dark] .colab-df-convert:hover {\n",
              "      background-color: #434B5C;\n",
              "      box-shadow: 0px 1px 3px 1px rgba(0, 0, 0, 0.15);\n",
              "      filter: drop-shadow(0px 1px 2px rgba(0, 0, 0, 0.3));\n",
              "      fill: #FFFFFF;\n",
              "    }\n",
              "  </style>\n",
              "\n",
              "      <script>\n",
              "        const buttonEl =\n",
              "          document.querySelector('#df-c271463b-efdc-4d4f-9b6e-204c1afdd2fd button.colab-df-convert');\n",
              "        buttonEl.style.display =\n",
              "          google.colab.kernel.accessAllowed ? 'block' : 'none';\n",
              "\n",
              "        async function convertToInteractive(key) {\n",
              "          const element = document.querySelector('#df-c271463b-efdc-4d4f-9b6e-204c1afdd2fd');\n",
              "          const dataTable =\n",
              "            await google.colab.kernel.invokeFunction('convertToInteractive',\n",
              "                                                     [key], {});\n",
              "          if (!dataTable) return;\n",
              "\n",
              "          const docLinkHtml = 'Like what you see? Visit the ' +\n",
              "            '<a target=\"_blank\" href=https://colab.research.google.com/notebooks/data_table.ipynb>data table notebook</a>'\n",
              "            + ' to learn more about interactive tables.';\n",
              "          element.innerHTML = '';\n",
              "          dataTable['output_type'] = 'display_data';\n",
              "          await google.colab.output.renderOutput(dataTable, element);\n",
              "          const docLink = document.createElement('div');\n",
              "          docLink.innerHTML = docLinkHtml;\n",
              "          element.appendChild(docLink);\n",
              "        }\n",
              "      </script>\n",
              "    </div>\n",
              "  </div>\n",
              "  "
            ]
          },
          "metadata": {},
          "execution_count": 17
        }
      ],
      "source": [
        "df.head()"
      ]
    },
    {
      "cell_type": "markdown",
      "metadata": {
        "id": "d5kEeoqoOR3z"
      },
      "source": [
        "# Normalize sentences \n",
        "- We want only ascii, lowercase and no numbers\n",
        "\n",
        "## You can experiments with different preprocess steps!"
      ]
    },
    {
      "cell_type": "code",
      "execution_count": 18,
      "metadata": {
        "id": "4zRfjiT2OR3z"
      },
      "outputs": [],
      "source": [
        "df['Words_normalized'] = df['Words'].apply(normalize)"
      ]
    },
    {
      "cell_type": "code",
      "execution_count": 19,
      "metadata": {
        "colab": {
          "base_uri": "https://localhost:8080/",
          "height": 206
        },
        "id": "uCt14iC1OR3z",
        "outputId": "3041a768-02b1-431a-c06b-de676dc6f688"
      },
      "outputs": [
        {
          "output_type": "execute_result",
          "data": {
            "text/plain": [
              "   id  label                                              tweet  length  \\\n",
              "0   1      0   @user when a father is dysfunctional and is s...     102   \n",
              "1   2      0  @user @user thanks for #lyft credit i can't us...     122   \n",
              "2   3      0                                bihday your majesty      21   \n",
              "3   4      0  #model   i love u take with u all the time in ...      86   \n",
              "4   5      0             factsguide: society now    #motivation      39   \n",
              "\n",
              "                                               Words  \\\n",
              "0  [user, when, a, father, is, dysfunctional, and...   \n",
              "1  [user, user, thanks, for, lyft, credit, i, ca,...   \n",
              "2                            [bihday, your, majesty]   \n",
              "3  [model, i, love, u, take, with, u, all, the, t...   \n",
              "4             [factsguide, society, now, motivation]   \n",
              "\n",
              "                                    Words_normalized  \n",
              "0  [user, when, a, father, is, dysfunctional, and...  \n",
              "1  [user, user, thanks, for, lyft, credit, i, ca,...  \n",
              "2                            [bihday, your, majesty]  \n",
              "3  [model, i, love, u, take, with, u, all, the, t...  \n",
              "4             [factsguide, society, now, motivation]  "
            ],
            "text/html": [
              "\n",
              "  <div id=\"df-c8b783d3-640e-438b-8510-994dba47db7e\">\n",
              "    <div class=\"colab-df-container\">\n",
              "      <div>\n",
              "<style scoped>\n",
              "    .dataframe tbody tr th:only-of-type {\n",
              "        vertical-align: middle;\n",
              "    }\n",
              "\n",
              "    .dataframe tbody tr th {\n",
              "        vertical-align: top;\n",
              "    }\n",
              "\n",
              "    .dataframe thead th {\n",
              "        text-align: right;\n",
              "    }\n",
              "</style>\n",
              "<table border=\"1\" class=\"dataframe\">\n",
              "  <thead>\n",
              "    <tr style=\"text-align: right;\">\n",
              "      <th></th>\n",
              "      <th>id</th>\n",
              "      <th>label</th>\n",
              "      <th>tweet</th>\n",
              "      <th>length</th>\n",
              "      <th>Words</th>\n",
              "      <th>Words_normalized</th>\n",
              "    </tr>\n",
              "  </thead>\n",
              "  <tbody>\n",
              "    <tr>\n",
              "      <th>0</th>\n",
              "      <td>1</td>\n",
              "      <td>0</td>\n",
              "      <td>@user when a father is dysfunctional and is s...</td>\n",
              "      <td>102</td>\n",
              "      <td>[user, when, a, father, is, dysfunctional, and...</td>\n",
              "      <td>[user, when, a, father, is, dysfunctional, and...</td>\n",
              "    </tr>\n",
              "    <tr>\n",
              "      <th>1</th>\n",
              "      <td>2</td>\n",
              "      <td>0</td>\n",
              "      <td>@user @user thanks for #lyft credit i can't us...</td>\n",
              "      <td>122</td>\n",
              "      <td>[user, user, thanks, for, lyft, credit, i, ca,...</td>\n",
              "      <td>[user, user, thanks, for, lyft, credit, i, ca,...</td>\n",
              "    </tr>\n",
              "    <tr>\n",
              "      <th>2</th>\n",
              "      <td>3</td>\n",
              "      <td>0</td>\n",
              "      <td>bihday your majesty</td>\n",
              "      <td>21</td>\n",
              "      <td>[bihday, your, majesty]</td>\n",
              "      <td>[bihday, your, majesty]</td>\n",
              "    </tr>\n",
              "    <tr>\n",
              "      <th>3</th>\n",
              "      <td>4</td>\n",
              "      <td>0</td>\n",
              "      <td>#model   i love u take with u all the time in ...</td>\n",
              "      <td>86</td>\n",
              "      <td>[model, i, love, u, take, with, u, all, the, t...</td>\n",
              "      <td>[model, i, love, u, take, with, u, all, the, t...</td>\n",
              "    </tr>\n",
              "    <tr>\n",
              "      <th>4</th>\n",
              "      <td>5</td>\n",
              "      <td>0</td>\n",
              "      <td>factsguide: society now    #motivation</td>\n",
              "      <td>39</td>\n",
              "      <td>[factsguide, society, now, motivation]</td>\n",
              "      <td>[factsguide, society, now, motivation]</td>\n",
              "    </tr>\n",
              "  </tbody>\n",
              "</table>\n",
              "</div>\n",
              "      <button class=\"colab-df-convert\" onclick=\"convertToInteractive('df-c8b783d3-640e-438b-8510-994dba47db7e')\"\n",
              "              title=\"Convert this dataframe to an interactive table.\"\n",
              "              style=\"display:none;\">\n",
              "        \n",
              "  <svg xmlns=\"http://www.w3.org/2000/svg\" height=\"24px\"viewBox=\"0 0 24 24\"\n",
              "       width=\"24px\">\n",
              "    <path d=\"M0 0h24v24H0V0z\" fill=\"none\"/>\n",
              "    <path d=\"M18.56 5.44l.94 2.06.94-2.06 2.06-.94-2.06-.94-.94-2.06-.94 2.06-2.06.94zm-11 1L8.5 8.5l.94-2.06 2.06-.94-2.06-.94L8.5 2.5l-.94 2.06-2.06.94zm10 10l.94 2.06.94-2.06 2.06-.94-2.06-.94-.94-2.06-.94 2.06-2.06.94z\"/><path d=\"M17.41 7.96l-1.37-1.37c-.4-.4-.92-.59-1.43-.59-.52 0-1.04.2-1.43.59L10.3 9.45l-7.72 7.72c-.78.78-.78 2.05 0 2.83L4 21.41c.39.39.9.59 1.41.59.51 0 1.02-.2 1.41-.59l7.78-7.78 2.81-2.81c.8-.78.8-2.07 0-2.86zM5.41 20L4 18.59l7.72-7.72 1.47 1.35L5.41 20z\"/>\n",
              "  </svg>\n",
              "      </button>\n",
              "      \n",
              "  <style>\n",
              "    .colab-df-container {\n",
              "      display:flex;\n",
              "      flex-wrap:wrap;\n",
              "      gap: 12px;\n",
              "    }\n",
              "\n",
              "    .colab-df-convert {\n",
              "      background-color: #E8F0FE;\n",
              "      border: none;\n",
              "      border-radius: 50%;\n",
              "      cursor: pointer;\n",
              "      display: none;\n",
              "      fill: #1967D2;\n",
              "      height: 32px;\n",
              "      padding: 0 0 0 0;\n",
              "      width: 32px;\n",
              "    }\n",
              "\n",
              "    .colab-df-convert:hover {\n",
              "      background-color: #E2EBFA;\n",
              "      box-shadow: 0px 1px 2px rgba(60, 64, 67, 0.3), 0px 1px 3px 1px rgba(60, 64, 67, 0.15);\n",
              "      fill: #174EA6;\n",
              "    }\n",
              "\n",
              "    [theme=dark] .colab-df-convert {\n",
              "      background-color: #3B4455;\n",
              "      fill: #D2E3FC;\n",
              "    }\n",
              "\n",
              "    [theme=dark] .colab-df-convert:hover {\n",
              "      background-color: #434B5C;\n",
              "      box-shadow: 0px 1px 3px 1px rgba(0, 0, 0, 0.15);\n",
              "      filter: drop-shadow(0px 1px 2px rgba(0, 0, 0, 0.3));\n",
              "      fill: #FFFFFF;\n",
              "    }\n",
              "  </style>\n",
              "\n",
              "      <script>\n",
              "        const buttonEl =\n",
              "          document.querySelector('#df-c8b783d3-640e-438b-8510-994dba47db7e button.colab-df-convert');\n",
              "        buttonEl.style.display =\n",
              "          google.colab.kernel.accessAllowed ? 'block' : 'none';\n",
              "\n",
              "        async function convertToInteractive(key) {\n",
              "          const element = document.querySelector('#df-c8b783d3-640e-438b-8510-994dba47db7e');\n",
              "          const dataTable =\n",
              "            await google.colab.kernel.invokeFunction('convertToInteractive',\n",
              "                                                     [key], {});\n",
              "          if (!dataTable) return;\n",
              "\n",
              "          const docLinkHtml = 'Like what you see? Visit the ' +\n",
              "            '<a target=\"_blank\" href=https://colab.research.google.com/notebooks/data_table.ipynb>data table notebook</a>'\n",
              "            + ' to learn more about interactive tables.';\n",
              "          element.innerHTML = '';\n",
              "          dataTable['output_type'] = 'display_data';\n",
              "          await google.colab.output.renderOutput(dataTable, element);\n",
              "          const docLink = document.createElement('div');\n",
              "          docLink.innerHTML = docLinkHtml;\n",
              "          element.appendChild(docLink);\n",
              "        }\n",
              "      </script>\n",
              "    </div>\n",
              "  </div>\n",
              "  "
            ]
          },
          "metadata": {},
          "execution_count": 19
        }
      ],
      "source": [
        "df.head()"
      ]
    },
    {
      "cell_type": "markdown",
      "metadata": {
        "id": "YGdnpcKnOR3z"
      },
      "source": [
        "## Remove the 'user' word from tweets"
      ]
    },
    {
      "cell_type": "code",
      "execution_count": 20,
      "metadata": {
        "id": "JDuHVb0GOR3z"
      },
      "outputs": [],
      "source": [
        "df['Words_normalized_no_user'] = df['Words_normalized'].apply(lambda x: [y for y in x if 'user' not in y])"
      ]
    },
    {
      "cell_type": "code",
      "execution_count": 21,
      "metadata": {
        "colab": {
          "base_uri": "https://localhost:8080/",
          "height": 206
        },
        "id": "qyCvrrBOOR3z",
        "outputId": "d1e0e301-4b1a-4a7c-909b-9e4873b420c3"
      },
      "outputs": [
        {
          "output_type": "execute_result",
          "data": {
            "text/plain": [
              "   id  label                                              tweet  length  \\\n",
              "0   1      0   @user when a father is dysfunctional and is s...     102   \n",
              "1   2      0  @user @user thanks for #lyft credit i can't us...     122   \n",
              "2   3      0                                bihday your majesty      21   \n",
              "3   4      0  #model   i love u take with u all the time in ...      86   \n",
              "4   5      0             factsguide: society now    #motivation      39   \n",
              "\n",
              "                                               Words  \\\n",
              "0  [user, when, a, father, is, dysfunctional, and...   \n",
              "1  [user, user, thanks, for, lyft, credit, i, ca,...   \n",
              "2                            [bihday, your, majesty]   \n",
              "3  [model, i, love, u, take, with, u, all, the, t...   \n",
              "4             [factsguide, society, now, motivation]   \n",
              "\n",
              "                                    Words_normalized  \\\n",
              "0  [user, when, a, father, is, dysfunctional, and...   \n",
              "1  [user, user, thanks, for, lyft, credit, i, ca,...   \n",
              "2                            [bihday, your, majesty]   \n",
              "3  [model, i, love, u, take, with, u, all, the, t...   \n",
              "4             [factsguide, society, now, motivation]   \n",
              "\n",
              "                            Words_normalized_no_user  \n",
              "0  [when, a, father, is, dysfunctional, and, is, ...  \n",
              "1  [thanks, for, lyft, credit, i, ca, n't, use, c...  \n",
              "2                            [bihday, your, majesty]  \n",
              "3  [model, i, love, u, take, with, u, all, the, t...  \n",
              "4             [factsguide, society, now, motivation]  "
            ],
            "text/html": [
              "\n",
              "  <div id=\"df-9a68c3f9-83f5-48f6-90ee-4da188b2f09d\">\n",
              "    <div class=\"colab-df-container\">\n",
              "      <div>\n",
              "<style scoped>\n",
              "    .dataframe tbody tr th:only-of-type {\n",
              "        vertical-align: middle;\n",
              "    }\n",
              "\n",
              "    .dataframe tbody tr th {\n",
              "        vertical-align: top;\n",
              "    }\n",
              "\n",
              "    .dataframe thead th {\n",
              "        text-align: right;\n",
              "    }\n",
              "</style>\n",
              "<table border=\"1\" class=\"dataframe\">\n",
              "  <thead>\n",
              "    <tr style=\"text-align: right;\">\n",
              "      <th></th>\n",
              "      <th>id</th>\n",
              "      <th>label</th>\n",
              "      <th>tweet</th>\n",
              "      <th>length</th>\n",
              "      <th>Words</th>\n",
              "      <th>Words_normalized</th>\n",
              "      <th>Words_normalized_no_user</th>\n",
              "    </tr>\n",
              "  </thead>\n",
              "  <tbody>\n",
              "    <tr>\n",
              "      <th>0</th>\n",
              "      <td>1</td>\n",
              "      <td>0</td>\n",
              "      <td>@user when a father is dysfunctional and is s...</td>\n",
              "      <td>102</td>\n",
              "      <td>[user, when, a, father, is, dysfunctional, and...</td>\n",
              "      <td>[user, when, a, father, is, dysfunctional, and...</td>\n",
              "      <td>[when, a, father, is, dysfunctional, and, is, ...</td>\n",
              "    </tr>\n",
              "    <tr>\n",
              "      <th>1</th>\n",
              "      <td>2</td>\n",
              "      <td>0</td>\n",
              "      <td>@user @user thanks for #lyft credit i can't us...</td>\n",
              "      <td>122</td>\n",
              "      <td>[user, user, thanks, for, lyft, credit, i, ca,...</td>\n",
              "      <td>[user, user, thanks, for, lyft, credit, i, ca,...</td>\n",
              "      <td>[thanks, for, lyft, credit, i, ca, n't, use, c...</td>\n",
              "    </tr>\n",
              "    <tr>\n",
              "      <th>2</th>\n",
              "      <td>3</td>\n",
              "      <td>0</td>\n",
              "      <td>bihday your majesty</td>\n",
              "      <td>21</td>\n",
              "      <td>[bihday, your, majesty]</td>\n",
              "      <td>[bihday, your, majesty]</td>\n",
              "      <td>[bihday, your, majesty]</td>\n",
              "    </tr>\n",
              "    <tr>\n",
              "      <th>3</th>\n",
              "      <td>4</td>\n",
              "      <td>0</td>\n",
              "      <td>#model   i love u take with u all the time in ...</td>\n",
              "      <td>86</td>\n",
              "      <td>[model, i, love, u, take, with, u, all, the, t...</td>\n",
              "      <td>[model, i, love, u, take, with, u, all, the, t...</td>\n",
              "      <td>[model, i, love, u, take, with, u, all, the, t...</td>\n",
              "    </tr>\n",
              "    <tr>\n",
              "      <th>4</th>\n",
              "      <td>5</td>\n",
              "      <td>0</td>\n",
              "      <td>factsguide: society now    #motivation</td>\n",
              "      <td>39</td>\n",
              "      <td>[factsguide, society, now, motivation]</td>\n",
              "      <td>[factsguide, society, now, motivation]</td>\n",
              "      <td>[factsguide, society, now, motivation]</td>\n",
              "    </tr>\n",
              "  </tbody>\n",
              "</table>\n",
              "</div>\n",
              "      <button class=\"colab-df-convert\" onclick=\"convertToInteractive('df-9a68c3f9-83f5-48f6-90ee-4da188b2f09d')\"\n",
              "              title=\"Convert this dataframe to an interactive table.\"\n",
              "              style=\"display:none;\">\n",
              "        \n",
              "  <svg xmlns=\"http://www.w3.org/2000/svg\" height=\"24px\"viewBox=\"0 0 24 24\"\n",
              "       width=\"24px\">\n",
              "    <path d=\"M0 0h24v24H0V0z\" fill=\"none\"/>\n",
              "    <path d=\"M18.56 5.44l.94 2.06.94-2.06 2.06-.94-2.06-.94-.94-2.06-.94 2.06-2.06.94zm-11 1L8.5 8.5l.94-2.06 2.06-.94-2.06-.94L8.5 2.5l-.94 2.06-2.06.94zm10 10l.94 2.06.94-2.06 2.06-.94-2.06-.94-.94-2.06-.94 2.06-2.06.94z\"/><path d=\"M17.41 7.96l-1.37-1.37c-.4-.4-.92-.59-1.43-.59-.52 0-1.04.2-1.43.59L10.3 9.45l-7.72 7.72c-.78.78-.78 2.05 0 2.83L4 21.41c.39.39.9.59 1.41.59.51 0 1.02-.2 1.41-.59l7.78-7.78 2.81-2.81c.8-.78.8-2.07 0-2.86zM5.41 20L4 18.59l7.72-7.72 1.47 1.35L5.41 20z\"/>\n",
              "  </svg>\n",
              "      </button>\n",
              "      \n",
              "  <style>\n",
              "    .colab-df-container {\n",
              "      display:flex;\n",
              "      flex-wrap:wrap;\n",
              "      gap: 12px;\n",
              "    }\n",
              "\n",
              "    .colab-df-convert {\n",
              "      background-color: #E8F0FE;\n",
              "      border: none;\n",
              "      border-radius: 50%;\n",
              "      cursor: pointer;\n",
              "      display: none;\n",
              "      fill: #1967D2;\n",
              "      height: 32px;\n",
              "      padding: 0 0 0 0;\n",
              "      width: 32px;\n",
              "    }\n",
              "\n",
              "    .colab-df-convert:hover {\n",
              "      background-color: #E2EBFA;\n",
              "      box-shadow: 0px 1px 2px rgba(60, 64, 67, 0.3), 0px 1px 3px 1px rgba(60, 64, 67, 0.15);\n",
              "      fill: #174EA6;\n",
              "    }\n",
              "\n",
              "    [theme=dark] .colab-df-convert {\n",
              "      background-color: #3B4455;\n",
              "      fill: #D2E3FC;\n",
              "    }\n",
              "\n",
              "    [theme=dark] .colab-df-convert:hover {\n",
              "      background-color: #434B5C;\n",
              "      box-shadow: 0px 1px 3px 1px rgba(0, 0, 0, 0.15);\n",
              "      filter: drop-shadow(0px 1px 2px rgba(0, 0, 0, 0.3));\n",
              "      fill: #FFFFFF;\n",
              "    }\n",
              "  </style>\n",
              "\n",
              "      <script>\n",
              "        const buttonEl =\n",
              "          document.querySelector('#df-9a68c3f9-83f5-48f6-90ee-4da188b2f09d button.colab-df-convert');\n",
              "        buttonEl.style.display =\n",
              "          google.colab.kernel.accessAllowed ? 'block' : 'none';\n",
              "\n",
              "        async function convertToInteractive(key) {\n",
              "          const element = document.querySelector('#df-9a68c3f9-83f5-48f6-90ee-4da188b2f09d');\n",
              "          const dataTable =\n",
              "            await google.colab.kernel.invokeFunction('convertToInteractive',\n",
              "                                                     [key], {});\n",
              "          if (!dataTable) return;\n",
              "\n",
              "          const docLinkHtml = 'Like what you see? Visit the ' +\n",
              "            '<a target=\"_blank\" href=https://colab.research.google.com/notebooks/data_table.ipynb>data table notebook</a>'\n",
              "            + ' to learn more about interactive tables.';\n",
              "          element.innerHTML = '';\n",
              "          dataTable['output_type'] = 'display_data';\n",
              "          await google.colab.output.renderOutput(dataTable, element);\n",
              "          const docLink = document.createElement('div');\n",
              "          docLink.innerHTML = docLinkHtml;\n",
              "          element.appendChild(docLink);\n",
              "        }\n",
              "      </script>\n",
              "    </div>\n",
              "  </div>\n",
              "  "
            ]
          },
          "metadata": {},
          "execution_count": 21
        }
      ],
      "source": [
        "df.head()"
      ]
    },
    {
      "cell_type": "markdown",
      "metadata": {
        "id": "Ks8TfCmSOR30"
      },
      "source": [
        "## We can see that no pre-processing is ideal and we have to fix some issues by ourselves\n",
        "- e.g. n't splitting"
      ]
    },
    {
      "cell_type": "code",
      "execution_count": 22,
      "metadata": {
        "colab": {
          "base_uri": "https://localhost:8080/"
        },
        "id": "M3t1OmZMOR30",
        "outputId": "29241801-1b57-4910-ea07-3896709214e6"
      },
      "outputs": [
        {
          "output_type": "stream",
          "name": "stdout",
          "text": [
            "@user @user thanks for #lyft credit i can't use cause they don't offer wheelchair vans in pdx.    #disapointed #getthanked\n",
            "['thanks', 'for', 'lyft', 'credit', 'i', 'ca', \"n't\", 'use', 'cause', 'they', 'do', \"n't\", 'offer', 'wheelchair', 'vans', 'in', 'pdx', 'disapointed', 'getthanked']\n"
          ]
        }
      ],
      "source": [
        "print(df.tweet.iloc[1])\n",
        "print(df.Words_normalized_no_user.iloc[1])"
      ]
    },
    {
      "cell_type": "code",
      "execution_count": 23,
      "metadata": {
        "id": "gn8VZeWmOR30"
      },
      "outputs": [],
      "source": [
        "def fix_nt(words):\n",
        "    st_res = []\n",
        "    for i in range(0, len(words) - 1):\n",
        "        if words[i+1] == \"n't\" or words[i+1] == \"nt\":\n",
        "            st_res.append(words[i]+(\"n't\"))\n",
        "        else:\n",
        "            if words[i] != \"n't\" and words[i] != \"nt\":\n",
        "                st_res.append(words[i])\n",
        "    return st_res"
      ]
    },
    {
      "cell_type": "code",
      "execution_count": 24,
      "metadata": {
        "id": "XynALVGVOR30"
      },
      "outputs": [],
      "source": [
        "df['Words_normalized_no_user_fixed'] = df['Words_normalized_no_user'].apply(fix_nt)"
      ]
    },
    {
      "cell_type": "markdown",
      "metadata": {
        "id": "_BnWq5eOOR30"
      },
      "source": [
        "## The issue is now fixed"
      ]
    },
    {
      "cell_type": "code",
      "execution_count": 25,
      "metadata": {
        "colab": {
          "base_uri": "https://localhost:8080/"
        },
        "id": "saBdsTyTOR30",
        "outputId": "289c0ad8-42ad-4cbc-c9de-3443885c90d8"
      },
      "outputs": [
        {
          "output_type": "stream",
          "name": "stdout",
          "text": [
            "@user @user thanks for #lyft credit i can't use cause they don't offer wheelchair vans in pdx.    #disapointed #getthanked\n",
            "['thanks', 'for', 'lyft', 'credit', 'i', 'ca', \"n't\", 'use', 'cause', 'they', 'do', \"n't\", 'offer', 'wheelchair', 'vans', 'in', 'pdx', 'disapointed', 'getthanked']\n",
            "['thanks', 'for', 'lyft', 'credit', 'i', \"can't\", 'use', 'cause', 'they', \"don't\", 'offer', 'wheelchair', 'vans', 'in', 'pdx', 'disapointed']\n"
          ]
        }
      ],
      "source": [
        "print(df.tweet.iloc[1])\n",
        "print(df.Words_normalized_no_user.iloc[1])\n",
        "print(df.Words_normalized_no_user_fixed.iloc[1])"
      ]
    },
    {
      "cell_type": "code",
      "execution_count": 26,
      "metadata": {
        "id": "EbtXTIwVOR31"
      },
      "outputs": [],
      "source": [
        "df['Clean_text'] = df['Words_normalized_no_user_fixed'].apply(lambda x: \" \".join(x))"
      ]
    },
    {
      "cell_type": "code",
      "execution_count": 27,
      "metadata": {
        "colab": {
          "base_uri": "https://localhost:8080/",
          "height": 337
        },
        "id": "_5qab517OR31",
        "outputId": "02336e13-c602-4ad6-f222-821cb7a6ac06"
      },
      "outputs": [
        {
          "output_type": "execute_result",
          "data": {
            "text/plain": [
              "   id  label                                              tweet  length  \\\n",
              "0   1      0   @user when a father is dysfunctional and is s...     102   \n",
              "1   2      0  @user @user thanks for #lyft credit i can't us...     122   \n",
              "2   3      0                                bihday your majesty      21   \n",
              "3   4      0  #model   i love u take with u all the time in ...      86   \n",
              "4   5      0             factsguide: society now    #motivation      39   \n",
              "\n",
              "                                               Words  \\\n",
              "0  [user, when, a, father, is, dysfunctional, and...   \n",
              "1  [user, user, thanks, for, lyft, credit, i, ca,...   \n",
              "2                            [bihday, your, majesty]   \n",
              "3  [model, i, love, u, take, with, u, all, the, t...   \n",
              "4             [factsguide, society, now, motivation]   \n",
              "\n",
              "                                    Words_normalized  \\\n",
              "0  [user, when, a, father, is, dysfunctional, and...   \n",
              "1  [user, user, thanks, for, lyft, credit, i, ca,...   \n",
              "2                            [bihday, your, majesty]   \n",
              "3  [model, i, love, u, take, with, u, all, the, t...   \n",
              "4             [factsguide, society, now, motivation]   \n",
              "\n",
              "                            Words_normalized_no_user  \\\n",
              "0  [when, a, father, is, dysfunctional, and, is, ...   \n",
              "1  [thanks, for, lyft, credit, i, ca, n't, use, c...   \n",
              "2                            [bihday, your, majesty]   \n",
              "3  [model, i, love, u, take, with, u, all, the, t...   \n",
              "4             [factsguide, society, now, motivation]   \n",
              "\n",
              "                      Words_normalized_no_user_fixed  \\\n",
              "0  [when, a, father, is, dysfunctional, and, is, ...   \n",
              "1  [thanks, for, lyft, credit, i, can't, use, cau...   \n",
              "2                                     [bihday, your]   \n",
              "3  [model, i, love, u, take, with, u, all, the, t...   \n",
              "4                         [factsguide, society, now]   \n",
              "\n",
              "                                          Clean_text  \n",
              "0  when a father is dysfunctional and is so selfi...  \n",
              "1  thanks for lyft credit i can't use cause they ...  \n",
              "2                                        bihday your  \n",
              "3         model i love u take with u all the time in  \n",
              "4                             factsguide society now  "
            ],
            "text/html": [
              "\n",
              "  <div id=\"df-fd8ef68f-6125-4e45-a407-276b4d1e2c91\">\n",
              "    <div class=\"colab-df-container\">\n",
              "      <div>\n",
              "<style scoped>\n",
              "    .dataframe tbody tr th:only-of-type {\n",
              "        vertical-align: middle;\n",
              "    }\n",
              "\n",
              "    .dataframe tbody tr th {\n",
              "        vertical-align: top;\n",
              "    }\n",
              "\n",
              "    .dataframe thead th {\n",
              "        text-align: right;\n",
              "    }\n",
              "</style>\n",
              "<table border=\"1\" class=\"dataframe\">\n",
              "  <thead>\n",
              "    <tr style=\"text-align: right;\">\n",
              "      <th></th>\n",
              "      <th>id</th>\n",
              "      <th>label</th>\n",
              "      <th>tweet</th>\n",
              "      <th>length</th>\n",
              "      <th>Words</th>\n",
              "      <th>Words_normalized</th>\n",
              "      <th>Words_normalized_no_user</th>\n",
              "      <th>Words_normalized_no_user_fixed</th>\n",
              "      <th>Clean_text</th>\n",
              "    </tr>\n",
              "  </thead>\n",
              "  <tbody>\n",
              "    <tr>\n",
              "      <th>0</th>\n",
              "      <td>1</td>\n",
              "      <td>0</td>\n",
              "      <td>@user when a father is dysfunctional and is s...</td>\n",
              "      <td>102</td>\n",
              "      <td>[user, when, a, father, is, dysfunctional, and...</td>\n",
              "      <td>[user, when, a, father, is, dysfunctional, and...</td>\n",
              "      <td>[when, a, father, is, dysfunctional, and, is, ...</td>\n",
              "      <td>[when, a, father, is, dysfunctional, and, is, ...</td>\n",
              "      <td>when a father is dysfunctional and is so selfi...</td>\n",
              "    </tr>\n",
              "    <tr>\n",
              "      <th>1</th>\n",
              "      <td>2</td>\n",
              "      <td>0</td>\n",
              "      <td>@user @user thanks for #lyft credit i can't us...</td>\n",
              "      <td>122</td>\n",
              "      <td>[user, user, thanks, for, lyft, credit, i, ca,...</td>\n",
              "      <td>[user, user, thanks, for, lyft, credit, i, ca,...</td>\n",
              "      <td>[thanks, for, lyft, credit, i, ca, n't, use, c...</td>\n",
              "      <td>[thanks, for, lyft, credit, i, can't, use, cau...</td>\n",
              "      <td>thanks for lyft credit i can't use cause they ...</td>\n",
              "    </tr>\n",
              "    <tr>\n",
              "      <th>2</th>\n",
              "      <td>3</td>\n",
              "      <td>0</td>\n",
              "      <td>bihday your majesty</td>\n",
              "      <td>21</td>\n",
              "      <td>[bihday, your, majesty]</td>\n",
              "      <td>[bihday, your, majesty]</td>\n",
              "      <td>[bihday, your, majesty]</td>\n",
              "      <td>[bihday, your]</td>\n",
              "      <td>bihday your</td>\n",
              "    </tr>\n",
              "    <tr>\n",
              "      <th>3</th>\n",
              "      <td>4</td>\n",
              "      <td>0</td>\n",
              "      <td>#model   i love u take with u all the time in ...</td>\n",
              "      <td>86</td>\n",
              "      <td>[model, i, love, u, take, with, u, all, the, t...</td>\n",
              "      <td>[model, i, love, u, take, with, u, all, the, t...</td>\n",
              "      <td>[model, i, love, u, take, with, u, all, the, t...</td>\n",
              "      <td>[model, i, love, u, take, with, u, all, the, t...</td>\n",
              "      <td>model i love u take with u all the time in</td>\n",
              "    </tr>\n",
              "    <tr>\n",
              "      <th>4</th>\n",
              "      <td>5</td>\n",
              "      <td>0</td>\n",
              "      <td>factsguide: society now    #motivation</td>\n",
              "      <td>39</td>\n",
              "      <td>[factsguide, society, now, motivation]</td>\n",
              "      <td>[factsguide, society, now, motivation]</td>\n",
              "      <td>[factsguide, society, now, motivation]</td>\n",
              "      <td>[factsguide, society, now]</td>\n",
              "      <td>factsguide society now</td>\n",
              "    </tr>\n",
              "  </tbody>\n",
              "</table>\n",
              "</div>\n",
              "      <button class=\"colab-df-convert\" onclick=\"convertToInteractive('df-fd8ef68f-6125-4e45-a407-276b4d1e2c91')\"\n",
              "              title=\"Convert this dataframe to an interactive table.\"\n",
              "              style=\"display:none;\">\n",
              "        \n",
              "  <svg xmlns=\"http://www.w3.org/2000/svg\" height=\"24px\"viewBox=\"0 0 24 24\"\n",
              "       width=\"24px\">\n",
              "    <path d=\"M0 0h24v24H0V0z\" fill=\"none\"/>\n",
              "    <path d=\"M18.56 5.44l.94 2.06.94-2.06 2.06-.94-2.06-.94-.94-2.06-.94 2.06-2.06.94zm-11 1L8.5 8.5l.94-2.06 2.06-.94-2.06-.94L8.5 2.5l-.94 2.06-2.06.94zm10 10l.94 2.06.94-2.06 2.06-.94-2.06-.94-.94-2.06-.94 2.06-2.06.94z\"/><path d=\"M17.41 7.96l-1.37-1.37c-.4-.4-.92-.59-1.43-.59-.52 0-1.04.2-1.43.59L10.3 9.45l-7.72 7.72c-.78.78-.78 2.05 0 2.83L4 21.41c.39.39.9.59 1.41.59.51 0 1.02-.2 1.41-.59l7.78-7.78 2.81-2.81c.8-.78.8-2.07 0-2.86zM5.41 20L4 18.59l7.72-7.72 1.47 1.35L5.41 20z\"/>\n",
              "  </svg>\n",
              "      </button>\n",
              "      \n",
              "  <style>\n",
              "    .colab-df-container {\n",
              "      display:flex;\n",
              "      flex-wrap:wrap;\n",
              "      gap: 12px;\n",
              "    }\n",
              "\n",
              "    .colab-df-convert {\n",
              "      background-color: #E8F0FE;\n",
              "      border: none;\n",
              "      border-radius: 50%;\n",
              "      cursor: pointer;\n",
              "      display: none;\n",
              "      fill: #1967D2;\n",
              "      height: 32px;\n",
              "      padding: 0 0 0 0;\n",
              "      width: 32px;\n",
              "    }\n",
              "\n",
              "    .colab-df-convert:hover {\n",
              "      background-color: #E2EBFA;\n",
              "      box-shadow: 0px 1px 2px rgba(60, 64, 67, 0.3), 0px 1px 3px 1px rgba(60, 64, 67, 0.15);\n",
              "      fill: #174EA6;\n",
              "    }\n",
              "\n",
              "    [theme=dark] .colab-df-convert {\n",
              "      background-color: #3B4455;\n",
              "      fill: #D2E3FC;\n",
              "    }\n",
              "\n",
              "    [theme=dark] .colab-df-convert:hover {\n",
              "      background-color: #434B5C;\n",
              "      box-shadow: 0px 1px 3px 1px rgba(0, 0, 0, 0.15);\n",
              "      filter: drop-shadow(0px 1px 2px rgba(0, 0, 0, 0.3));\n",
              "      fill: #FFFFFF;\n",
              "    }\n",
              "  </style>\n",
              "\n",
              "      <script>\n",
              "        const buttonEl =\n",
              "          document.querySelector('#df-fd8ef68f-6125-4e45-a407-276b4d1e2c91 button.colab-df-convert');\n",
              "        buttonEl.style.display =\n",
              "          google.colab.kernel.accessAllowed ? 'block' : 'none';\n",
              "\n",
              "        async function convertToInteractive(key) {\n",
              "          const element = document.querySelector('#df-fd8ef68f-6125-4e45-a407-276b4d1e2c91');\n",
              "          const dataTable =\n",
              "            await google.colab.kernel.invokeFunction('convertToInteractive',\n",
              "                                                     [key], {});\n",
              "          if (!dataTable) return;\n",
              "\n",
              "          const docLinkHtml = 'Like what you see? Visit the ' +\n",
              "            '<a target=\"_blank\" href=https://colab.research.google.com/notebooks/data_table.ipynb>data table notebook</a>'\n",
              "            + ' to learn more about interactive tables.';\n",
              "          element.innerHTML = '';\n",
              "          dataTable['output_type'] = 'display_data';\n",
              "          await google.colab.output.renderOutput(dataTable, element);\n",
              "          const docLink = document.createElement('div');\n",
              "          docLink.innerHTML = docLinkHtml;\n",
              "          element.appendChild(docLink);\n",
              "        }\n",
              "      </script>\n",
              "    </div>\n",
              "  </div>\n",
              "  "
            ]
          },
          "metadata": {},
          "execution_count": 27
        }
      ],
      "source": [
        "df.head()"
      ]
    },
    {
      "cell_type": "markdown",
      "metadata": {
        "id": "vYVa6JgYOR31"
      },
      "source": [
        "# Let's take a look at the most common words in corpus"
      ]
    },
    {
      "cell_type": "code",
      "execution_count": 28,
      "metadata": {
        "id": "Y01Vq6UpOR31"
      },
      "outputs": [],
      "source": [
        "import itertools"
      ]
    },
    {
      "cell_type": "code",
      "execution_count": 29,
      "metadata": {
        "id": "yc9QQ9BOOR31"
      },
      "outputs": [],
      "source": [
        "all_words = list(itertools.chain(*df.Words_normalized_no_user_fixed))"
      ]
    },
    {
      "cell_type": "code",
      "execution_count": 30,
      "metadata": {
        "id": "tMxWNn4BOR31"
      },
      "outputs": [],
      "source": [
        "dist = nltk.FreqDist(all_words)"
      ]
    },
    {
      "cell_type": "code",
      "execution_count": 31,
      "metadata": {
        "colab": {
          "base_uri": "https://localhost:8080/"
        },
        "id": "x9O4aNx6OR32",
        "outputId": "736d33d2-39a5-43df-ae5c-d7f4dddf23db"
      },
      "outputs": [
        {
          "output_type": "execute_result",
          "data": {
            "text/plain": [
              "FreqDist({'when': 1229,\n",
              "          'a': 7672,\n",
              "          'father': 610,\n",
              "          'is': 4045,\n",
              "          'dysfunctional': 1,\n",
              "          'and': 4865,\n",
              "          'so': 1935,\n",
              "          'selfish': 12,\n",
              "          'he': 627,\n",
              "          'drags': 4,\n",
              "          'his': 507,\n",
              "          'kids': 185,\n",
              "          'into': 203,\n",
              "          'dysfunction': 2,\n",
              "          'thanks': 291,\n",
              "          'for': 4461,\n",
              "          'lyft': 5,\n",
              "          'credit': 13,\n",
              "          'i': 7153,\n",
              "          \"can't\": 742,\n",
              "          'use': 104,\n",
              "          'cause': 66,\n",
              "          'they': 814,\n",
              "          \"don't\": 645,\n",
              "          'offer': 25,\n",
              "          'wheelchair': 2,\n",
              "          'vans': 2,\n",
              "          'in': 4612,\n",
              "          'pdx': 3,\n",
              "          'disapointed': 1,\n",
              "          'bihday': 794,\n",
              "          'your': 1694,\n",
              "          'model': 373,\n",
              "          'love': 2484,\n",
              "          'u': 1145,\n",
              "          'take': 622,\n",
              "          'with': 2485,\n",
              "          'all': 1894,\n",
              "          'the': 10135,\n",
              "          'time': 1077,\n",
              "          'factsguide': 12,\n",
              "          'society': 22,\n",
              "          'now': 899,\n",
              "          '/': 69,\n",
              "          'huge': 42,\n",
              "          'fan': 56,\n",
              "          'fare': 4,\n",
              "          'big': 193,\n",
              "          'talking': 66,\n",
              "          'before': 207,\n",
              "          'leave': 132,\n",
              "          'chaos': 6,\n",
              "          'pay': 248,\n",
              "          'disputes': 1,\n",
              "          'get': 907,\n",
              "          'there': 521,\n",
              "          'camping': 12,\n",
              "          'tomorrow': 376,\n",
              "          'next': 336,\n",
              "          'school': 178,\n",
              "          'year': 299,\n",
              "          'exams. ': 1,\n",
              "          'think': 403,\n",
              "          'about': 849,\n",
              "          'that': 2028,\n",
              "          'exams': 17,\n",
              "          'hate': 214,\n",
              "          'imagine': 30,\n",
              "          'actorslife': 6,\n",
              "          'revolutionschool': 1,\n",
              "          'we': 1545,\n",
              "          'won': 52,\n",
              "          'land': 26,\n",
              "          'allin': 4,\n",
              "          'cavs': 32,\n",
              "          'champions': 7,\n",
              "          'cleveland': 24,\n",
              "          'clevelandcavaliers': 1,\n",
              "          'welcome': 61,\n",
              "          'here': 478,\n",
              "          \"'m\": 1007,\n",
              "          'it': 3433,\n",
              "          \"'s\": 3190,\n",
              "          'ireland': 26,\n",
              "          'consumer': 13,\n",
              "          'price': 28,\n",
              "          'index': 20,\n",
              "          'mom': 121,\n",
              "          'climbed': 2,\n",
              "          'from': 1040,\n",
              "          'previous': 42,\n",
              "          '.': 361,\n",
              "          'to': 9798,\n",
              "          'may': 213,\n",
              "          'blog': 371,\n",
              "          'silver': 304,\n",
              "          'gold': 315,\n",
              "          'are': 1853,\n",
              "          'orlando': 334,\n",
              "          'standwithorlando': 1,\n",
              "          'pulseshooting': 6,\n",
              "          'orlandoshooting': 33,\n",
              "          'biggerproblems': 1,\n",
              "          'heabreaking': 21,\n",
              "          'values': 9,\n",
              "          'see': 754,\n",
              "          'my': 3684,\n",
              "          'daddy': 85,\n",
              "          'today': 957,\n",
              "          'days': 455,\n",
              "          'cnn': 22,\n",
              "          'calls': 27,\n",
              "          'michigan': 3,\n",
              "          'middle': 24,\n",
              "          \"'build\": 2,\n",
              "          'wall': 23,\n",
              "          'chant': 3,\n",
              "          'no': 807,\n",
              "          'comment': 26,\n",
              "          'australia': 32,\n",
              "          'opkillingbay': 2,\n",
              "          'seashepherd': 5,\n",
              "          'helpcovedolphins': 2,\n",
              "          'thecove': 4,\n",
              "          'ouch': 8,\n",
              "          'junior': 8,\n",
              "          'angry': 199,\n",
              "          'got': 578,\n",
              "          'yugyoem': 1,\n",
              "          'am': 1183,\n",
              "          'thankful': 931,\n",
              "          'having': 204,\n",
              "          'paner': 23,\n",
              "          'retweet': 96,\n",
              "          'if': 691,\n",
              "          'you': 5677,\n",
              "          'its': 252,\n",
              "          'friday': 477,\n",
              "          'smiles': 90,\n",
              "          'around': 187,\n",
              "          'via': 143,\n",
              "          'ig': 18,\n",
              "          'cookies': 14,\n",
              "          'make': 542,\n",
              "          'as': 931,\n",
              "          'know': 417,\n",
              "          'essential': 20,\n",
              "          'oils': 16,\n",
              "          'not': 1269,\n",
              "          'made': 228,\n",
              "          'of': 4132,\n",
              "          'euro': 123,\n",
              "          'people': 844,\n",
              "          'blaming': 7,\n",
              "          'ha': 17,\n",
              "          'conceded': 1,\n",
              "          'goal': 21,\n",
              "          'was': 892,\n",
              "          'fat': 27,\n",
              "          'rooney': 4,\n",
              "          'who': 651,\n",
              "          'gave': 49,\n",
              "          'away': 155,\n",
              "          'free': 258,\n",
              "          'kick': 20,\n",
              "          'knowing': 29,\n",
              "          'bale': 2,\n",
              "          'can': 812,\n",
              "          'hit': 58,\n",
              "          'them': 304,\n",
              "          'sad': 395,\n",
              "          'little': 282,\n",
              "          'dude': 26,\n",
              "          'badday': 3,\n",
              "          'coneofshame': 1,\n",
              "          'cats': 41,\n",
              "          'pissed': 12,\n",
              "          'funny': 195,\n",
              "          'product': 31,\n",
              "          'day': 2023,\n",
              "          'happy': 1606,\n",
              "          'man': 262,\n",
              "          'wine': 49,\n",
              "          'tool': 27,\n",
              "          'weekend': 506,\n",
              "          'open': 103,\n",
              "          'up': 980,\n",
              "          'amp': 1753,\n",
              "          'drink': 45,\n",
              "          'lumpy': 5,\n",
              "          'says': 122,\n",
              "          'prove': 9,\n",
              "          'tgif': 79,\n",
              "          'ff': 61,\n",
              "          'gamedev': 25,\n",
              "          'indiedev': 24,\n",
              "          'indiegamedev': 17,\n",
              "          'beautiful': 483,\n",
              "          'sign': 39,\n",
              "          'by': 773,\n",
              "          'vendor': 12,\n",
              "          'upsideofflorida': 6,\n",
              "          'shopalyssas': 6,\n",
              "          'media': 96,\n",
              "          'pressconference': 1,\n",
              "          'antalya': 2,\n",
              "          'turkey': 15,\n",
              "          'sunday': 335,\n",
              "          'throwback': 23,\n",
              "          'had': 354,\n",
              "          'great': 494,\n",
              "          'panel': 7,\n",
              "          'on': 2586,\n",
              "          'mediatization': 1,\n",
              "          'public': 33,\n",
              "          'service': 52,\n",
              "          'went': 85,\n",
              "          'nightclub': 29,\n",
              "          'have': 1627,\n",
              "          'good': 844,\n",
              "          'night': 346,\n",
              "          'actions': 14,\n",
              "          'means': 52,\n",
              "          'those': 161,\n",
              "          'lost': 158,\n",
              "          'their': 471,\n",
              "          'families': 67,\n",
              "          'forever': 82,\n",
              "          'rip': 106,\n",
              "          'never': 412,\n",
              "          'chance': 38,\n",
              "          'vote': 52,\n",
              "          'presidential': 14,\n",
              "          'candidate': 16,\n",
              "          'excited': 211,\n",
              "          'this': 2606,\n",
              "          'cycle': 5,\n",
              "          'looks': 128,\n",
              "          'be': 2378,\n",
              "          'alohafriday': 2,\n",
              "          'does': 137,\n",
              "          'exist': 14,\n",
              "          'positivevibes': 28,\n",
              "          'fellow': 16,\n",
              "          'nohern': 8,\n",
              "          'sadley': 1,\n",
              "          'passed': 33,\n",
              "          'tonight': 265,\n",
              "          'gawa': 5,\n",
              "          'singing': 36,\n",
              "          'cheering': 6,\n",
              "          'hard': 140,\n",
              "          'monday': 150,\n",
              "          'due': 46,\n",
              "          'cloudy': 11,\n",
              "          'weather': 44,\n",
              "          'disabling': 1,\n",
              "          'oxygen': 3,\n",
              "          'production': 15,\n",
              "          'goodnight': 33,\n",
              "          'unbelievable': 12,\n",
              "          'st': 115,\n",
              "          'century': 8,\n",
              "          \"'d\": 72,\n",
              "          'need': 505,\n",
              "          'something': 167,\n",
              "          'like': 1030,\n",
              "          'again': 233,\n",
              "          'neverump': 11,\n",
              "          'taylorswift': 6,\n",
              "          'bull': 504,\n",
              "          'will': 1264,\n",
              "          'dominate': 175,\n",
              "          'direct': 178,\n",
              "          'whatever': 227,\n",
              "          'want': 639,\n",
              "          'do': 1163,\n",
              "          'morning': 431,\n",
              "          'travelingram': 3,\n",
              "          'dalat': 1,\n",
              "          'once': 73,\n",
              "          'more': 681,\n",
              "          'only': 492,\n",
              "          'one': 762,\n",
              "          'word': 71,\n",
              "          'tells': 14,\n",
              "          'photoshop': 1,\n",
              "          'enoughisenough': 1,\n",
              "          'dontphotoshopeverything': 1,\n",
              "          'oh': 155,\n",
              "          'cedarpoint': 2,\n",
              "          'waited': 13,\n",
              "          'hours': 115,\n",
              "          'valravn': 1,\n",
              "          'line': 48,\n",
              "          'stopped': 13,\n",
              "          'working': 118,\n",
              "          'were': 184,\n",
              "          'sunshine': 90,\n",
              "          'finally': 332,\n",
              "          'finish': 32,\n",
              "          'book': 132,\n",
              "          \"'ve\": 335,\n",
              "          'been': 432,\n",
              "          'awhile': 7,\n",
              "          'bookworm': 1,\n",
              "          'yup': 12,\n",
              "          'being': 393,\n",
              "          'knicks': 2,\n",
              "          'easier': 14,\n",
              "          'just': 1349,\n",
              "          'an': 576,\n",
              "          'nba': 38,\n",
              "          'playoffs': 4,\n",
              "          'roll': 22,\n",
              "          'life': 996,\n",
              "          'after': 384,\n",
              "          'social': 86,\n",
              "          'networking': 6,\n",
              "          'embrace': 13,\n",
              "          'each': 113,\n",
              "          'shares': 6,\n",
              "          'same': 124,\n",
              "          'snake': 3,\n",
              "          'lovely': 149,\n",
              "          'echeveria': 1,\n",
              "          'blooms': 6,\n",
              "          'flowers': 90,\n",
              "          'grow': 40,\n",
              "          'gardening': 10,\n",
              "          'iphonesia': 1,\n",
              "          'bliss': 22,\n",
              "          'amazing': 309,\n",
              "          'i_am': 352,\n",
              "          'positive': 493,\n",
              "          'whenever': 13,\n",
              "          'im': 130,\n",
              "          'goes': 89,\n",
              "          'feeling': 238,\n",
              "          'blue': 82,\n",
              "          'best': 502,\n",
              "          'pa': 121,\n",
              "          'ai ': 396,\n",
              "          'abc': 8,\n",
              "          'getting': 256,\n",
              "          'ready': 299,\n",
              "          'remove': 12,\n",
              "          'victums': 1,\n",
              "          'frm': 13,\n",
              "          'pulseclub': 2,\n",
              "          'her': 388,\n",
              "          'nose': 13,\n",
              "          'job': 122,\n",
              "          'petunia': 1,\n",
              "          'off': 369,\n",
              "          'concelebrate': 1,\n",
              "          'at': 1598,\n",
              "          'albanpilgrimage': 1,\n",
              "          'first': 473,\n",
              "          'let': 277,\n",
              "          'scum-baggery': 2,\n",
              "          'thank': 307,\n",
              "          'super': 103,\n",
              "          'zpamdelacruz': 1,\n",
              "          'wedding': 181,\n",
              "          'dolores': 1,\n",
              "          'capas': 1,\n",
              "          'scourge': 1,\n",
              "          'playing': 157,\n",
              "          'baroque': 1,\n",
              "          'pieces': 6,\n",
              "          'piano': 27,\n",
              "          'beyond': 27,\n",
              "          'lets': 33,\n",
              "          'fight': 35,\n",
              "          'against': 124,\n",
              "          'fatheras': 9,\n",
              "          'mr': 41,\n",
              "          'rayos': 2,\n",
              "          'video': 169,\n",
              "          'fathers': 288,\n",
              "          'world': 397,\n",
              "          'hotvideo': 3,\n",
              "          'ascot': 11,\n",
              "          'times': 94,\n",
              "          'babe': 24,\n",
              "          'ai ai ': 23,\n",
              "          'fashion': 141,\n",
              "          'monochrome': 3,\n",
              "          'style': 64,\n",
              "          'weekend..is': 1,\n",
              "          'selfie': 278,\n",
              "          'yolo': 16,\n",
              "          'xoxo': 22,\n",
              "          'work': 580,\n",
              "          'conference': 104,\n",
              "          'right': 351,\n",
              "          'mindset': 78,\n",
              "          'leads': 72,\n",
              "          'culture-of-development': 65,\n",
              "          'organizations': 67,\n",
              "          'christina': 32,\n",
              "          'grimmie': 26,\n",
              "          'last': 341,\n",
              "          'performance': 26,\n",
              "          'shot': 50,\n",
              "          'christinarip': 1,\n",
              "          'voice': 52,\n",
              "          'dance': 101,\n",
              "          'roar': 4,\n",
              "          'preschoolers': 1,\n",
              "          'students': 44,\n",
              "          'really': 465,\n",
              "          'hu': 70,\n",
              "          'wife': 50,\n",
              "          'whom': 11,\n",
              "          'adore': 2,\n",
              "          'miss': 168,\n",
              "          'poland': 23,\n",
              "          'show': 239,\n",
              "          'because': 339,\n",
              "          'she': 338,\n",
              "          'surgery': 4,\n",
              "          'name': 56,\n",
              "          'bridget': 1,\n",
              "          'jealous': 18,\n",
              "          'celebrate': 80,\n",
              "          'every': 230,\n",
              "          'has': 567,\n",
              "          'played': 30,\n",
              "          'fatherly': 3,\n",
              "          'role': 28,\n",
              "          'sure': 77,\n",
              "          'white': 208,\n",
              "          'establishment': 4,\n",
              "          'blk': 3,\n",
              "          'folx': 3,\n",
              "          'running': 75,\n",
              "          'loving': 90,\n",
              "          'themselves': 31,\n",
              "          'promoting': 10,\n",
              "          'our': 863,\n",
              "          'journey': 29,\n",
              "          'begins': 28,\n",
              "          'travel': 154,\n",
              "          'yeah': 147,\n",
              "          'thejourneybegins': 2,\n",
              "          'luv': 20,\n",
              "          'hottweets': 8,\n",
              "          'new': 984,\n",
              "          'brochures': 1,\n",
              "          'arrived': 68,\n",
              "          'how': 859,\n",
              "          'exciting': 48,\n",
              "          'aworks': 3,\n",
              "          'much': 349,\n",
              "          'stuff': 53,\n",
              "          'happening': 52,\n",
              "          'florida': 58,\n",
              "          'shooting': 122,\n",
              "          'disneygatorattack': 6,\n",
              "          'two': 170,\n",
              "          'old': 252,\n",
              "          'ferrari': 3,\n",
              "          'ita': 3,\n",
              "          'sake': 9,\n",
              "          'championship': 7,\n",
              "          'gp': 5,\n",
              "          'clearly': 26,\n",
              "          'turning': 23,\n",
              "          'point': 66,\n",
              "          'rb': 2,\n",
              "          'aced': 2,\n",
              "          'test': 40,\n",
              "          'seeks': 13,\n",
              "          'probe': 7,\n",
              "          'udtapunjab': 42,\n",
              "          'leak': 10,\n",
              "          'points': 17,\n",
              "          'finger': 36,\n",
              "          'amarinder': 11,\n",
              "          'wrapping': 3,\n",
              "          'senseaboutmaths': 2,\n",
              "          'hey': 102,\n",
              "          'call': 105,\n",
              "          \"'white\": 1,\n",
              "          'race': 90,\n",
              "          'identity': 5,\n",
              "          'might': 223,\n",
              "          'shown': 6,\n",
              "          'regurgitated': 1,\n",
              "          'sometimes': 77,\n",
              "          'raise': 14,\n",
              "          'few': 124,\n",
              "          'brows': 4,\n",
              "          'bar': 27,\n",
              "          'golfstrengthandconditioning': 1,\n",
              "          'strong': 148,\n",
              "          'greathonour': 2,\n",
              "          'designing': 4,\n",
              "          'innovative': 3,\n",
              "          'learning': 32,\n",
              "          'space': 29,\n",
              "          'include': 1,\n",
              "          'wateringhole': 1,\n",
              "          'cave': 4,\n",
              "          'mountaintop': 1,\n",
              "          'campfire': 2,\n",
              "          'altright': 16,\n",
              "          'uses': 8,\n",
              "          'insecurity': 2,\n",
              "          'lure': 5,\n",
              "          'men': 112,\n",
              "          'carrying': 8,\n",
              "          'gun': 78,\n",
              "          \"wouldn't\": 30,\n",
              "          'helped': 6,\n",
              "          'control': 59,\n",
              "          \"won't\": 111,\n",
              "          'stop': 235,\n",
              "          'black': 248,\n",
              "          'market': 26,\n",
              "          'terrorism': 26,\n",
              "          'power': 81,\n",
              "          'mind': 109,\n",
              "          'heal': 58,\n",
              "          'body': 114,\n",
              "          'altwaystoheal': 261,\n",
              "          'healthy': 504,\n",
              "          'woohoo': 17,\n",
              "          'over': 321,\n",
              "          'weeks': 156,\n",
              "          'far': 84,\n",
              "          'place': 137,\n",
              "          'where': 207,\n",
              "          'family': 473,\n",
              "          'members': 21,\n",
              "          'rehearse': 1,\n",
              "          'music': 392,\n",
              "          'videos': 43,\n",
              "          'look': 291,\n",
              "          'out': 901,\n",
              "          'announcement': 10,\n",
              "          'midweek': 6,\n",
              "          'newmusic': 10,\n",
              "          'watchthisspace': 3,\n",
              "          'nights': 22,\n",
              "          'pm': 65,\n",
              "          'channel': 17,\n",
              "          'what': 1158,\n",
              "          'fuss': 3,\n",
              "          'watching': 169,\n",
              "          'episodes': 16,\n",
              "          'offline': 3,\n",
              "          'very': 413,\n",
              "          'nice': 196,\n",
              "          'long': 180,\n",
              "          'snapchat': 64,\n",
              "          'redhead': 7,\n",
              "          'things': 293,\n",
              "          'incredibly': 16,\n",
              "          'yes': 182,\n",
              "          'received': 35,\n",
              "          'acceptance': 4,\n",
              "          'letter': 8,\n",
              "          'masters': 8,\n",
              "          'back': 417,\n",
              "          'october': 7,\n",
              "          'goodtimes': 18,\n",
              "          'daughter': 71,\n",
              "          'riding': 7,\n",
              "          'bike': 37,\n",
              "          'driveway': 1,\n",
              "          'son': 84,\n",
              "          'guitar': 17,\n",
              "          'us': 494,\n",
              "          'while': 113,\n",
              "          'enjoy': 227,\n",
              "          'o': 118,\n",
              "          'summeime': 22,\n",
              "          'omg': 111,\n",
              "          'station': 15,\n",
              "          'way': 481,\n",
              "          'jam': 5,\n",
              "          'done': 175,\n",
              "          'course': 52,\n",
              "          \"'ll\": 251,\n",
              "          'always': 334,\n",
              "          'hope': 234,\n",
              "          'hug': 20,\n",
              "          'but': 1085,\n",
              "          'gon': 142,\n",
              "          'na': 269,\n",
              "          'happen': 55,\n",
              "          'anytime': 3,\n",
              "          'couple': 115,\n",
              "          'sex': 120,\n",
              "          'naked': 35,\n",
              "          'japanese': 15,\n",
              "          'hump': 16,\n",
              "          'humpers': 1,\n",
              "          'edwardsville': 2,\n",
              "          'personalised': 16,\n",
              "          'gbp': 57,\n",
              "          'shop': 103,\n",
              "          'cool': 166,\n",
              "          'home': 355,\n",
              "          'some': 434,\n",
              "          'truly': 55,\n",
              "          'sick': 77,\n",
              "          'ppl': 97,\n",
              "          'trump': 352,\n",
              "          'calling': 38,\n",
              "          'obama': 116,\n",
              "          'resign': 8,\n",
              "          'shootings': 30,\n",
              "          'boy': 134,\n",
              "          'years': 192,\n",
              "          'did': 199,\n",
              "          'talk': 83,\n",
              "          'nashvilletour': 1,\n",
              "          'eur/usd': 16,\n",
              "          'clears': 3,\n",
              "          'barrier': 3,\n",
              "          'jumps': 2,\n",
              "          'fresh': 57,\n",
              "          '-week': 4,\n",
              "          'high': 81,\n",
              "          'going': 479,\n",
              "          'la': 45,\n",
              "          'friends': 447,\n",
              "          'still': 318,\n",
              "          'wrap': 7,\n",
              "          'head': 120,\n",
              "          'fact': 81,\n",
              "          'christinagrimmie': 22,\n",
              "          'gone': 89,\n",
              "          'destroyed': 11,\n",
              "          'prayfororlando': 62,\n",
              "          'dis': 13,\n",
              "          'wait': 435,\n",
              "          'sta': 221,\n",
              "          'baking': 6,\n",
              "          'eyelids': 1,\n",
              "          'vigilfororlando': 1,\n",
              "          'harp': 1,\n",
              "          'clonakilty': 1,\n",
              "          'ihavenofriends': 2,\n",
              "          'relax': 80,\n",
              "          'icon': 4,\n",
              "          'woman': 117,\n",
              "          'sundaymorning': 14,\n",
              "          'interested': 14,\n",
              "          'linguistics': 1,\n",
              "          \"doesn't\": 134,\n",
              "          'address': 13,\n",
              "          'racism': 68,\n",
              "          'raciolinguistics': 1,\n",
              "          'beloved': 7,\n",
              "          'cds': 3,\n",
              "          'recovered': 6,\n",
              "          'apple': 37,\n",
              "          'marvel': 7,\n",
              "          'song': 72,\n",
              "          'musica': 3,\n",
              "          'weed': 6,\n",
              "          'ripchristina': 29,\n",
              "          'adele': 10,\n",
              "          'vine': 67,\n",
              "          'why': 475,\n",
              "          'mocked': 3,\n",
              "          'under': 78,\n",
              "          'spell': 2,\n",
              "          'brexit': 64,\n",
              "          'referendum': 14,\n",
              "          'commerzbank': 5,\n",
              "          'health': 120,\n",
              "          'benefits': 34,\n",
              "          'cucumbers': 15,\n",
              "          'ofw': 1,\n",
              "          'pinoy': 4,\n",
              "          'followme': 146,\n",
              "          'igers': 27,\n",
              "          'instagood': 209,\n",
              "          'smile': 626,\n",
              "          'toradora': 1,\n",
              "          'anime': 32,\n",
              "          'animeedit': 1,\n",
              "          'breakups': 3,\n",
              "          'alone': 94,\n",
              "          'laps': 2,\n",
              "          'pool': 42,\n",
              "          'k': 67,\n",
              "          'ride': 52,\n",
              "          'picked': 14,\n",
              "          'gym': 87,\n",
              "          'membership': 3,\n",
              "          'cotd': 5,\n",
              "          'polar': 216,\n",
              "          'bear': 232,\n",
              "          'climb': 245,\n",
              "          'racing': 154,\n",
              "          'living': 139,\n",
              "          'cold': 108,\n",
              "          'places': 81,\n",
              "          'gets': 77,\n",
              "          'him': 235,\n",
              "          'muslim': 45,\n",
              "          'assassinating': 2,\n",
              "          'snappy': 1,\n",
              "          'waiting': 169,\n",
              "          'football': 59,\n",
              "          'fringes': 1,\n",
              "          'qcbags': 2,\n",
              "          'summer': 513,\n",
              "          'nochebuena': 2,\n",
              "          'lasvegas': 13,\n",
              "          'usa': 79,\n",
              "          'las': 12,\n",
              "          'vegas': 39,\n",
              "          'ma': 15,\n",
              "          'fleurette': 1,\n",
              "          ' ': 154,\n",
              "          'instaboy': 6,\n",
              "          'instaman': 1,\n",
              "          'sefie': 1,\n",
              "          'septum': 1,\n",
              "          'friend': 219,\n",
              "          'branches': 2,\n",
              "          'itas': 25,\n",
              "          'rainy': 17,\n",
              "          'writing': 46,\n",
              "          'tears': 45,\n",
              "          'flying': 29,\n",
              "          'birds': 75,\n",
              "          'haiku': 5,\n",
              "          'lines': 14,\n",
              "          'buttons': 3,\n",
              "          'mail': 13,\n",
              "          'me': 1699,\n",
              "          'pretty': 120,\n",
              "          'jewelrymaking': 1,\n",
              "          'driver': 19,\n",
              "          'female': 39,\n",
              "          'moose': 5,\n",
              "          'river': 15,\n",
              "          'rd': 37,\n",
              "          'weston': 2,\n",
              "          'killed': 68,\n",
              "          'ok': 65,\n",
              "          'crews': 1,\n",
              "          'removing': 3,\n",
              "          'animal': 28,\n",
              "          'afterpas': 1,\n",
              "          'japan': 49,\n",
              "          'imadeinjapan': 1,\n",
              "          'eos': 1,\n",
              "          'icute': 1,\n",
              "          'fun': 487,\n",
              "          'cawaii': 1,\n",
              "          'strawberry': 9,\n",
              "          \"aren't\": 45,\n",
              "          'protesting': 15,\n",
              "          'republican': 29,\n",
              "          'won-they': 11,\n",
              "          'fuhered': 11,\n",
              "          'find': 303,\n",
              "          'spend': 43,\n",
              "          'guy': 105,\n",
              "          'update': 65,\n",
              "          'analytics': 34,\n",
              "          'photooftheday': 153,\n",
              "          'anyone': 83,\n",
              "          'date': 65,\n",
              "          'doj': 4,\n",
              "          'fbi': 11,\n",
              "          'became': 8,\n",
              "          'corrupted': 3,\n",
              "          'emailgate': 1,\n",
              "          'hillary': 51,\n",
              "          'shameful': 12,\n",
              "          'disgraceful': 7,\n",
              "          'stupidity': 11,\n",
              "          'makes': 296,\n",
              "          'than': 320,\n",
              "          'even': 342,\n",
              "          'negligence.why': 1,\n",
              "          'put': 100,\n",
              "          'sachintendulkar': 1,\n",
              "          'installation': 4,\n",
              "          'a ai ': 6,\n",
              "          'aaaa': 16,\n",
              "          'thbihday': 2,\n",
              "          'bestfriend': 25,\n",
              "          'd': 179,\n",
              "          'most': 248,\n",
              "          'impoant': 74,\n",
              "          'thing': 165,\n",
              "          'matters': 21,\n",
              "          'too': 345,\n",
              "          'sho': 47,\n",
              "          'chris': 9,\n",
              "          'evans': 3,\n",
              "          'actor': 46,\n",
              "          'human': 47,\n",
              "          'chrisevans': 2,\n",
              "          'heas': 29,\n",
              "          'thoughts': 91,\n",
              "          'prayers': 65,\n",
              "          'go': 627,\n",
              "          'murdered': 19,\n",
              "          'gay': 119,\n",
              "          'demoing': 1,\n",
              "          'guitars': 2,\n",
              "          'album': 36,\n",
              "          'newalbum': 1,\n",
              "          'indie': 12,\n",
              "          'retweeted': 11,\n",
              "          'lion': 10,\n",
              "          'pro': 14,\n",
              "          'webmareting': 1,\n",
              "          'seo': 2,\n",
              "          'community': 51,\n",
              "          'management': 9,\n",
              "          'nzd/usd': 9,\n",
              "          'targets': 3,\n",
              "          'week': 378,\n",
              "          'sma': 29,\n",
              "          'bad': 166,\n",
              "          'worst': 56,\n",
              "          'ever': 235,\n",
              "          'bihdayweeksucks': 2,\n",
              "          'bithday': 2,\n",
              "          'blessed': 190,\n",
              "          'worked': 28,\n",
              "          'sa': 13,\n",
              "          'leading': 11,\n",
              "          'happiest': 25,\n",
              "          'eah': 34,\n",
              "          'disneysmagickingdom': 1,\n",
              "          'disney': 66,\n",
              "          'magickingdom': 3,\n",
              "          'disneyland': 12,\n",
              "          'kinda': 22,\n",
              "          'among': 13,\n",
              "          'humans': 25,\n",
              "          'found': 186,\n",
              "          'exclaiming': 1,\n",
              "          'gr': 10,\n",
              "          'blain': 1,\n",
              "          'hair': 145,\n",
              "          'other': 168,\n",
              "          'lt': 151,\n",
              "          'listen': 121,\n",
              "          'n': 176,\n",
              "          'freedom': 55,\n",
              "          'effo': 17,\n",
              "          'present': 53,\n",
              "          'merely': 4,\n",
              "          'stored': 2,\n",
              "          'past': 51,\n",
              "          'theodore': 1,\n",
              "          'yall': 11,\n",
              "          'aint': 6,\n",
              "          'commitment': 5,\n",
              "          'trust': 38,\n",
              "          'michelleobama': 5,\n",
              "          'gorilla': 124,\n",
              "          'racists': 8,\n",
              "          'thought': 119,\n",
              "          'newarkfestival': 1,\n",
              "          'internet': 42,\n",
              "          'broken': 56,\n",
              "          'watch': 236,\n",
              "          'netflix': 23,\n",
              "          'mochithepug': 1,\n",
              "          'then': 281,\n",
              "          'what..business': 1,\n",
              "          'hbd': 6,\n",
              "          'dick': 10,\n",
              "          'suckin': 2,\n",
              "          'tequila': 2,\n",
              "          'lovin': 3,\n",
              "          'slut': 55,\n",
              "          'wouldnt': 5,\n",
              "          'any': 204,\n",
              "          'justalillate': 2,\n",
              "          'smaller': 5,\n",
              "          'hands': 39,\n",
              "          'barry': 3,\n",
              "          'probably': 41,\n",
              "          'lied': 12,\n",
              "          'game': 229,\n",
              "          'sucked': 6,\n",
              "          'everyone': 259,\n",
              "          'doing': 153,\n",
              "          'goodmorning': 78,\n",
              "          'girls': 243,\n",
              "          'challenges': 14,\n",
              "          'aap': 15,\n",
              "          'claim': 15,\n",
              "          'punjabis': 4,\n",
              "          'drugaddicts': 3,\n",
              "          'dares': 4,\n",
              "          'tracerequest': 1,\n",
              "          'sending': 19,\n",
              "          'deepest': 3,\n",
              "          'condolences': 12,\n",
              "          'zimbabwe': 1,\n",
              "          'hea': 177,\n",
              "          'a.a': 2,\n",
              "          'mato': 1,\n",
              "          'saturday': 202,\n",
              "          'afternoon': 55,\n",
              "          'chi': 2,\n",
              "          'meet': 100,\n",
              "          'soed': 8,\n",
              "          'nut': 5,\n",
              "          'bolts': 2,\n",
              "          'aww': 87,\n",
              "          'bing': 152,\n",
              "          'bong': 75,\n",
              "          'dawned': 2,\n",
              "          'months': 91,\n",
              "          'seeing': 101,\n",
              "          'live': 322,\n",
              "          'vfest': 1,\n",
              "          'th': 204,\n",
              "          'shane': 8,\n",
              "          'robe': 12,\n",
              "          'watson': 4,\n",
              "          'millions': 14,\n",
              "          'pointed': 2,\n",
              "          'hear': 103,\n",
              "          'announcers': 2,\n",
              "          'say': 233,\n",
              "          'moved': 18,\n",
              "          'player': 17,\n",
              "          'or': 539,\n",
              "          'lead': 24,\n",
              "          'radio': 24,\n",
              "          'coldplay': 17,\n",
              "          'god': 234,\n",
              "          'coming': 200,\n",
              "          'through': 106,\n",
              "          'keeping': 29,\n",
              "          'terrorist': 26,\n",
              "          'constitutional': 6,\n",
              "          'rights': 18,\n",
              "          'another': 263,\n",
              "          'excuse': 15,\n",
              "          'republicans': 15,\n",
              "          'appease': 1,\n",
              "          'nra': 6,\n",
              "          'everything': 138,\n",
              "          'together': 86,\n",
              "          'down': 246,\n",
              "          'fine': 21,\n",
              "          'dandy': 2,\n",
              "          'lonely': 43,\n",
              "          'exuberant': 1,\n",
              "          'depressed': 60,\n",
              "          'halffull': 1,\n",
              "          'mikeashley': 1,\n",
              "          'sposdirectshame': 1,\n",
              "          'perhapse': 1,\n",
              "          'example': 11,\n",
              "          'protect': 16,\n",
              "          'workersrights': 1,\n",
              "          'within': 28,\n",
              "          'europe': 28,\n",
              "          'euref': 8,\n",
              "          'stella': 8,\n",
              "          'princess': 25,\n",
              "          'birdsstellabadprincess': 1,\n",
              "          'post': 97,\n",
              "          'check': 150,\n",
              "          'memories': 52,\n",
              "          'saw': 87,\n",
              "          't': 45,\n",
              "          'shi': 21,\n",
              "          'said': 121,\n",
              "          'cared': 8,\n",
              "          'hilarious': 12,\n",
              "          'already': 113,\n",
              "          'blocked': 21,\n",
              "          'asking': 20,\n",
              "          'paicularly': 5,\n",
              "          'difficult': 24,\n",
              "          'devastating': 3,\n",
              "          'news': 208,\n",
              "          'victims': 73,\n",
              "          'happiness': 345,\n",
              "          'state': 62,\n",
              "          'arrive': 22,\n",
              "          'manner': 3,\n",
              "          'traveling': 20,\n",
              "          'margaret': 1,\n",
              "          'lee': 13,\n",
              "          'runbeck': 1,\n",
              "          ...})"
            ]
          },
          "metadata": {},
          "execution_count": 31
        }
      ],
      "source": [
        "dist"
      ]
    },
    {
      "cell_type": "markdown",
      "metadata": {
        "id": "epnG4KkvOR32"
      },
      "source": [
        "### We have 34289 unique words"
      ]
    },
    {
      "cell_type": "code",
      "execution_count": 32,
      "metadata": {
        "colab": {
          "base_uri": "https://localhost:8080/"
        },
        "id": "kKWHKSRkOR32",
        "outputId": "61fdaa34-8901-4b34-ec30-f8820250c787"
      },
      "outputs": [
        {
          "output_type": "execute_result",
          "data": {
            "text/plain": [
              "34407"
            ]
          },
          "metadata": {},
          "execution_count": 32
        }
      ],
      "source": [
        "len(dist)"
      ]
    },
    {
      "cell_type": "markdown",
      "metadata": {
        "id": "2mkwTxsJOR32"
      },
      "source": [
        "### The longest tweet has 42 words"
      ]
    },
    {
      "cell_type": "code",
      "execution_count": 33,
      "metadata": {
        "colab": {
          "base_uri": "https://localhost:8080/"
        },
        "id": "tYQwjCw_OR32",
        "outputId": "aba4c0b6-4e04-4f33-fc7f-2f33b08234e2"
      },
      "outputs": [
        {
          "output_type": "execute_result",
          "data": {
            "text/plain": [
              "42"
            ]
          },
          "metadata": {},
          "execution_count": 33
        }
      ],
      "source": [
        "max(df.Words_normalized_no_user_fixed.apply(len))"
      ]
    },
    {
      "cell_type": "markdown",
      "metadata": {
        "id": "Fnhyl4d4OR32"
      },
      "source": [
        "# We will use new TextVectorization layer for creating vector model from our text data\n",
        "For those of you who are interested in the topic there is very good [article on Medium](https://towardsdatascience.com/you-should-try-the-new-tensorflows-textvectorization-layer-a80b3c6b00ee) about the layer and its parameters.\n",
        "\n",
        "There is of course a [documentation page](https://www.tensorflow.org/api_docs/python/tf/keras/layers/experimental/preprocessing/TextVectorization) about the layer.\n"
      ]
    },
    {
      "cell_type": "code",
      "execution_count": 34,
      "metadata": {
        "id": "NuatO_UtOR33"
      },
      "outputs": [],
      "source": [
        "from tensorflow import string as tf_string\n",
        "from tensorflow.keras.layers.experimental.preprocessing import TextVectorization"
      ]
    },
    {
      "cell_type": "code",
      "execution_count": null,
      "metadata": {
        "id": "mzDmTd-JOR33"
      },
      "outputs": [],
      "source": [
        "embedding_dim = 128 # Dimension of embedded representation - this is already part of latent space, there is captured some dependecy among words, we are learning this vectors in ANN\n",
        "vocab_size = 10000 # Number of unique tokens in vocabulary\n",
        "sequence_length = 30 # Output dimension after vectorizing - words in vectorited representation are independent\n",
        "\n",
        "vect_layer = TextVectorization(max_tokens=vocab_size, output_mode='int', output_sequence_length=sequence_length)\n",
        "vect_layer.adapt(df.Clean_text.values)\n",
        "\n"
      ]
    },
    {
      "cell_type": "markdown",
      "metadata": {
        "id": "XYhx_lrQOR33"
      },
      "source": [
        "### We will split our dataset to train and test parts with stratification"
      ]
    },
    {
      "cell_type": "code",
      "execution_count": null,
      "metadata": {
        "id": "qQNPYpH5OR33"
      },
      "outputs": [],
      "source": [
        "X_train, X_test, y_train, y_test = train_test_split(df.Clean_text, df.label, test_size=0.20, random_state=13, stratify=df.label)"
      ]
    },
    {
      "cell_type": "code",
      "execution_count": null,
      "metadata": {
        "id": "lolUX74oOR33"
      },
      "outputs": [],
      "source": [
        "X_train, X_valid, y_train, y_valid = train_test_split(X_train, y_train, test_size=0.1, random_state=13, stratify=y_train)"
      ]
    },
    {
      "cell_type": "code",
      "execution_count": null,
      "metadata": {
        "colab": {
          "base_uri": "https://localhost:8080/"
        },
        "id": "xfMORXmkOR33",
        "outputId": "1bfc0694-ebfb-455e-9dbf-bdcd2d6e115e"
      },
      "outputs": [
        {
          "name": "stdout",
          "output_type": "stream",
          "text": [
            "(23012,) (6393,)\n"
          ]
        }
      ],
      "source": [
        "print(X_train.shape, X_test.shape)"
      ]
    },
    {
      "cell_type": "code",
      "execution_count": null,
      "metadata": {
        "colab": {
          "base_uri": "https://localhost:8080/"
        },
        "id": "wVUhHwu2OR34",
        "outputId": "042931fb-919a-461e-df9d-f0504ee6d49c"
      },
      "outputs": [
        {
          "name": "stdout",
          "output_type": "stream",
          "text": [
            "Train\n",
            "0    21397\n",
            "1     1615\n",
            "Name: label, dtype: int64\n",
            "Test\n",
            "0    5945\n",
            "1     448\n",
            "Name: label, dtype: int64\n"
          ]
        }
      ],
      "source": [
        "print('Train')\n",
        "print(y_train.value_counts())\n",
        "print('Test')\n",
        "print(y_test.value_counts())"
      ]
    },
    {
      "cell_type": "code",
      "execution_count": null,
      "metadata": {
        "colab": {
          "base_uri": "https://localhost:8080/"
        },
        "id": "NFW9CRzGOR34",
        "outputId": "d229ca0c-ea1a-4861-d887-e00a0592e184"
      },
      "outputs": [
        {
          "name": "stdout",
          "output_type": "stream",
          "text": [
            "Vocabulary example:  ['', '[UNK]', 'the', 'to', 'a', 'i', 'you', 'and', 'in', 'for']\n",
            "Vocabulary shape:  10000\n"
          ]
        }
      ],
      "source": [
        "print('Vocabulary example: ', vect_layer.get_vocabulary()[:10])\n",
        "print('Vocabulary shape: ', len(vect_layer.get_vocabulary()))"
      ]
    },
    {
      "cell_type": "code",
      "execution_count": 35,
      "metadata": {
        "id": "HiixwQAFOR34"
      },
      "outputs": [],
      "source": [
        "from tensorflow.compat.v1.keras.layers import CuDNNGRU, CuDNNLSTM\n",
        "from tensorflow.keras.layers import LSTM, GRU, Bidirectional"
      ]
    },
    {
      "cell_type": "code",
      "execution_count": null,
      "metadata": {
        "colab": {
          "base_uri": "https://localhost:8080/"
        },
        "id": "se0btowQOR34",
        "outputId": "dcfce318-6b74-4b37-868c-7753ebf58a93"
      },
      "outputs": [
        {
          "name": "stdout",
          "output_type": "stream",
          "text": [
            "WARNING:tensorflow:Layer lstm will not use cuDNN kernels since it doesn't meet the criteria. It will use a generic GPU kernel as fallback when running on GPU.\n",
            "WARNING:tensorflow:Layer gru will not use cuDNN kernels since it doesn't meet the criteria. It will use a generic GPU kernel as fallback when running on GPU.\n",
            "Model: \"model\"\n",
            "_________________________________________________________________\n",
            " Layer (type)                Output Shape              Param #   \n",
            "=================================================================\n",
            " input_1 (InputLayer)        [(None, 1)]               0         \n",
            "                                                                 \n",
            " text_vectorization (TextVec  (None, 30)               0         \n",
            " torization)                                                     \n",
            "                                                                 \n",
            " embedding (Embedding)       (None, 30, 128)           1280000   \n",
            "                                                                 \n",
            " lstm (LSTM)                 (None, 30, 64)            49408     \n",
            "                                                                 \n",
            " gru (GRU)                   (None, 30, 64)            24960     \n",
            "                                                                 \n",
            " flatten (Flatten)           (None, 1920)              0         \n",
            "                                                                 \n",
            " dense (Dense)               (None, 64)                122944    \n",
            "                                                                 \n",
            " dense_1 (Dense)             (None, 32)                2080      \n",
            "                                                                 \n",
            " dropout (Dropout)           (None, 32)                0         \n",
            "                                                                 \n",
            " dense_2 (Dense)             (None, 1)                 33        \n",
            "                                                                 \n",
            "=================================================================\n",
            "Total params: 1,479,425\n",
            "Trainable params: 1,479,425\n",
            "Non-trainable params: 0\n",
            "_________________________________________________________________\n"
          ]
        }
      ],
      "source": [
        "input_layer = keras.layers.Input(shape=(1,), dtype=tf_string)\n",
        "x_v = vect_layer(input_layer)\n",
        "emb = keras.layers.Embedding(vocab_size, embedding_dim)(x_v)\n",
        "x = LSTM(64, activation='relu', return_sequences=True)(emb)\n",
        "x = GRU(64, activation='relu', return_sequences=True)(x)\n",
        "x = keras.layers.Flatten()(x)\n",
        "x = keras.layers.Dense(64, 'relu')(x)\n",
        "x = keras.layers.Dense(32, 'relu')(x)\n",
        "x = keras.layers.Dropout(0.2)(x)\n",
        "output_layer = keras.layers.Dense(1, 'sigmoid')(x)\n",
        "\n",
        "model = keras.Model(input_layer, output_layer)\n",
        "model.summary()\n",
        "\n",
        "model.compile(optimizer='rmsprop', loss=keras.losses.BinaryCrossentropy(), metrics=['accuracy'])\n"
      ]
    },
    {
      "cell_type": "code",
      "execution_count": null,
      "metadata": {
        "colab": {
          "base_uri": "https://localhost:8080/",
          "height": 200
        },
        "id": "hVSmoztPOR35",
        "outputId": "c5c28b44-1277-4b0a-a988-a82eb92545c8"
      },
      "outputs": [
        {
          "output_type": "error",
          "ename": "NameError",
          "evalue": "ignored",
          "traceback": [
            "\u001b[0;31m---------------------------------------------------------------------------\u001b[0m",
            "\u001b[0;31mNameError\u001b[0m                                 Traceback (most recent call last)",
            "\u001b[0;32m<ipython-input-44-664c6e9048a6>\u001b[0m in \u001b[0;36m<module>\u001b[0;34m()\u001b[0m\n\u001b[1;32m      3\u001b[0m \u001b[0mbatch_size\u001b[0m \u001b[0;34m=\u001b[0m \u001b[0;36m128\u001b[0m\u001b[0;34m\u001b[0m\u001b[0;34m\u001b[0m\u001b[0m\n\u001b[1;32m      4\u001b[0m \u001b[0mepochs\u001b[0m \u001b[0;34m=\u001b[0m \u001b[0;36m5\u001b[0m\u001b[0;34m\u001b[0m\u001b[0;34m\u001b[0m\u001b[0m\n\u001b[0;32m----> 5\u001b[0;31m \u001b[0mhistory\u001b[0m \u001b[0;34m=\u001b[0m \u001b[0mmodel\u001b[0m\u001b[0;34m.\u001b[0m\u001b[0mfit\u001b[0m\u001b[0;34m(\u001b[0m\u001b[0mX_train\u001b[0m\u001b[0;34m.\u001b[0m\u001b[0mvalues\u001b[0m\u001b[0;34m,\u001b[0m \u001b[0my_train\u001b[0m\u001b[0;34m.\u001b[0m\u001b[0mvalues\u001b[0m\u001b[0;34m,\u001b[0m \u001b[0mvalidation_data\u001b[0m\u001b[0;34m=\u001b[0m\u001b[0;34m(\u001b[0m\u001b[0mX_valid\u001b[0m\u001b[0;34m.\u001b[0m\u001b[0mvalues\u001b[0m\u001b[0;34m,\u001b[0m \u001b[0my_valid\u001b[0m\u001b[0;34m.\u001b[0m\u001b[0mvalues\u001b[0m\u001b[0;34m)\u001b[0m\u001b[0;34m,\u001b[0m \u001b[0mcallbacks\u001b[0m\u001b[0;34m=\u001b[0m\u001b[0;34m[\u001b[0m\u001b[0mes\u001b[0m\u001b[0;34m]\u001b[0m\u001b[0;34m,\u001b[0m \u001b[0mepochs\u001b[0m\u001b[0;34m=\u001b[0m\u001b[0mepochs\u001b[0m\u001b[0;34m,\u001b[0m \u001b[0mbatch_size\u001b[0m\u001b[0;34m=\u001b[0m\u001b[0mbatch_size\u001b[0m\u001b[0;34m)\u001b[0m\u001b[0;34m\u001b[0m\u001b[0;34m\u001b[0m\u001b[0m\n\u001b[0m",
            "\u001b[0;31mNameError\u001b[0m: name 'model' is not defined"
          ]
        }
      ],
      "source": [
        "es = keras.callbacks.EarlyStopping(monitor='val_loss', min_delta=0, patience=70, restore_best_weights=True)\n",
        "\n",
        "batch_size = 128\n",
        "epochs = 5\n",
        "history = model.fit(X_train.values, y_train.values, validation_data=(X_valid.values, y_valid.values), callbacks=[es], epochs=epochs, batch_size=batch_size)"
      ]
    },
    {
      "cell_type": "code",
      "execution_count": null,
      "metadata": {
        "colab": {
          "base_uri": "https://localhost:8080/",
          "height": 297
        },
        "id": "KmQLoAgCOR35",
        "outputId": "a1883f0a-58c1-4787-977d-621971e960ea"
      },
      "outputs": [
        {
          "data": {
            "image/png": "[encoded data removed]",
            "text/plain": [
              "<Figure size 432x288 with 1 Axes>"
            ]
          },
          "metadata": {},
          "output_type": "display_data"
        }
      ],
      "source": [
        "show_history(history)"
      ]
    },
    {
      "cell_type": "code",
      "execution_count": null,
      "metadata": {
        "colab": {
          "base_uri": "https://localhost:8080/"
        },
        "id": "khyN11ElOR35",
        "outputId": "207d3532-6392-471c-c897-b4eacff57fd7"
      },
      "outputs": [
        {
          "name": "stdout",
          "output_type": "stream",
          "text": [
            "200/200 [==============================] - 4s 19ms/step - loss: 0.1326 - accuracy: 0.9595\n"
          ]
        }
      ],
      "source": [
        "y_test_loss, accuracy = model.evaluate(X_test, y_test)"
      ]
    },
    {
      "cell_type": "code",
      "execution_count": null,
      "metadata": {
        "id": "eBjivEMdOR35"
      },
      "outputs": [],
      "source": [
        "y_pred = model.predict(X_test).ravel()"
      ]
    },
    {
      "cell_type": "markdown",
      "metadata": {
        "id": "71kQDIkAOR36"
      },
      "source": [
        "#### Sigmoid function gives us real number in range <0, 1>.\n",
        "\n",
        "#### We need to map this valus to classes"
      ]
    },
    {
      "cell_type": "code",
      "execution_count": null,
      "metadata": {
        "colab": {
          "base_uri": "https://localhost:8080/"
        },
        "id": "KcYEGdhFOR36",
        "outputId": "f822f79e-366b-4230-ef46-68c19d693935"
      },
      "outputs": [
        {
          "data": {
            "text/plain": [
              "array([5.8227992e-03, 1.5153906e-04, 4.9275317e-04, ..., 9.9427795e-01,\n",
              "       3.3160646e-05, 3.6857808e-03], dtype=float32)"
            ]
          },
          "execution_count": 48,
          "metadata": {},
          "output_type": "execute_result"
        }
      ],
      "source": [
        "y_pred"
      ]
    },
    {
      "cell_type": "code",
      "execution_count": null,
      "metadata": {
        "id": "0qcQ9AIyOR36"
      },
      "outputs": [],
      "source": [
        "y_pred = [1 if x >= 0.5 else 0 for x in y_pred]"
      ]
    },
    {
      "cell_type": "markdown",
      "metadata": {
        "id": "HEZTrxkIOR36"
      },
      "source": [
        "# We can see that accuracy is not the best metric in the imbalanced situation - why?\n",
        "There are many more metrics we can use and one of the most common in this situation is the F1 Score, see [this](https://en.wikipedia.org/wiki/F-score) and [this](https://machinelearningmastery.com/classification-accuracy-is-not-enough-more-performance-measures-you-can-use/) for more info"
      ]
    },
    {
      "cell_type": "code",
      "execution_count": null,
      "metadata": {
        "colab": {
          "base_uri": "https://localhost:8080/"
        },
        "id": "cFdxD859OR37",
        "outputId": "d1d5e0b9-7bf6-406e-f5f5-db04bd24a607"
      },
      "outputs": [
        {
          "data": {
            "text/plain": [
              "0.9594869388393555"
            ]
          },
          "execution_count": 50,
          "metadata": {},
          "output_type": "execute_result"
        }
      ],
      "source": [
        "accuracy_score(y_true=y_test, y_pred=y_pred)"
      ]
    },
    {
      "cell_type": "code",
      "execution_count": null,
      "metadata": {
        "colab": {
          "base_uri": "https://localhost:8080/"
        },
        "id": "NE1mDvRHOR37",
        "outputId": "aceff9bf-bf17-4b4e-fd3c-f3e6b10bdf39"
      },
      "outputs": [
        {
          "data": {
            "text/plain": [
              "0.6852976913730254"
            ]
          },
          "execution_count": 51,
          "metadata": {},
          "output_type": "execute_result"
        }
      ],
      "source": [
        "f1_score(y_true=y_test, y_pred=y_pred)"
      ]
    },
    {
      "cell_type": "code",
      "execution_count": null,
      "metadata": {
        "colab": {
          "base_uri": "https://localhost:8080/"
        },
        "id": "M9JZwMDeOR38",
        "outputId": "cca830fa-73fc-46b7-ecbd-32176b1bec94"
      },
      "outputs": [
        {
          "name": "stdout",
          "output_type": "stream",
          "text": [
            "              precision    recall  f1-score   support\n",
            "\n",
            "           0       0.97      0.98      0.98      5945\n",
            "           1       0.75      0.63      0.69       448\n",
            "\n",
            "    accuracy                           0.96      6393\n",
            "   macro avg       0.86      0.81      0.83      6393\n",
            "weighted avg       0.96      0.96      0.96      6393\n",
            "\n"
          ]
        }
      ],
      "source": [
        "print(classification_report(y_true=y_test, y_pred=y_pred))"
      ]
    },
    {
      "cell_type": "code",
      "execution_count": null,
      "metadata": {
        "colab": {
          "base_uri": "https://localhost:8080/"
        },
        "id": "5TaDq2t2OR38",
        "outputId": "0bf56c40-ec07-4e02-b92f-5b147884cf41"
      },
      "outputs": [
        {
          "name": "stdout",
          "output_type": "stream",
          "text": [
            "[[5852   93]\n",
            " [ 166  282]]\n"
          ]
        }
      ],
      "source": [
        "print(confusion_matrix(y_true=y_test, y_pred=y_pred))"
      ]
    },
    {
      "cell_type": "markdown",
      "metadata": {
        "id": "A9p1JujMOR38"
      },
      "source": [
        "# We don't have to train our own embedding\n",
        "There are multiple embeddings available online which were trained on very large corpuses e.g. Wikipedia. Good examples are Word2Vec, Glove or FastText. These embeddings contains fixed length vectors for words in the vocabulary.\n",
        "\n",
        "We will use GloVe embedding with 50 dimensional embedding vectors. For more details see [this](https://nlp.stanford.edu/projects/glove/).\n",
        "You can download zip with vectors from [http://nlp.stanford.edu/data/glove.6B.zip](http://nlp.stanford.edu/data/glove.6B.zip) ~ 800 MB\n",
        "\n",
        "#### Beware that the original text corpus was more general than the specific social media text data, so if you deal with very specific domains it may be beneficial to train your own embedding or at least fine tune existing one."
      ]
    },
    {
      "cell_type": "markdown",
      "metadata": {
        "id": "Gb-rzb8NOR38"
      },
      "source": [
        "# We need to download the embedding files\n",
        "~~~\n",
        "!wget http://nlp.stanford.edu/data/glove.6B.zip\n",
        "!unzip -q glove.6B.zip\n",
        "~~~\n",
        "\n",
        "50 dims GLOVE is also avaiable here: https://vsb.ai/downloads/glove.6B.50d.txt"
      ]
    },
    {
      "cell_type": "code",
      "execution_count": null,
      "metadata": {
        "colab": {
          "base_uri": "https://localhost:8080/"
        },
        "id": "Ki2u2oL4OYsz",
        "outputId": "13aaac45-4a88-45be-8482-5f2c2eea99ac"
      },
      "outputs": [
        {
          "output_type": "stream",
          "name": "stdout",
          "text": [
            "--2022-03-12 11:25:40--  http://nlp.stanford.edu/data/glove.6B.zip\n",
            "Resolving nlp.stanford.edu (nlp.stanford.edu)... 171.64.67.140\n",
            "Connecting to nlp.stanford.edu (nlp.stanford.edu)|171.64.67.140|:80... connected.\n",
            "HTTP request sent, awaiting response... 302 Found\n",
            "Location: https://nlp.stanford.edu/data/glove.6B.zip [following]\n",
            "--2022-03-12 11:25:40--  https://nlp.stanford.edu/data/glove.6B.zip\n",
            "Connecting to nlp.stanford.edu (nlp.stanford.edu)|171.64.67.140|:443... connected.\n",
            "HTTP request sent, awaiting response... 301 Moved Permanently\n",
            "Location: http://downloads.cs.stanford.edu/nlp/data/glove.6B.zip [following]\n",
            "--2022-03-12 11:25:40--  http://downloads.cs.stanford.edu/nlp/data/glove.6B.zip\n",
            "Resolving downloads.cs.stanford.edu (downloads.cs.stanford.edu)... 171.64.64.22\n",
            "Connecting to downloads.cs.stanford.edu (downloads.cs.stanford.edu)|171.64.64.22|:80... connected.\n",
            "HTTP request sent, awaiting response... 200 OK\n",
            "Length: 862182613 (822M) [application/zip]\n",
            "Saving to: ‘glove.6B.zip’\n",
            "\n",
            "glove.6B.zip        100%[===================>] 822.24M  5.35MB/s    in 2m 41s  \n",
            "\n",
            "2022-03-12 11:28:22 (5.10 MB/s) - ‘glove.6B.zip’ saved [862182613/862182613]\n",
            "\n"
          ]
        }
      ],
      "source": [
        "!wget http://nlp.stanford.edu/data/glove.6B.zip"
      ]
    },
    {
      "cell_type": "code",
      "execution_count": null,
      "metadata": {
        "id": "slgSXk0mOZ4j"
      },
      "outputs": [],
      "source": [
        "!unzip -q glove.6B.zip"
      ]
    },
    {
      "cell_type": "markdown",
      "metadata": {
        "id": "m_YiHC4rOR38"
      },
      "source": [
        "# First we need to load the file to memory and create embedding dictionary"
      ]
    },
    {
      "cell_type": "code",
      "execution_count": null,
      "metadata": {
        "colab": {
          "base_uri": "https://localhost:8080/"
        },
        "id": "zdFnKtCvOR38",
        "outputId": "17f89064-cd97-402e-ade8-e20df8780951"
      },
      "outputs": [
        {
          "output_type": "stream",
          "name": "stdout",
          "text": [
            "Found 400000 word vectors.\n"
          ]
        }
      ],
      "source": [
        "path_to_glove_file = 'glove.6B.50d.txt'\n",
        "\n",
        "embeddings_index = {}\n",
        "with open(path_to_glove_file) as f:\n",
        "    for line in f:\n",
        "        word, coefs = line.split(maxsplit=1)\n",
        "        coefs = np.fromstring(coefs, \"f\", sep=\" \")\n",
        "        embeddings_index[word] = coefs\n",
        "\n",
        "print(\"Found %s word vectors.\" % len(embeddings_index))"
      ]
    },
    {
      "cell_type": "code",
      "execution_count": null,
      "metadata": {
        "colab": {
          "base_uri": "https://localhost:8080/"
        },
        "id": "DhPTh3NKOR39",
        "outputId": "cff696c3-0f43-4688-f396-f41d1ea24c76"
      },
      "outputs": [
        {
          "output_type": "execute_result",
          "data": {
            "text/plain": [
              "array([ 0.47168 ,  0.25095 ,  0.078363,  0.33009 ,  0.32782 ,  0.47325 ,\n",
              "        0.16805 , -0.99997 ,  0.8607  ,  0.018286, -0.022716, -0.16986 ,\n",
              "       -0.33896 ,  0.10096 , -0.29278 , -0.18954 ,  0.063336, -0.64536 ,\n",
              "       -0.098547, -0.46883 ,  0.26338 , -0.063779,  0.51437 , -0.34739 ,\n",
              "        0.26537 , -0.58654 , -1.2527  , -0.20557 , -0.31604 ,  0.59308 ,\n",
              "        2.8329  , -1.2396  , -0.23409 , -1.66    ,  0.047692, -0.23141 ,\n",
              "       -0.14241 ,  0.74129 ,  0.69887 ,  0.14877 ,  0.6547  , -0.29812 ,\n",
              "        0.10476 ,  0.56112 , -0.015528,  0.099004,  1.3858  ,  1.8129  ,\n",
              "        0.3804  ,  0.83921 ], dtype=float32)"
            ]
          },
          "metadata": {},
          "execution_count": 48
        }
      ],
      "source": [
        "embeddings_index['analysis']"
      ]
    },
    {
      "cell_type": "markdown",
      "metadata": {
        "id": "dmY-c7DDOR39"
      },
      "source": [
        "## We need to get the voacabulary from the Vectorizer and the integer indexes"
      ]
    },
    {
      "cell_type": "code",
      "execution_count": null,
      "metadata": {
        "id": "WzXgSZlFOR39"
      },
      "outputs": [],
      "source": [
        "embedding_dim = 50 # Dimension of embedded representation - this is already part of latent space, there is captured some dependecy among words, we are learning this vectors in ANN\n",
        "vocab_size = 10000 # Number of unique tokens in vocabulary\n",
        "sequence_length = 20 # Output dimension after vectorizing - words in vectorited representation are independent\n",
        "\n",
        "vect_layer = TextVectorization(max_tokens=vocab_size, output_mode='int', output_sequence_length=sequence_length)\n",
        "vect_layer.adapt(df.Clean_text.values)"
      ]
    },
    {
      "cell_type": "code",
      "execution_count": null,
      "metadata": {
        "id": "K9e10NsMOR39"
      },
      "outputs": [],
      "source": [
        "voc = vect_layer.get_vocabulary()\n",
        "word_index = dict(zip(voc, range(len(voc))))"
      ]
    },
    {
      "cell_type": "code",
      "execution_count": null,
      "metadata": {
        "colab": {
          "base_uri": "https://localhost:8080/"
        },
        "id": "omziOVtVOR39",
        "outputId": "0a7c9563-fb7a-4069-e2eb-29405624b5a4"
      },
      "outputs": [
        {
          "output_type": "execute_result",
          "data": {
            "text/plain": [
              "['', '[UNK]', 'the', 'to', 'a', 'i', 'you', 'and', 'in', 'for']"
            ]
          },
          "metadata": {},
          "execution_count": 51
        }
      ],
      "source": [
        "voc[:10]"
      ]
    },
    {
      "cell_type": "code",
      "execution_count": null,
      "metadata": {
        "colab": {
          "base_uri": "https://localhost:8080/"
        },
        "id": "1-Hs-O8HOR39",
        "outputId": "a539ca9a-5b76-46ac-9324-c6bbb3ca2d8a"
      },
      "outputs": [
        {
          "output_type": "execute_result",
          "data": {
            "text/plain": [
              "2"
            ]
          },
          "metadata": {},
          "execution_count": 52
        }
      ],
      "source": [
        "word_index['the']"
      ]
    },
    {
      "cell_type": "code",
      "execution_count": null,
      "metadata": {
        "colab": {
          "base_uri": "https://localhost:8080/"
        },
        "id": "OBK_iOUsOR39",
        "outputId": "83350739-e3a2-434d-e027-b4d7ddb3826f"
      },
      "outputs": [
        {
          "output_type": "execute_result",
          "data": {
            "text/plain": [
              "array([ 4.1800e-01,  2.4968e-01, -4.1242e-01,  1.2170e-01,  3.4527e-01,\n",
              "       -4.4457e-02, -4.9688e-01, -1.7862e-01, -6.6023e-04, -6.5660e-01,\n",
              "        2.7843e-01, -1.4767e-01, -5.5677e-01,  1.4658e-01, -9.5095e-03,\n",
              "        1.1658e-02,  1.0204e-01, -1.2792e-01, -8.4430e-01, -1.2181e-01,\n",
              "       -1.6801e-02, -3.3279e-01, -1.5520e-01, -2.3131e-01, -1.9181e-01,\n",
              "       -1.8823e+00, -7.6746e-01,  9.9051e-02, -4.2125e-01, -1.9526e-01,\n",
              "        4.0071e+00, -1.8594e-01, -5.2287e-01, -3.1681e-01,  5.9213e-04,\n",
              "        7.4449e-03,  1.7778e-01, -1.5897e-01,  1.2041e-02, -5.4223e-02,\n",
              "       -2.9871e-01, -1.5749e-01, -3.4758e-01, -4.5637e-02, -4.4251e-01,\n",
              "        1.8785e-01,  2.7849e-03, -1.8411e-01, -1.1514e-01, -7.8581e-01],\n",
              "      dtype=float32)"
            ]
          },
          "metadata": {},
          "execution_count": 53
        }
      ],
      "source": [
        "embeddings_index['the']"
      ]
    },
    {
      "cell_type": "code",
      "execution_count": null,
      "metadata": {
        "colab": {
          "base_uri": "https://localhost:8080/"
        },
        "id": "_OMQN2m5OR3-",
        "outputId": "bc4a7c0b-3fce-459d-cc5f-fff30d241bc7"
      },
      "outputs": [
        {
          "output_type": "stream",
          "name": "stdout",
          "text": [
            "Converted 8500 words (1500 misses)\n"
          ]
        }
      ],
      "source": [
        "num_tokens = len(voc) + 2\n",
        "hits = 0\n",
        "misses = 0\n",
        "\n",
        "# Prepare embedding matrix\n",
        "embedding_matrix = np.zeros((num_tokens, embedding_dim))\n",
        "for word, i in word_index.items():\n",
        "    embedding_vector = embeddings_index.get(word)\n",
        "    if embedding_vector is not None:\n",
        "        # Words not found in embedding index will be all-zeros.\n",
        "        # This includes the representation for \"padding\" and \"OOV\"\n",
        "        embedding_matrix[i] = embedding_vector\n",
        "        hits += 1\n",
        "    else:\n",
        "        misses += 1\n",
        "print(\"Converted %d words (%d misses)\" % (hits, misses))"
      ]
    },
    {
      "cell_type": "code",
      "execution_count": null,
      "metadata": {
        "colab": {
          "base_uri": "https://localhost:8080/"
        },
        "id": "ok_Ex-ZXOR3-",
        "outputId": "46383c5c-756e-4fdc-bd51-ae48da37f157"
      },
      "outputs": [
        {
          "output_type": "execute_result",
          "data": {
            "text/plain": [
              "array([ 4.18000013e-01,  2.49679998e-01, -4.12420005e-01,  1.21699996e-01,\n",
              "        3.45270008e-01, -4.44569997e-02, -4.96879995e-01, -1.78619996e-01,\n",
              "       -6.60229998e-04, -6.56599998e-01,  2.78430015e-01, -1.47670001e-01,\n",
              "       -5.56770027e-01,  1.46579996e-01, -9.50950012e-03,  1.16579998e-02,\n",
              "        1.02040000e-01, -1.27920002e-01, -8.44299972e-01, -1.21809997e-01,\n",
              "       -1.68009996e-02, -3.32789987e-01, -1.55200005e-01, -2.31309995e-01,\n",
              "       -1.91809997e-01, -1.88230002e+00, -7.67459989e-01,  9.90509987e-02,\n",
              "       -4.21249986e-01, -1.95260003e-01,  4.00710011e+00, -1.85939997e-01,\n",
              "       -5.22870004e-01, -3.16810012e-01,  5.92130003e-04,  7.44489999e-03,\n",
              "        1.77780002e-01, -1.58969998e-01,  1.20409997e-02, -5.42230010e-02,\n",
              "       -2.98709989e-01, -1.57490000e-01, -3.47579986e-01, -4.56370004e-02,\n",
              "       -4.42510009e-01,  1.87849998e-01,  2.78489990e-03, -1.84110001e-01,\n",
              "       -1.15139998e-01, -7.85809994e-01])"
            ]
          },
          "metadata": {},
          "execution_count": 55
        }
      ],
      "source": [
        "embedding_matrix[2]"
      ]
    },
    {
      "cell_type": "code",
      "execution_count": null,
      "metadata": {
        "colab": {
          "base_uri": "https://localhost:8080/"
        },
        "id": "0NE0Rsr3OR3-",
        "outputId": "cc7c040e-4f80-47d0-de66-b2595a5c2498"
      },
      "outputs": [
        {
          "name": "stdout",
          "output_type": "stream",
          "text": [
            "WARNING:tensorflow:Layer lstm_1 will not use cuDNN kernels since it doesn't meet the criteria. It will use a generic GPU kernel as fallback when running on GPU.\n",
            "WARNING:tensorflow:Layer gru_1 will not use cuDNN kernels since it doesn't meet the criteria. It will use a generic GPU kernel as fallback when running on GPU.\n",
            "Model: \"model_1\"\n",
            "_________________________________________________________________\n",
            " Layer (type)                Output Shape              Param #   \n",
            "=================================================================\n",
            " input_1 (InputLayer)        [(None, 1)]               0         \n",
            "                                                                 \n",
            " text_vectorization_1 (TextV  (None, 20)               0         \n",
            " ectorization)                                                   \n",
            "                                                                 \n",
            " embedding_1 (Embedding)     (None, 20, 50)            500100    \n",
            "                                                                 \n",
            " lstm_1 (LSTM)               (None, 20, 64)            29440     \n",
            "                                                                 \n",
            " gru_1 (GRU)                 (None, 64)                24960     \n",
            "                                                                 \n",
            " flatten_1 (Flatten)         (None, 64)                0         \n",
            "                                                                 \n",
            " dense_3 (Dense)             (None, 64)                4160      \n",
            "                                                                 \n",
            " dense_4 (Dense)             (None, 32)                2080      \n",
            "                                                                 \n",
            " dropout_1 (Dropout)         (None, 32)                0         \n",
            "                                                                 \n",
            " dense_5 (Dense)             (None, 1)                 33        \n",
            "                                                                 \n",
            "=================================================================\n",
            "Total params: 560,773\n",
            "Trainable params: 60,673\n",
            "Non-trainable params: 500,100\n",
            "_________________________________________________________________\n"
          ]
        }
      ],
      "source": [
        "show_historyyer = keras.layers.Input(shape=(1,), dtype=tf_string)\n",
        "x_v = vect_layer(input_layer)\n",
        "emb = keras.layers.Embedding(num_tokens, embedding_dim, embeddings_initializer=keras.initializers.Constant(embedding_matrix), trainable=False)(x_v)\n",
        "x = LSTM(64, activation='relu', return_sequences=True)(emb)\n",
        "x = GRU(64, activation='relu', return_sequences=False)(x)\n",
        "x = keras.layers.Flatten()(x)\n",
        "x = keras.layers.Dense(64, 'relu')(x)\n",
        "x = keras.layers.Dense(32, 'relu')(x)\n",
        "x = keras.layers.Dropout(0.2)(x)\n",
        "output_layer = keras.layers.Dense(1, 'sigmoid')(x)\n",
        "\n",
        "model = keras.Model(input_layer, output_layer)\n",
        "model.summary()\n",
        "\n",
        "model.compile(optimizer='rmsprop', loss=keras.losses.BinaryCrossentropy(), metrics=['accuracy'])\n"
      ]
    },
    {
      "cell_type": "code",
      "execution_count": null,
      "metadata": {
        "colab": {
          "base_uri": "https://localhost:8080/"
        },
        "id": "C4TJdJ3MOR3-",
        "outputId": "6b3a5dc1-33b0-4548-91b7-fc9cd22ab7fc"
      },
      "outputs": [
        {
          "name": "stdout",
          "output_type": "stream",
          "text": [
            "Epoch 1/5\n",
            "180/180 [==============================] - 30s 150ms/step - loss: 0.2314 - accuracy: 0.9290 - val_loss: 0.1642 - val_accuracy: 0.9300\n",
            "Epoch 2/5\n",
            "180/180 [==============================] - 27s 152ms/step - loss: 0.1787 - accuracy: 0.9375 - val_loss: 0.1683 - val_accuracy: 0.9437\n",
            "Epoch 3/5\n",
            "180/180 [==============================] - 28s 154ms/step - loss: 0.1641 - accuracy: 0.9434 - val_loss: 0.1436 - val_accuracy: 0.9480\n",
            "Epoch 4/5\n",
            "180/180 [==============================] - 27s 150ms/step - loss: 0.1534 - accuracy: 0.9469 - val_loss: 0.1378 - val_accuracy: 0.9511\n",
            "Epoch 5/5\n",
            "180/180 [==============================] - 27s 149ms/step - loss: 0.1443 - accuracy: 0.9505 - val_loss: 0.1338 - val_accuracy: 0.9515\n"
          ]
        }
      ],
      "source": [
        "es = keras.callbacks.EarlyStopping(monitor='val_loss', min_delta=0, patience=70, restore_best_weights=True)\n",
        "\n",
        "batch_size = 128\n",
        "epochs = 5\n",
        "history = model.fit(X_train.values, y_train.values, validation_data=(X_valid.values, y_valid.values), callbacks=[es], epochs=epochs, batch_size=batch_size)"
      ]
    },
    {
      "cell_type": "code",
      "execution_count": null,
      "metadata": {
        "colab": {
          "base_uri": "https://localhost:8080/",
          "height": 297
        },
        "id": "hcHUWUZhOR3-",
        "outputId": "bca7b6d3-721d-4038-b323-3ad3ff948726"
      },
      "outputs": [
        {
          "data": {
            "image/png": "[encoded data removed]",
            "text/plain": [
              "<Figure size 432x288 with 1 Axes>"
            ]
          },
          "metadata": {},
          "output_type": "display_data"
        }
      ],
      "source": [
        "show_history(history)"
      ]
    },
    {
      "cell_type": "code",
      "execution_count": null,
      "metadata": {
        "colab": {
          "base_uri": "https://localhost:8080/"
        },
        "id": "sVZraLaSOR3-",
        "outputId": "fc02731c-ba31-47e5-c031-c8e7a7cb12b3"
      },
      "outputs": [
        {
          "name": "stdout",
          "output_type": "stream",
          "text": [
            "Accuracy: 0.9444705146253715\n",
            "F1 Score: 0.5383615084525357\n",
            "[[5831  114]\n",
            " [ 241  207]]\n"
          ]
        }
      ],
      "source": [
        "y_pred = model.predict(X_test).ravel()\n",
        "y_pred = [1 if x >= 0.5 else 0 for x in y_pred]\n",
        "print(f'Accuracy: {accuracy_score(y_true=y_test, y_pred=y_pred)}')\n",
        "print(f'F1 Score: {f1_score(y_true=y_test, y_pred=y_pred)}')\n",
        "print(confusion_matrix(y_true=y_test, y_pred=y_pred))"
      ]
    },
    {
      "cell_type": "markdown",
      "metadata": {
        "id": "chuT6-KkOR3-"
      },
      "source": [
        "# Task for the lecture\n",
        " - Try to create your own architecture\n",
        " - Experiment a little - try different batch sizes, optimimizers, time lags as features, etc\n",
        " - Send me a link to the Colab notebook with results and description of what you did and your final solution!\n",
        " \n",
        "# There is a competition for bonus points this week!\n",
        "- Everyone who will send me a correct solution will be included in the F1 - Score toplist\n",
        "- Deadline for the competition submission is Monday 14th at 23:59\n",
        "- The toplist will be publicly available on Wednesday\n",
        "- There is no limitation in used layers (LSTM, CNN, ...), optimizers, etc. \n",
        "- You can use any model architecture from the internet including transfer learning,\n",
        "- The only limitation is that the model has to be trained/fine-tuned on Colab/Kaggle/Your machine so online sentiment scoring services are forbidden!\n",
        "\n",
        "## The winner with the best F1 - Score on test set will be awarded with 5 bonus points\n",
        "- The test set is the same as we used in the lecture"
      ]
    },
    {
      "cell_type": "markdown",
      "metadata": {
        "id": "CBLg9rHKQuq0"
      },
      "source": [
        "# Task for the lecture"
      ]
    },
    {
      "cell_type": "markdown",
      "metadata": {
        "id": "G1lKG36aQ1WN"
      },
      "source": [
        "## Trainable glove"
      ]
    },
    {
      "cell_type": "code",
      "execution_count": null,
      "metadata": {
        "colab": {
          "base_uri": "https://localhost:8080/",
          "height": 1000
        },
        "id": "HEVds-nzQ8WU",
        "outputId": "c22adac6-206c-4e1d-bd66-ccc00a8869de"
      },
      "outputs": [
        {
          "name": "stdout",
          "output_type": "stream",
          "text": [
            "WARNING:tensorflow:Layer lstm_2 will not use cuDNN kernels since it doesn't meet the criteria. It will use a generic GPU kernel as fallback when running on GPU.\n",
            "WARNING:tensorflow:Layer gru_2 will not use cuDNN kernels since it doesn't meet the criteria. It will use a generic GPU kernel as fallback when running on GPU.\n",
            "Model: \"model_2\"\n",
            "_________________________________________________________________\n",
            " Layer (type)                Output Shape              Param #   \n",
            "=================================================================\n",
            " input_1 (InputLayer)        [(None, 1)]               0         \n",
            "                                                                 \n",
            " text_vectorization_1 (TextV  (None, 20)               0         \n",
            " ectorization)                                                   \n",
            "                                                                 \n",
            " embedding_2 (Embedding)     (None, 20, 50)            500100    \n",
            "                                                                 \n",
            " lstm_2 (LSTM)               (None, 20, 64)            29440     \n",
            "                                                                 \n",
            " gru_2 (GRU)                 (None, 64)                24960     \n",
            "                                                                 \n",
            " flatten_2 (Flatten)         (None, 64)                0         \n",
            "                                                                 \n",
            " dense_6 (Dense)             (None, 64)                4160      \n",
            "                                                                 \n",
            " dense_7 (Dense)             (None, 32)                2080      \n",
            "                                                                 \n",
            " dropout_2 (Dropout)         (None, 32)                0         \n",
            "                                                                 \n",
            " dense_8 (Dense)             (None, 1)                 33        \n",
            "                                                                 \n",
            "=================================================================\n",
            "Total params: 560,773\n",
            "Trainable params: 560,773\n",
            "Non-trainable params: 0\n",
            "_________________________________________________________________\n",
            "Epoch 1/5\n",
            "180/180 [==============================] - 32s 157ms/step - loss: 0.2137 - accuracy: 0.9319 - val_loss: 0.1526 - val_accuracy: 0.9445\n",
            "Epoch 2/5\n",
            "180/180 [==============================] - 28s 154ms/step - loss: 0.1543 - accuracy: 0.9456 - val_loss: 0.1417 - val_accuracy: 0.9511\n",
            "Epoch 3/5\n",
            "180/180 [==============================] - 28s 156ms/step - loss: 0.1335 - accuracy: 0.9519 - val_loss: 0.1307 - val_accuracy: 0.9554\n",
            "Epoch 4/5\n",
            "180/180 [==============================] - 28s 153ms/step - loss: 0.1167 - accuracy: 0.9588 - val_loss: 0.1162 - val_accuracy: 0.9589\n",
            "Epoch 5/5\n",
            "180/180 [==============================] - 28s 154ms/step - loss: 0.1034 - accuracy: 0.9622 - val_loss: 0.1122 - val_accuracy: 0.9609\n",
            "Accuracy: 0.9558892538714219\n",
            "F1 Score: 0.643939393939394\n",
            "[[5856   89]\n",
            " [ 193  255]]\n"
          ]
        },
        {
          "data": {
            "image/png": "[encoded data removed]",
            "text/plain": [
              "<Figure size 432x288 with 1 Axes>"
            ]
          },
          "metadata": {},
          "output_type": "display_data"
        }
      ],
      "source": [
        "show_historyyer = keras.layers.Input(shape=(1,), dtype=tf_string)\n",
        "x_v = vect_layer(input_layer)\n",
        "emb = keras.layers.Embedding(num_tokens, embedding_dim, embeddings_initializer=keras.initializers.Constant(embedding_matrix), trainable=True)(x_v)\n",
        "x = LSTM(64, activation='relu', return_sequences=True)(emb)\n",
        "x = GRU(64, activation='relu', return_sequences=False)(x)\n",
        "x = keras.layers.Flatten()(x)\n",
        "x = keras.layers.Dense(64, 'relu')(x)\n",
        "x = keras.layers.Dense(32, 'relu')(x)\n",
        "x = keras.layers.Dropout(0.2)(x)\n",
        "output_layer = keras.layers.Dense(1, 'sigmoid')(x)\n",
        "\n",
        "model = keras.Model(input_layer, output_layer)\n",
        "model.summary()\n",
        "\n",
        "model.compile(optimizer='rmsprop', loss=keras.losses.BinaryCrossentropy(), metrics=['accuracy'])\n",
        "\n",
        "es = keras.callbacks.EarlyStopping(monitor='val_loss', min_delta=0, patience=70, restore_best_weights=True)\n",
        "\n",
        "batch_size = 128\n",
        "epochs = 5\n",
        "history = model.fit(X_train.values, y_train.values, validation_data=(X_valid.values, y_valid.values), callbacks=[es], epochs=epochs, batch_size=batch_size)\n",
        "\n",
        "show_history(history)\n",
        "\n",
        "y_pred = model.predict(X_test).ravel()\n",
        "y_pred = [1 if x >= 0.5 else 0 for x in y_pred]\n",
        "print(f'Accuracy: {accuracy_score(y_true=y_test, y_pred=y_pred)}')\n",
        "print(f'F1 Score: {f1_score(y_true=y_test, y_pred=y_pred)}')\n",
        "print(confusion_matrix(y_true=y_test, y_pred=y_pred))"
      ]
    },
    {
      "cell_type": "markdown",
      "metadata": {
        "id": "eowlPY6hSyC6"
      },
      "source": [
        "# Porovnání vyšlo\n",
        "\n",
        "- Učení ...0.5909943714821764\n",
        "- Neučení ... 0.5351351351351351"
      ]
    },
    {
      "cell_type": "markdown",
      "metadata": {
        "id": "TMpChd67Q3mM"
      },
      "source": [
        "## Different embedding size"
      ]
    },
    {
      "cell_type": "code",
      "execution_count": null,
      "metadata": {
        "id": "mg3M1K8zRUgs"
      },
      "outputs": [],
      "source": [
        "from_embedding_size = 30\n",
        "to_embedding_size = 200\n",
        "step = 20\n",
        "res = {}"
      ]
    },
    {
      "cell_type": "code",
      "execution_count": null,
      "metadata": {
        "colab": {
          "base_uri": "https://localhost:8080/"
        },
        "id": "g3eXWEetQ8po",
        "outputId": "5e60c0a5-0501-4751-fe1e-5ad839a09ce9"
      },
      "outputs": [
        {
          "name": "stdout",
          "output_type": "stream",
          "text": [
            "WARNING:tensorflow:Layer lstm_3 will not use cuDNN kernels since it doesn't meet the criteria. It will use a generic GPU kernel as fallback when running on GPU.\n",
            "WARNING:tensorflow:Layer gru_3 will not use cuDNN kernels since it doesn't meet the criteria. It will use a generic GPU kernel as fallback when running on GPU.\n",
            "Model: \"model_3\"\n",
            "_________________________________________________________________\n",
            " Layer (type)                Output Shape              Param #   \n",
            "=================================================================\n",
            " input_4 (InputLayer)        [(None, 1)]               0         \n",
            "                                                                 \n",
            " text_vectorization_1 (TextV  (None, 20)               0         \n",
            " ectorization)                                                   \n",
            "                                                                 \n",
            " embedding_3 (Embedding)     (None, 20, 30)            300000    \n",
            "                                                                 \n",
            " lstm_3 (LSTM)               (None, 20, 64)            24320     \n",
            "                                                                 \n",
            " gru_3 (GRU)                 (None, 20, 64)            24960     \n",
            "                                                                 \n",
            " flatten_3 (Flatten)         (None, 1280)              0         \n",
            "                                                                 \n",
            " dense_9 (Dense)             (None, 64)                81984     \n",
            "                                                                 \n",
            " dense_10 (Dense)            (None, 32)                2080      \n",
            "                                                                 \n",
            " dropout_3 (Dropout)         (None, 32)                0         \n",
            "                                                                 \n",
            " dense_11 (Dense)            (None, 1)                 33        \n",
            "                                                                 \n",
            "=================================================================\n",
            "Total params: 433,377\n",
            "Trainable params: 433,377\n",
            "Non-trainable params: 0\n",
            "_________________________________________________________________\n",
            "Epoch 1/5\n",
            "180/180 [==============================] - 32s 157ms/step - loss: 0.2099 - accuracy: 0.9351 - val_loss: 0.1366 - val_accuracy: 0.9539\n",
            "Epoch 2/5\n",
            "180/180 [==============================] - 28s 153ms/step - loss: 0.1212 - accuracy: 0.9603 - val_loss: 0.1120 - val_accuracy: 0.9648\n",
            "Epoch 3/5\n",
            "180/180 [==============================] - 28s 156ms/step - loss: 0.0983 - accuracy: 0.9681 - val_loss: 0.1050 - val_accuracy: 0.9644\n",
            "Epoch 4/5\n",
            "180/180 [==============================] - 29s 159ms/step - loss: 0.0868 - accuracy: 0.9720 - val_loss: 0.1187 - val_accuracy: 0.9664\n",
            "Epoch 5/5\n",
            "180/180 [==============================] - 29s 159ms/step - loss: 0.0788 - accuracy: 0.9742 - val_loss: 0.1044 - val_accuracy: 0.9671\n",
            "WARNING:tensorflow:Layer lstm_4 will not use cuDNN kernels since it doesn't meet the criteria. It will use a generic GPU kernel as fallback when running on GPU.\n",
            "WARNING:tensorflow:Layer gru_4 will not use cuDNN kernels since it doesn't meet the criteria. It will use a generic GPU kernel as fallback when running on GPU.\n",
            "Model: \"model_4\"\n",
            "_________________________________________________________________\n",
            " Layer (type)                Output Shape              Param #   \n",
            "=================================================================\n",
            " input_5 (InputLayer)        [(None, 1)]               0         \n",
            "                                                                 \n",
            " text_vectorization_1 (TextV  (None, 20)               0         \n",
            " ectorization)                                                   \n",
            "                                                                 \n",
            " embedding_4 (Embedding)     (None, 20, 50)            500000    \n",
            "                                                                 \n",
            " lstm_4 (LSTM)               (None, 20, 64)            29440     \n",
            "                                                                 \n",
            " gru_4 (GRU)                 (None, 20, 64)            24960     \n",
            "                                                                 \n",
            " flatten_4 (Flatten)         (None, 1280)              0         \n",
            "                                                                 \n",
            " dense_12 (Dense)            (None, 64)                81984     \n",
            "                                                                 \n",
            " dense_13 (Dense)            (None, 32)                2080      \n",
            "                                                                 \n",
            " dropout_4 (Dropout)         (None, 32)                0         \n",
            "                                                                 \n",
            " dense_14 (Dense)            (None, 1)                 33        \n",
            "                                                                 \n",
            "=================================================================\n",
            "Total params: 638,497\n",
            "Trainable params: 638,497\n",
            "Non-trainable params: 0\n",
            "_________________________________________________________________\n",
            "Epoch 1/5\n",
            "180/180 [==============================] - 32s 158ms/step - loss: 0.2040 - accuracy: 0.9323 - val_loss: 0.1271 - val_accuracy: 0.9570\n",
            "Epoch 2/5\n",
            "180/180 [==============================] - 28s 154ms/step - loss: 0.1192 - accuracy: 0.9614 - val_loss: 0.1142 - val_accuracy: 0.9632\n",
            "Epoch 3/5\n",
            "180/180 [==============================] - 28s 156ms/step - loss: 0.0959 - accuracy: 0.9682 - val_loss: 0.1092 - val_accuracy: 0.9656\n",
            "Epoch 4/5\n",
            "180/180 [==============================] - 28s 154ms/step - loss: 0.0861 - accuracy: 0.9726 - val_loss: 0.1050 - val_accuracy: 0.9660\n",
            "Epoch 5/5\n",
            "180/180 [==============================] - 36s 203ms/step - loss: 0.0754 - accuracy: 0.9758 - val_loss: 0.1086 - val_accuracy: 0.9656\n",
            "WARNING:tensorflow:Layer lstm_5 will not use cuDNN kernels since it doesn't meet the criteria. It will use a generic GPU kernel as fallback when running on GPU.\n",
            "WARNING:tensorflow:Layer gru_5 will not use cuDNN kernels since it doesn't meet the criteria. It will use a generic GPU kernel as fallback when running on GPU.\n",
            "Model: \"model_5\"\n",
            "_________________________________________________________________\n",
            " Layer (type)                Output Shape              Param #   \n",
            "=================================================================\n",
            " input_6 (InputLayer)        [(None, 1)]               0         \n",
            "                                                                 \n",
            " text_vectorization_1 (TextV  (None, 20)               0         \n",
            " ectorization)                                                   \n",
            "                                                                 \n",
            " embedding_5 (Embedding)     (None, 20, 70)            700000    \n",
            "                                                                 \n",
            " lstm_5 (LSTM)               (None, 20, 64)            34560     \n",
            "                                                                 \n",
            " gru_5 (GRU)                 (None, 20, 64)            24960     \n",
            "                                                                 \n",
            " flatten_5 (Flatten)         (None, 1280)              0         \n",
            "                                                                 \n",
            " dense_15 (Dense)            (None, 64)                81984     \n",
            "                                                                 \n",
            " dense_16 (Dense)            (None, 32)                2080      \n",
            "                                                                 \n",
            " dropout_5 (Dropout)         (None, 32)                0         \n",
            "                                                                 \n",
            " dense_17 (Dense)            (None, 1)                 33        \n",
            "                                                                 \n",
            "=================================================================\n",
            "Total params: 843,617\n",
            "Trainable params: 843,617\n",
            "Non-trainable params: 0\n",
            "_________________________________________________________________\n",
            "Epoch 1/5\n",
            "180/180 [==============================] - 35s 173ms/step - loss: 0.1944 - accuracy: 0.9363 - val_loss: 0.1196 - val_accuracy: 0.9605\n",
            "Epoch 2/5\n",
            "180/180 [==============================] - 31s 170ms/step - loss: 0.1092 - accuracy: 0.9641 - val_loss: 0.1210 - val_accuracy: 0.9613\n",
            "Epoch 3/5\n",
            "180/180 [==============================] - 36s 201ms/step - loss: 0.0915 - accuracy: 0.9714 - val_loss: 0.1060 - val_accuracy: 0.9652\n",
            "Epoch 4/5\n",
            "180/180 [==============================] - 31s 170ms/step - loss: 0.0791 - accuracy: 0.9748 - val_loss: 0.1069 - val_accuracy: 0.9660\n",
            "Epoch 5/5\n",
            "180/180 [==============================] - 31s 170ms/step - loss: 0.0727 - accuracy: 0.9761 - val_loss: 0.1444 - val_accuracy: 0.9523\n",
            "WARNING:tensorflow:Layer lstm_6 will not use cuDNN kernels since it doesn't meet the criteria. It will use a generic GPU kernel as fallback when running on GPU.\n",
            "WARNING:tensorflow:Layer gru_6 will not use cuDNN kernels since it doesn't meet the criteria. It will use a generic GPU kernel as fallback when running on GPU.\n",
            "Model: \"model_6\"\n",
            "_________________________________________________________________\n",
            " Layer (type)                Output Shape              Param #   \n",
            "=================================================================\n",
            " input_7 (InputLayer)        [(None, 1)]               0         \n",
            "                                                                 \n",
            " text_vectorization_1 (TextV  (None, 20)               0         \n",
            " ectorization)                                                   \n",
            "                                                                 \n",
            " embedding_6 (Embedding)     (None, 20, 90)            900000    \n",
            "                                                                 \n",
            " lstm_6 (LSTM)               (None, 20, 64)            39680     \n",
            "                                                                 \n",
            " gru_6 (GRU)                 (None, 20, 64)            24960     \n",
            "                                                                 \n",
            " flatten_6 (Flatten)         (None, 1280)              0         \n",
            "                                                                 \n",
            " dense_18 (Dense)            (None, 64)                81984     \n",
            "                                                                 \n",
            " dense_19 (Dense)            (None, 32)                2080      \n",
            "                                                                 \n",
            " dropout_6 (Dropout)         (None, 32)                0         \n",
            "                                                                 \n",
            " dense_20 (Dense)            (None, 1)                 33        \n",
            "                                                                 \n",
            "=================================================================\n",
            "Total params: 1,048,737\n",
            "Trainable params: 1,048,737\n",
            "Non-trainable params: 0\n",
            "_________________________________________________________________\n",
            "Epoch 1/5\n",
            "180/180 [==============================] - 36s 176ms/step - loss: 0.1997 - accuracy: 0.9370 - val_loss: 0.1456 - val_accuracy: 0.9578\n",
            "Epoch 2/5\n",
            "180/180 [==============================] - 30s 165ms/step - loss: 0.1150 - accuracy: 0.9620 - val_loss: 0.1130 - val_accuracy: 0.9609\n",
            "Epoch 3/5\n",
            "180/180 [==============================] - 30s 165ms/step - loss: 0.0921 - accuracy: 0.9703 - val_loss: 0.1165 - val_accuracy: 0.9648\n",
            "Epoch 4/5\n",
            "180/180 [==============================] - 30s 164ms/step - loss: 0.0805 - accuracy: 0.9731 - val_loss: 0.1039 - val_accuracy: 0.9660\n",
            "Epoch 5/5\n",
            "180/180 [==============================] - 30s 166ms/step - loss: 0.0756 - accuracy: 0.9754 - val_loss: 0.1154 - val_accuracy: 0.9664\n",
            "WARNING:tensorflow:Layer lstm_7 will not use cuDNN kernels since it doesn't meet the criteria. It will use a generic GPU kernel as fallback when running on GPU.\n",
            "WARNING:tensorflow:Layer gru_7 will not use cuDNN kernels since it doesn't meet the criteria. It will use a generic GPU kernel as fallback when running on GPU.\n",
            "Model: \"model_7\"\n",
            "_________________________________________________________________\n",
            " Layer (type)                Output Shape              Param #   \n",
            "=================================================================\n",
            " input_8 (InputLayer)        [(None, 1)]               0         \n",
            "                                                                 \n",
            " text_vectorization_1 (TextV  (None, 20)               0         \n",
            " ectorization)                                                   \n",
            "                                                                 \n",
            " embedding_7 (Embedding)     (None, 20, 110)           1100000   \n",
            "                                                                 \n",
            " lstm_7 (LSTM)               (None, 20, 64)            44800     \n",
            "                                                                 \n",
            " gru_7 (GRU)                 (None, 20, 64)            24960     \n",
            "                                                                 \n",
            " flatten_7 (Flatten)         (None, 1280)              0         \n",
            "                                                                 \n",
            " dense_21 (Dense)            (None, 64)                81984     \n",
            "                                                                 \n",
            " dense_22 (Dense)            (None, 32)                2080      \n",
            "                                                                 \n",
            " dropout_7 (Dropout)         (None, 32)                0         \n",
            "                                                                 \n",
            " dense_23 (Dense)            (None, 1)                 33        \n",
            "                                                                 \n",
            "=================================================================\n",
            "Total params: 1,253,857\n",
            "Trainable params: 1,253,857\n",
            "Non-trainable params: 0\n",
            "_________________________________________________________________\n",
            "Epoch 1/5\n",
            "180/180 [==============================] - 34s 168ms/step - loss: 0.1883 - accuracy: 0.9415 - val_loss: 0.1188 - val_accuracy: 0.9585\n",
            "Epoch 2/5\n",
            "180/180 [==============================] - 29s 160ms/step - loss: 0.1083 - accuracy: 0.9648 - val_loss: 0.1246 - val_accuracy: 0.9636\n",
            "Epoch 3/5\n",
            "180/180 [==============================] - 28s 153ms/step - loss: 0.0890 - accuracy: 0.9711 - val_loss: 0.1088 - val_accuracy: 0.9668\n",
            "Epoch 4/5\n",
            "180/180 [==============================] - 28s 154ms/step - loss: 0.0775 - accuracy: 0.9748 - val_loss: 0.1040 - val_accuracy: 0.9668\n",
            "Epoch 5/5\n",
            "180/180 [==============================] - 28s 154ms/step - loss: 0.0710 - accuracy: 0.9776 - val_loss: 0.1108 - val_accuracy: 0.9648\n",
            "WARNING:tensorflow:Layer lstm_8 will not use cuDNN kernels since it doesn't meet the criteria. It will use a generic GPU kernel as fallback when running on GPU.\n",
            "WARNING:tensorflow:Layer gru_8 will not use cuDNN kernels since it doesn't meet the criteria. It will use a generic GPU kernel as fallback when running on GPU.\n",
            "Model: \"model_8\"\n",
            "_________________________________________________________________\n",
            " Layer (type)                Output Shape              Param #   \n",
            "=================================================================\n",
            " input_9 (InputLayer)        [(None, 1)]               0         \n",
            "                                                                 \n",
            " text_vectorization_1 (TextV  (None, 20)               0         \n",
            " ectorization)                                                   \n",
            "                                                                 \n",
            " embedding_8 (Embedding)     (None, 20, 130)           1300000   \n",
            "                                                                 \n",
            " lstm_8 (LSTM)               (None, 20, 64)            49920     \n",
            "                                                                 \n",
            " gru_8 (GRU)                 (None, 20, 64)            24960     \n",
            "                                                                 \n",
            " flatten_8 (Flatten)         (None, 1280)              0         \n",
            "                                                                 \n",
            " dense_24 (Dense)            (None, 64)                81984     \n",
            "                                                                 \n",
            " dense_25 (Dense)            (None, 32)                2080      \n",
            "                                                                 \n",
            " dropout_8 (Dropout)         (None, 32)                0         \n",
            "                                                                 \n",
            " dense_26 (Dense)            (None, 1)                 33        \n",
            "                                                                 \n",
            "=================================================================\n",
            "Total params: 1,458,977\n",
            "Trainable params: 1,458,977\n",
            "Non-trainable params: 0\n",
            "_________________________________________________________________\n",
            "Epoch 1/5\n",
            "180/180 [==============================] - 33s 164ms/step - loss: 0.1910 - accuracy: 0.9378 - val_loss: 0.4213 - val_accuracy: 0.7876\n",
            "Epoch 2/5\n",
            "180/180 [==============================] - 30s 169ms/step - loss: 0.1109 - accuracy: 0.9631 - val_loss: 0.1125 - val_accuracy: 0.9625\n",
            "Epoch 3/5\n",
            "180/180 [==============================] - 30s 166ms/step - loss: 0.0896 - accuracy: 0.9712 - val_loss: 0.1085 - val_accuracy: 0.9660\n",
            "Epoch 4/5\n",
            "180/180 [==============================] - 29s 164ms/step - loss: 0.0774 - accuracy: 0.9751 - val_loss: 0.1062 - val_accuracy: 0.9652\n",
            "Epoch 5/5\n",
            "180/180 [==============================] - 28s 155ms/step - loss: 0.0696 - accuracy: 0.9775 - val_loss: 0.1076 - val_accuracy: 0.9660\n",
            "WARNING:tensorflow:Layer lstm_9 will not use cuDNN kernels since it doesn't meet the criteria. It will use a generic GPU kernel as fallback when running on GPU.\n",
            "WARNING:tensorflow:Layer gru_9 will not use cuDNN kernels since it doesn't meet the criteria. It will use a generic GPU kernel as fallback when running on GPU.\n",
            "Model: \"model_9\"\n",
            "_________________________________________________________________\n",
            " Layer (type)                Output Shape              Param #   \n",
            "=================================================================\n",
            " input_10 (InputLayer)       [(None, 1)]               0         \n",
            "                                                                 \n",
            " text_vectorization_1 (TextV  (None, 20)               0         \n",
            " ectorization)                                                   \n",
            "                                                                 \n",
            " embedding_9 (Embedding)     (None, 20, 150)           1500000   \n",
            "                                                                 \n",
            " lstm_9 (LSTM)               (None, 20, 64)            55040     \n",
            "                                                                 \n",
            " gru_9 (GRU)                 (None, 20, 64)            24960     \n",
            "                                                                 \n",
            " flatten_9 (Flatten)         (None, 1280)              0         \n",
            "                                                                 \n",
            " dense_27 (Dense)            (None, 64)                81984     \n",
            "                                                                 \n",
            " dense_28 (Dense)            (None, 32)                2080      \n",
            "                                                                 \n",
            " dropout_9 (Dropout)         (None, 32)                0         \n",
            "                                                                 \n",
            " dense_29 (Dense)            (None, 1)                 33        \n",
            "                                                                 \n",
            "=================================================================\n",
            "Total params: 1,664,097\n",
            "Trainable params: 1,664,097\n",
            "Non-trainable params: 0\n",
            "_________________________________________________________________\n",
            "Epoch 1/5\n",
            "180/180 [==============================] - 33s 157ms/step - loss: 0.1891 - accuracy: 0.9404 - val_loss: 0.1262 - val_accuracy: 0.9570\n",
            "Epoch 2/5\n",
            "180/180 [==============================] - 30s 165ms/step - loss: 0.1105 - accuracy: 0.9638 - val_loss: 0.1073 - val_accuracy: 0.9648\n",
            "Epoch 3/5\n",
            "180/180 [==============================] - 28s 158ms/step - loss: 0.0879 - accuracy: 0.9713 - val_loss: 0.1166 - val_accuracy: 0.9605\n",
            "Epoch 4/5\n",
            "180/180 [==============================] - 31s 171ms/step - loss: 0.0774 - accuracy: 0.9744 - val_loss: 0.1232 - val_accuracy: 0.9671\n",
            "Epoch 5/5\n",
            "180/180 [==============================] - 30s 167ms/step - loss: 0.0688 - accuracy: 0.9785 - val_loss: 0.1368 - val_accuracy: 0.9660\n",
            "WARNING:tensorflow:Layer lstm_10 will not use cuDNN kernels since it doesn't meet the criteria. It will use a generic GPU kernel as fallback when running on GPU.\n",
            "WARNING:tensorflow:Layer gru_10 will not use cuDNN kernels since it doesn't meet the criteria. It will use a generic GPU kernel as fallback when running on GPU.\n",
            "Model: \"model_10\"\n",
            "_________________________________________________________________\n",
            " Layer (type)                Output Shape              Param #   \n",
            "=================================================================\n",
            " input_11 (InputLayer)       [(None, 1)]               0         \n",
            "                                                                 \n",
            " text_vectorization_1 (TextV  (None, 20)               0         \n",
            " ectorization)                                                   \n",
            "                                                                 \n",
            " embedding_10 (Embedding)    (None, 20, 170)           1700000   \n",
            "                                                                 \n",
            " lstm_10 (LSTM)              (None, 20, 64)            60160     \n",
            "                                                                 \n",
            " gru_10 (GRU)                (None, 20, 64)            24960     \n",
            "                                                                 \n",
            " flatten_10 (Flatten)        (None, 1280)              0         \n",
            "                                                                 \n",
            " dense_30 (Dense)            (None, 64)                81984     \n",
            "                                                                 \n",
            " dense_31 (Dense)            (None, 32)                2080      \n",
            "                                                                 \n",
            " dropout_10 (Dropout)        (None, 32)                0         \n",
            "                                                                 \n",
            " dense_32 (Dense)            (None, 1)                 33        \n",
            "                                                                 \n",
            "=================================================================\n",
            "Total params: 1,869,217\n",
            "Trainable params: 1,869,217\n",
            "Non-trainable params: 0\n",
            "_________________________________________________________________\n",
            "Epoch 1/5\n",
            "180/180 [==============================] - 35s 174ms/step - loss: 0.1852 - accuracy: 0.9426 - val_loss: 0.1166 - val_accuracy: 0.9589\n",
            "Epoch 2/5\n",
            "180/180 [==============================] - 35s 197ms/step - loss: 0.1064 - accuracy: 0.9648 - val_loss: 0.1111 - val_accuracy: 0.9636\n",
            "Epoch 3/5\n",
            "180/180 [==============================] - 31s 174ms/step - loss: 0.0868 - accuracy: 0.9715 - val_loss: 0.1039 - val_accuracy: 0.9664\n",
            "Epoch 4/5\n",
            "180/180 [==============================] - 39s 217ms/step - loss: 0.0779 - accuracy: 0.9749 - val_loss: 0.1041 - val_accuracy: 0.9660\n",
            "Epoch 5/5\n",
            "180/180 [==============================] - 30s 168ms/step - loss: 0.0680 - accuracy: 0.9787 - val_loss: 0.1126 - val_accuracy: 0.9640\n",
            "WARNING:tensorflow:Layer lstm_11 will not use cuDNN kernels since it doesn't meet the criteria. It will use a generic GPU kernel as fallback when running on GPU.\n",
            "WARNING:tensorflow:Layer gru_11 will not use cuDNN kernels since it doesn't meet the criteria. It will use a generic GPU kernel as fallback when running on GPU.\n",
            "Model: \"model_11\"\n",
            "_________________________________________________________________\n",
            " Layer (type)                Output Shape              Param #   \n",
            "=================================================================\n",
            " input_12 (InputLayer)       [(None, 1)]               0         \n",
            "                                                                 \n",
            " text_vectorization_1 (TextV  (None, 20)               0         \n",
            " ectorization)                                                   \n",
            "                                                                 \n",
            " embedding_11 (Embedding)    (None, 20, 190)           1900000   \n",
            "                                                                 \n",
            " lstm_11 (LSTM)              (None, 20, 64)            65280     \n",
            "                                                                 \n",
            " gru_11 (GRU)                (None, 20, 64)            24960     \n",
            "                                                                 \n",
            " flatten_11 (Flatten)        (None, 1280)              0         \n",
            "                                                                 \n",
            " dense_33 (Dense)            (None, 64)                81984     \n",
            "                                                                 \n",
            " dense_34 (Dense)            (None, 32)                2080      \n",
            "                                                                 \n",
            " dropout_11 (Dropout)        (None, 32)                0         \n",
            "                                                                 \n",
            " dense_35 (Dense)            (None, 1)                 33        \n",
            "                                                                 \n",
            "=================================================================\n",
            "Total params: 2,074,337\n",
            "Trainable params: 2,074,337\n",
            "Non-trainable params: 0\n",
            "_________________________________________________________________\n",
            "Epoch 1/5\n",
            "180/180 [==============================] - 35s 173ms/step - loss: 0.1960 - accuracy: 0.9379 - val_loss: 0.1185 - val_accuracy: 0.9570\n",
            "Epoch 2/5\n",
            "180/180 [==============================] - 29s 160ms/step - loss: 0.1095 - accuracy: 0.9634 - val_loss: 0.1220 - val_accuracy: 0.9632\n",
            "Epoch 3/5\n",
            "180/180 [==============================] - 30s 164ms/step - loss: 0.0882 - accuracy: 0.9716 - val_loss: 0.1264 - val_accuracy: 0.9660\n",
            "Epoch 4/5\n",
            "180/180 [==============================] - 29s 161ms/step - loss: 0.0776 - accuracy: 0.9751 - val_loss: 0.1196 - val_accuracy: 0.9679\n",
            "Epoch 5/5\n",
            "180/180 [==============================] - 31s 170ms/step - loss: 0.0699 - accuracy: 0.9780 - val_loss: 0.1241 - val_accuracy: 0.9585\n"
          ]
        }
      ],
      "source": [
        "for embedding_dim in range(from_embedding_size, to_embedding_size, step):\n",
        "  input_layer = keras.layers.Input(shape=(1,), dtype=tf_string)\n",
        "  x_v = vect_layer(input_layer)\n",
        "  emb = keras.layers.Embedding(vocab_size, embedding_dim)(x_v)\n",
        "  x = LSTM(64, activation='relu', return_sequences=True)(emb)\n",
        "  x = GRU(64, activation='relu', return_sequences=True)(x)\n",
        "  x = keras.layers.Flatten()(x)\n",
        "  x = keras.layers.Dense(64, 'relu')(x)\n",
        "  x = keras.layers.Dense(32, 'relu')(x)\n",
        "  x = keras.layers.Dropout(0.2)(x)\n",
        "  output_layer = keras.layers.Dense(1, 'sigmoid')(x)\n",
        "\n",
        "  model = keras.Model(input_layer, output_layer)\n",
        "  model.summary()\n",
        "\n",
        "  model.compile(optimizer='rmsprop', loss=keras.losses.BinaryCrossentropy(), metrics=['accuracy'])\n",
        "\n",
        "  es = keras.callbacks.EarlyStopping(monitor='val_loss', min_delta=0, patience=70, restore_best_weights=True)\n",
        "\n",
        "  batch_size = 128\n",
        "  epochs = 5\n",
        "  history = model.fit(X_train.values, y_train.values, validation_data=(X_valid.values, y_valid.values), callbacks=[es], epochs=epochs, batch_size=batch_size)\n",
        "\n",
        "  y_pred = model.predict(X_test).ravel()\n",
        "  y_pred = [1 if x >= 0.5 else 0 for x in y_pred]\n",
        "\n",
        "  f1 = f1_score(y_true=y_test, y_pred=y_pred)\n",
        "\n",
        "  res[embedding_dim] = f1"
      ]
    },
    {
      "cell_type": "code",
      "execution_count": null,
      "metadata": {
        "id": "zshwnhNeSe8H"
      },
      "outputs": [],
      "source": [
        "df_res = pd.DataFrame.from_dict(res, orient='index')\n",
        "df_res.columns = ['f1']\n",
        "df_res['emb_size'] = df_res.index"
      ]
    },
    {
      "cell_type": "code",
      "execution_count": null,
      "metadata": {
        "colab": {
          "base_uri": "https://localhost:8080/",
          "height": 298
        },
        "id": "hmyAebfyljXo",
        "outputId": "887195ef-3baa-497c-92dd-13bcaacf6628"
      },
      "outputs": [
        {
          "data": {
            "text/plain": [
              "<matplotlib.axes._subplots.AxesSubplot at 0x7f05c4598910>"
            ]
          },
          "execution_count": 80,
          "metadata": {},
          "output_type": "execute_result"
        },
        {
          "data": {
            "image/png": "[encoded data removed]",
            "text/plain": [
              "<Figure size 432x288 with 1 Axes>"
            ]
          },
          "metadata": {},
          "output_type": "display_data"
        }
      ],
      "source": [
        "sns.barplot(x=\"emb_size\", y=\"f1\", data=df_res)"
      ]
    },
    {
      "cell_type": "code",
      "execution_count": null,
      "metadata": {
        "colab": {
          "base_uri": "https://localhost:8080/",
          "height": 206
        },
        "id": "_IhKKmi9Sk_n",
        "outputId": "b6be12f7-f6b2-4428-ac58-9b32b0890522"
      },
      "outputs": [
        {
          "data": {
            "text/html": [
              "\n",
              "  <div id=\"df-1b43b0dc-5f91-4163-82f4-cffb0b343178\">\n",
              "    <div class=\"colab-df-container\">\n",
              "      <div>\n",
              "<style scoped>\n",
              "    .dataframe tbody tr th:only-of-type {\n",
              "        vertical-align: middle;\n",
              "    }\n",
              "\n",
              "    .dataframe tbody tr th {\n",
              "        vertical-align: top;\n",
              "    }\n",
              "\n",
              "    .dataframe thead th {\n",
              "        text-align: right;\n",
              "    }\n",
              "</style>\n",
              "<table border=\"1\" class=\"dataframe\">\n",
              "  <thead>\n",
              "    <tr style=\"text-align: right;\">\n",
              "      <th></th>\n",
              "      <th>f1</th>\n",
              "      <th>emb_size</th>\n",
              "    </tr>\n",
              "  </thead>\n",
              "  <tbody>\n",
              "    <tr>\n",
              "      <th>30</th>\n",
              "      <td>0.682324</td>\n",
              "      <td>30</td>\n",
              "    </tr>\n",
              "    <tr>\n",
              "      <th>50</th>\n",
              "      <td>0.677419</td>\n",
              "      <td>50</td>\n",
              "    </tr>\n",
              "    <tr>\n",
              "      <th>70</th>\n",
              "      <td>0.628968</td>\n",
              "      <td>70</td>\n",
              "    </tr>\n",
              "    <tr>\n",
              "      <th>90</th>\n",
              "      <td>0.666667</td>\n",
              "      <td>90</td>\n",
              "    </tr>\n",
              "    <tr>\n",
              "      <th>110</th>\n",
              "      <td>0.686820</td>\n",
              "      <td>110</td>\n",
              "    </tr>\n",
              "  </tbody>\n",
              "</table>\n",
              "</div>\n",
              "      <button class=\"colab-df-convert\" onclick=\"convertToInteractive('df-1b43b0dc-5f91-4163-82f4-cffb0b343178')\"\n",
              "              title=\"Convert this dataframe to an interactive table.\"\n",
              "              style=\"display:none;\">\n",
              "        \n",
              "  <svg xmlns=\"http://www.w3.org/2000/svg\" height=\"24px\"viewBox=\"0 0 24 24\"\n",
              "       width=\"24px\">\n",
              "    <path d=\"M0 0h24v24H0V0z\" fill=\"none\"/>\n",
              "    <path d=\"M18.56 5.44l.94 2.06.94-2.06 2.06-.94-2.06-.94-.94-2.06-.94 2.06-2.06.94zm-11 1L8.5 8.5l.94-2.06 2.06-.94-2.06-.94L8.5 2.5l-.94 2.06-2.06.94zm10 10l.94 2.06.94-2.06 2.06-.94-2.06-.94-.94-2.06-.94 2.06-2.06.94z\"/><path d=\"M17.41 7.96l-1.37-1.37c-.4-.4-.92-.59-1.43-.59-.52 0-1.04.2-1.43.59L10.3 9.45l-7.72 7.72c-.78.78-.78 2.05 0 2.83L4 21.41c.39.39.9.59 1.41.59.51 0 1.02-.2 1.41-.59l7.78-7.78 2.81-2.81c.8-.78.8-2.07 0-2.86zM5.41 20L4 18.59l7.72-7.72 1.47 1.35L5.41 20z\"/>\n",
              "  </svg>\n",
              "      </button>\n",
              "      \n",
              "  <style>\n",
              "    .colab-df-container {\n",
              "      display:flex;\n",
              "      flex-wrap:wrap;\n",
              "      gap: 12px;\n",
              "    }\n",
              "\n",
              "    .colab-df-convert {\n",
              "      background-color: #E8F0FE;\n",
              "      border: none;\n",
              "      border-radius: 50%;\n",
              "      cursor: pointer;\n",
              "      display: none;\n",
              "      fill: #1967D2;\n",
              "      height: 32px;\n",
              "      padding: 0 0 0 0;\n",
              "      width: 32px;\n",
              "    }\n",
              "\n",
              "    .colab-df-convert:hover {\n",
              "      background-color: #E2EBFA;\n",
              "      box-shadow: 0px 1px 2px rgba(60, 64, 67, 0.3), 0px 1px 3px 1px rgba(60, 64, 67, 0.15);\n",
              "      fill: #174EA6;\n",
              "    }\n",
              "\n",
              "    [theme=dark] .colab-df-convert {\n",
              "      background-color: #3B4455;\n",
              "      fill: #D2E3FC;\n",
              "    }\n",
              "\n",
              "    [theme=dark] .colab-df-convert:hover {\n",
              "      background-color: #434B5C;\n",
              "      box-shadow: 0px 1px 3px 1px rgba(0, 0, 0, 0.15);\n",
              "      filter: drop-shadow(0px 1px 2px rgba(0, 0, 0, 0.3));\n",
              "      fill: #FFFFFF;\n",
              "    }\n",
              "  </style>\n",
              "\n",
              "      <script>\n",
              "        const buttonEl =\n",
              "          document.querySelector('#df-1b43b0dc-5f91-4163-82f4-cffb0b343178 button.colab-df-convert');\n",
              "        buttonEl.style.display =\n",
              "          google.colab.kernel.accessAllowed ? 'block' : 'none';\n",
              "\n",
              "        async function convertToInteractive(key) {\n",
              "          const element = document.querySelector('#df-1b43b0dc-5f91-4163-82f4-cffb0b343178');\n",
              "          const dataTable =\n",
              "            await google.colab.kernel.invokeFunction('convertToInteractive',\n",
              "                                                     [key], {});\n",
              "          if (!dataTable) return;\n",
              "\n",
              "          const docLinkHtml = 'Like what you see? Visit the ' +\n",
              "            '<a target=\"_blank\" href=https://colab.research.google.com/notebooks/data_table.ipynb>data table notebook</a>'\n",
              "            + ' to learn more about interactive tables.';\n",
              "          element.innerHTML = '';\n",
              "          dataTable['output_type'] = 'display_data';\n",
              "          await google.colab.output.renderOutput(dataTable, element);\n",
              "          const docLink = document.createElement('div');\n",
              "          docLink.innerHTML = docLinkHtml;\n",
              "          element.appendChild(docLink);\n",
              "        }\n",
              "      </script>\n",
              "    </div>\n",
              "  </div>\n",
              "  "
            ],
            "text/plain": [
              "           f1  emb_size\n",
              "30   0.682324        30\n",
              "50   0.677419        50\n",
              "70   0.628968        70\n",
              "90   0.666667        90\n",
              "110  0.686820       110"
            ]
          },
          "execution_count": 79,
          "metadata": {},
          "output_type": "execute_result"
        }
      ],
      "source": [
        "df_res.head()"
      ]
    },
    {
      "cell_type": "code",
      "execution_count": null,
      "metadata": {
        "id": "N0VQZxlPkMfL"
      },
      "outputs": [],
      "source": [
        "df_res.to_csv(\"saved_embeddings.csv\", sep=';')"
      ]
    },
    {
      "cell_type": "markdown",
      "metadata": {
        "id": "xjEzcvEvnzZy"
      },
      "source": [
        "## Different model"
      ]
    },
    {
      "cell_type": "code",
      "execution_count": null,
      "metadata": {
        "colab": {
          "base_uri": "https://localhost:8080/",
          "height": 1000
        },
        "id": "_GKoPDDkn2GS",
        "outputId": "e33c0019-bb3b-4357-ff79-b8a2cd3f019b"
      },
      "outputs": [
        {
          "name": "stdout",
          "output_type": "stream",
          "text": [
            "Model: \"model_12\"\n",
            "_________________________________________________________________\n",
            " Layer (type)                Output Shape              Param #   \n",
            "=================================================================\n",
            " input_12 (InputLayer)       [(None, 1)]               0         \n",
            "                                                                 \n",
            " text_vectorization_1 (TextV  (None, 20)               0         \n",
            " ectorization)                                                   \n",
            "                                                                 \n",
            " embedding_11 (Embedding)    (None, 20, 190)           1900000   \n",
            "                                                                 \n",
            " lstm_11 (LSTM)              (None, 20, 64)            65280     \n",
            "                                                                 \n",
            " gru_11 (GRU)                (None, 20, 64)            24960     \n",
            "                                                                 \n",
            " flatten_11 (Flatten)        (None, 1280)              0         \n",
            "                                                                 \n",
            " dense_33 (Dense)            (None, 64)                81984     \n",
            "                                                                 \n",
            " dense_34 (Dense)            (None, 32)                2080      \n",
            "                                                                 \n",
            " dropout_11 (Dropout)        (None, 32)                0         \n",
            "                                                                 \n",
            " flatten_12 (Flatten)        (None, 32)                0         \n",
            "                                                                 \n",
            " dense_36 (Dense)            (None, 64)                2112      \n",
            "                                                                 \n",
            " dropout_12 (Dropout)        (None, 64)                0         \n",
            "                                                                 \n",
            " dense_37 (Dense)            (None, 128)               8320      \n",
            "                                                                 \n",
            " dropout_13 (Dropout)        (None, 128)               0         \n",
            "                                                                 \n",
            " dense_38 (Dense)            (None, 64)                8256      \n",
            "                                                                 \n",
            " dropout_14 (Dropout)        (None, 64)                0         \n",
            "                                                                 \n",
            " dense_39 (Dense)            (None, 128)               8320      \n",
            "                                                                 \n",
            " dropout_15 (Dropout)        (None, 128)               0         \n",
            "                                                                 \n",
            " dense_40 (Dense)            (None, 1)                 129       \n",
            "                                                                 \n",
            "=================================================================\n",
            "Total params: 2,101,441\n",
            "Trainable params: 2,101,441\n",
            "Non-trainable params: 0\n",
            "_________________________________________________________________\n",
            "Epoch 1/5\n",
            "180/180 [==============================] - 36s 171ms/step - loss: 0.1167 - accuracy: 0.9670 - val_loss: 0.1458 - val_accuracy: 0.9664\n",
            "Epoch 2/5\n",
            "180/180 [==============================] - 30s 164ms/step - loss: 0.0655 - accuracy: 0.9798 - val_loss: 0.1117 - val_accuracy: 0.9660\n",
            "Epoch 3/5\n",
            "180/180 [==============================] - 31s 170ms/step - loss: 0.0554 - accuracy: 0.9832 - val_loss: 0.1197 - val_accuracy: 0.9632\n",
            "Epoch 4/5\n",
            "180/180 [==============================] - 30s 166ms/step - loss: 0.0514 - accuracy: 0.9848 - val_loss: 0.1414 - val_accuracy: 0.9628\n",
            "Epoch 5/5\n",
            "180/180 [==============================] - 30s 168ms/step - loss: 0.0420 - accuracy: 0.9875 - val_loss: 0.1659 - val_accuracy: 0.9589\n",
            "Accuracy: 0.9524479899890506\n",
            "F1 Score: 0.663716814159292\n",
            "[[5789  156]\n",
            " [ 148  300]]\n"
          ]
        },
        {
          "data": {
            "image/png": "[encoded data removed]",
            "text/plain": [
              "<Figure size 432x288 with 1 Axes>"
            ]
          },
          "metadata": {},
          "output_type": "display_data"
        }
      ],
      "source": [
        "show_historyyer = keras.layers.Input(shape=(1,), dtype=tf_string)\n",
        "x_v = vect_layer(input_layer)\n",
        "emb = keras.layers.Embedding(num_tokens, 50)(x_v)\n",
        "x = keras.layers.Flatten()(x)\n",
        "x = keras.layers.Dense(64, 'relu')(x)\n",
        "x = keras.layers.Dropout(0.2)(x)\n",
        "x = keras.layers.Dense(128, 'relu')(x)\n",
        "x = keras.layers.Dropout(0.3)(x)\n",
        "x = keras.layers.Dense(64, 'relu')(x)\n",
        "x = keras.layers.Dropout(0.2)(x)\n",
        "x = keras.layers.Dense(128, 'relu')(x)\n",
        "x = keras.layers.Dropout(0.2)(x)\n",
        "output_layer = keras.layers.Dense(1, 'sigmoid')(x)\n",
        "\n",
        "model = keras.Model(input_layer, output_layer)\n",
        "model.summary()\n",
        "\n",
        "model.compile(optimizer='rmsprop', loss=keras.losses.BinaryCrossentropy(), metrics=['accuracy'])\n",
        "\n",
        "es = keras.callbacks.EarlyStopping(monitor='val_loss', min_delta=0, patience=70, restore_best_weights=True)\n",
        "\n",
        "batch_size = 128\n",
        "epochs = 5\n",
        "history = model.fit(X_train.values, y_train.values, validation_data=(X_valid.values, y_valid.values), callbacks=[es], epochs=epochs, batch_size=batch_size)\n",
        "\n",
        "show_history(history)\n",
        "\n",
        "y_pred = model.predict(X_test).ravel()\n",
        "y_pred = [1 if x >= 0.5 else 0 for x in y_pred]\n",
        "print(f'Accuracy: {accuracy_score(y_true=y_test, y_pred=y_pred)}')\n",
        "print(f'F1 Score: {f1_score(y_true=y_test, y_pred=y_pred)}')\n",
        "print(confusion_matrix(y_true=y_test, y_pred=y_pred))"
      ]
    },
    {
      "cell_type": "markdown",
      "metadata": {
        "id": "yrJN7q0Npf41"
      },
      "source": [
        "- Embedding s RNN - **68 cca**\n",
        "- Embedding s Dense - **66 cca**\n",
        "\n"
      ]
    },
    {
      "cell_type": "markdown",
      "metadata": {
        "id": "ICtoSUkAQyKf"
      },
      "source": [
        "# There is a competition for bonus points this week!\n",
        "\n",
        "- Try to create your own architecture task.."
      ]
    },
    {
      "cell_type": "code",
      "execution_count": 36,
      "metadata": {
        "colab": {
          "base_uri": "https://localhost:8080/"
        },
        "id": "roiYQrxXEEsS",
        "outputId": "587eaa82-8300-48ef-d080-68c5e54ca669"
      },
      "outputs": [
        {
          "output_type": "stream",
          "name": "stdout",
          "text": [
            "Requirement already satisfied: gensim in /usr/local/lib/python3.7/dist-packages (3.6.0)\n",
            "Requirement already satisfied: six>=1.5.0 in /usr/local/lib/python3.7/dist-packages (from gensim) (1.15.0)\n",
            "Requirement already satisfied: smart-open>=1.2.1 in /usr/local/lib/python3.7/dist-packages (from gensim) (5.2.1)\n",
            "Requirement already satisfied: scipy>=0.18.1 in /usr/local/lib/python3.7/dist-packages (from gensim) (1.4.1)\n",
            "Requirement already satisfied: numpy>=1.11.3 in /usr/local/lib/python3.7/dist-packages (from gensim) (1.21.5)\n"
          ]
        }
      ],
      "source": [
        "!pip install gensim"
      ]
    },
    {
      "cell_type": "code",
      "execution_count": 37,
      "metadata": {
        "colab": {
          "base_uri": "https://localhost:8080/"
        },
        "id": "jD5l7fLfQ-Qe",
        "outputId": "c25e7c27-0658-422e-a868-b41115705655"
      },
      "outputs": [
        {
          "output_type": "stream",
          "name": "stdout",
          "text": [
            "Collecting transformers\n",
            "  Downloading transformers-4.17.0-py3-none-any.whl (3.8 MB)\n",
            "\u001b[K     |████████████████████████████████| 3.8 MB 3.9 MB/s \n",
            "\u001b[?25hRequirement already satisfied: packaging>=20.0 in /usr/local/lib/python3.7/dist-packages (from transformers) (21.3)\n",
            "Requirement already satisfied: importlib-metadata in /usr/local/lib/python3.7/dist-packages (from transformers) (4.11.2)\n",
            "Collecting sacremoses\n",
            "  Downloading sacremoses-0.0.47-py2.py3-none-any.whl (895 kB)\n",
            "\u001b[K     |████████████████████████████████| 895 kB 46.5 MB/s \n",
            "\u001b[?25hRequirement already satisfied: numpy>=1.17 in /usr/local/lib/python3.7/dist-packages (from transformers) (1.21.5)\n",
            "Requirement already satisfied: regex!=2019.12.17 in /usr/local/lib/python3.7/dist-packages (from transformers) (2019.12.20)\n",
            "Requirement already satisfied: tqdm>=4.27 in /usr/local/lib/python3.7/dist-packages (from transformers) (4.63.0)\n",
            "Collecting huggingface-hub<1.0,>=0.1.0\n",
            "  Downloading huggingface_hub-0.4.0-py3-none-any.whl (67 kB)\n",
            "\u001b[K     |████████████████████████████████| 67 kB 5.1 MB/s \n",
            "\u001b[?25hRequirement already satisfied: requests in /usr/local/lib/python3.7/dist-packages (from transformers) (2.23.0)\n",
            "Collecting tokenizers!=0.11.3,>=0.11.1\n",
            "  Downloading tokenizers-0.11.6-cp37-cp37m-manylinux_2_12_x86_64.manylinux2010_x86_64.whl (6.5 MB)\n",
            "\u001b[K     |████████████████████████████████| 6.5 MB 25.0 MB/s \n",
            "\u001b[?25hCollecting pyyaml>=5.1\n",
            "  Downloading PyYAML-6.0-cp37-cp37m-manylinux_2_5_x86_64.manylinux1_x86_64.manylinux_2_12_x86_64.manylinux2010_x86_64.whl (596 kB)\n",
            "\u001b[K     |████████████████████████████████| 596 kB 47.6 MB/s \n",
            "\u001b[?25hRequirement already satisfied: filelock in /usr/local/lib/python3.7/dist-packages (from transformers) (3.6.0)\n",
            "Requirement already satisfied: typing-extensions>=3.7.4.3 in /usr/local/lib/python3.7/dist-packages (from huggingface-hub<1.0,>=0.1.0->transformers) (3.10.0.2)\n",
            "Requirement already satisfied: pyparsing!=3.0.5,>=2.0.2 in /usr/local/lib/python3.7/dist-packages (from packaging>=20.0->transformers) (3.0.7)\n",
            "Requirement already satisfied: zipp>=0.5 in /usr/local/lib/python3.7/dist-packages (from importlib-metadata->transformers) (3.7.0)\n",
            "Requirement already satisfied: chardet<4,>=3.0.2 in /usr/local/lib/python3.7/dist-packages (from requests->transformers) (3.0.4)\n",
            "Requirement already satisfied: urllib3!=1.25.0,!=1.25.1,<1.26,>=1.21.1 in /usr/local/lib/python3.7/dist-packages (from requests->transformers) (1.24.3)\n",
            "Requirement already satisfied: idna<3,>=2.5 in /usr/local/lib/python3.7/dist-packages (from requests->transformers) (2.10)\n",
            "Requirement already satisfied: certifi>=2017.4.17 in /usr/local/lib/python3.7/dist-packages (from requests->transformers) (2021.10.8)\n",
            "Requirement already satisfied: six in /usr/local/lib/python3.7/dist-packages (from sacremoses->transformers) (1.15.0)\n",
            "Requirement already satisfied: click in /usr/local/lib/python3.7/dist-packages (from sacremoses->transformers) (7.1.2)\n",
            "Requirement already satisfied: joblib in /usr/local/lib/python3.7/dist-packages (from sacremoses->transformers) (1.1.0)\n",
            "Installing collected packages: pyyaml, tokenizers, sacremoses, huggingface-hub, transformers\n",
            "  Attempting uninstall: pyyaml\n",
            "    Found existing installation: PyYAML 3.13\n",
            "    Uninstalling PyYAML-3.13:\n",
            "      Successfully uninstalled PyYAML-3.13\n",
            "Successfully installed huggingface-hub-0.4.0 pyyaml-6.0 sacremoses-0.0.47 tokenizers-0.11.6 transformers-4.17.0\n"
          ]
        }
      ],
      "source": [
        "!pip install transformers"
      ]
    },
    {
      "cell_type": "code",
      "execution_count": 38,
      "metadata": {
        "id": "e5CeQtNPC7li"
      },
      "outputs": [],
      "source": [
        "df_transformers = df.copy()"
      ]
    },
    {
      "cell_type": "code",
      "execution_count": 39,
      "metadata": {
        "id": "4_5grPzODXZw"
      },
      "outputs": [],
      "source": [
        "LABEL_KEY = 'Clean_text_1'"
      ]
    },
    {
      "cell_type": "code",
      "execution_count": 40,
      "metadata": {
        "id": "FQ14E_CrEPsb"
      },
      "outputs": [],
      "source": [
        "from gensim.parsing.preprocessing import remove_stopwords, preprocess_string"
      ]
    },
    {
      "cell_type": "code",
      "execution_count": 41,
      "metadata": {
        "id": "yWP5R2twC4AG"
      },
      "outputs": [],
      "source": [
        "def super_normalization(text):\n",
        "  return \" \".join(preprocess_string(text))"
      ]
    },
    {
      "cell_type": "code",
      "execution_count": 42,
      "metadata": {
        "id": "ezzB_yaLCvbC"
      },
      "outputs": [],
      "source": [
        "df_transformers[LABEL_KEY] = df_transformers.Clean_text.apply(super_normalization)"
      ]
    },
    {
      "cell_type": "code",
      "execution_count": 43,
      "metadata": {
        "colab": {
          "base_uri": "https://localhost:8080/",
          "height": 389
        },
        "id": "jhazpwX_DUgj",
        "outputId": "7240b4aa-0cff-437a-ba3c-f661ab03610f"
      },
      "outputs": [
        {
          "output_type": "execute_result",
          "data": {
            "text/plain": [
              "   id  label                                              tweet  length  \\\n",
              "0   1      0   @user when a father is dysfunctional and is s...     102   \n",
              "1   2      0  @user @user thanks for #lyft credit i can't us...     122   \n",
              "2   3      0                                bihday your majesty      21   \n",
              "3   4      0  #model   i love u take with u all the time in ...      86   \n",
              "4   5      0             factsguide: society now    #motivation      39   \n",
              "\n",
              "                                               Words  \\\n",
              "0  [user, when, a, father, is, dysfunctional, and...   \n",
              "1  [user, user, thanks, for, lyft, credit, i, ca,...   \n",
              "2                            [bihday, your, majesty]   \n",
              "3  [model, i, love, u, take, with, u, all, the, t...   \n",
              "4             [factsguide, society, now, motivation]   \n",
              "\n",
              "                                    Words_normalized  \\\n",
              "0  [user, when, a, father, is, dysfunctional, and...   \n",
              "1  [user, user, thanks, for, lyft, credit, i, ca,...   \n",
              "2                            [bihday, your, majesty]   \n",
              "3  [model, i, love, u, take, with, u, all, the, t...   \n",
              "4             [factsguide, society, now, motivation]   \n",
              "\n",
              "                            Words_normalized_no_user  \\\n",
              "0  [when, a, father, is, dysfunctional, and, is, ...   \n",
              "1  [thanks, for, lyft, credit, i, ca, n't, use, c...   \n",
              "2                            [bihday, your, majesty]   \n",
              "3  [model, i, love, u, take, with, u, all, the, t...   \n",
              "4             [factsguide, society, now, motivation]   \n",
              "\n",
              "                      Words_normalized_no_user_fixed  \\\n",
              "0  [when, a, father, is, dysfunctional, and, is, ...   \n",
              "1  [thanks, for, lyft, credit, i, can't, use, cau...   \n",
              "2                                     [bihday, your]   \n",
              "3  [model, i, love, u, take, with, u, all, the, t...   \n",
              "4                         [factsguide, society, now]   \n",
              "\n",
              "                                          Clean_text  \\\n",
              "0  when a father is dysfunctional and is so selfi...   \n",
              "1  thanks for lyft credit i can't use cause they ...   \n",
              "2                                        bihday your   \n",
              "3         model i love u take with u all the time in   \n",
              "4                             factsguide society now   \n",
              "\n",
              "                                        Clean_text_1  \n",
              "0          father dysfunct selfish drag kid dysfunct  \n",
              "1  thank lyft credit us caus offer wheelchair van...  \n",
              "2                                             bihdai  \n",
              "3                                    model love time  \n",
              "4                                  factsguid societi  "
            ],
            "text/html": [
              "\n",
              "  <div id=\"df-62751ae4-facf-4ada-846f-78481e59fa5d\">\n",
              "    <div class=\"colab-df-container\">\n",
              "      <div>\n",
              "<style scoped>\n",
              "    .dataframe tbody tr th:only-of-type {\n",
              "        vertical-align: middle;\n",
              "    }\n",
              "\n",
              "    .dataframe tbody tr th {\n",
              "        vertical-align: top;\n",
              "    }\n",
              "\n",
              "    .dataframe thead th {\n",
              "        text-align: right;\n",
              "    }\n",
              "</style>\n",
              "<table border=\"1\" class=\"dataframe\">\n",
              "  <thead>\n",
              "    <tr style=\"text-align: right;\">\n",
              "      <th></th>\n",
              "      <th>id</th>\n",
              "      <th>label</th>\n",
              "      <th>tweet</th>\n",
              "      <th>length</th>\n",
              "      <th>Words</th>\n",
              "      <th>Words_normalized</th>\n",
              "      <th>Words_normalized_no_user</th>\n",
              "      <th>Words_normalized_no_user_fixed</th>\n",
              "      <th>Clean_text</th>\n",
              "      <th>Clean_text_1</th>\n",
              "    </tr>\n",
              "  </thead>\n",
              "  <tbody>\n",
              "    <tr>\n",
              "      <th>0</th>\n",
              "      <td>1</td>\n",
              "      <td>0</td>\n",
              "      <td>@user when a father is dysfunctional and is s...</td>\n",
              "      <td>102</td>\n",
              "      <td>[user, when, a, father, is, dysfunctional, and...</td>\n",
              "      <td>[user, when, a, father, is, dysfunctional, and...</td>\n",
              "      <td>[when, a, father, is, dysfunctional, and, is, ...</td>\n",
              "      <td>[when, a, father, is, dysfunctional, and, is, ...</td>\n",
              "      <td>when a father is dysfunctional and is so selfi...</td>\n",
              "      <td>father dysfunct selfish drag kid dysfunct</td>\n",
              "    </tr>\n",
              "    <tr>\n",
              "      <th>1</th>\n",
              "      <td>2</td>\n",
              "      <td>0</td>\n",
              "      <td>@user @user thanks for #lyft credit i can't us...</td>\n",
              "      <td>122</td>\n",
              "      <td>[user, user, thanks, for, lyft, credit, i, ca,...</td>\n",
              "      <td>[user, user, thanks, for, lyft, credit, i, ca,...</td>\n",
              "      <td>[thanks, for, lyft, credit, i, ca, n't, use, c...</td>\n",
              "      <td>[thanks, for, lyft, credit, i, can't, use, cau...</td>\n",
              "      <td>thanks for lyft credit i can't use cause they ...</td>\n",
              "      <td>thank lyft credit us caus offer wheelchair van...</td>\n",
              "    </tr>\n",
              "    <tr>\n",
              "      <th>2</th>\n",
              "      <td>3</td>\n",
              "      <td>0</td>\n",
              "      <td>bihday your majesty</td>\n",
              "      <td>21</td>\n",
              "      <td>[bihday, your, majesty]</td>\n",
              "      <td>[bihday, your, majesty]</td>\n",
              "      <td>[bihday, your, majesty]</td>\n",
              "      <td>[bihday, your]</td>\n",
              "      <td>bihday your</td>\n",
              "      <td>bihdai</td>\n",
              "    </tr>\n",
              "    <tr>\n",
              "      <th>3</th>\n",
              "      <td>4</td>\n",
              "      <td>0</td>\n",
              "      <td>#model   i love u take with u all the time in ...</td>\n",
              "      <td>86</td>\n",
              "      <td>[model, i, love, u, take, with, u, all, the, t...</td>\n",
              "      <td>[model, i, love, u, take, with, u, all, the, t...</td>\n",
              "      <td>[model, i, love, u, take, with, u, all, the, t...</td>\n",
              "      <td>[model, i, love, u, take, with, u, all, the, t...</td>\n",
              "      <td>model i love u take with u all the time in</td>\n",
              "      <td>model love time</td>\n",
              "    </tr>\n",
              "    <tr>\n",
              "      <th>4</th>\n",
              "      <td>5</td>\n",
              "      <td>0</td>\n",
              "      <td>factsguide: society now    #motivation</td>\n",
              "      <td>39</td>\n",
              "      <td>[factsguide, society, now, motivation]</td>\n",
              "      <td>[factsguide, society, now, motivation]</td>\n",
              "      <td>[factsguide, society, now, motivation]</td>\n",
              "      <td>[factsguide, society, now]</td>\n",
              "      <td>factsguide society now</td>\n",
              "      <td>factsguid societi</td>\n",
              "    </tr>\n",
              "  </tbody>\n",
              "</table>\n",
              "</div>\n",
              "      <button class=\"colab-df-convert\" onclick=\"convertToInteractive('df-62751ae4-facf-4ada-846f-78481e59fa5d')\"\n",
              "              title=\"Convert this dataframe to an interactive table.\"\n",
              "              style=\"display:none;\">\n",
              "        \n",
              "  <svg xmlns=\"http://www.w3.org/2000/svg\" height=\"24px\"viewBox=\"0 0 24 24\"\n",
              "       width=\"24px\">\n",
              "    <path d=\"M0 0h24v24H0V0z\" fill=\"none\"/>\n",
              "    <path d=\"M18.56 5.44l.94 2.06.94-2.06 2.06-.94-2.06-.94-.94-2.06-.94 2.06-2.06.94zm-11 1L8.5 8.5l.94-2.06 2.06-.94-2.06-.94L8.5 2.5l-.94 2.06-2.06.94zm10 10l.94 2.06.94-2.06 2.06-.94-2.06-.94-.94-2.06-.94 2.06-2.06.94z\"/><path d=\"M17.41 7.96l-1.37-1.37c-.4-.4-.92-.59-1.43-.59-.52 0-1.04.2-1.43.59L10.3 9.45l-7.72 7.72c-.78.78-.78 2.05 0 2.83L4 21.41c.39.39.9.59 1.41.59.51 0 1.02-.2 1.41-.59l7.78-7.78 2.81-2.81c.8-.78.8-2.07 0-2.86zM5.41 20L4 18.59l7.72-7.72 1.47 1.35L5.41 20z\"/>\n",
              "  </svg>\n",
              "      </button>\n",
              "      \n",
              "  <style>\n",
              "    .colab-df-container {\n",
              "      display:flex;\n",
              "      flex-wrap:wrap;\n",
              "      gap: 12px;\n",
              "    }\n",
              "\n",
              "    .colab-df-convert {\n",
              "      background-color: #E8F0FE;\n",
              "      border: none;\n",
              "      border-radius: 50%;\n",
              "      cursor: pointer;\n",
              "      display: none;\n",
              "      fill: #1967D2;\n",
              "      height: 32px;\n",
              "      padding: 0 0 0 0;\n",
              "      width: 32px;\n",
              "    }\n",
              "\n",
              "    .colab-df-convert:hover {\n",
              "      background-color: #E2EBFA;\n",
              "      box-shadow: 0px 1px 2px rgba(60, 64, 67, 0.3), 0px 1px 3px 1px rgba(60, 64, 67, 0.15);\n",
              "      fill: #174EA6;\n",
              "    }\n",
              "\n",
              "    [theme=dark] .colab-df-convert {\n",
              "      background-color: #3B4455;\n",
              "      fill: #D2E3FC;\n",
              "    }\n",
              "\n",
              "    [theme=dark] .colab-df-convert:hover {\n",
              "      background-color: #434B5C;\n",
              "      box-shadow: 0px 1px 3px 1px rgba(0, 0, 0, 0.15);\n",
              "      filter: drop-shadow(0px 1px 2px rgba(0, 0, 0, 0.3));\n",
              "      fill: #FFFFFF;\n",
              "    }\n",
              "  </style>\n",
              "\n",
              "      <script>\n",
              "        const buttonEl =\n",
              "          document.querySelector('#df-62751ae4-facf-4ada-846f-78481e59fa5d button.colab-df-convert');\n",
              "        buttonEl.style.display =\n",
              "          google.colab.kernel.accessAllowed ? 'block' : 'none';\n",
              "\n",
              "        async function convertToInteractive(key) {\n",
              "          const element = document.querySelector('#df-62751ae4-facf-4ada-846f-78481e59fa5d');\n",
              "          const dataTable =\n",
              "            await google.colab.kernel.invokeFunction('convertToInteractive',\n",
              "                                                     [key], {});\n",
              "          if (!dataTable) return;\n",
              "\n",
              "          const docLinkHtml = 'Like what you see? Visit the ' +\n",
              "            '<a target=\"_blank\" href=https://colab.research.google.com/notebooks/data_table.ipynb>data table notebook</a>'\n",
              "            + ' to learn more about interactive tables.';\n",
              "          element.innerHTML = '';\n",
              "          dataTable['output_type'] = 'display_data';\n",
              "          await google.colab.output.renderOutput(dataTable, element);\n",
              "          const docLink = document.createElement('div');\n",
              "          docLink.innerHTML = docLinkHtml;\n",
              "          element.appendChild(docLink);\n",
              "        }\n",
              "      </script>\n",
              "    </div>\n",
              "  </div>\n",
              "  "
            ]
          },
          "metadata": {},
          "execution_count": 43
        }
      ],
      "source": [
        "df_transformers.head()"
      ]
    },
    {
      "cell_type": "code",
      "execution_count": 44,
      "metadata": {
        "colab": {
          "base_uri": "https://localhost:8080/"
        },
        "id": "keBWlKWKCjLk",
        "outputId": "8b1f9290-1507-497a-e80a-90041c56d392"
      },
      "outputs": [
        {
          "output_type": "stream",
          "name": "stdout",
          "text": [
            "(23012,) (6393,)\n"
          ]
        }
      ],
      "source": [
        "SELECTION_KEY = \"Clean_text\"\n",
        "\n",
        "X_train, X_test, y_train, y_test = train_test_split(df_transformers[SELECTION_KEY], df_transformers.label, test_size=0.20, random_state=13, stratify=df_transformers.label)\n",
        "\n",
        "X_train, X_valid, y_train, y_valid = train_test_split(X_train, y_train, test_size=0.1, random_state=13, stratify=y_train)\n",
        "\n",
        "print(X_train.shape, X_test.shape)"
      ]
    },
    {
      "cell_type": "code",
      "execution_count": 45,
      "metadata": {
        "colab": {
          "base_uri": "https://localhost:8080/"
        },
        "id": "m8jCMoHrE4F1",
        "outputId": "f61b150d-70a1-47a2-ff2d-c09094eb4976"
      },
      "outputs": [
        {
          "output_type": "execute_result",
          "data": {
            "text/plain": [
              "0    29720\n",
              "1     2242\n",
              "Name: label, dtype: int64"
            ]
          },
          "metadata": {},
          "execution_count": 45
        }
      ],
      "source": [
        "df_transformers.label.value_counts()\n",
        "\n",
        "# 0 = positive\n",
        "# 1 = negative"
      ]
    },
    {
      "cell_type": "code",
      "execution_count": 46,
      "metadata": {
        "id": "uxSyPZ-LkF1B"
      },
      "outputs": [],
      "source": [
        "res_transformers = {}"
      ]
    },
    {
      "cell_type": "markdown",
      "metadata": {
        "id": "m014nTeTj6dc"
      },
      "source": [
        "# Twitter-roBERTa-base for Sentiment Analysis"
      ]
    },
    {
      "cell_type": "code",
      "execution_count": null,
      "metadata": {
        "id": "CW59SXTZkC7j"
      },
      "outputs": [],
      "source": [
        "name_1 = \"Twitter-roBERTa-base for Sentiment Analysis\""
      ]
    },
    {
      "cell_type": "markdown",
      "metadata": {
        "id": "jm5DO6WbFSJs"
      },
      "source": [
        " https://huggingface.co/cardiffnlp/twitter-roberta-base-sentiment?text=model+i+love+u+take+with+u+all+the+time+in"
      ]
    },
    {
      "cell_type": "code",
      "execution_count": 47,
      "metadata": {
        "id": "p-3-1IE6GOox"
      },
      "outputs": [],
      "source": [
        "from transformers import AutoModelForSequenceClassification\n",
        "from transformers import TFAutoModelForSequenceClassification\n",
        "from transformers import AutoTokenizer\n",
        "import numpy as np\n",
        "from scipy.special import softmax\n",
        "from collections import Counter"
      ]
    },
    {
      "cell_type": "code",
      "execution_count": null,
      "metadata": {
        "colab": {
          "base_uri": "https://localhost:8080/",
          "height": 266,
          "referenced_widgets": [
            "02c3a590f9e74390a15b88f2ff9535e8",
            "930575a7b79b4aa29c01c0f2299f99f8",
            "1e71b9d62ea6466984e4a6c5734cd3ba",
            "63f1ea2292f74f7188c65f46acdf3887",
            "ac9ce7fe98ce4f62b20daaa3a5cc9d90",
            "b2019d93d2d24b098bde40a9876897a7",
            "55e00945e89a49c9bff5a72fa4916688",
            "598dd30eb4c4429f871eddc89d682ef0",
            "b53d07f182d14dddb47bcdfedf8c368b",
            "c329e98d061a4dc081d268521f6c86b4",
            "f8f5f0566b8d46c99639b18756999e47",
            "fb1ec0e989e44d31a940e5e227fb001c",
            "6d6f02b39bce464093f0796a5ab0d322",
            "1bae26db4b204c34b50fc88834ed9b4f",
            "9e4bc2c7465d469da44ddde0794eb5b5",
            "cd324a8252254ed4a682564a08e0fa49",
            "881a3bf3969742abbbd313650e5255cf",
            "618b53b19f034a218732b10ad6b8d715",
            "3d555524ea1b42c9ba8f473c6d018c30",
            "35669f1e5c254d43a5a7d580f991af3d",
            "d9aa4f12bd2f4f40a75a13fa63786eb1",
            "426c9decaf2b4654821813afacdfcdd1",
            "b963f85cf1ab4ca5898fce2fc833a2a0",
            "019f1aa85afc4b8e8eefb989cb51b316",
            "223ccf30bd5a4838bbd3a878d52f2c5f",
            "d7e35b47116c48a5b1b619ca2138aa89",
            "3b413a23e25b46f9895b8ada6263ddb2",
            "e8af29e8992c42c393e30ff8a9e062de",
            "6136476a36ab4db584fd225b13d11f59",
            "a0fa324e55e4412580ebf8032ae98ca2",
            "09b556f1f1aa40f7a22194dff005af46",
            "f131652e20134c42891e567f7664ab3b",
            "140fcf40286046e99bda4dacd3c5d87d",
            "0a0a7cfd55994f0f9751bc7bbd7a5fcd",
            "087583d157244012837021754318c1f2",
            "a69b52a8d9884d33a63f90e84301c53e",
            "f2184639cdf141c289969a5380ce9b9c",
            "84f429a6db564e67b44e99213db989a3",
            "8655b737ec974df685ce14ffcc81bce0",
            "cf75eedba484495b9e56b2deec91ebfe",
            "55d0b83ce6c447079e319e89864a8e12",
            "3963017effb84467a0f137acf5027ec6",
            "86019b6e17664f549c5c61c0c1164cb0",
            "be1e56810275419ba90539a14e010649",
            "0bb7546039d64769ae5737b819fbb912",
            "827921ca10bf4e8ea364420022deb47e",
            "ff958f5cf9af478395c2071d9422cc1a",
            "d1603ac34a3b4fc786b6f21ebddaf09f",
            "9f61bc56918f47f1972e9c7d0aced35f",
            "2aa6cea622ca445a949cfa4ed1b1f03f",
            "c4e1170c45eb48e594dc7043125bad1c",
            "2cfa6bcc112c464389fff9e07ecba7fe",
            "d7810966adc34d979cdf3ce8374829b9",
            "fb7d57cbedba4bbb989c1456c743f4c3",
            "cf86ca81acd044739c10eb570286d77f"
          ]
        },
        "id": "-nJw9-k3FRf-",
        "outputId": "2ccea671-b94e-4205-ba48-dfc19ace5c8e"
      },
      "outputs": [
        {
          "data": {
            "application/vnd.jupyter.widget-view+json": {
              "model_id": "02c3a590f9e74390a15b88f2ff9535e8",
              "version_major": 2,
              "version_minor": 0
            },
            "text/plain": [
              "Downloading:   0%|          | 0.00/747 [00:00<?, ?B/s]"
            ]
          },
          "metadata": {},
          "output_type": "display_data"
        },
        {
          "data": {
            "application/vnd.jupyter.widget-view+json": {
              "model_id": "fb1ec0e989e44d31a940e5e227fb001c",
              "version_major": 2,
              "version_minor": 0
            },
            "text/plain": [
              "Downloading:   0%|          | 0.00/878k [00:00<?, ?B/s]"
            ]
          },
          "metadata": {},
          "output_type": "display_data"
        },
        {
          "data": {
            "application/vnd.jupyter.widget-view+json": {
              "model_id": "b963f85cf1ab4ca5898fce2fc833a2a0",
              "version_major": 2,
              "version_minor": 0
            },
            "text/plain": [
              "Downloading:   0%|          | 0.00/446k [00:00<?, ?B/s]"
            ]
          },
          "metadata": {},
          "output_type": "display_data"
        },
        {
          "data": {
            "application/vnd.jupyter.widget-view+json": {
              "model_id": "0a0a7cfd55994f0f9751bc7bbd7a5fcd",
              "version_major": 2,
              "version_minor": 0
            },
            "text/plain": [
              "Downloading:   0%|          | 0.00/150 [00:00<?, ?B/s]"
            ]
          },
          "metadata": {},
          "output_type": "display_data"
        },
        {
          "data": {
            "application/vnd.jupyter.widget-view+json": {
              "model_id": "0bb7546039d64769ae5737b819fbb912",
              "version_major": 2,
              "version_minor": 0
            },
            "text/plain": [
              "Downloading:   0%|          | 0.00/478M [00:00<?, ?B/s]"
            ]
          },
          "metadata": {},
          "output_type": "display_data"
        },
        {
          "name": "stderr",
          "output_type": "stream",
          "text": [
            "All model checkpoint layers were used when initializing TFRobertaForSequenceClassification.\n",
            "\n",
            "All the layers of TFRobertaForSequenceClassification were initialized from the model checkpoint at cardiffnlp/twitter-roberta-base-sentiment.\n",
            "If your task is similar to the task the model of the checkpoint was trained on, you can already use TFRobertaForSequenceClassification for predictions without further training.\n"
          ]
        }
      ],
      "source": [
        "#Labels: \n",
        "# 0 -> Negative; \n",
        "# 1 -> Neutral; \n",
        "# 2 -> Positive\n",
        "\n",
        "task='sentiment'\n",
        "MODEL = f\"cardiffnlp/twitter-roberta-base-{task}\"\n",
        "\n",
        "tokenizer = AutoTokenizer.from_pretrained(MODEL)\n",
        "\n",
        "model = TFAutoModelForSequenceClassification.from_pretrained(MODEL)"
      ]
    },
    {
      "cell_type": "code",
      "execution_count": null,
      "metadata": {
        "colab": {
          "base_uri": "https://localhost:8080/"
        },
        "id": "u3BvZbWFG0RX",
        "outputId": "6023d545-623e-4c16-b304-597bb6490654"
      },
      "outputs": [
        {
          "name": "stdout",
          "output_type": "stream",
          "text": [
            "Model: \"tf_roberta_for_sequence_classification\"\n",
            "_________________________________________________________________\n",
            " Layer (type)                Output Shape              Param #   \n",
            "=================================================================\n",
            " roberta (TFRobertaMainLayer  multiple                 124055040 \n",
            " )                                                               \n",
            "                                                                 \n",
            " classifier (TFRobertaClassi  multiple                 592899    \n",
            " ficationHead)                                                   \n",
            "                                                                 \n",
            "=================================================================\n",
            "Total params: 124,647,939\n",
            "Trainable params: 124,647,939\n",
            "Non-trainable params: 0\n",
            "_________________________________________________________________\n"
          ]
        }
      ],
      "source": [
        "model.summary()"
      ]
    },
    {
      "cell_type": "code",
      "execution_count": null,
      "metadata": {
        "colab": {
          "base_uri": "https://localhost:8080/"
        },
        "id": "LCxgwYcWkbFy",
        "outputId": "ef6707dc-87e4-43dd-ce29-2ff1c5c2217d"
      },
      "outputs": [
        {
          "data": {
            "text/plain": [
              "(6393,)"
            ]
          },
          "execution_count": 91,
          "metadata": {},
          "output_type": "execute_result"
        }
      ],
      "source": [
        "X_test.shape"
      ]
    },
    {
      "cell_type": "code",
      "execution_count": null,
      "metadata": {
        "id": "7y6hNG6GHZqd"
      },
      "outputs": [],
      "source": [
        "pred_sentences = list(X_test.values)[0:1000]\n",
        "y_test_transformer = y_test[0:1000]"
      ]
    },
    {
      "cell_type": "code",
      "execution_count": null,
      "metadata": {
        "id": "Rzh5wonFHcR9"
      },
      "outputs": [],
      "source": [
        "#longest has 42\n",
        "\n",
        "tf_batch = tokenizer(pred_sentences, max_length=30, padding=True, truncation=True, return_tensors='tf')"
      ]
    },
    {
      "cell_type": "code",
      "execution_count": null,
      "metadata": {
        "id": "ddzDyg6vRX8n"
      },
      "outputs": [],
      "source": [
        "tf_outputs = model(tf_batch)\n",
        "\n",
        "tf_predictions = tf.nn.softmax(\n",
        "    tf_outputs[0], \n",
        "    axis=-1\n",
        ")"
      ]
    },
    {
      "cell_type": "code",
      "execution_count": 48,
      "metadata": {
        "id": "6s4Ru7iYU4Yq"
      },
      "outputs": [],
      "source": [
        "def get_labels(predictions):\n",
        "  negative = predictions[:, 0]\n",
        "  positive = predictions[:, 2]\n",
        "  return np.column_stack((positive, negative))"
      ]
    },
    {
      "cell_type": "code",
      "execution_count": null,
      "metadata": {
        "id": "JCzzKRaKVCv9"
      },
      "outputs": [],
      "source": [
        "predictions_without_neutral = get_labels(tf_predictions)\n",
        "\n",
        "predicted = tf.argmax(\n",
        "    predictions_without_neutral, \n",
        "    axis=1\n",
        ").numpy()"
      ]
    },
    {
      "cell_type": "code",
      "execution_count": null,
      "metadata": {
        "colab": {
          "base_uri": "https://localhost:8080/"
        },
        "id": "CG5RjToTUi5-",
        "outputId": "d87e265d-e8cb-47ab-dd20-0c600ece0a78"
      },
      "outputs": [
        {
          "data": {
            "text/plain": [
              "array([0, 0, 0, 0, 0, 1, 1, 0, 0, 0, 1, 1, 1, 1, 1, 1, 0, 1, 0, 1, 0, 1,\n",
              "       0, 0, 0, 1, 0, 1, 0, 0, 1, 1, 0, 1, 1, 0, 0, 0, 1, 0, 1, 0, 1, 0,\n",
              "       0, 1, 1, 1, 1, 1, 0, 0, 1, 0, 0, 1, 1, 1, 0, 0, 1, 0, 0, 0, 1, 0,\n",
              "       1, 1, 0, 1, 0, 0, 1, 0, 0, 1, 0, 1, 1, 0, 1, 0, 0, 0, 1, 0, 1, 0,\n",
              "       0, 1, 0, 1, 1, 0, 1, 1, 1, 0, 1, 0, 0, 0, 1, 0, 0, 0, 1, 0, 1, 0,\n",
              "       0, 0, 0, 0, 0, 0, 1, 0, 0, 0, 1, 0, 1, 1, 0, 1, 1, 0, 1, 1, 1, 0,\n",
              "       0, 0, 0, 1, 1, 1, 0, 0, 0, 1, 0, 0, 0, 1, 0, 0, 0, 1, 1, 0, 1, 1,\n",
              "       1, 0, 1, 0, 0, 1, 1, 0, 1, 0, 1, 0, 0, 0, 1, 0, 0, 1, 0, 1, 1, 0,\n",
              "       0, 1, 1, 0, 1, 1, 0, 1, 1, 0, 1, 0, 1, 0, 1, 1, 1, 0, 1, 1, 1, 1,\n",
              "       1, 1, 0, 0, 0, 1, 1, 0, 1, 0, 1, 0, 1, 0, 0, 1, 0, 0, 0, 0, 0, 0,\n",
              "       0, 1, 0, 1, 1, 1, 0, 1, 0, 1, 0, 1, 0, 0, 1, 0, 0, 0, 0, 1, 0, 1,\n",
              "       1, 0, 1, 0, 1, 0, 0, 0, 0, 0, 1, 1, 0, 1, 0, 0, 0, 0, 1, 1, 0, 0,\n",
              "       0, 1, 0, 0, 1, 1, 0, 0, 1, 0, 1, 1, 0, 0, 0, 1, 1, 0, 0, 0, 1, 1,\n",
              "       1, 0, 0, 1, 0, 0, 1, 0, 0, 0, 0, 0, 0, 0, 0, 0, 1, 0, 1, 1, 0, 1,\n",
              "       0, 0, 1, 0, 1, 1, 1, 1, 0, 0, 1, 1, 1, 0, 0, 0, 0, 1, 1, 1, 0, 1,\n",
              "       0, 1, 0, 0, 0, 0, 0, 1, 0, 1, 0, 1, 1, 1, 1, 1, 0, 0, 0, 1, 0, 0,\n",
              "       1, 0, 1, 0, 0, 0, 0, 1, 0, 1, 1, 1, 0, 0, 0, 1, 1, 1, 1, 0, 0, 1,\n",
              "       0, 0, 1, 0, 0, 1, 1, 0, 0, 0, 1, 1, 1, 0, 1, 0, 1, 0, 1, 1, 1, 0,\n",
              "       1, 1, 0, 0, 0, 1, 0, 0, 0, 1, 1, 0, 1, 1, 0, 1, 1, 0, 1, 0, 0, 0,\n",
              "       0, 1, 0, 0, 1, 0, 1, 1, 0, 1, 0, 0, 0, 1, 0, 1, 1, 0, 1, 0, 1, 1,\n",
              "       1, 1, 0, 0, 1, 1, 0, 0, 0, 1, 1, 0, 1, 0, 1, 0, 1, 0, 0, 0, 1, 1,\n",
              "       0, 0, 1, 0, 1, 0, 1, 1, 0, 1, 1, 1, 0, 0, 1, 0, 0, 0, 0, 0, 1, 1,\n",
              "       0, 1, 0, 1, 1, 0, 0, 0, 1, 0, 0, 1, 1, 1, 1, 1, 0, 0, 0, 1, 1, 1,\n",
              "       1, 0, 0, 0, 1, 1, 0, 1, 1, 1, 0, 1, 0, 0, 1, 1, 1, 1, 0, 1, 0, 0,\n",
              "       1, 1, 0, 1, 1, 1, 0, 1, 1, 0, 1, 0, 1, 1, 1, 0, 1, 0, 0, 1, 0, 1,\n",
              "       1, 1, 0, 1, 1, 0, 0, 1, 1, 1, 1, 0, 0, 1, 0, 0, 1, 0, 0, 0, 1, 1,\n",
              "       1, 1, 0, 1, 1, 0, 0, 0, 1, 1, 0, 0, 0, 0, 1, 1, 0, 1, 0, 1, 1, 0,\n",
              "       1, 0, 0, 1, 0, 1, 0, 0, 0, 1, 1, 1, 1, 1, 1, 1, 1, 1, 0, 1, 0, 0,\n",
              "       0, 0, 1, 1, 1, 0, 0, 1, 0, 0, 1, 0, 0, 1, 1, 1, 0, 0, 0, 0, 1, 0,\n",
              "       1, 1, 1, 1, 1, 0, 0, 0, 0, 1, 1, 1, 0, 0, 1, 1, 0, 1, 0, 0, 0, 1,\n",
              "       0, 0, 0, 1, 0, 0, 0, 1, 1, 0, 0, 1, 0, 0, 0, 0, 1, 0, 0, 0, 1, 0,\n",
              "       0, 1, 0, 1, 1, 1, 0, 0, 0, 1, 1, 1, 0, 0, 0, 1, 0, 1, 1, 1, 1, 1,\n",
              "       1, 0, 0, 1, 0, 0, 1, 1, 1, 0, 1, 0, 0, 0, 0, 0, 1, 0, 1, 0, 1, 0,\n",
              "       1, 0, 0, 0, 0, 1, 0, 1, 0, 1, 0, 1, 1, 0, 1, 1, 1, 0, 0, 0, 0, 0,\n",
              "       1, 0, 0, 1, 1, 0, 1, 0, 0, 0, 1, 1, 0, 1, 0, 0, 1, 1, 1, 0, 1, 1,\n",
              "       0, 0, 1, 1, 0, 1, 0, 1, 0, 0, 1, 0, 1, 1, 1, 1, 0, 0, 1, 1, 1, 0,\n",
              "       1, 0, 1, 1, 1, 0, 1, 0, 0, 1, 0, 1, 0, 1, 0, 1, 0, 0, 0, 1, 1, 1,\n",
              "       0, 0, 1, 0, 1, 1, 0, 0, 1, 1, 1, 1, 0, 0, 0, 1, 1, 1, 0, 1, 1, 0,\n",
              "       0, 1, 0, 0, 1, 1, 0, 0, 0, 0, 1, 1, 1, 1, 0, 1, 1, 1, 0, 1, 0, 0,\n",
              "       0, 0, 0, 1, 0, 0, 1, 0, 1, 0, 0, 0, 1, 0, 1, 0, 0, 1, 0, 0, 0, 0,\n",
              "       1, 0, 0, 0, 1, 0, 0, 0, 0, 0, 1, 1, 0, 1, 1, 0, 1, 0, 0, 1, 1, 0,\n",
              "       0, 0, 0, 0, 0, 0, 1, 1, 0, 1, 0, 0, 1, 1, 0, 0, 1, 1, 0, 0, 0, 1,\n",
              "       0, 0, 0, 1, 0, 1, 1, 0, 1, 0, 0, 1, 0, 0, 1, 0, 0, 1, 1, 0, 1, 1,\n",
              "       0, 1, 1, 0, 0, 0, 0, 1, 1, 0, 0, 0, 0, 1, 1, 0, 0, 0, 0, 0, 0, 1,\n",
              "       1, 0, 0, 1, 0, 1, 0, 0, 1, 0, 0, 0, 0, 1, 1, 1, 1, 0, 1, 1, 0, 0,\n",
              "       1, 0, 0, 0, 1, 0, 0, 0, 1, 1])"
            ]
          },
          "execution_count": 104,
          "metadata": {},
          "output_type": "execute_result"
        }
      ],
      "source": [
        "predicted"
      ]
    },
    {
      "cell_type": "code",
      "execution_count": 49,
      "metadata": {
        "id": "2nF1e_loQRFe"
      },
      "outputs": [],
      "source": [
        "def get_y_true_y_pred(y_test, y_predicted):\n",
        "   f1 = f1_score(y_true=y_test, y_pred=y_predicted)\n",
        "   return f1"
      ]
    },
    {
      "cell_type": "code",
      "execution_count": null,
      "metadata": {
        "colab": {
          "base_uri": "https://localhost:8080/",
          "height": 165
        },
        "id": "TOJII5ZHQbln",
        "outputId": "a19fbacb-b240-4521-dbc3-a5801b113410"
      },
      "outputs": [
        {
          "ename": "NameError",
          "evalue": "ignored",
          "output_type": "error",
          "traceback": [
            "\u001b[0;31m---------------------------------------------------------------------------\u001b[0m",
            "\u001b[0;31mNameError\u001b[0m                                 Traceback (most recent call last)",
            "\u001b[0;32m<ipython-input-48-ff64bd578744>\u001b[0m in \u001b[0;36m<module>\u001b[0;34m()\u001b[0m\n\u001b[0;32m----> 1\u001b[0;31m \u001b[0mf1_1\u001b[0m \u001b[0;34m=\u001b[0m \u001b[0mget_y_true_y_pred\u001b[0m\u001b[0;34m(\u001b[0m\u001b[0my_test_transformer\u001b[0m\u001b[0;34m,\u001b[0m \u001b[0mpredicted\u001b[0m\u001b[0;34m)\u001b[0m\u001b[0;34m\u001b[0m\u001b[0;34m\u001b[0m\u001b[0m\n\u001b[0m",
            "\u001b[0;31mNameError\u001b[0m: name 'y_test_transformer' is not defined"
          ]
        }
      ],
      "source": [
        "f1_1 = get_y_true_y_pred(y_test_transformer, predicted)"
      ]
    },
    {
      "cell_type": "code",
      "execution_count": null,
      "metadata": {
        "id": "fpoBhjBxkKE6"
      },
      "outputs": [],
      "source": [
        "res_transformers[name_1] = f1_1"
      ]
    },
    {
      "cell_type": "code",
      "execution_count": 102,
      "metadata": {
        "id": "Y5Mru03cnTC0"
      },
      "outputs": [],
      "source": [
        "MAX_SEQUENCE_LENGTH = 40\n",
        "MODEL_NAME = 'distilbert-base-uncased'"
      ]
    },
    {
      "cell_type": "code",
      "execution_count": 51,
      "metadata": {
        "id": "d9B2wI3cno8V"
      },
      "outputs": [],
      "source": [
        "from transformers import (\n",
        "    DistilBertTokenizerFast,\n",
        "    TFDistilBertModel,\n",
        ")"
      ]
    },
    {
      "cell_type": "code",
      "execution_count": 52,
      "metadata": {
        "id": "UMXg8ObxnkA4",
        "colab": {
          "base_uri": "https://localhost:8080/",
          "height": 145,
          "referenced_widgets": [
            "7725d714f6d644cdb041499e102a071c",
            "d15e6cc180ca4de89887a0ea9d042645",
            "23d140b0e59c418a918573ca2cd8aecf",
            "9addf586c997455d8f6879289de8ae44",
            "4b8200a621264e8d923eaa77d0a42bb1",
            "c7a3dd9bd35f4b608a81c409a86579e7",
            "7112274cb76d47038f31c71c491f3e83",
            "33e0dc734d58474eac0da58f72e093a3",
            "6f95cd5625184a5ca829dcfbbae67cef",
            "ef34be61f9bf41a0b8abedd625f7a62a",
            "e8819e61117f46af92296d5028701d5b",
            "63f864be50af402bb429dadc14b818c1",
            "194ad5f1f14441d49b4366d37e5feaf0",
            "624d240f97db4d03bc8eb3d6f7f2a89c",
            "5264ba64fc41481d96986401c8c92864",
            "2c5d2538afc64229848dad5252224aa3",
            "d15202f63b2e448e930e373675addda1",
            "76c3edfdd18d4a25a0879dcb8a653626",
            "0a60cdce2f1f4132b7b109b3719e6d6c",
            "2122043580204a3f9d77605c0d86e403",
            "ed591c4d9e5349418d095f9559bf9d80",
            "53400a9cf89f48aea8d558e7fbeea868",
            "6b841ba2f8fe45b49a10db7eefecb2b8",
            "482d37b4021f4eb6afcc6da8b21df7b8",
            "90bd3622ec954087b33f212a80196787",
            "054250412c1141338dea10b48d483b5e",
            "13ac65735dc34495ba518ee581aff902",
            "fc628727d1dd423ba3ed04242fdb413b",
            "dcb9547298ce47b1877783d9d1c9b388",
            "4952ce6a271c4aefb0786b1965f32cca",
            "2874f674a73a41838d44b92beac4a2ea",
            "130648a817f04d0da59a4eacec4a5502",
            "7e7473707dac466ea0fb727e8c319b1f",
            "67ffd56ab4cc49bf9e2ea985fe780987",
            "adef031b6b3841d9984e4d047ee6697f",
            "c2542e68e1064146af18ab2c40de40d0",
            "21556941a2e749748e81df9c9f3acf06",
            "190d72930fa04410b2f843b6af13ac21",
            "a9672bcf4ff445c6977129978f678aad",
            "6e0e3a0bbd9f49c7a283e1cf0f626be5",
            "74ed1a5723c041b3a065a51afba1e89a",
            "474fdb27497144bea6c07cb9c63ce1c2",
            "c60c8844817647ce8b9c7cd7f7440359",
            "c5b1efec570d42e188f3649708b66bed"
          ]
        },
        "outputId": "eef4ce69-0d35-4432-cbb9-a8896e9aaa42"
      },
      "outputs": [
        {
          "output_type": "display_data",
          "data": {
            "text/plain": [
              "Downloading:   0%|          | 0.00/28.0 [00:00<?, ?B/s]"
            ],
            "application/vnd.jupyter.widget-view+json": {
              "version_major": 2,
              "version_minor": 0,
              "model_id": "7725d714f6d644cdb041499e102a071c"
            }
          },
          "metadata": {}
        },
        {
          "output_type": "display_data",
          "data": {
            "text/plain": [
              "Downloading:   0%|          | 0.00/226k [00:00<?, ?B/s]"
            ],
            "application/vnd.jupyter.widget-view+json": {
              "version_major": 2,
              "version_minor": 0,
              "model_id": "63f864be50af402bb429dadc14b818c1"
            }
          },
          "metadata": {}
        },
        {
          "output_type": "display_data",
          "data": {
            "text/plain": [
              "Downloading:   0%|          | 0.00/455k [00:00<?, ?B/s]"
            ],
            "application/vnd.jupyter.widget-view+json": {
              "version_major": 2,
              "version_minor": 0,
              "model_id": "6b841ba2f8fe45b49a10db7eefecb2b8"
            }
          },
          "metadata": {}
        },
        {
          "output_type": "display_data",
          "data": {
            "text/plain": [
              "Downloading:   0%|          | 0.00/483 [00:00<?, ?B/s]"
            ],
            "application/vnd.jupyter.widget-view+json": {
              "version_major": 2,
              "version_minor": 0,
              "model_id": "67ffd56ab4cc49bf9e2ea985fe780987"
            }
          },
          "metadata": {}
        }
      ],
      "source": [
        "tokenizer = DistilBertTokenizerFast.from_pretrained(MODEL_NAME)\n",
        "\n",
        "\n",
        "def tokenize(sentences, max_length=MAX_SEQUENCE_LENGTH, padding='max_length'):\n",
        "    return tokenizer(\n",
        "        sentences,\n",
        "        truncation=True,\n",
        "        padding=padding,\n",
        "        max_length=max_length,\n",
        "        return_tensors=\"tf\"\n",
        "    )"
      ]
    },
    {
      "cell_type": "code",
      "execution_count": 53,
      "metadata": {
        "id": "_nQF9N2yqaRG"
      },
      "outputs": [],
      "source": [
        "def get_raw_ds(input_df):\n",
        "  copy_df = input_df.copy()\n",
        "\n",
        "  print(copy_df.label.value_counts())\n",
        "\n",
        "  SELECTION_KEY = \"Clean_text\"\n",
        "\n",
        "  X_train, X_test, y_train, y_test = train_test_split(copy_df[SELECTION_KEY], copy_df.label, test_size=0.20, random_state=13, stratify=copy_df.label)\n",
        "\n",
        "  X_train, X_valid, y_train, y_valid = train_test_split(X_train, y_train, test_size=0.1, random_state=13, stratify=y_train)\n",
        "\n",
        "  return X_train, y_train, X_valid, y_valid, X_test, y_test\n"
      ]
    },
    {
      "cell_type": "code",
      "execution_count": 54,
      "metadata": {
        "id": "8j8MnLoP1Uiy"
      },
      "outputs": [],
      "source": [
        "def balance(input_df):\n",
        "  copy_df = input_df.copy()\n",
        "  positive = copy_df[copy_df.label == 0]\n",
        "\n",
        "  negative = copy_df[copy_df.label == 1]\n",
        "\n",
        "  number_times = int(len(positive) / len(negative))\n",
        "\n",
        "  negative = negative.sample(n=len(negative)*number_times, replace=True)\n",
        "  \n",
        "  return pd.concat([negative, positive])"
      ]
    },
    {
      "cell_type": "code",
      "execution_count": 55,
      "metadata": {
        "id": "sTVgvclpqcfn"
      },
      "outputs": [],
      "source": [
        "def get_balanced_ds(input_df):\n",
        "  SELECTION_KEY = \"Clean_text\"\n",
        "  copy_df = input_df.copy()\n",
        "\n",
        "  X_train, X_test, y_train, y_test = train_test_split(copy_df[SELECTION_KEY], copy_df.label, test_size=0.20, random_state=13, stratify=copy_df.label)\n",
        "\n",
        "  x = pd.DataFrame()\n",
        "  x[SELECTION_KEY] = X_train\n",
        "  x['label'] = y_train\n",
        "\n",
        "  copy_df = balance(x)\n",
        "\n",
        "  X_train, X_valid, y_train, y_valid = train_test_split(copy_df[SELECTION_KEY], copy_df.label, test_size=0.1, random_state=13, stratify=copy_df.label)\n",
        "\n",
        "  return X_train, y_train, X_valid, y_valid, X_test, y_test"
      ]
    },
    {
      "cell_type": "markdown",
      "source": [
        "# GRU with Glove"
      ],
      "metadata": {
        "id": "t3HmwEMDZkEm"
      }
    },
    {
      "cell_type": "code",
      "source": [
        "import gensim.downloader as api\n",
        "import gzip"
      ],
      "metadata": {
        "id": "gnKo1AUv9MDT"
      },
      "execution_count": null,
      "outputs": []
    },
    {
      "cell_type": "code",
      "source": [
        "NAME_OF_MODEL_FASTTEXT = \"fasttext-wiki-news-subwords-300\"\n",
        "NAME_OF_MODEL_GLOVE = \"glove-twitter-200\""
      ],
      "metadata": {
        "id": "J2seVKP7870P"
      },
      "execution_count": null,
      "outputs": []
    },
    {
      "cell_type": "code",
      "source": [
        "model = api.load(NAME_OF_MODEL_GLOVE)  # load glove vectors"
      ],
      "metadata": {
        "colab": {
          "base_uri": "https://localhost:8080/"
        },
        "id": "lbJVyP5g9N-t",
        "outputId": "283972b3-5800-4d72-bd78-244f966d3241"
      },
      "execution_count": null,
      "outputs": [
        {
          "output_type": "stream",
          "name": "stdout",
          "text": [
            "[==================================================] 100.0% 758.5/758.5MB downloaded\n"
          ]
        }
      ]
    },
    {
      "cell_type": "code",
      "source": [
        "def load_model(File):\n",
        "    \"\"\"Gensim library can load file which contains embedding. This method unzip file and created dictionary word to embedding vector.\n",
        "\n",
        "    @param File: path to file\n",
        "\n",
        "    @return: created embedding dictionary word to embedding vector\n",
        "    \"\"\"\n",
        "    with gzip.open(File, 'r') as f:\n",
        "        model = {}\n",
        "        for line in f:        \n",
        "            splitLines = line.split()\n",
        "            word = splitLines[0].decode(\"utf-8\")\n",
        "            wordEmbedding = np.array([float(value) for value in splitLines[1:]])\n",
        "            model[word] = wordEmbedding\n",
        "    print(len(model),\" words loaded!\")\n",
        "    return model\n"
      ],
      "metadata": {
        "id": "oL6ASYJy-LHH"
      },
      "execution_count": null,
      "outputs": []
    },
    {
      "cell_type": "code",
      "source": [
        "loaded_model_path = api.load(NAME_OF_MODEL_GLOVE, return_path=True)"
      ],
      "metadata": {
        "id": "zIQ9V7ma-PXC"
      },
      "execution_count": null,
      "outputs": []
    },
    {
      "cell_type": "code",
      "source": [
        "embedding_dictionary = load_model(loaded_model_path)"
      ],
      "metadata": {
        "colab": {
          "base_uri": "https://localhost:8080/"
        },
        "id": "IXNLEf8d-RE3",
        "outputId": "e015b1b9-6c9b-436d-bed4-572511a63134"
      },
      "execution_count": null,
      "outputs": [
        {
          "output_type": "stream",
          "name": "stdout",
          "text": [
            "1193515  words loaded!\n"
          ]
        }
      ]
    },
    {
      "cell_type": "code",
      "source": [
        "def prepare_embeddings_matrix(input_dic, embedding_dimension, vocab):\n",
        "    num_tokens = len(vocab)\n",
        "        \n",
        "    num_tokens = len(voc) + 2\n",
        "    hits = 0\n",
        "    misses = 0\n",
        "    \n",
        "    \n",
        "    embedding_matrix = np.zeros((num_tokens, embedding_dimension))\n",
        "    for i, word in enumerate(vocab):\n",
        "        embedding_vector = None\n",
        "        if word in input_dic:\n",
        "            embedding_vector = input_dic[word]\n",
        "            \n",
        "        if embedding_vector is not None:\n",
        "            embedding_matrix[i] = embedding_vector\n",
        "            hits += 1\n",
        "        else:\n",
        "            misses += 1\n",
        "\n",
        "    print(\"Converted %d words (%d misses)\" % (hits, misses))\n",
        "    return embedding_matrix, num_tokens\n"
      ],
      "metadata": {
        "id": "0rcRNjKL92lQ"
      },
      "execution_count": null,
      "outputs": []
    },
    {
      "cell_type": "markdown",
      "source": [
        "# GRU LSTM b and FASTTEXT"
      ],
      "metadata": {
        "id": "kYM3tduCBNpV"
      }
    },
    {
      "cell_type": "code",
      "source": [
        "name_gru_lstm_fasttext = \"GRU LSTM b and FASTTEXT\"\n",
        "train_data, train_label, validation_data, validation_label, test_data, test_label = get_raw_ds(df_transformers.copy())\n",
        "\n",
        "loaded_model_path = api.load(NAME_OF_MODEL_FASTTEXT, return_path=True)\n",
        "embedding_dictionary = load_model(loaded_model_path)"
      ],
      "metadata": {
        "id": "dhknQ9AAHMPU"
      },
      "execution_count": null,
      "outputs": []
    },
    {
      "cell_type": "code",
      "source": [
        "embedding_dim = 300\n",
        "vocab_size = 20000\n",
        "sequence_length = 30\n",
        "\n",
        "vect_layer = TextVectorization(max_tokens=vocab_size, output_mode='int', output_sequence_length=sequence_length)\n",
        "vect_layer.adapt(df.Clean_text.values)\n",
        "\n",
        "voc = vect_layer.get_vocabulary()"
      ],
      "metadata": {
        "id": "kJG5P7XsBQsk"
      },
      "execution_count": null,
      "outputs": []
    },
    {
      "cell_type": "code",
      "source": [
        "embedding_matrix, num_tokens = prepare_embeddings_matrix(embedding_dictionary, 300, vect_layer.get_vocabulary())"
      ],
      "metadata": {
        "colab": {
          "base_uri": "https://localhost:8080/"
        },
        "id": "VZH7a9JRBSPR",
        "outputId": "a00c61c1-6d6a-4c5f-f8a0-56c34343134d"
      },
      "execution_count": null,
      "outputs": [
        {
          "output_type": "stream",
          "name": "stdout",
          "text": [
            "Converted 13536 words (6464 misses)\n"
          ]
        }
      ]
    },
    {
      "cell_type": "code",
      "source": [
        "input_layer = keras.layers.Input(shape=(1,), dtype=tf_string)\n",
        "\n",
        "x_v = vect_layer(input_layer)\n",
        "\n",
        "emb = keras.layers.Embedding(num_tokens, embedding_dim, embeddings_initializer=keras.initializers.Constant(embedding_matrix), trainable=True)(x_v)\n",
        "\n",
        "x = keras.layers.Bidirectional(keras.layers.LSTM(64, activation='relu', return_sequences=True, dropout=0.2, recurrent_dropout=0.2))(emb)\n",
        "x = keras.layers.GRU(64, activation='relu', return_sequences=False)(x)\n",
        "x = tf.keras.layers.BatchNormalization()(x)\n",
        "x = keras.layers.Dropout(0.2)(x)\n",
        "x = keras.layers.Dense(32, 'relu')(x)\n",
        "x = keras.layers.Dropout(0.3)(x)\n",
        "x = keras.layers.Dense(64, 'relu')(x)\n",
        "output_layer = keras.layers.Dense(1, 'sigmoid')(x)\n",
        "\n",
        "model = keras.Model(input_layer, output_layer)\n",
        "model.summary()\n",
        "\n",
        "model.compile(optimizer='rmsprop', loss=keras.losses.BinaryCrossentropy(), metrics=['accuracy'])\n",
        "\n",
        "es = keras.callbacks.EarlyStopping(monitor='val_loss', min_delta=0, patience=2, restore_best_weights=True)\n",
        "\n",
        "batch_size = 128\n",
        "epochs = 5\n",
        "\n",
        "\n",
        "history = model.fit(train_data.values, train_label.values, validation_data=(validation_data.values, validation_label.values), callbacks=[es], epochs=epochs, batch_size=batch_size)\n",
        "\n",
        "show_history(history)"
      ],
      "metadata": {
        "colab": {
          "base_uri": "https://localhost:8080/",
          "height": 1000
        },
        "id": "YLcS1yrNBTYG",
        "outputId": "99f48ba5-cb85-424f-d303-36d5307b61e9"
      },
      "execution_count": null,
      "outputs": [
        {
          "output_type": "stream",
          "name": "stdout",
          "text": [
            "WARNING:tensorflow:Layer lstm_2 will not use cuDNN kernels since it doesn't meet the criteria. It will use a generic GPU kernel as fallback when running on GPU.\n",
            "WARNING:tensorflow:Layer lstm_2 will not use cuDNN kernels since it doesn't meet the criteria. It will use a generic GPU kernel as fallback when running on GPU.\n",
            "WARNING:tensorflow:Layer lstm_2 will not use cuDNN kernels since it doesn't meet the criteria. It will use a generic GPU kernel as fallback when running on GPU.\n",
            "WARNING:tensorflow:Layer gru_2 will not use cuDNN kernels since it doesn't meet the criteria. It will use a generic GPU kernel as fallback when running on GPU.\n",
            "Model: \"model_2\"\n",
            "_________________________________________________________________\n",
            " Layer (type)                Output Shape              Param #   \n",
            "=================================================================\n",
            " input_5 (InputLayer)        [(None, 1)]               0         \n",
            "                                                                 \n",
            " text_vectorization_6 (TextV  (None, 30)               0         \n",
            " ectorization)                                                   \n",
            "                                                                 \n",
            " embedding_4 (Embedding)     (None, 30, 300)           6000600   \n",
            "                                                                 \n",
            " bidirectional_2 (Bidirectio  (None, 30, 128)          186880    \n",
            " nal)                                                            \n",
            "                                                                 \n",
            " gru_2 (GRU)                 (None, 64)                37248     \n",
            "                                                                 \n",
            " dense_8 (Dense)             (None, 128)               8320      \n",
            "                                                                 \n",
            " batch_normalization_2 (Batc  (None, 128)              512       \n",
            " hNormalization)                                                 \n",
            "                                                                 \n",
            " dropout_6 (Dropout)         (None, 128)               0         \n",
            "                                                                 \n",
            " dense_9 (Dense)             (None, 64)                8256      \n",
            "                                                                 \n",
            " dropout_7 (Dropout)         (None, 64)                0         \n",
            "                                                                 \n",
            " dense_10 (Dense)            (None, 64)                4160      \n",
            "                                                                 \n",
            " dropout_8 (Dropout)         (None, 64)                0         \n",
            "                                                                 \n",
            " dense_11 (Dense)            (None, 1)                 65        \n",
            "                                                                 \n",
            "=================================================================\n",
            "Total params: 6,246,041\n",
            "Trainable params: 6,245,785\n",
            "Non-trainable params: 256\n",
            "_________________________________________________________________\n",
            "Epoch 1/5\n",
            "180/180 [==============================] - 90s 458ms/step - loss: 0.2471 - accuracy: 0.9295 - val_loss: 0.2784 - val_accuracy: 0.9300\n",
            "Epoch 2/5\n",
            "180/180 [==============================] - 83s 459ms/step - loss: 0.1489 - accuracy: 0.9493 - val_loss: 0.1744 - val_accuracy: 0.9300\n",
            "Epoch 3/5\n",
            "180/180 [==============================] - 83s 462ms/step - loss: 0.1043 - accuracy: 0.9665 - val_loss: 0.2098 - val_accuracy: 0.9300\n",
            "Epoch 4/5\n",
            "180/180 [==============================] - 82s 457ms/step - loss: 0.0782 - accuracy: 0.9745 - val_loss: 0.3542 - val_accuracy: 0.9464\n"
          ]
        },
        {
          "output_type": "display_data",
          "data": {
            "text/plain": [
              "<Figure size 432x288 with 1 Axes>"
            ],
            "image/png": "[encoded data removed]"
          },
          "metadata": {
            "needs_background": "light"
          }
        }
      ]
    },
    {
      "cell_type": "code",
      "source": [
        "y_pred = model.predict(test_data.values).ravel()\n",
        "y_pred = [1 if x >= 0.5 else 0 for x in y_pred]\n",
        "\n",
        "f1_1 = get_y_true_y_pred(test_label.values, y_pred)\n",
        "\n",
        "res_transformers[name_gru_lstm_fasttext] = f1_1"
      ],
      "metadata": {
        "id": "S4wQfUwkBVYS"
      },
      "execution_count": null,
      "outputs": []
    },
    {
      "cell_type": "code",
      "source": [
        "Counter(y_pred)"
      ],
      "metadata": {
        "colab": {
          "base_uri": "https://localhost:8080/"
        },
        "id": "ZAdVpIhWKCF5",
        "outputId": "9954c0aa-33b4-46c9-8dd3-6bbad6e0879d"
      },
      "execution_count": null,
      "outputs": [
        {
          "output_type": "execute_result",
          "data": {
            "text/plain": [
              "Counter({0: 6393})"
            ]
          },
          "metadata": {},
          "execution_count": 108
        }
      ]
    },
    {
      "cell_type": "code",
      "source": [
        "test_label.value_counts()"
      ],
      "metadata": {
        "colab": {
          "base_uri": "https://localhost:8080/"
        },
        "id": "Y9OD2bubKl4T",
        "outputId": "21e5c6d6-62b0-4585-e126-389bcc8ef79b"
      },
      "execution_count": null,
      "outputs": [
        {
          "output_type": "execute_result",
          "data": {
            "text/plain": [
              "0    5945\n",
              "1     448\n",
              "Name: label, dtype: int64"
            ]
          },
          "metadata": {},
          "execution_count": 110
        }
      ]
    },
    {
      "cell_type": "code",
      "source": [
        "res_transformers"
      ],
      "metadata": {
        "colab": {
          "base_uri": "https://localhost:8080/"
        },
        "id": "Hcd_EIarEnpJ",
        "outputId": "a6e2c7be-08b2-431a-acbc-1b5a482d99c6"
      },
      "execution_count": null,
      "outputs": [
        {
          "output_type": "execute_result",
          "data": {
            "text/plain": [
              "{'GRU LSTM b and FASTTEXT': 0.0,\n",
              " 'GRU LSTM b and GLOVE twitter': 0.6237762237762238}"
            ]
          },
          "metadata": {},
          "execution_count": 105
        }
      ]
    },
    {
      "cell_type": "markdown",
      "source": [
        "# GRU LSTM b and GLOVE twitter\n",
        "\n",
        "> Odsazený blok\n",
        "\n"
      ],
      "metadata": {
        "id": "ZYa_pCtT_w1e"
      }
    },
    {
      "cell_type": "code",
      "source": [
        "name_gru_glove_twitter = \"GRU LSTM b and GLOVE twitter\"\n",
        "train_data, train_label, validation_data, validation_label, test_data, test_label = get_raw_ds(df_transformers.copy())\n",
        "\n",
        "loaded_model_path = api.load(NAME_OF_MODEL_GLOVE, return_path=True)\n",
        "embedding_dictionary = load_model(loaded_model_path)\n",
        "\n",
        "embedding_dim = 200\n",
        "vocab_size = 20000\n",
        "sequence_length = 30\n",
        "\n",
        "vect_layer = TextVectorization(max_tokens=vocab_size, output_mode='int', output_sequence_length=sequence_length)\n",
        "vect_layer.adapt(df.Clean_text.values)\n",
        "\n",
        "voc = vect_layer.get_vocabulary()"
      ],
      "metadata": {
        "colab": {
          "base_uri": "https://localhost:8080/"
        },
        "id": "FxNfhykB_1Rk",
        "outputId": "3d991128-3f35-4963-fa3e-38af2e1d320f"
      },
      "execution_count": null,
      "outputs": [
        {
          "output_type": "stream",
          "name": "stdout",
          "text": [
            "0    29720\n",
            "1     2242\n",
            "Name: label, dtype: int64\n",
            "1193515  words loaded!\n"
          ]
        }
      ]
    },
    {
      "cell_type": "code",
      "source": [
        "embedding_matrix, num_tokens = prepare_embeddings_matrix(embedding_dictionary, 200, vect_layer.get_vocabulary())"
      ],
      "metadata": {
        "colab": {
          "base_uri": "https://localhost:8080/"
        },
        "id": "bPIBHZkoAEQa",
        "outputId": "fcab4245-e56f-465e-9874-548b3fc73fc9"
      },
      "execution_count": null,
      "outputs": [
        {
          "output_type": "stream",
          "name": "stdout",
          "text": [
            "Converted 15607 words (4393 misses)\n"
          ]
        }
      ]
    },
    {
      "cell_type": "code",
      "source": [
        "input_layer = keras.layers.Input(shape=(1,), dtype=tf_string)\n",
        "\n",
        "x_v = vect_layer(input_layer)\n",
        "\n",
        "emb = keras.layers.Embedding(num_tokens, embedding_dim, embeddings_initializer=keras.initializers.Constant(embedding_matrix), trainable=True)(x_v)\n",
        "\n",
        "x = keras.layers.Bidirectional(keras.layers.LSTM(64, activation='relu', return_sequences=True, dropout=0.2, recurrent_dropout=0.2))(emb)\n",
        "x = keras.layers.GRU(64, activation='relu', return_sequences=False)(x)\n",
        "x = tf.keras.layers.BatchNormalization()(x)\n",
        "x = keras.layers.Dropout(0.2)(x)\n",
        "x = keras.layers.Dense(64, 'relu')(x)\n",
        "x = keras.layers.Dropout(0.3)(x)\n",
        "x = keras.layers.Dense(16, 'relu')(x)\n",
        "output_layer = keras.layers.Dense(1, 'sigmoid')(x)\n",
        "\n",
        "model = keras.Model(input_layer, output_layer)\n",
        "model.summary()\n",
        "\n",
        "model.compile(optimizer='rmsprop', loss=keras.losses.BinaryCrossentropy(), metrics=['accuracy'])\n",
        "\n",
        "es = keras.callbacks.EarlyStopping(monitor='val_loss', min_delta=0, patience=2, restore_best_weights=True)\n",
        "\n",
        "batch_size = 64\n",
        "epochs = 5\n",
        "\n",
        "\n",
        "history = model.fit(train_data.values, train_label.values, validation_data=(validation_data.values, validation_label.values), callbacks=[es], epochs=epochs, batch_size=batch_size)\n",
        "\n",
        "show_history(history)"
      ],
      "metadata": {
        "colab": {
          "base_uri": "https://localhost:8080/",
          "height": 1000
        },
        "id": "HWbUyUnV_90N",
        "outputId": "59f6a25d-1cdc-4a54-8fd5-ad4fc6e37a2b"
      },
      "execution_count": null,
      "outputs": [
        {
          "output_type": "stream",
          "name": "stdout",
          "text": [
            "WARNING:tensorflow:Layer lstm_3 will not use cuDNN kernels since it doesn't meet the criteria. It will use a generic GPU kernel as fallback when running on GPU.\n",
            "WARNING:tensorflow:Layer lstm_3 will not use cuDNN kernels since it doesn't meet the criteria. It will use a generic GPU kernel as fallback when running on GPU.\n",
            "WARNING:tensorflow:Layer lstm_3 will not use cuDNN kernels since it doesn't meet the criteria. It will use a generic GPU kernel as fallback when running on GPU.\n",
            "WARNING:tensorflow:Layer gru_3 will not use cuDNN kernels since it doesn't meet the criteria. It will use a generic GPU kernel as fallback when running on GPU.\n",
            "Model: \"model_3\"\n",
            "_________________________________________________________________\n",
            " Layer (type)                Output Shape              Param #   \n",
            "=================================================================\n",
            " input_6 (InputLayer)        [(None, 1)]               0         \n",
            "                                                                 \n",
            " text_vectorization_7 (TextV  (None, 30)               0         \n",
            " ectorization)                                                   \n",
            "                                                                 \n",
            " embedding_5 (Embedding)     (None, 30, 200)           4000400   \n",
            "                                                                 \n",
            " bidirectional_3 (Bidirectio  (None, 30, 128)          135680    \n",
            " nal)                                                            \n",
            "                                                                 \n",
            " gru_3 (GRU)                 (None, 64)                37248     \n",
            "                                                                 \n",
            " batch_normalization_3 (Batc  (None, 64)               256       \n",
            " hNormalization)                                                 \n",
            "                                                                 \n",
            " dropout_9 (Dropout)         (None, 64)                0         \n",
            "                                                                 \n",
            " dense_12 (Dense)            (None, 64)                4160      \n",
            "                                                                 \n",
            " dropout_10 (Dropout)        (None, 64)                0         \n",
            "                                                                 \n",
            " dense_13 (Dense)            (None, 16)                1040      \n",
            "                                                                 \n",
            " dense_14 (Dense)            (None, 1)                 17        \n",
            "                                                                 \n",
            "=================================================================\n",
            "Total params: 4,178,801\n",
            "Trainable params: 4,178,673\n",
            "Non-trainable params: 128\n",
            "_________________________________________________________________\n",
            "Epoch 1/5\n",
            "360/360 [==============================] - 171s 453ms/step - loss: 0.2828 - accuracy: 0.9276 - val_loss: 0.2797 - val_accuracy: 0.9300\n",
            "Epoch 2/5\n",
            "360/360 [==============================] - 161s 447ms/step - loss: 0.2690 - accuracy: 0.9298 - val_loss: 0.2550 - val_accuracy: 0.9300\n",
            "Epoch 3/5\n",
            "360/360 [==============================] - 159s 442ms/step - loss: 0.2637 - accuracy: 0.9298 - val_loss: 0.2427 - val_accuracy: 0.9300\n",
            "Epoch 4/5\n",
            "360/360 [==============================] - 158s 439ms/step - loss: 0.2591 - accuracy: 0.9298 - val_loss: 0.2485 - val_accuracy: 0.9300\n",
            "Epoch 5/5\n",
            "360/360 [==============================] - 157s 437ms/step - loss: 0.2549 - accuracy: 0.9298 - val_loss: 0.2440 - val_accuracy: 0.9300\n"
          ]
        },
        {
          "output_type": "display_data",
          "data": {
            "text/plain": [
              "<Figure size 432x288 with 1 Axes>"
            ],
            "image/png": "[encoded data removed]"
          },
          "metadata": {
            "needs_background": "light"
          }
        }
      ]
    },
    {
      "cell_type": "code",
      "source": [
        "y_pred = model.predict(test_data.values).ravel()\n",
        "y_pred = [1 if x >= 0.5 else 0 for x in y_pred]\n",
        "\n",
        "f1_1 = get_y_true_y_pred(test_label.values, y_pred)\n",
        "\n",
        "res_transformers[name_gru_glove_twitter] = f1_1"
      ],
      "metadata": {
        "id": "54WWdNuiARbR"
      },
      "execution_count": null,
      "outputs": []
    },
    {
      "cell_type": "code",
      "source": [
        "res_transformers"
      ],
      "metadata": {
        "colab": {
          "base_uri": "https://localhost:8080/"
        },
        "id": "5U1LvJvaEeEj",
        "outputId": "39bf48aa-8d06-4637-bbdf-2eaa19250a14"
      },
      "execution_count": null,
      "outputs": [
        {
          "output_type": "execute_result",
          "data": {
            "text/plain": [
              "{'GRU LSTM b and FASTTEXT': 0.0, 'GRU LSTM b and GLOVE twitter': 0.0}"
            ]
          },
          "metadata": {},
          "execution_count": 115
        }
      ]
    },
    {
      "cell_type": "markdown",
      "source": [
        "# GRU LSTM b and GLOVE"
      ],
      "metadata": {
        "id": "J0xm70II_sb2"
      }
    },
    {
      "cell_type": "code",
      "source": [
        "name_gru = \"GRU with GLOVE\"\n",
        "train_data, train_label, validation_data, validation_label, test_data, test_label = get_raw_ds(df_transformers.copy())\n",
        "\n",
        "embedding_dim = 50\n",
        "vocab_size = 13000 \n",
        "sequence_length = 30\n",
        "\n",
        "vect_layer = TextVectorization(max_tokens=vocab_size, output_mode='int', output_sequence_length=sequence_length)\n",
        "vect_layer.adapt(df.Clean_text.values)\n",
        "\n",
        "voc = vect_layer.get_vocabulary()\n",
        "word_index = dict(zip(voc, range(len(voc))))\n",
        "\n",
        "num_tokens = len(voc) + 2\n",
        "hits = 0\n",
        "misses = 0\n",
        "\n",
        "# Prepare embedding matrix\n",
        "embedding_matrix = np.zeros((num_tokens, embedding_dim))\n",
        "for word, i in word_index.items():\n",
        "    embedding_vector = embeddings_index.get(word)\n",
        "    if embedding_vector is not None:\n",
        "        # Words not found in embedding index will be all-zeros.\n",
        "        # This includes the representation for \"padding\" and \"OOV\"\n",
        "        embedding_matrix[i] = embedding_vector\n",
        "        hits += 1\n",
        "    else:\n",
        "        misses += 1\n",
        "print(\"Converted %d words (%d misses)\" % (hits, misses))"
      ],
      "metadata": {
        "colab": {
          "base_uri": "https://localhost:8080/"
        },
        "id": "sxT2t848Z0J8",
        "outputId": "b3869c6c-00a7-45f6-b6e1-42a8435c2998"
      },
      "execution_count": null,
      "outputs": [
        {
          "output_type": "stream",
          "name": "stdout",
          "text": [
            "0    29720\n",
            "1     2242\n",
            "Name: label, dtype: int64\n",
            "Converted 10586 words (2414 misses)\n"
          ]
        }
      ]
    },
    {
      "cell_type": "code",
      "source": [
        "embedding_matrix.shape"
      ],
      "metadata": {
        "colab": {
          "base_uri": "https://localhost:8080/"
        },
        "id": "en8YV7XbeZ_2",
        "outputId": "38ffcb55-31e5-404a-a345-8a039772afa1"
      },
      "execution_count": null,
      "outputs": [
        {
          "output_type": "execute_result",
          "data": {
            "text/plain": [
              "(13002, 50)"
            ]
          },
          "metadata": {},
          "execution_count": 71
        }
      ]
    },
    {
      "cell_type": "code",
      "source": [
        "input_layer = keras.layers.Input(shape=(1,), dtype=tf_string)\n",
        "\n",
        "x_v = vect_layer(input_layer)\n",
        "\n",
        "emb = keras.layers.Embedding(num_tokens, embedding_dim, embeddings_initializer=keras.initializers.Constant(embedding_matrix), trainable=True)(x_v)\n",
        "\n",
        "x = keras.layers.Bidirectional(keras.layers.LSTM(64, activation='relu', return_sequences=True, dropout=0.2, recurrent_dropout=0.2))(emb)\n",
        "x = keras.layers.GRU(64, activation='relu', return_sequences=False)(x)\n",
        "x = keras.layers.Dense(128, 'relu')(x)\n",
        "x = tf.keras.layers.BatchNormalization()(x)\n",
        "x = keras.layers.Dropout(0.2)(x)\n",
        "x = keras.layers.Dense(64, 'relu')(x)\n",
        "x = keras.layers.Dropout(0.3)(x)\n",
        "x = keras.layers.Dense(64, 'relu')(x)\n",
        "x = keras.layers.Dropout(0.2)(x)\n",
        "output_layer = keras.layers.Dense(1, 'sigmoid')(x)\n",
        "\n",
        "model = keras.Model(input_layer, output_layer)\n",
        "model.summary()\n",
        "\n",
        "model.compile(optimizer='rmsprop', loss=keras.losses.BinaryCrossentropy(), metrics=['accuracy'])\n",
        "\n",
        "es = keras.callbacks.EarlyStopping(monitor='val_loss', min_delta=0, patience=5, restore_best_weights=True)\n",
        "\n",
        "batch_size = 32\n",
        "epochs = 5\n",
        "\n",
        "\n",
        "history = model.fit(train_data.values, train_label.values, validation_data=(validation_data.values, validation_label.values), callbacks=[es], epochs=epochs, batch_size=batch_size)\n"
      ],
      "metadata": {
        "colab": {
          "base_uri": "https://localhost:8080/",
          "height": 1000
        },
        "id": "BXzuCTE2eVFR",
        "outputId": "5f3a939c-708e-4888-e501-abd11f678912"
      },
      "execution_count": null,
      "outputs": [
        {
          "output_type": "stream",
          "name": "stdout",
          "text": [
            "WARNING:tensorflow:Layer lstm will not use cuDNN kernels since it doesn't meet the criteria. It will use a generic GPU kernel as fallback when running on GPU.\n",
            "WARNING:tensorflow:Layer lstm will not use cuDNN kernels since it doesn't meet the criteria. It will use a generic GPU kernel as fallback when running on GPU.\n",
            "WARNING:tensorflow:Layer lstm will not use cuDNN kernels since it doesn't meet the criteria. It will use a generic GPU kernel as fallback when running on GPU.\n",
            "WARNING:tensorflow:Layer gru will not use cuDNN kernels since it doesn't meet the criteria. It will use a generic GPU kernel as fallback when running on GPU.\n",
            "Model: \"model\"\n",
            "_________________________________________________________________\n",
            " Layer (type)                Output Shape              Param #   \n",
            "=================================================================\n",
            " input_1 (InputLayer)        [(None, 1)]               0         \n",
            "                                                                 \n",
            " text_vectorization_2 (TextV  (None, 30)               0         \n",
            " ectorization)                                                   \n",
            "                                                                 \n",
            " embedding (Embedding)       (None, 30, 50)            650100    \n",
            "                                                                 \n",
            " bidirectional (Bidirectiona  (None, 30, 128)          58880     \n",
            " l)                                                              \n",
            "                                                                 \n",
            " gru (GRU)                   (None, 64)                37248     \n",
            "                                                                 \n",
            " dense (Dense)               (None, 128)               8320      \n",
            "                                                                 \n",
            " batch_normalization (BatchN  (None, 128)              512       \n",
            " ormalization)                                                   \n",
            "                                                                 \n",
            " dropout (Dropout)           (None, 128)               0         \n",
            "                                                                 \n",
            " dense_1 (Dense)             (None, 64)                8256      \n",
            "                                                                 \n",
            " dropout_1 (Dropout)         (None, 64)                0         \n",
            "                                                                 \n",
            " dense_2 (Dense)             (None, 64)                4160      \n",
            "                                                                 \n",
            " dropout_2 (Dropout)         (None, 64)                0         \n",
            "                                                                 \n",
            " dense_3 (Dense)             (None, 1)                 65        \n",
            "                                                                 \n",
            "=================================================================\n",
            "Total params: 767,541\n",
            "Trainable params: 767,285\n",
            "Non-trainable params: 256\n",
            "_________________________________________________________________\n",
            "Epoch 1/5\n",
            "720/720 [==============================] - 342s 459ms/step - loss: 0.2463 - accuracy: 0.9291 - val_loss: 0.2474 - val_accuracy: 0.9347\n",
            "Epoch 2/5\n",
            "720/720 [==============================] - 313s 435ms/step - loss: 0.2181 - accuracy: 0.9317 - val_loss: 0.2395 - val_accuracy: 0.9300\n",
            "Epoch 3/5\n",
            "312/720 [============>.................] - ETA: 2:56 - loss: 0.2233 - accuracy: 0.9281"
          ]
        },
        {
          "output_type": "error",
          "ename": "KeyboardInterrupt",
          "evalue": "ignored",
          "traceback": [
            "\u001b[0;31m---------------------------------------------------------------------------\u001b[0m",
            "\u001b[0;31mKeyboardInterrupt\u001b[0m                         Traceback (most recent call last)",
            "\u001b[0;32m<ipython-input-72-a8d76ccd3230>\u001b[0m in \u001b[0;36m<module>\u001b[0;34m()\u001b[0m\n\u001b[1;32m     27\u001b[0m \u001b[0;34m\u001b[0m\u001b[0m\n\u001b[1;32m     28\u001b[0m \u001b[0;34m\u001b[0m\u001b[0m\n\u001b[0;32m---> 29\u001b[0;31m \u001b[0mhistory\u001b[0m \u001b[0;34m=\u001b[0m \u001b[0mmodel\u001b[0m\u001b[0;34m.\u001b[0m\u001b[0mfit\u001b[0m\u001b[0;34m(\u001b[0m\u001b[0mtrain_data\u001b[0m\u001b[0;34m.\u001b[0m\u001b[0mvalues\u001b[0m\u001b[0;34m,\u001b[0m \u001b[0mtrain_label\u001b[0m\u001b[0;34m.\u001b[0m\u001b[0mvalues\u001b[0m\u001b[0;34m,\u001b[0m \u001b[0mvalidation_data\u001b[0m\u001b[0;34m=\u001b[0m\u001b[0;34m(\u001b[0m\u001b[0mvalidation_data\u001b[0m\u001b[0;34m.\u001b[0m\u001b[0mvalues\u001b[0m\u001b[0;34m,\u001b[0m \u001b[0mvalidation_label\u001b[0m\u001b[0;34m.\u001b[0m\u001b[0mvalues\u001b[0m\u001b[0;34m)\u001b[0m\u001b[0;34m,\u001b[0m \u001b[0mcallbacks\u001b[0m\u001b[0;34m=\u001b[0m\u001b[0;34m[\u001b[0m\u001b[0mes\u001b[0m\u001b[0;34m]\u001b[0m\u001b[0;34m,\u001b[0m \u001b[0mepochs\u001b[0m\u001b[0;34m=\u001b[0m\u001b[0mepochs\u001b[0m\u001b[0;34m,\u001b[0m \u001b[0mbatch_size\u001b[0m\u001b[0;34m=\u001b[0m\u001b[0mbatch_size\u001b[0m\u001b[0;34m)\u001b[0m\u001b[0;34m\u001b[0m\u001b[0;34m\u001b[0m\u001b[0m\n\u001b[0m",
            "\u001b[0;32m/usr/local/lib/python3.7/dist-packages/keras/utils/traceback_utils.py\u001b[0m in \u001b[0;36merror_handler\u001b[0;34m(*args, **kwargs)\u001b[0m\n\u001b[1;32m     62\u001b[0m     \u001b[0mfiltered_tb\u001b[0m \u001b[0;34m=\u001b[0m \u001b[0;32mNone\u001b[0m\u001b[0;34m\u001b[0m\u001b[0;34m\u001b[0m\u001b[0m\n\u001b[1;32m     63\u001b[0m     \u001b[0;32mtry\u001b[0m\u001b[0;34m:\u001b[0m\u001b[0;34m\u001b[0m\u001b[0;34m\u001b[0m\u001b[0m\n\u001b[0;32m---> 64\u001b[0;31m       \u001b[0;32mreturn\u001b[0m \u001b[0mfn\u001b[0m\u001b[0;34m(\u001b[0m\u001b[0;34m*\u001b[0m\u001b[0margs\u001b[0m\u001b[0;34m,\u001b[0m \u001b[0;34m**\u001b[0m\u001b[0mkwargs\u001b[0m\u001b[0;34m)\u001b[0m\u001b[0;34m\u001b[0m\u001b[0;34m\u001b[0m\u001b[0m\n\u001b[0m\u001b[1;32m     65\u001b[0m     \u001b[0;32mexcept\u001b[0m \u001b[0mException\u001b[0m \u001b[0;32mas\u001b[0m \u001b[0me\u001b[0m\u001b[0;34m:\u001b[0m  \u001b[0;31m# pylint: disable=broad-except\u001b[0m\u001b[0;34m\u001b[0m\u001b[0;34m\u001b[0m\u001b[0m\n\u001b[1;32m     66\u001b[0m       \u001b[0mfiltered_tb\u001b[0m \u001b[0;34m=\u001b[0m \u001b[0m_process_traceback_frames\u001b[0m\u001b[0;34m(\u001b[0m\u001b[0me\u001b[0m\u001b[0;34m.\u001b[0m\u001b[0m__traceback__\u001b[0m\u001b[0;34m)\u001b[0m\u001b[0;34m\u001b[0m\u001b[0;34m\u001b[0m\u001b[0m\n",
            "\u001b[0;32m/usr/local/lib/python3.7/dist-packages/keras/engine/training.py\u001b[0m in \u001b[0;36mfit\u001b[0;34m(self, x, y, batch_size, epochs, verbose, callbacks, validation_split, validation_data, shuffle, class_weight, sample_weight, initial_epoch, steps_per_epoch, validation_steps, validation_batch_size, validation_freq, max_queue_size, workers, use_multiprocessing)\u001b[0m\n\u001b[1;32m   1382\u001b[0m                 _r=1):\n\u001b[1;32m   1383\u001b[0m               \u001b[0mcallbacks\u001b[0m\u001b[0;34m.\u001b[0m\u001b[0mon_train_batch_begin\u001b[0m\u001b[0;34m(\u001b[0m\u001b[0mstep\u001b[0m\u001b[0;34m)\u001b[0m\u001b[0;34m\u001b[0m\u001b[0;34m\u001b[0m\u001b[0m\n\u001b[0;32m-> 1384\u001b[0;31m               \u001b[0mtmp_logs\u001b[0m \u001b[0;34m=\u001b[0m \u001b[0mself\u001b[0m\u001b[0;34m.\u001b[0m\u001b[0mtrain_function\u001b[0m\u001b[0;34m(\u001b[0m\u001b[0miterator\u001b[0m\u001b[0;34m)\u001b[0m\u001b[0;34m\u001b[0m\u001b[0;34m\u001b[0m\u001b[0m\n\u001b[0m\u001b[1;32m   1385\u001b[0m               \u001b[0;32mif\u001b[0m \u001b[0mdata_handler\u001b[0m\u001b[0;34m.\u001b[0m\u001b[0mshould_sync\u001b[0m\u001b[0;34m:\u001b[0m\u001b[0;34m\u001b[0m\u001b[0;34m\u001b[0m\u001b[0m\n\u001b[1;32m   1386\u001b[0m                 \u001b[0mcontext\u001b[0m\u001b[0;34m.\u001b[0m\u001b[0masync_wait\u001b[0m\u001b[0;34m(\u001b[0m\u001b[0;34m)\u001b[0m\u001b[0;34m\u001b[0m\u001b[0;34m\u001b[0m\u001b[0m\n",
            "\u001b[0;32m/usr/local/lib/python3.7/dist-packages/tensorflow/python/util/traceback_utils.py\u001b[0m in \u001b[0;36merror_handler\u001b[0;34m(*args, **kwargs)\u001b[0m\n\u001b[1;32m    148\u001b[0m     \u001b[0mfiltered_tb\u001b[0m \u001b[0;34m=\u001b[0m \u001b[0;32mNone\u001b[0m\u001b[0;34m\u001b[0m\u001b[0;34m\u001b[0m\u001b[0m\n\u001b[1;32m    149\u001b[0m     \u001b[0;32mtry\u001b[0m\u001b[0;34m:\u001b[0m\u001b[0;34m\u001b[0m\u001b[0;34m\u001b[0m\u001b[0m\n\u001b[0;32m--> 150\u001b[0;31m       \u001b[0;32mreturn\u001b[0m \u001b[0mfn\u001b[0m\u001b[0;34m(\u001b[0m\u001b[0;34m*\u001b[0m\u001b[0margs\u001b[0m\u001b[0;34m,\u001b[0m \u001b[0;34m**\u001b[0m\u001b[0mkwargs\u001b[0m\u001b[0;34m)\u001b[0m\u001b[0;34m\u001b[0m\u001b[0;34m\u001b[0m\u001b[0m\n\u001b[0m\u001b[1;32m    151\u001b[0m     \u001b[0;32mexcept\u001b[0m \u001b[0mException\u001b[0m \u001b[0;32mas\u001b[0m \u001b[0me\u001b[0m\u001b[0;34m:\u001b[0m\u001b[0;34m\u001b[0m\u001b[0;34m\u001b[0m\u001b[0m\n\u001b[1;32m    152\u001b[0m       \u001b[0mfiltered_tb\u001b[0m \u001b[0;34m=\u001b[0m \u001b[0m_process_traceback_frames\u001b[0m\u001b[0;34m(\u001b[0m\u001b[0me\u001b[0m\u001b[0;34m.\u001b[0m\u001b[0m__traceback__\u001b[0m\u001b[0;34m)\u001b[0m\u001b[0;34m\u001b[0m\u001b[0;34m\u001b[0m\u001b[0m\n",
            "\u001b[0;32m/usr/local/lib/python3.7/dist-packages/tensorflow/python/eager/def_function.py\u001b[0m in \u001b[0;36m__call__\u001b[0;34m(self, *args, **kwds)\u001b[0m\n\u001b[1;32m    913\u001b[0m \u001b[0;34m\u001b[0m\u001b[0m\n\u001b[1;32m    914\u001b[0m       \u001b[0;32mwith\u001b[0m \u001b[0mOptionalXlaContext\u001b[0m\u001b[0;34m(\u001b[0m\u001b[0mself\u001b[0m\u001b[0;34m.\u001b[0m\u001b[0m_jit_compile\u001b[0m\u001b[0;34m)\u001b[0m\u001b[0;34m:\u001b[0m\u001b[0;34m\u001b[0m\u001b[0;34m\u001b[0m\u001b[0m\n\u001b[0;32m--> 915\u001b[0;31m         \u001b[0mresult\u001b[0m \u001b[0;34m=\u001b[0m \u001b[0mself\u001b[0m\u001b[0;34m.\u001b[0m\u001b[0m_call\u001b[0m\u001b[0;34m(\u001b[0m\u001b[0;34m*\u001b[0m\u001b[0margs\u001b[0m\u001b[0;34m,\u001b[0m \u001b[0;34m**\u001b[0m\u001b[0mkwds\u001b[0m\u001b[0;34m)\u001b[0m\u001b[0;34m\u001b[0m\u001b[0;34m\u001b[0m\u001b[0m\n\u001b[0m\u001b[1;32m    916\u001b[0m \u001b[0;34m\u001b[0m\u001b[0m\n\u001b[1;32m    917\u001b[0m       \u001b[0mnew_tracing_count\u001b[0m \u001b[0;34m=\u001b[0m \u001b[0mself\u001b[0m\u001b[0;34m.\u001b[0m\u001b[0mexperimental_get_tracing_count\u001b[0m\u001b[0;34m(\u001b[0m\u001b[0;34m)\u001b[0m\u001b[0;34m\u001b[0m\u001b[0;34m\u001b[0m\u001b[0m\n",
            "\u001b[0;32m/usr/local/lib/python3.7/dist-packages/tensorflow/python/eager/def_function.py\u001b[0m in \u001b[0;36m_call\u001b[0;34m(self, *args, **kwds)\u001b[0m\n\u001b[1;32m    945\u001b[0m       \u001b[0;31m# In this case we have created variables on the first call, so we run the\u001b[0m\u001b[0;34m\u001b[0m\u001b[0;34m\u001b[0m\u001b[0;34m\u001b[0m\u001b[0m\n\u001b[1;32m    946\u001b[0m       \u001b[0;31m# defunned version which is guaranteed to never create variables.\u001b[0m\u001b[0;34m\u001b[0m\u001b[0;34m\u001b[0m\u001b[0;34m\u001b[0m\u001b[0m\n\u001b[0;32m--> 947\u001b[0;31m       \u001b[0;32mreturn\u001b[0m \u001b[0mself\u001b[0m\u001b[0;34m.\u001b[0m\u001b[0m_stateless_fn\u001b[0m\u001b[0;34m(\u001b[0m\u001b[0;34m*\u001b[0m\u001b[0margs\u001b[0m\u001b[0;34m,\u001b[0m \u001b[0;34m**\u001b[0m\u001b[0mkwds\u001b[0m\u001b[0;34m)\u001b[0m  \u001b[0;31m# pylint: disable=not-callable\u001b[0m\u001b[0;34m\u001b[0m\u001b[0;34m\u001b[0m\u001b[0m\n\u001b[0m\u001b[1;32m    948\u001b[0m     \u001b[0;32melif\u001b[0m \u001b[0mself\u001b[0m\u001b[0;34m.\u001b[0m\u001b[0m_stateful_fn\u001b[0m \u001b[0;32mis\u001b[0m \u001b[0;32mnot\u001b[0m \u001b[0;32mNone\u001b[0m\u001b[0;34m:\u001b[0m\u001b[0;34m\u001b[0m\u001b[0;34m\u001b[0m\u001b[0m\n\u001b[1;32m    949\u001b[0m       \u001b[0;31m# Release the lock early so that multiple threads can perform the call\u001b[0m\u001b[0;34m\u001b[0m\u001b[0;34m\u001b[0m\u001b[0;34m\u001b[0m\u001b[0m\n",
            "\u001b[0;32m/usr/local/lib/python3.7/dist-packages/tensorflow/python/eager/function.py\u001b[0m in \u001b[0;36m__call__\u001b[0;34m(self, *args, **kwargs)\u001b[0m\n\u001b[1;32m   2955\u001b[0m        filtered_flat_args) = self._maybe_define_function(args, kwargs)\n\u001b[1;32m   2956\u001b[0m     return graph_function._call_flat(\n\u001b[0;32m-> 2957\u001b[0;31m         filtered_flat_args, captured_inputs=graph_function.captured_inputs)  # pylint: disable=protected-access\n\u001b[0m\u001b[1;32m   2958\u001b[0m \u001b[0;34m\u001b[0m\u001b[0m\n\u001b[1;32m   2959\u001b[0m   \u001b[0;34m@\u001b[0m\u001b[0mproperty\u001b[0m\u001b[0;34m\u001b[0m\u001b[0;34m\u001b[0m\u001b[0m\n",
            "\u001b[0;32m/usr/local/lib/python3.7/dist-packages/tensorflow/python/eager/function.py\u001b[0m in \u001b[0;36m_call_flat\u001b[0;34m(self, args, captured_inputs, cancellation_manager)\u001b[0m\n\u001b[1;32m   1852\u001b[0m       \u001b[0;31m# No tape is watching; skip to running the function.\u001b[0m\u001b[0;34m\u001b[0m\u001b[0;34m\u001b[0m\u001b[0;34m\u001b[0m\u001b[0m\n\u001b[1;32m   1853\u001b[0m       return self._build_call_outputs(self._inference_function.call(\n\u001b[0;32m-> 1854\u001b[0;31m           ctx, args, cancellation_manager=cancellation_manager))\n\u001b[0m\u001b[1;32m   1855\u001b[0m     forward_backward = self._select_forward_and_backward_functions(\n\u001b[1;32m   1856\u001b[0m         \u001b[0margs\u001b[0m\u001b[0;34m,\u001b[0m\u001b[0;34m\u001b[0m\u001b[0;34m\u001b[0m\u001b[0m\n",
            "\u001b[0;32m/usr/local/lib/python3.7/dist-packages/tensorflow/python/eager/function.py\u001b[0m in \u001b[0;36mcall\u001b[0;34m(self, ctx, args, cancellation_manager)\u001b[0m\n\u001b[1;32m    502\u001b[0m               \u001b[0minputs\u001b[0m\u001b[0;34m=\u001b[0m\u001b[0margs\u001b[0m\u001b[0;34m,\u001b[0m\u001b[0;34m\u001b[0m\u001b[0;34m\u001b[0m\u001b[0m\n\u001b[1;32m    503\u001b[0m               \u001b[0mattrs\u001b[0m\u001b[0;34m=\u001b[0m\u001b[0mattrs\u001b[0m\u001b[0;34m,\u001b[0m\u001b[0;34m\u001b[0m\u001b[0;34m\u001b[0m\u001b[0m\n\u001b[0;32m--> 504\u001b[0;31m               ctx=ctx)\n\u001b[0m\u001b[1;32m    505\u001b[0m         \u001b[0;32melse\u001b[0m\u001b[0;34m:\u001b[0m\u001b[0;34m\u001b[0m\u001b[0;34m\u001b[0m\u001b[0m\n\u001b[1;32m    506\u001b[0m           outputs = execute.execute_with_cancellation(\n",
            "\u001b[0;32m/usr/local/lib/python3.7/dist-packages/tensorflow/python/eager/execute.py\u001b[0m in \u001b[0;36mquick_execute\u001b[0;34m(op_name, num_outputs, inputs, attrs, ctx, name)\u001b[0m\n\u001b[1;32m     53\u001b[0m     \u001b[0mctx\u001b[0m\u001b[0;34m.\u001b[0m\u001b[0mensure_initialized\u001b[0m\u001b[0;34m(\u001b[0m\u001b[0;34m)\u001b[0m\u001b[0;34m\u001b[0m\u001b[0;34m\u001b[0m\u001b[0m\n\u001b[1;32m     54\u001b[0m     tensors = pywrap_tfe.TFE_Py_Execute(ctx._handle, device_name, op_name,\n\u001b[0;32m---> 55\u001b[0;31m                                         inputs, attrs, num_outputs)\n\u001b[0m\u001b[1;32m     56\u001b[0m   \u001b[0;32mexcept\u001b[0m \u001b[0mcore\u001b[0m\u001b[0;34m.\u001b[0m\u001b[0m_NotOkStatusException\u001b[0m \u001b[0;32mas\u001b[0m \u001b[0me\u001b[0m\u001b[0;34m:\u001b[0m\u001b[0;34m\u001b[0m\u001b[0;34m\u001b[0m\u001b[0m\n\u001b[1;32m     57\u001b[0m     \u001b[0;32mif\u001b[0m \u001b[0mname\u001b[0m \u001b[0;32mis\u001b[0m \u001b[0;32mnot\u001b[0m \u001b[0;32mNone\u001b[0m\u001b[0;34m:\u001b[0m\u001b[0;34m\u001b[0m\u001b[0;34m\u001b[0m\u001b[0m\n",
            "\u001b[0;31mKeyboardInterrupt\u001b[0m: "
          ]
        }
      ]
    },
    {
      "cell_type": "code",
      "source": [
        "show_history(history)"
      ],
      "metadata": {
        "colab": {
          "base_uri": "https://localhost:8080/",
          "height": 297
        },
        "id": "-I940a9QfK9D",
        "outputId": "8c4dc9b0-096d-4419-ed75-f37982b176a3"
      },
      "execution_count": null,
      "outputs": [
        {
          "output_type": "display_data",
          "data": {
            "text/plain": [
              "<Figure size 432x288 with 1 Axes>"
            ],
            "image/png": "[encoded data removed]"
          },
          "metadata": {
            "needs_background": "light"
          }
        }
      ]
    },
    {
      "cell_type": "code",
      "source": [
        "y_pred = model.predict(test_data.values).ravel()\n",
        "y_pred = [1 if x >= 0.5 else 0 for x in y_pred]\n",
        "\n",
        "f1_1 = get_y_true_y_pred(test_label.values, y_pred)\n",
        "\n",
        "res_transformers[name_gru] = f1_1"
      ],
      "metadata": {
        "id": "qpysCd2ZgMB5"
      },
      "execution_count": null,
      "outputs": []
    },
    {
      "cell_type": "markdown",
      "metadata": {
        "id": "97S7J935mKph"
      },
      "source": [
        "# Learning DistilBERT - trainable"
      ]
    },
    {
      "cell_type": "code",
      "execution_count": 58,
      "metadata": {
        "colab": {
          "base_uri": "https://localhost:8080/"
        },
        "id": "2Q7_IrDts9XC",
        "outputId": "2c4bedeb-b77a-40f9-9803-41ca0f607663"
      },
      "outputs": [
        {
          "output_type": "stream",
          "name": "stdout",
          "text": [
            "0    29720\n",
            "1     2242\n",
            "Name: label, dtype: int64\n"
          ]
        },
        {
          "output_type": "stream",
          "name": "stderr",
          "text": [
            "Some layers from the model checkpoint at distilbert-base-uncased were not used when initializing TFDistilBertModel: ['vocab_transform', 'vocab_projector', 'vocab_layer_norm', 'activation_13']\n",
            "- This IS expected if you are initializing TFDistilBertModel from the checkpoint of a model trained on another task or with another architecture (e.g. initializing a BertForSequenceClassification model from a BertForPreTraining model).\n",
            "- This IS NOT expected if you are initializing TFDistilBertModel from the checkpoint of a model that you expect to be exactly identical (initializing a BertForSequenceClassification model from a BertForSequenceClassification model).\n",
            "All the layers of TFDistilBertModel were initialized from the model checkpoint at distilbert-base-uncased.\n",
            "If your task is similar to the task the model of the checkpoint was trained on, you can already use TFDistilBertModel for predictions without further training.\n"
          ]
        },
        {
          "output_type": "stream",
          "name": "stdout",
          "text": [
            "Model: \"model_2\"\n",
            "__________________________________________________________________________________________________\n",
            " Layer (type)                   Output Shape         Param #     Connected to                     \n",
            "==================================================================================================\n",
            " input_ids (InputLayer)         [(None, 40)]         0           []                               \n",
            "                                                                                                  \n",
            " attention_mask (InputLayer)    [(None, 40)]         0           []                               \n",
            "                                                                                                  \n",
            " tf_distil_bert_model_2 (TFDist  TFBaseModelOutput(l  66362880   ['input_ids[0][0]',              \n",
            " ilBertModel)                   ast_hidden_state=(N               'attention_mask[0][0]']         \n",
            "                                one, 40, 768),                                                    \n",
            "                                 hidden_states=None                                               \n",
            "                                , attentions=None)                                                \n",
            "                                                                                                  \n",
            " tf.__operators__.getitem_2 (Sl  (None, 768)         0           ['tf_distil_bert_model_2[0][0]'] \n",
            " icingOpLambda)                                                                                   \n",
            "                                                                                                  \n",
            " dropout_59 (Dropout)           (None, 768)          0           ['tf.__operators__.getitem_2[0][0\n",
            "                                                                 ]']                              \n",
            "                                                                                                  \n",
            " dense_6 (Dense)                (None, 64)           49216       ['dropout_59[0][0]']             \n",
            "                                                                                                  \n",
            " batch_normalization_4 (BatchNo  (None, 64)          256         ['dense_6[0][0]']                \n",
            " rmalization)                                                                                     \n",
            "                                                                                                  \n",
            " dense_7 (Dense)                (None, 64)           4160        ['batch_normalization_4[0][0]']  \n",
            "                                                                                                  \n",
            " batch_normalization_5 (BatchNo  (None, 64)          256         ['dense_7[0][0]']                \n",
            " rmalization)                                                                                     \n",
            "                                                                                                  \n",
            " dense_8 (Dense)                (None, 1)            65          ['batch_normalization_5[0][0]']  \n",
            "                                                                                                  \n",
            "==================================================================================================\n",
            "Total params: 66,416,833\n",
            "Trainable params: 66,416,577\n",
            "Non-trainable params: 256\n",
            "__________________________________________________________________________________________________\n"
          ]
        }
      ],
      "source": [
        "name_3 = \"Learning BERT - trainable\"\n",
        "\n",
        "NUM_EPOCHS = 10\n",
        "BATCH_SIZE = 32\n",
        "LEARNING_RATE = 5e-5\n",
        "EARLY_STOP_PATIENCE = 3\n",
        "\n",
        "train_data, train_label, validation_data, validation_label, test_data, test_label = get_raw_ds(df_transformers.copy())\n",
        "\n",
        "base = TFDistilBertModel.from_pretrained(\n",
        "    MODEL_NAME,\n",
        ")\n",
        "\n",
        "input_ids = tf.keras.layers.Input(shape=(MAX_SEQUENCE_LENGTH,), dtype=tf.int32, name='input_ids')\n",
        "attention_mask = tf.keras.layers.Input((MAX_SEQUENCE_LENGTH,), dtype=tf.int32, name='attention_mask')\n",
        "\n",
        "output = base([input_ids, attention_mask]).last_hidden_state[:, 0, :]\n",
        "\n",
        "output = tf.keras.layers.Dropout(\n",
        "    rate=0.15,\n",
        ")(output)\n",
        "    \n",
        "output = tf.keras.layers.Dense(\n",
        "    units=64,\n",
        "    activation='relu',\n",
        ")(output)\n",
        "\n",
        "output = tf.keras.layers.BatchNormalization()(output)\n",
        "\n",
        "output = tf.keras.layers.Dense(\n",
        "    units=64,\n",
        "    activation='relu',\n",
        ")(output)\n",
        "\n",
        "output = tf.keras.layers.BatchNormalization()(output)\n",
        "\n",
        "output_layer = tf.keras.layers.Dense(\n",
        "    units=1,\n",
        "    activation='sigmoid'\n",
        ")(output)\n",
        "\n",
        "\n",
        "model = keras.Model(inputs=[input_ids, attention_mask], outputs=output_layer)\n",
        "\n",
        "model.summary()\n",
        "\n",
        "model.compile(optimizer=tf.keras.optimizers.Adam(learning_rate=LEARNING_RATE), loss=keras.losses.BinaryCrossentropy(), metrics=['accuracy'])\n",
        "\n",
        "es = keras.callbacks.EarlyStopping(monitor='val_loss', min_delta=0, patience=EARLY_STOP_PATIENCE, restore_best_weights=True)"
      ]
    },
    {
      "cell_type": "code",
      "execution_count": 59,
      "metadata": {
        "id": "QBXfHKzis9XD"
      },
      "outputs": [],
      "source": [
        "X = tf.data.Dataset.from_tensor_slices((\n",
        "    dict(tokenize(list(train_data))),\n",
        "    train_label\n",
        ")).batch(BATCH_SIZE).prefetch(1)\n",
        "\n",
        "\n",
        "V = tf.data.Dataset.from_tensor_slices((\n",
        "    dict(tokenize(list(validation_data))),\n",
        "    validation_label\n",
        ")).batch(BATCH_SIZE).prefetch(1)\n",
        "\n",
        "T = tf.data.Dataset.from_tensor_slices((\n",
        "    dict(tokenize(list(test_data))),\n",
        "    test_label\n",
        ")).batch(1).prefetch(1)"
      ]
    },
    {
      "cell_type": "code",
      "execution_count": 60,
      "metadata": {
        "colab": {
          "base_uri": "https://localhost:8080/"
        },
        "id": "GlOpkYr0s9XE",
        "outputId": "6bdcc0d2-365c-4214-cd65-e76e12a3fb66"
      },
      "outputs": [
        {
          "output_type": "stream",
          "name": "stdout",
          "text": [
            "Epoch 1/10\n",
            "720/720 [==============================] - 221s 291ms/step - loss: 0.5739 - accuracy: 0.7794 - val_loss: 0.3575 - val_accuracy: 0.9562\n",
            "Epoch 2/10\n",
            "720/720 [==============================] - 207s 288ms/step - loss: 0.3769 - accuracy: 0.9319 - val_loss: 0.2855 - val_accuracy: 0.9562\n",
            "Epoch 3/10\n",
            "720/720 [==============================] - 207s 287ms/step - loss: 0.2560 - accuracy: 0.9624 - val_loss: 0.3972 - val_accuracy: 0.9515\n",
            "Epoch 4/10\n",
            "720/720 [==============================] - 207s 287ms/step - loss: 0.1840 - accuracy: 0.9738 - val_loss: 0.2895 - val_accuracy: 0.9609\n",
            "Epoch 5/10\n",
            "720/720 [==============================] - 208s 289ms/step - loss: 0.1140 - accuracy: 0.9857 - val_loss: 0.3298 - val_accuracy: 0.9605\n"
          ]
        }
      ],
      "source": [
        "history = model.fit(\n",
        "    X,\n",
        "    epochs=NUM_EPOCHS,\n",
        "    validation_data=V,\n",
        "    callbacks=[\n",
        "      es\n",
        "    ]\n",
        ")"
      ]
    },
    {
      "cell_type": "code",
      "execution_count": 61,
      "metadata": {
        "id": "Gn_JVD8O136w",
        "colab": {
          "base_uri": "https://localhost:8080/",
          "height": 297
        },
        "outputId": "e5190f82-a349-4cb5-9ed9-fa1154a9146b"
      },
      "outputs": [
        {
          "output_type": "display_data",
          "data": {
            "text/plain": [
              "<Figure size 432x288 with 1 Axes>"
            ],
            "image/png": "[encoded data removed]"
          },
          "metadata": {
            "needs_background": "light"
          }
        }
      ],
      "source": [
        "show_history(history)"
      ]
    },
    {
      "cell_type": "code",
      "execution_count": 62,
      "metadata": {
        "id": "kLC-k3XIs9XE"
      },
      "outputs": [],
      "source": [
        "labels = model.predict(T)\n",
        "\n",
        "predicted = [1 if x >= 0.5 else 0 for x in labels.ravel()]\n",
        "\n",
        "f1_1 = get_y_true_y_pred(test_label, predicted)\n",
        "\n",
        "res_transformers[name_3] = f1_1"
      ]
    },
    {
      "cell_type": "markdown",
      "source": [
        "# Bert trainable"
      ],
      "metadata": {
        "id": "pgrpiIXfvoPj"
      }
    },
    {
      "cell_type": "code",
      "source": [
        "from transformers import TFAutoModel\n",
        "from transformers import AutoTokenizer"
      ],
      "metadata": {
        "id": "ZmDKdupuwK0B"
      },
      "execution_count": 64,
      "outputs": []
    },
    {
      "cell_type": "code",
      "source": [
        "BERT_MODEL_NAME = \"bert-base-uncased\""
      ],
      "metadata": {
        "id": "hE-4rfR7wDOC"
      },
      "execution_count": 67,
      "outputs": []
    },
    {
      "cell_type": "code",
      "source": [
        "tokenizer = AutoTokenizer.from_pretrained(BERT_MODEL_NAME)\n",
        "\n",
        "\n",
        "def tokenize(sentences, max_length=MAX_SEQUENCE_LENGTH, padding='max_length'):\n",
        "    return tokenizer(\n",
        "        sentences,\n",
        "        truncation=True,\n",
        "        padding=padding,\n",
        "        max_length=max_length,\n",
        "        return_tensors=\"tf\"\n",
        "    )"
      ],
      "metadata": {
        "colab": {
          "base_uri": "https://localhost:8080/",
          "height": 145,
          "referenced_widgets": [
            "cb801a108fba4fb39545b05ad235bd2a",
            "845cdb7fbeb3407ab6b26cf5222092bd",
            "48bd62cfd9bf420a9b5ea0664a6c1f80",
            "d9ef31de77b34a6f91699e82c702b3cc",
            "e2a103ceac114c6e858423ff81390e70",
            "4829419baea644ceb3584cff9a6b5f06",
            "50ff15be23e84d52a05245b63a3dde96",
            "7e0161eca8c84a3d9126e0a3f994b188",
            "27901beb2513493e9b2f53d1072a49e6",
            "e61993940c794448821c0ebdef638028",
            "8f5b736fe1774e0bbdec59313b714192",
            "3388de62d02c44aba6f70a9d8e12850c",
            "57987e3895cc4fa9a966318a2a2eb20d",
            "f02e33215af94324accc6e30578075ea",
            "ffb9c6198022490c9d3a348a6bdcef16",
            "d653a62a76d24dc59159fac05aa5172c",
            "74c46af72e4b431d97e9612308f56579",
            "843dbf528de94c6c88c3d4c47100d6cc",
            "489877d98ad349cfac41573f97ea84e8",
            "b4de6a5496f541d693c0108df97b81f9",
            "c838fdecdeac41b7929c687b66581e2c",
            "e914e2904e3946118690861d101ef48c",
            "34de187ae4164221b816102329ad0471",
            "d255798b6230420985dea8d0804e379b",
            "a7c4af57faae484ca9486da00a20e0b7",
            "4121cfde2b934fbfbb34bdd95cfb117a",
            "ae66e8f7be42458584f58a441915a98a",
            "cb34d9dfdb344bfe9cd99d1eeff44fe0",
            "9332d017fa1447a3bcfe69f89336710d",
            "15131385591e4f89a9e00a65b461e9fc",
            "bb1b638dad0e467881afda384a5e9174",
            "303e1bb7b4d047399fa840c8d41990f7",
            "ebc909d5e1214016b7c76f891ab95d9e",
            "4ac5bd3128254aedb0c792f29a763765",
            "0d68c100379c4c4cabc13cf4571e3a55",
            "2fb8e684c4764d8ebc7fb9468010544a",
            "92abba112bd247439406c2f8d69cc21d",
            "c0ee38f2b0f74fafac1c3b18b73d994a",
            "c14e3f6af7424e17b70d2c803457e028",
            "2b5f76639fe14656af9202c4130e82a4",
            "8417193e5b464897a3a92fc3a0f800ae",
            "3aa5b61da5464fbc8c71a064f01d0d9f",
            "049d2c6265ae400db7950e3d5d9c5022",
            "4a3133b964f94591bc4168d0a9e9ff54"
          ]
        },
        "id": "cZWShip6wCJN",
        "outputId": "46534d34-8a5a-4b9a-f42a-124432a3f3f4"
      },
      "execution_count": 68,
      "outputs": [
        {
          "output_type": "display_data",
          "data": {
            "text/plain": [
              "Downloading:   0%|          | 0.00/28.0 [00:00<?, ?B/s]"
            ],
            "application/vnd.jupyter.widget-view+json": {
              "version_major": 2,
              "version_minor": 0,
              "model_id": "cb801a108fba4fb39545b05ad235bd2a"
            }
          },
          "metadata": {}
        },
        {
          "output_type": "display_data",
          "data": {
            "text/plain": [
              "Downloading:   0%|          | 0.00/570 [00:00<?, ?B/s]"
            ],
            "application/vnd.jupyter.widget-view+json": {
              "version_major": 2,
              "version_minor": 0,
              "model_id": "3388de62d02c44aba6f70a9d8e12850c"
            }
          },
          "metadata": {}
        },
        {
          "output_type": "display_data",
          "data": {
            "text/plain": [
              "Downloading:   0%|          | 0.00/226k [00:00<?, ?B/s]"
            ],
            "application/vnd.jupyter.widget-view+json": {
              "version_major": 2,
              "version_minor": 0,
              "model_id": "34de187ae4164221b816102329ad0471"
            }
          },
          "metadata": {}
        },
        {
          "output_type": "display_data",
          "data": {
            "text/plain": [
              "Downloading:   0%|          | 0.00/455k [00:00<?, ?B/s]"
            ],
            "application/vnd.jupyter.widget-view+json": {
              "version_major": 2,
              "version_minor": 0,
              "model_id": "4ac5bd3128254aedb0c792f29a763765"
            }
          },
          "metadata": {}
        }
      ]
    },
    {
      "cell_type": "code",
      "source": [
        "name_4 = \"Learning BERT (no distil) - trainable\"\n",
        "\n",
        "NUM_EPOCHS = 10\n",
        "BATCH_SIZE = 32\n",
        "LEARNING_RATE = 5e-5\n",
        "EARLY_STOP_PATIENCE = 3\n",
        "\n",
        "train_data, train_label, validation_data, validation_label, test_data, test_label = get_raw_ds(df_transformers.copy())\n",
        "\n",
        "base = TFAutoModel.from_pretrained(\n",
        "    BERT_MODEL_NAME,\n",
        ")\n",
        "\n",
        "input_ids = tf.keras.layers.Input(shape=(MAX_SEQUENCE_LENGTH,), dtype=tf.int32, name='input_ids')\n",
        "attention_mask = tf.keras.layers.Input((MAX_SEQUENCE_LENGTH,), dtype=tf.int32, name='attention_mask')\n",
        "\n",
        "output = base([input_ids, attention_mask]).last_hidden_state[:, 0, :]\n",
        "\n",
        "output = tf.keras.layers.Dropout(\n",
        "    rate=0.15,\n",
        ")(output)\n",
        "    \n",
        "output = tf.keras.layers.Dense(\n",
        "    units=64,\n",
        "    activation='relu',\n",
        ")(output)\n",
        "\n",
        "output = tf.keras.layers.BatchNormalization()(output)\n",
        "\n",
        "output = tf.keras.layers.Dense(\n",
        "    units=64,\n",
        "    activation='relu',\n",
        ")(output)\n",
        "\n",
        "output = tf.keras.layers.BatchNormalization()(output)\n",
        "\n",
        "output_layer = tf.keras.layers.Dense(\n",
        "    units=1,\n",
        "    activation='sigmoid'\n",
        ")(output)\n",
        "\n",
        "\n",
        "model = keras.Model(inputs=[input_ids, attention_mask], outputs=output_layer)\n",
        "\n",
        "model.summary()\n",
        "\n",
        "model.compile(optimizer=tf.keras.optimizers.Adam(learning_rate=LEARNING_RATE), loss=keras.losses.BinaryCrossentropy(), metrics=['accuracy'])\n",
        "\n",
        "es = keras.callbacks.EarlyStopping(monitor='val_loss', min_delta=0, patience=EARLY_STOP_PATIENCE, restore_best_weights=True)"
      ],
      "metadata": {
        "colab": {
          "base_uri": "https://localhost:8080/",
          "height": 971,
          "referenced_widgets": [
            "18ad687895494cd0a9ed956840930efd",
            "0ea2da81f093421398be2ae353990d6f",
            "ad2c41413730485b95cc02cb3660b98f",
            "49cefe5defc1408f8d963e2e3d01a337",
            "7d0ea23c65564df59ca8b663557ed930",
            "5ac3f4b832e44ce9ba1cf930627ae6d5",
            "77c58bc04bc54333873b995040549bed",
            "3a3cdb39492548368b7da38995c481ab",
            "68c88c0e96b9484588841cbc47fd2162",
            "0904773af4354cc9b3ade044ae4bc16a",
            "2d2e959f4a574d92ae24ce6cb0dec20a"
          ]
        },
        "id": "FBSRHbH8vqxw",
        "outputId": "6c6386a1-1e46-48ca-f9e5-775814ab431d"
      },
      "execution_count": 69,
      "outputs": [
        {
          "output_type": "stream",
          "name": "stdout",
          "text": [
            "0    29720\n",
            "1     2242\n",
            "Name: label, dtype: int64\n"
          ]
        },
        {
          "output_type": "display_data",
          "data": {
            "text/plain": [
              "Downloading:   0%|          | 0.00/511M [00:00<?, ?B/s]"
            ],
            "application/vnd.jupyter.widget-view+json": {
              "version_major": 2,
              "version_minor": 0,
              "model_id": "18ad687895494cd0a9ed956840930efd"
            }
          },
          "metadata": {}
        },
        {
          "output_type": "stream",
          "name": "stderr",
          "text": [
            "Some layers from the model checkpoint at bert-base-uncased were not used when initializing TFBertModel: ['nsp___cls', 'mlm___cls']\n",
            "- This IS expected if you are initializing TFBertModel from the checkpoint of a model trained on another task or with another architecture (e.g. initializing a BertForSequenceClassification model from a BertForPreTraining model).\n",
            "- This IS NOT expected if you are initializing TFBertModel from the checkpoint of a model that you expect to be exactly identical (initializing a BertForSequenceClassification model from a BertForSequenceClassification model).\n",
            "All the layers of TFBertModel were initialized from the model checkpoint at bert-base-uncased.\n",
            "If your task is similar to the task the model of the checkpoint was trained on, you can already use TFBertModel for predictions without further training.\n"
          ]
        },
        {
          "output_type": "stream",
          "name": "stdout",
          "text": [
            "Model: \"model_3\"\n",
            "__________________________________________________________________________________________________\n",
            " Layer (type)                   Output Shape         Param #     Connected to                     \n",
            "==================================================================================================\n",
            " input_ids (InputLayer)         [(None, 40)]         0           []                               \n",
            "                                                                                                  \n",
            " attention_mask (InputLayer)    [(None, 40)]         0           []                               \n",
            "                                                                                                  \n",
            " tf_bert_model (TFBertModel)    TFBaseModelOutputWi  109482240   ['input_ids[0][0]',              \n",
            "                                thPoolingAndCrossAt               'attention_mask[0][0]']         \n",
            "                                tentions(last_hidde                                               \n",
            "                                n_state=(None, 40,                                                \n",
            "                                768),                                                             \n",
            "                                 pooler_output=(Non                                               \n",
            "                                e, 768),                                                          \n",
            "                                 past_key_values=No                                               \n",
            "                                ne, hidden_states=N                                               \n",
            "                                one, attentions=Non                                               \n",
            "                                e, cross_attentions                                               \n",
            "                                =None)                                                            \n",
            "                                                                                                  \n",
            " tf.__operators__.getitem_3 (Sl  (None, 768)         0           ['tf_bert_model[0][0]']          \n",
            " icingOpLambda)                                                                                   \n",
            "                                                                                                  \n",
            " dropout_97 (Dropout)           (None, 768)          0           ['tf.__operators__.getitem_3[0][0\n",
            "                                                                 ]']                              \n",
            "                                                                                                  \n",
            " dense_9 (Dense)                (None, 64)           49216       ['dropout_97[0][0]']             \n",
            "                                                                                                  \n",
            " batch_normalization_6 (BatchNo  (None, 64)          256         ['dense_9[0][0]']                \n",
            " rmalization)                                                                                     \n",
            "                                                                                                  \n",
            " dense_10 (Dense)               (None, 64)           4160        ['batch_normalization_6[0][0]']  \n",
            "                                                                                                  \n",
            " batch_normalization_7 (BatchNo  (None, 64)          256         ['dense_10[0][0]']               \n",
            " rmalization)                                                                                     \n",
            "                                                                                                  \n",
            " dense_11 (Dense)               (None, 1)            65          ['batch_normalization_7[0][0]']  \n",
            "                                                                                                  \n",
            "==================================================================================================\n",
            "Total params: 109,536,193\n",
            "Trainable params: 109,535,937\n",
            "Non-trainable params: 256\n",
            "__________________________________________________________________________________________________\n"
          ]
        }
      ]
    },
    {
      "cell_type": "code",
      "source": [
        "X = tf.data.Dataset.from_tensor_slices((\n",
        "    dict(tokenize(list(train_data))),\n",
        "    train_label\n",
        ")).batch(BATCH_SIZE).prefetch(1)\n",
        "\n",
        "\n",
        "V = tf.data.Dataset.from_tensor_slices((\n",
        "    dict(tokenize(list(validation_data))),\n",
        "    validation_label\n",
        ")).batch(BATCH_SIZE).prefetch(1)\n",
        "\n",
        "T = tf.data.Dataset.from_tensor_slices((\n",
        "    dict(tokenize(list(test_data))),\n",
        "    test_label\n",
        ")).batch(1).prefetch(1)"
      ],
      "metadata": {
        "id": "po8enzz8vwl5"
      },
      "execution_count": 70,
      "outputs": []
    },
    {
      "cell_type": "code",
      "source": [
        "history = model.fit(\n",
        "    X,\n",
        "    epochs=NUM_EPOCHS,\n",
        "    validation_data=V,\n",
        "    callbacks=[\n",
        "      es\n",
        "    ]\n",
        ")"
      ],
      "metadata": {
        "colab": {
          "base_uri": "https://localhost:8080/"
        },
        "id": "GVHibj-jvzzy",
        "outputId": "4bc84037-bf7d-4f97-9734-d316f0e91740"
      },
      "execution_count": 71,
      "outputs": [
        {
          "output_type": "stream",
          "name": "stdout",
          "text": [
            "Epoch 1/10\n"
          ]
        },
        {
          "output_type": "stream",
          "name": "stderr",
          "text": [
            "/usr/local/lib/python3.7/dist-packages/keras/engine/functional.py:559: UserWarning: Input dict contained keys ['token_type_ids'] which did not match any model input. They will be ignored by the model.\n",
            "  inputs = self._flatten_to_reference_inputs(inputs)\n"
          ]
        },
        {
          "output_type": "stream",
          "name": "stdout",
          "text": [
            "WARNING:tensorflow:Gradients do not exist for variables ['tf_bert_model/bert/pooler/dense/kernel:0', 'tf_bert_model/bert/pooler/dense/bias:0'] when minimizing the loss. If you're using `model.compile()`, did you forget to provide a `loss`argument?\n",
            "WARNING:tensorflow:Gradients do not exist for variables ['tf_bert_model/bert/pooler/dense/kernel:0', 'tf_bert_model/bert/pooler/dense/bias:0'] when minimizing the loss. If you're using `model.compile()`, did you forget to provide a `loss`argument?\n",
            "720/720 [==============================] - 421s 557ms/step - loss: 0.5883 - accuracy: 0.7623 - val_loss: 0.6690 - val_accuracy: 0.4638\n",
            "Epoch 2/10\n",
            "720/720 [==============================] - 401s 557ms/step - loss: 0.4207 - accuracy: 0.8958 - val_loss: 0.2533 - val_accuracy: 0.9574\n",
            "Epoch 3/10\n",
            "720/720 [==============================] - 396s 550ms/step - loss: 0.2931 - accuracy: 0.9535 - val_loss: 0.1966 - val_accuracy: 0.9609\n",
            "Epoch 4/10\n",
            "720/720 [==============================] - 399s 553ms/step - loss: 0.2074 - accuracy: 0.9704 - val_loss: 0.2821 - val_accuracy: 0.9609\n",
            "Epoch 5/10\n",
            "720/720 [==============================] - 399s 554ms/step - loss: 0.2689 - accuracy: 0.9393 - val_loss: 0.7152 - val_accuracy: 0.6433\n",
            "Epoch 6/10\n",
            "720/720 [==============================] - 398s 553ms/step - loss: 0.2444 - accuracy: 0.9452 - val_loss: 0.2655 - val_accuracy: 0.9300\n"
          ]
        }
      ]
    },
    {
      "cell_type": "code",
      "source": [
        "labels = model.predict(T)\n",
        "\n",
        "predicted = [1 if x >= 0.5 else 0 for x in labels.ravel()]\n",
        "\n",
        "f1_1 = get_y_true_y_pred(test_label, predicted)\n",
        "\n",
        "res_transformers[name_4] = f1_1"
      ],
      "metadata": {
        "colab": {
          "base_uri": "https://localhost:8080/"
        },
        "id": "Ex9b7miev2Q6",
        "outputId": "273e70b5-81c5-47d3-97b7-64bf3b073b8c"
      },
      "execution_count": 72,
      "outputs": [
        {
          "output_type": "stream",
          "name": "stderr",
          "text": [
            "/usr/local/lib/python3.7/dist-packages/keras/engine/functional.py:559: UserWarning: Input dict contained keys ['token_type_ids'] which did not match any model input. They will be ignored by the model.\n",
            "  inputs = self._flatten_to_reference_inputs(inputs)\n"
          ]
        }
      ]
    },
    {
      "cell_type": "code",
      "source": [
        "res_transformers"
      ],
      "metadata": {
        "colab": {
          "base_uri": "https://localhost:8080/"
        },
        "id": "FEr_lHjE8sza",
        "outputId": "59fcc686-ed15-4929-f29f-9d2451d3981e"
      },
      "execution_count": 73,
      "outputs": [
        {
          "output_type": "execute_result",
          "data": {
            "text/plain": [
              "{'Learning BERT (no distil) - trainable': 0.6083086053412462,\n",
              " 'Learning BERT - trainable': 0.6719636776390465}"
            ]
          },
          "metadata": {},
          "execution_count": 73
        }
      ]
    },
    {
      "cell_type": "markdown",
      "source": [
        "# Bert trainable oversampled"
      ],
      "metadata": {
        "id": "G_PYyqlozNmH"
      }
    },
    {
      "cell_type": "code",
      "source": [
        "tokenizer = AutoTokenizer.from_pretrained(BERT_MODEL_NAME)\n",
        "\n",
        "\n",
        "def tokenize(sentences, max_length=MAX_SEQUENCE_LENGTH, padding='max_length'):\n",
        "    return tokenizer(\n",
        "        sentences,\n",
        "        truncation=True,\n",
        "        padding=padding,\n",
        "        max_length=max_length,\n",
        "        return_tensors=\"tf\"\n",
        "    )"
      ],
      "metadata": {
        "id": "bN7j-hydzNAz"
      },
      "execution_count": 106,
      "outputs": []
    },
    {
      "cell_type": "code",
      "source": [
        "name_5 = \"Learning BERT (no distil) - trainable oversampled\"\n",
        "\n",
        "NUM_EPOCHS = 10\n",
        "BATCH_SIZE = 32\n",
        "LEARNING_RATE = 5e-5\n",
        "EARLY_STOP_PATIENCE = 3\n",
        "\n",
        "train_data, train_label, validation_data, validation_label, test_data, test_label = get_balanced_ds(df_transformers.copy())\n",
        "\n",
        "base = TFAutoModel.from_pretrained(\n",
        "    BERT_MODEL_NAME,\n",
        ")\n",
        "\n",
        "input_ids = tf.keras.layers.Input(shape=(MAX_SEQUENCE_LENGTH,), dtype=tf.int32, name='input_ids')\n",
        "attention_mask = tf.keras.layers.Input((MAX_SEQUENCE_LENGTH,), dtype=tf.int32, name='attention_mask')\n",
        "\n",
        "output = base([input_ids, attention_mask]).last_hidden_state[:, 0, :]\n",
        "\n",
        "output = tf.keras.layers.Dropout(\n",
        "    rate=0.15,\n",
        ")(output)\n",
        "    \n",
        "output = tf.keras.layers.Dense(\n",
        "    units=64,\n",
        "    activation='relu',\n",
        ")(output)\n",
        "\n",
        "output = tf.keras.layers.BatchNormalization()(output)\n",
        "\n",
        "output = tf.keras.layers.Dense(\n",
        "    units=64,\n",
        "    activation='relu',\n",
        ")(output)\n",
        "\n",
        "output = tf.keras.layers.BatchNormalization()(output)\n",
        "\n",
        "output_layer = tf.keras.layers.Dense(\n",
        "    units=1,\n",
        "    activation='sigmoid'\n",
        ")(output)\n",
        "\n",
        "\n",
        "model = keras.Model(inputs=[input_ids, attention_mask], outputs=output_layer)\n",
        "\n",
        "model.summary()\n",
        "\n",
        "model.compile(optimizer=tf.keras.optimizers.Adam(learning_rate=LEARNING_RATE), loss=keras.losses.BinaryCrossentropy(), metrics=['accuracy'])\n",
        "\n",
        "es = keras.callbacks.EarlyStopping(monitor='val_loss', min_delta=0, patience=EARLY_STOP_PATIENCE, restore_best_weights=True)"
      ],
      "metadata": {
        "colab": {
          "base_uri": "https://localhost:8080/"
        },
        "id": "0q1c0KIGzXEI",
        "outputId": "13f8e462-50fd-4887-94eb-32429f4cc425"
      },
      "execution_count": 107,
      "outputs": [
        {
          "output_type": "stream",
          "name": "stderr",
          "text": [
            "Some layers from the model checkpoint at bert-base-uncased were not used when initializing TFBertModel: ['nsp___cls', 'mlm___cls']\n",
            "- This IS expected if you are initializing TFBertModel from the checkpoint of a model trained on another task or with another architecture (e.g. initializing a BertForSequenceClassification model from a BertForPreTraining model).\n",
            "- This IS NOT expected if you are initializing TFBertModel from the checkpoint of a model that you expect to be exactly identical (initializing a BertForSequenceClassification model from a BertForSequenceClassification model).\n",
            "All the layers of TFBertModel were initialized from the model checkpoint at bert-base-uncased.\n",
            "If your task is similar to the task the model of the checkpoint was trained on, you can already use TFBertModel for predictions without further training.\n"
          ]
        },
        {
          "output_type": "stream",
          "name": "stdout",
          "text": [
            "Model: \"model_10\"\n",
            "__________________________________________________________________________________________________\n",
            " Layer (type)                   Output Shape         Param #     Connected to                     \n",
            "==================================================================================================\n",
            " input_ids (InputLayer)         [(None, 40)]         0           []                               \n",
            "                                                                                                  \n",
            " attention_mask (InputLayer)    [(None, 40)]         0           []                               \n",
            "                                                                                                  \n",
            " tf_bert_model_7 (TFBertModel)  TFBaseModelOutputWi  109482240   ['input_ids[0][0]',              \n",
            "                                thPoolingAndCrossAt               'attention_mask[0][0]']         \n",
            "                                tentions(last_hidde                                               \n",
            "                                n_state=(None, 40,                                                \n",
            "                                768),                                                             \n",
            "                                 pooler_output=(Non                                               \n",
            "                                e, 768),                                                          \n",
            "                                 past_key_values=No                                               \n",
            "                                ne, hidden_states=N                                               \n",
            "                                one, attentions=Non                                               \n",
            "                                e, cross_attentions                                               \n",
            "                                =None)                                                            \n",
            "                                                                                                  \n",
            " tf.__operators__.getitem_10 (S  (None, 768)         0           ['tf_bert_model_7[0][0]']        \n",
            " licingOpLambda)                                                                                  \n",
            "                                                                                                  \n",
            " dropout_363 (Dropout)          (None, 768)          0           ['tf.__operators__.getitem_10[0][\n",
            "                                                                 0]']                             \n",
            "                                                                                                  \n",
            " dense_30 (Dense)               (None, 64)           49216       ['dropout_363[0][0]']            \n",
            "                                                                                                  \n",
            " batch_normalization_20 (BatchN  (None, 64)          256         ['dense_30[0][0]']               \n",
            " ormalization)                                                                                    \n",
            "                                                                                                  \n",
            " dense_31 (Dense)               (None, 64)           4160        ['batch_normalization_20[0][0]'] \n",
            "                                                                                                  \n",
            " batch_normalization_21 (BatchN  (None, 64)          256         ['dense_31[0][0]']               \n",
            " ormalization)                                                                                    \n",
            "                                                                                                  \n",
            " dense_32 (Dense)               (None, 1)            65          ['batch_normalization_21[0][0]'] \n",
            "                                                                                                  \n",
            "==================================================================================================\n",
            "Total params: 109,536,193\n",
            "Trainable params: 109,535,937\n",
            "Non-trainable params: 256\n",
            "__________________________________________________________________________________________________\n"
          ]
        }
      ]
    },
    {
      "cell_type": "code",
      "source": [
        "X = tf.data.Dataset.from_tensor_slices((\n",
        "    dict(tokenize(list(train_data))),\n",
        "    train_label\n",
        ")).batch(BATCH_SIZE).prefetch(1)\n",
        "\n",
        "\n",
        "V = tf.data.Dataset.from_tensor_slices((\n",
        "    dict(tokenize(list(validation_data))),\n",
        "    validation_label\n",
        ")).batch(BATCH_SIZE).prefetch(1)\n",
        "\n",
        "T = tf.data.Dataset.from_tensor_slices((\n",
        "    dict(tokenize(list(test_data))),\n",
        "    test_label\n",
        ")).batch(1).prefetch(1)"
      ],
      "metadata": {
        "id": "Qsu3fFVczbCg"
      },
      "execution_count": 108,
      "outputs": []
    },
    {
      "cell_type": "code",
      "source": [
        "combined_dataset = X.concatenate(V)"
      ],
      "metadata": {
        "id": "dXvWfqFNK_UK"
      },
      "execution_count": 109,
      "outputs": []
    },
    {
      "cell_type": "code",
      "source": [
        "history = model.fit(\n",
        "    combined_dataset,\n",
        "    epochs=1\n",
        ")"
      ],
      "metadata": {
        "colab": {
          "base_uri": "https://localhost:8080/"
        },
        "id": "EznPrGjszclh",
        "outputId": "40bc11b7-0536-4264-d67f-617d90c72955"
      },
      "execution_count": 110,
      "outputs": [
        {
          "output_type": "stream",
          "name": "stderr",
          "text": [
            "/usr/local/lib/python3.7/dist-packages/keras/engine/functional.py:559: UserWarning: Input dict contained keys ['token_type_ids'] which did not match any model input. They will be ignored by the model.\n",
            "  inputs = self._flatten_to_reference_inputs(inputs)\n"
          ]
        },
        {
          "output_type": "stream",
          "name": "stdout",
          "text": [
            "WARNING:tensorflow:Gradients do not exist for variables ['tf_bert_model_7/bert/pooler/dense/kernel:0', 'tf_bert_model_7/bert/pooler/dense/bias:0'] when minimizing the loss. If you're using `model.compile()`, did you forget to provide a `loss`argument?\n",
            "WARNING:tensorflow:Gradients do not exist for variables ['tf_bert_model_7/bert/pooler/dense/kernel:0', 'tf_bert_model_7/bert/pooler/dense/bias:0'] when minimizing the loss. If you're using `model.compile()`, did you forget to provide a `loss`argument?\n",
            "1473/1473 [==============================] - 832s 551ms/step - loss: 0.1376 - accuracy: 0.9482\n"
          ]
        }
      ]
    },
    {
      "cell_type": "code",
      "source": [
        "labels = model.predict(T)\n",
        "\n",
        "predicted = [1 if x >= 0.5 else 0 for x in labels.ravel()]\n",
        "\n",
        "f1_1 = get_y_true_y_pred(test_label, predicted)\n",
        "\n",
        "res_transformers[name_5] = f1_1"
      ],
      "metadata": {
        "colab": {
          "base_uri": "https://localhost:8080/"
        },
        "id": "56r3dTyJzfVP",
        "outputId": "541c6de6-6e33-45c9-d289-a2af204eca60"
      },
      "execution_count": 111,
      "outputs": [
        {
          "output_type": "stream",
          "name": "stderr",
          "text": [
            "/usr/local/lib/python3.7/dist-packages/keras/engine/functional.py:559: UserWarning: Input dict contained keys ['token_type_ids'] which did not match any model input. They will be ignored by the model.\n",
            "  inputs = self._flatten_to_reference_inputs(inputs)\n"
          ]
        }
      ]
    },
    {
      "cell_type": "code",
      "source": [
        "res_transformers"
      ],
      "metadata": {
        "colab": {
          "base_uri": "https://localhost:8080/"
        },
        "id": "N1ke6Q2_9TDL",
        "outputId": "f13e2d5b-348b-4dd1-ac2d-772b8c2137e6"
      },
      "execution_count": 112,
      "outputs": [
        {
          "output_type": "execute_result",
          "data": {
            "text/plain": [
              "{'Learning BERT (no distil) - trainable': 0.6083086053412462,\n",
              " 'Learning BERT (no distil) - trainable oversampled': 0.7224880382775121,\n",
              " 'Learning BERT (no distil) - trainable oversampledtrain+valid': 0.7631901840490797,\n",
              " 'Learning BERT (no distil) - trainable oversampledtrain+valid+1': 0.7212765957446808,\n",
              " 'Learning BERT (no distil) - trainable oversampledtrain+valid+2': 0.7228070175438597,\n",
              " 'Learning BERT (no distil) - trainable oversampledtrain+valid+3': 0.723699421965318,\n",
              " 'Learning BERT - trainable': 0.6719636776390465}"
            ]
          },
          "metadata": {},
          "execution_count": 112
        }
      ]
    },
    {
      "cell_type": "markdown",
      "metadata": {
        "id": "gudzZpzfkQ1N"
      },
      "source": [
        "# Results"
      ]
    },
    {
      "cell_type": "code",
      "execution_count": 115,
      "metadata": {
        "id": "y4aCZkF0kNjj"
      },
      "outputs": [],
      "source": [
        "df = pd.DataFrame.from_dict(res_transformers, orient=\"index\")"
      ]
    },
    {
      "cell_type": "code",
      "source": [
        "df.columns=['f1']"
      ],
      "metadata": {
        "id": "8imuWFpbKoyR"
      },
      "execution_count": 116,
      "outputs": []
    },
    {
      "cell_type": "code",
      "source": [
        "df.sort_values(by='f1', ascending=False)"
      ],
      "metadata": {
        "colab": {
          "base_uri": "https://localhost:8080/",
          "height": 269
        },
        "id": "LyzRqwrZlndE",
        "outputId": "a8c40520-d9fd-467e-b213-0de95c29e5dd"
      },
      "execution_count": 120,
      "outputs": [
        {
          "output_type": "execute_result",
          "data": {
            "text/plain": [
              "                                                          f1\n",
              "Learning BERT (no distil) - trainable oversampl...  0.763190\n",
              "Learning BERT (no distil) - trainable oversampl...  0.723699\n",
              "Learning BERT (no distil) - trainable oversampl...  0.722807\n",
              "Learning BERT (no distil) - trainable oversampled   0.722488\n",
              "Learning BERT (no distil) - trainable oversampl...  0.721277\n",
              "Learning BERT - trainable                           0.671964\n",
              "Learning BERT (no distil) - trainable               0.608309"
            ],
            "text/html": [
              "\n",
              "  <div id=\"df-d7701b2f-a8d2-450f-bb3b-6f07e90b3222\">\n",
              "    <div class=\"colab-df-container\">\n",
              "      <div>\n",
              "<style scoped>\n",
              "    .dataframe tbody tr th:only-of-type {\n",
              "        vertical-align: middle;\n",
              "    }\n",
              "\n",
              "    .dataframe tbody tr th {\n",
              "        vertical-align: top;\n",
              "    }\n",
              "\n",
              "    .dataframe thead th {\n",
              "        text-align: right;\n",
              "    }\n",
              "</style>\n",
              "<table border=\"1\" class=\"dataframe\">\n",
              "  <thead>\n",
              "    <tr style=\"text-align: right;\">\n",
              "      <th></th>\n",
              "      <th>f1</th>\n",
              "    </tr>\n",
              "  </thead>\n",
              "  <tbody>\n",
              "    <tr>\n",
              "      <th>Learning BERT (no distil) - trainable oversampledtrain+valid</th>\n",
              "      <td>0.763190</td>\n",
              "    </tr>\n",
              "    <tr>\n",
              "      <th>Learning BERT (no distil) - trainable oversampledtrain+valid+3</th>\n",
              "      <td>0.723699</td>\n",
              "    </tr>\n",
              "    <tr>\n",
              "      <th>Learning BERT (no distil) - trainable oversampledtrain+valid+2</th>\n",
              "      <td>0.722807</td>\n",
              "    </tr>\n",
              "    <tr>\n",
              "      <th>Learning BERT (no distil) - trainable oversampled</th>\n",
              "      <td>0.722488</td>\n",
              "    </tr>\n",
              "    <tr>\n",
              "      <th>Learning BERT (no distil) - trainable oversampledtrain+valid+1</th>\n",
              "      <td>0.721277</td>\n",
              "    </tr>\n",
              "    <tr>\n",
              "      <th>Learning BERT - trainable</th>\n",
              "      <td>0.671964</td>\n",
              "    </tr>\n",
              "    <tr>\n",
              "      <th>Learning BERT (no distil) - trainable</th>\n",
              "      <td>0.608309</td>\n",
              "    </tr>\n",
              "  </tbody>\n",
              "</table>\n",
              "</div>\n",
              "      <button class=\"colab-df-convert\" onclick=\"convertToInteractive('df-d7701b2f-a8d2-450f-bb3b-6f07e90b3222')\"\n",
              "              title=\"Convert this dataframe to an interactive table.\"\n",
              "              style=\"display:none;\">\n",
              "        \n",
              "  <svg xmlns=\"http://www.w3.org/2000/svg\" height=\"24px\"viewBox=\"0 0 24 24\"\n",
              "       width=\"24px\">\n",
              "    <path d=\"M0 0h24v24H0V0z\" fill=\"none\"/>\n",
              "    <path d=\"M18.56 5.44l.94 2.06.94-2.06 2.06-.94-2.06-.94-.94-2.06-.94 2.06-2.06.94zm-11 1L8.5 8.5l.94-2.06 2.06-.94-2.06-.94L8.5 2.5l-.94 2.06-2.06.94zm10 10l.94 2.06.94-2.06 2.06-.94-2.06-.94-.94-2.06-.94 2.06-2.06.94z\"/><path d=\"M17.41 7.96l-1.37-1.37c-.4-.4-.92-.59-1.43-.59-.52 0-1.04.2-1.43.59L10.3 9.45l-7.72 7.72c-.78.78-.78 2.05 0 2.83L4 21.41c.39.39.9.59 1.41.59.51 0 1.02-.2 1.41-.59l7.78-7.78 2.81-2.81c.8-.78.8-2.07 0-2.86zM5.41 20L4 18.59l7.72-7.72 1.47 1.35L5.41 20z\"/>\n",
              "  </svg>\n",
              "      </button>\n",
              "      \n",
              "  <style>\n",
              "    .colab-df-container {\n",
              "      display:flex;\n",
              "      flex-wrap:wrap;\n",
              "      gap: 12px;\n",
              "    }\n",
              "\n",
              "    .colab-df-convert {\n",
              "      background-color: #E8F0FE;\n",
              "      border: none;\n",
              "      border-radius: 50%;\n",
              "      cursor: pointer;\n",
              "      display: none;\n",
              "      fill: #1967D2;\n",
              "      height: 32px;\n",
              "      padding: 0 0 0 0;\n",
              "      width: 32px;\n",
              "    }\n",
              "\n",
              "    .colab-df-convert:hover {\n",
              "      background-color: #E2EBFA;\n",
              "      box-shadow: 0px 1px 2px rgba(60, 64, 67, 0.3), 0px 1px 3px 1px rgba(60, 64, 67, 0.15);\n",
              "      fill: #174EA6;\n",
              "    }\n",
              "\n",
              "    [theme=dark] .colab-df-convert {\n",
              "      background-color: #3B4455;\n",
              "      fill: #D2E3FC;\n",
              "    }\n",
              "\n",
              "    [theme=dark] .colab-df-convert:hover {\n",
              "      background-color: #434B5C;\n",
              "      box-shadow: 0px 1px 3px 1px rgba(0, 0, 0, 0.15);\n",
              "      filter: drop-shadow(0px 1px 2px rgba(0, 0, 0, 0.3));\n",
              "      fill: #FFFFFF;\n",
              "    }\n",
              "  </style>\n",
              "\n",
              "      <script>\n",
              "        const buttonEl =\n",
              "          document.querySelector('#df-d7701b2f-a8d2-450f-bb3b-6f07e90b3222 button.colab-df-convert');\n",
              "        buttonEl.style.display =\n",
              "          google.colab.kernel.accessAllowed ? 'block' : 'none';\n",
              "\n",
              "        async function convertToInteractive(key) {\n",
              "          const element = document.querySelector('#df-d7701b2f-a8d2-450f-bb3b-6f07e90b3222');\n",
              "          const dataTable =\n",
              "            await google.colab.kernel.invokeFunction('convertToInteractive',\n",
              "                                                     [key], {});\n",
              "          if (!dataTable) return;\n",
              "\n",
              "          const docLinkHtml = 'Like what you see? Visit the ' +\n",
              "            '<a target=\"_blank\" href=https://colab.research.google.com/notebooks/data_table.ipynb>data table notebook</a>'\n",
              "            + ' to learn more about interactive tables.';\n",
              "          element.innerHTML = '';\n",
              "          dataTable['output_type'] = 'display_data';\n",
              "          await google.colab.output.renderOutput(dataTable, element);\n",
              "          const docLink = document.createElement('div');\n",
              "          docLink.innerHTML = docLinkHtml;\n",
              "          element.appendChild(docLink);\n",
              "        }\n",
              "      </script>\n",
              "    </div>\n",
              "  </div>\n",
              "  "
            ]
          },
          "metadata": {},
          "execution_count": 120
        }
      ]
    }
  ],
  "metadata": {
    "accelerator": "GPU",
    "colab": {
      "collapsed_sections": [],
      "name": "ds4_04_7.ipynb",
      "provenance": []
    },
    "file_extension": ".py",
    "kernelspec": {
      "display_name": "Python 3",
      "language": "python",
      "name": "python3"
    },
    "language_info": {
      "codemirror_mode": {
        "name": "ipython",
        "version": 3
      },
      "file_extension": ".py",
      "mimetype": "text/x-python",
      "name": "python",
      "nbconvert_exporter": "python",
      "pygments_lexer": "ipython3",
      "version": "3.6.9"
    },
    "mimetype": "text/x-python",
    "name": "python",
    "npconvert_exporter": "python",
    "pygments_lexer": "ipython3",
    "version": 3,
    "widgets": {
      "application/vnd.jupyter.widget-state+json": {
        "019f1aa85afc4b8e8eefb989cb51b316": {
          "model_module": "@jupyter-widgets/controls",
          "model_module_version": "1.5.0",
          "model_name": "HTMLModel",
          "state": {
            "_dom_classes": [],
            "_model_module": "@jupyter-widgets/controls",
            "_model_module_version": "1.5.0",
            "_model_name": "HTMLModel",
            "_view_count": null,
            "_view_module": "@jupyter-widgets/controls",
            "_view_module_version": "1.5.0",
            "_view_name": "HTMLView",
            "description": "",
            "description_tooltip": null,
            "layout": "IPY_MODEL_e8af29e8992c42c393e30ff8a9e062de",
            "placeholder": "​",
            "style": "IPY_MODEL_6136476a36ab4db584fd225b13d11f59",
            "value": "Downloading: 100%"
          }
        },
        "02c3a590f9e74390a15b88f2ff9535e8": {
          "model_module": "@jupyter-widgets/controls",
          "model_module_version": "1.5.0",
          "model_name": "HBoxModel",
          "state": {
            "_dom_classes": [],
            "_model_module": "@jupyter-widgets/controls",
            "_model_module_version": "1.5.0",
            "_model_name": "HBoxModel",
            "_view_count": null,
            "_view_module": "@jupyter-widgets/controls",
            "_view_module_version": "1.5.0",
            "_view_name": "HBoxView",
            "box_style": "",
            "children": [
              "IPY_MODEL_930575a7b79b4aa29c01c0f2299f99f8",
              "IPY_MODEL_1e71b9d62ea6466984e4a6c5734cd3ba",
              "IPY_MODEL_63f1ea2292f74f7188c65f46acdf3887"
            ],
            "layout": "IPY_MODEL_ac9ce7fe98ce4f62b20daaa3a5cc9d90"
          }
        },
        "087583d157244012837021754318c1f2": {
          "model_module": "@jupyter-widgets/controls",
          "model_module_version": "1.5.0",
          "model_name": "HTMLModel",
          "state": {
            "_dom_classes": [],
            "_model_module": "@jupyter-widgets/controls",
            "_model_module_version": "1.5.0",
            "_model_name": "HTMLModel",
            "_view_count": null,
            "_view_module": "@jupyter-widgets/controls",
            "_view_module_version": "1.5.0",
            "_view_name": "HTMLView",
            "description": "",
            "description_tooltip": null,
            "layout": "IPY_MODEL_8655b737ec974df685ce14ffcc81bce0",
            "placeholder": "​",
            "style": "IPY_MODEL_cf75eedba484495b9e56b2deec91ebfe",
            "value": "Downloading: 100%"
          }
        },
        "09b556f1f1aa40f7a22194dff005af46": {
          "model_module": "@jupyter-widgets/controls",
          "model_module_version": "1.5.0",
          "model_name": "ProgressStyleModel",
          "state": {
            "_model_module": "@jupyter-widgets/controls",
            "_model_module_version": "1.5.0",
            "_model_name": "ProgressStyleModel",
            "_view_count": null,
            "_view_module": "@jupyter-widgets/base",
            "_view_module_version": "1.2.0",
            "_view_name": "StyleView",
            "bar_color": null,
            "description_width": ""
          }
        },
        "0a0a7cfd55994f0f9751bc7bbd7a5fcd": {
          "model_module": "@jupyter-widgets/controls",
          "model_module_version": "1.5.0",
          "model_name": "HBoxModel",
          "state": {
            "_dom_classes": [],
            "_model_module": "@jupyter-widgets/controls",
            "_model_module_version": "1.5.0",
            "_model_name": "HBoxModel",
            "_view_count": null,
            "_view_module": "@jupyter-widgets/controls",
            "_view_module_version": "1.5.0",
            "_view_name": "HBoxView",
            "box_style": "",
            "children": [
              "IPY_MODEL_087583d157244012837021754318c1f2",
              "IPY_MODEL_a69b52a8d9884d33a63f90e84301c53e",
              "IPY_MODEL_f2184639cdf141c289969a5380ce9b9c"
            ],
            "layout": "IPY_MODEL_84f429a6db564e67b44e99213db989a3"
          }
        },
        "0bb7546039d64769ae5737b819fbb912": {
          "model_module": "@jupyter-widgets/controls",
          "model_module_version": "1.5.0",
          "model_name": "HBoxModel",
          "state": {
            "_dom_classes": [],
            "_model_module": "@jupyter-widgets/controls",
            "_model_module_version": "1.5.0",
            "_model_name": "HBoxModel",
            "_view_count": null,
            "_view_module": "@jupyter-widgets/controls",
            "_view_module_version": "1.5.0",
            "_view_name": "HBoxView",
            "box_style": "",
            "children": [
              "IPY_MODEL_827921ca10bf4e8ea364420022deb47e",
              "IPY_MODEL_ff958f5cf9af478395c2071d9422cc1a",
              "IPY_MODEL_d1603ac34a3b4fc786b6f21ebddaf09f"
            ],
            "layout": "IPY_MODEL_9f61bc56918f47f1972e9c7d0aced35f"
          }
        },
        "140fcf40286046e99bda4dacd3c5d87d": {
          "model_module": "@jupyter-widgets/controls",
          "model_module_version": "1.5.0",
          "model_name": "DescriptionStyleModel",
          "state": {
            "_model_module": "@jupyter-widgets/controls",
            "_model_module_version": "1.5.0",
            "_model_name": "DescriptionStyleModel",
            "_view_count": null,
            "_view_module": "@jupyter-widgets/base",
            "_view_module_version": "1.2.0",
            "_view_name": "StyleView",
            "description_width": ""
          }
        },
        "1bae26db4b204c34b50fc88834ed9b4f": {
          "model_module": "@jupyter-widgets/controls",
          "model_module_version": "1.5.0",
          "model_name": "FloatProgressModel",
          "state": {
            "_dom_classes": [],
            "_model_module": "@jupyter-widgets/controls",
            "_model_module_version": "1.5.0",
            "_model_name": "FloatProgressModel",
            "_view_count": null,
            "_view_module": "@jupyter-widgets/controls",
            "_view_module_version": "1.5.0",
            "_view_name": "ProgressView",
            "bar_style": "success",
            "description": "",
            "description_tooltip": null,
            "layout": "IPY_MODEL_3d555524ea1b42c9ba8f473c6d018c30",
            "max": 898822,
            "min": 0,
            "orientation": "horizontal",
            "style": "IPY_MODEL_35669f1e5c254d43a5a7d580f991af3d",
            "value": 898822
          }
        },
        "1e71b9d62ea6466984e4a6c5734cd3ba": {
          "model_module": "@jupyter-widgets/controls",
          "model_module_version": "1.5.0",
          "model_name": "FloatProgressModel",
          "state": {
            "_dom_classes": [],
            "_model_module": "@jupyter-widgets/controls",
            "_model_module_version": "1.5.0",
            "_model_name": "FloatProgressModel",
            "_view_count": null,
            "_view_module": "@jupyter-widgets/controls",
            "_view_module_version": "1.5.0",
            "_view_name": "ProgressView",
            "bar_style": "success",
            "description": "",
            "description_tooltip": null,
            "layout": "IPY_MODEL_598dd30eb4c4429f871eddc89d682ef0",
            "max": 747,
            "min": 0,
            "orientation": "horizontal",
            "style": "IPY_MODEL_b53d07f182d14dddb47bcdfedf8c368b",
            "value": 747
          }
        },
        "223ccf30bd5a4838bbd3a878d52f2c5f": {
          "model_module": "@jupyter-widgets/controls",
          "model_module_version": "1.5.0",
          "model_name": "FloatProgressModel",
          "state": {
            "_dom_classes": [],
            "_model_module": "@jupyter-widgets/controls",
            "_model_module_version": "1.5.0",
            "_model_name": "FloatProgressModel",
            "_view_count": null,
            "_view_module": "@jupyter-widgets/controls",
            "_view_module_version": "1.5.0",
            "_view_name": "ProgressView",
            "bar_style": "success",
            "description": "",
            "description_tooltip": null,
            "layout": "IPY_MODEL_a0fa324e55e4412580ebf8032ae98ca2",
            "max": 456318,
            "min": 0,
            "orientation": "horizontal",
            "style": "IPY_MODEL_09b556f1f1aa40f7a22194dff005af46",
            "value": 456318
          }
        },
        "2aa6cea622ca445a949cfa4ed1b1f03f": {
          "model_module": "@jupyter-widgets/base",
          "model_module_version": "1.2.0",
          "model_name": "LayoutModel",
          "state": {
            "_model_module": "@jupyter-widgets/base",
            "_model_module_version": "1.2.0",
            "_model_name": "LayoutModel",
            "_view_count": null,
            "_view_module": "@jupyter-widgets/base",
            "_view_module_version": "1.2.0",
            "_view_name": "LayoutView",
            "align_content": null,
            "align_items": null,
            "align_self": null,
            "border": null,
            "bottom": null,
            "display": null,
            "flex": null,
            "flex_flow": null,
            "grid_area": null,
            "grid_auto_columns": null,
            "grid_auto_flow": null,
            "grid_auto_rows": null,
            "grid_column": null,
            "grid_gap": null,
            "grid_row": null,
            "grid_template_areas": null,
            "grid_template_columns": null,
            "grid_template_rows": null,
            "height": null,
            "justify_content": null,
            "justify_items": null,
            "left": null,
            "margin": null,
            "max_height": null,
            "max_width": null,
            "min_height": null,
            "min_width": null,
            "object_fit": null,
            "object_position": null,
            "order": null,
            "overflow": null,
            "overflow_x": null,
            "overflow_y": null,
            "padding": null,
            "right": null,
            "top": null,
            "visibility": null,
            "width": null
          }
        },
        "2cfa6bcc112c464389fff9e07ecba7fe": {
          "model_module": "@jupyter-widgets/base",
          "model_module_version": "1.2.0",
          "model_name": "LayoutModel",
          "state": {
            "_model_module": "@jupyter-widgets/base",
            "_model_module_version": "1.2.0",
            "_model_name": "LayoutModel",
            "_view_count": null,
            "_view_module": "@jupyter-widgets/base",
            "_view_module_version": "1.2.0",
            "_view_name": "LayoutView",
            "align_content": null,
            "align_items": null,
            "align_self": null,
            "border": null,
            "bottom": null,
            "display": null,
            "flex": null,
            "flex_flow": null,
            "grid_area": null,
            "grid_auto_columns": null,
            "grid_auto_flow": null,
            "grid_auto_rows": null,
            "grid_column": null,
            "grid_gap": null,
            "grid_row": null,
            "grid_template_areas": null,
            "grid_template_columns": null,
            "grid_template_rows": null,
            "height": null,
            "justify_content": null,
            "justify_items": null,
            "left": null,
            "margin": null,
            "max_height": null,
            "max_width": null,
            "min_height": null,
            "min_width": null,
            "object_fit": null,
            "object_position": null,
            "order": null,
            "overflow": null,
            "overflow_x": null,
            "overflow_y": null,
            "padding": null,
            "right": null,
            "top": null,
            "visibility": null,
            "width": null
          }
        },
        "35669f1e5c254d43a5a7d580f991af3d": {
          "model_module": "@jupyter-widgets/controls",
          "model_module_version": "1.5.0",
          "model_name": "ProgressStyleModel",
          "state": {
            "_model_module": "@jupyter-widgets/controls",
            "_model_module_version": "1.5.0",
            "_model_name": "ProgressStyleModel",
            "_view_count": null,
            "_view_module": "@jupyter-widgets/base",
            "_view_module_version": "1.2.0",
            "_view_name": "StyleView",
            "bar_color": null,
            "description_width": ""
          }
        },
        "3963017effb84467a0f137acf5027ec6": {
          "model_module": "@jupyter-widgets/controls",
          "model_module_version": "1.5.0",
          "model_name": "ProgressStyleModel",
          "state": {
            "_model_module": "@jupyter-widgets/controls",
            "_model_module_version": "1.5.0",
            "_model_name": "ProgressStyleModel",
            "_view_count": null,
            "_view_module": "@jupyter-widgets/base",
            "_view_module_version": "1.2.0",
            "_view_name": "StyleView",
            "bar_color": null,
            "description_width": ""
          }
        },
        "3b413a23e25b46f9895b8ada6263ddb2": {
          "model_module": "@jupyter-widgets/base",
          "model_module_version": "1.2.0",
          "model_name": "LayoutModel",
          "state": {
            "_model_module": "@jupyter-widgets/base",
            "_model_module_version": "1.2.0",
            "_model_name": "LayoutModel",
            "_view_count": null,
            "_view_module": "@jupyter-widgets/base",
            "_view_module_version": "1.2.0",
            "_view_name": "LayoutView",
            "align_content": null,
            "align_items": null,
            "align_self": null,
            "border": null,
            "bottom": null,
            "display": null,
            "flex": null,
            "flex_flow": null,
            "grid_area": null,
            "grid_auto_columns": null,
            "grid_auto_flow": null,
            "grid_auto_rows": null,
            "grid_column": null,
            "grid_gap": null,
            "grid_row": null,
            "grid_template_areas": null,
            "grid_template_columns": null,
            "grid_template_rows": null,
            "height": null,
            "justify_content": null,
            "justify_items": null,
            "left": null,
            "margin": null,
            "max_height": null,
            "max_width": null,
            "min_height": null,
            "min_width": null,
            "object_fit": null,
            "object_position": null,
            "order": null,
            "overflow": null,
            "overflow_x": null,
            "overflow_y": null,
            "padding": null,
            "right": null,
            "top": null,
            "visibility": null,
            "width": null
          }
        },
        "3d555524ea1b42c9ba8f473c6d018c30": {
          "model_module": "@jupyter-widgets/base",
          "model_module_version": "1.2.0",
          "model_name": "LayoutModel",
          "state": {
            "_model_module": "@jupyter-widgets/base",
            "_model_module_version": "1.2.0",
            "_model_name": "LayoutModel",
            "_view_count": null,
            "_view_module": "@jupyter-widgets/base",
            "_view_module_version": "1.2.0",
            "_view_name": "LayoutView",
            "align_content": null,
            "align_items": null,
            "align_self": null,
            "border": null,
            "bottom": null,
            "display": null,
            "flex": null,
            "flex_flow": null,
            "grid_area": null,
            "grid_auto_columns": null,
            "grid_auto_flow": null,
            "grid_auto_rows": null,
            "grid_column": null,
            "grid_gap": null,
            "grid_row": null,
            "grid_template_areas": null,
            "grid_template_columns": null,
            "grid_template_rows": null,
            "height": null,
            "justify_content": null,
            "justify_items": null,
            "left": null,
            "margin": null,
            "max_height": null,
            "max_width": null,
            "min_height": null,
            "min_width": null,
            "object_fit": null,
            "object_position": null,
            "order": null,
            "overflow": null,
            "overflow_x": null,
            "overflow_y": null,
            "padding": null,
            "right": null,
            "top": null,
            "visibility": null,
            "width": null
          }
        },
        "426c9decaf2b4654821813afacdfcdd1": {
          "model_module": "@jupyter-widgets/controls",
          "model_module_version": "1.5.0",
          "model_name": "DescriptionStyleModel",
          "state": {
            "_model_module": "@jupyter-widgets/controls",
            "_model_module_version": "1.5.0",
            "_model_name": "DescriptionStyleModel",
            "_view_count": null,
            "_view_module": "@jupyter-widgets/base",
            "_view_module_version": "1.2.0",
            "_view_name": "StyleView",
            "description_width": ""
          }
        },
        "55d0b83ce6c447079e319e89864a8e12": {
          "model_module": "@jupyter-widgets/base",
          "model_module_version": "1.2.0",
          "model_name": "LayoutModel",
          "state": {
            "_model_module": "@jupyter-widgets/base",
            "_model_module_version": "1.2.0",
            "_model_name": "LayoutModel",
            "_view_count": null,
            "_view_module": "@jupyter-widgets/base",
            "_view_module_version": "1.2.0",
            "_view_name": "LayoutView",
            "align_content": null,
            "align_items": null,
            "align_self": null,
            "border": null,
            "bottom": null,
            "display": null,
            "flex": null,
            "flex_flow": null,
            "grid_area": null,
            "grid_auto_columns": null,
            "grid_auto_flow": null,
            "grid_auto_rows": null,
            "grid_column": null,
            "grid_gap": null,
            "grid_row": null,
            "grid_template_areas": null,
            "grid_template_columns": null,
            "grid_template_rows": null,
            "height": null,
            "justify_content": null,
            "justify_items": null,
            "left": null,
            "margin": null,
            "max_height": null,
            "max_width": null,
            "min_height": null,
            "min_width": null,
            "object_fit": null,
            "object_position": null,
            "order": null,
            "overflow": null,
            "overflow_x": null,
            "overflow_y": null,
            "padding": null,
            "right": null,
            "top": null,
            "visibility": null,
            "width": null
          }
        },
        "55e00945e89a49c9bff5a72fa4916688": {
          "model_module": "@jupyter-widgets/controls",
          "model_module_version": "1.5.0",
          "model_name": "DescriptionStyleModel",
          "state": {
            "_model_module": "@jupyter-widgets/controls",
            "_model_module_version": "1.5.0",
            "_model_name": "DescriptionStyleModel",
            "_view_count": null,
            "_view_module": "@jupyter-widgets/base",
            "_view_module_version": "1.2.0",
            "_view_name": "StyleView",
            "description_width": ""
          }
        },
        "598dd30eb4c4429f871eddc89d682ef0": {
          "model_module": "@jupyter-widgets/base",
          "model_module_version": "1.2.0",
          "model_name": "LayoutModel",
          "state": {
            "_model_module": "@jupyter-widgets/base",
            "_model_module_version": "1.2.0",
            "_model_name": "LayoutModel",
            "_view_count": null,
            "_view_module": "@jupyter-widgets/base",
            "_view_module_version": "1.2.0",
            "_view_name": "LayoutView",
            "align_content": null,
            "align_items": null,
            "align_self": null,
            "border": null,
            "bottom": null,
            "display": null,
            "flex": null,
            "flex_flow": null,
            "grid_area": null,
            "grid_auto_columns": null,
            "grid_auto_flow": null,
            "grid_auto_rows": null,
            "grid_column": null,
            "grid_gap": null,
            "grid_row": null,
            "grid_template_areas": null,
            "grid_template_columns": null,
            "grid_template_rows": null,
            "height": null,
            "justify_content": null,
            "justify_items": null,
            "left": null,
            "margin": null,
            "max_height": null,
            "max_width": null,
            "min_height": null,
            "min_width": null,
            "object_fit": null,
            "object_position": null,
            "order": null,
            "overflow": null,
            "overflow_x": null,
            "overflow_y": null,
            "padding": null,
            "right": null,
            "top": null,
            "visibility": null,
            "width": null
          }
        },
        "6136476a36ab4db584fd225b13d11f59": {
          "model_module": "@jupyter-widgets/controls",
          "model_module_version": "1.5.0",
          "model_name": "DescriptionStyleModel",
          "state": {
            "_model_module": "@jupyter-widgets/controls",
            "_model_module_version": "1.5.0",
            "_model_name": "DescriptionStyleModel",
            "_view_count": null,
            "_view_module": "@jupyter-widgets/base",
            "_view_module_version": "1.2.0",
            "_view_name": "StyleView",
            "description_width": ""
          }
        },
        "618b53b19f034a218732b10ad6b8d715": {
          "model_module": "@jupyter-widgets/controls",
          "model_module_version": "1.5.0",
          "model_name": "DescriptionStyleModel",
          "state": {
            "_model_module": "@jupyter-widgets/controls",
            "_model_module_version": "1.5.0",
            "_model_name": "DescriptionStyleModel",
            "_view_count": null,
            "_view_module": "@jupyter-widgets/base",
            "_view_module_version": "1.2.0",
            "_view_name": "StyleView",
            "description_width": ""
          }
        },
        "63f1ea2292f74f7188c65f46acdf3887": {
          "model_module": "@jupyter-widgets/controls",
          "model_module_version": "1.5.0",
          "model_name": "HTMLModel",
          "state": {
            "_dom_classes": [],
            "_model_module": "@jupyter-widgets/controls",
            "_model_module_version": "1.5.0",
            "_model_name": "HTMLModel",
            "_view_count": null,
            "_view_module": "@jupyter-widgets/controls",
            "_view_module_version": "1.5.0",
            "_view_name": "HTMLView",
            "description": "",
            "description_tooltip": null,
            "layout": "IPY_MODEL_c329e98d061a4dc081d268521f6c86b4",
            "placeholder": "​",
            "style": "IPY_MODEL_f8f5f0566b8d46c99639b18756999e47",
            "value": " 747/747 [00:00&lt;00:00, 6.62kB/s]"
          }
        },
        "6d6f02b39bce464093f0796a5ab0d322": {
          "model_module": "@jupyter-widgets/controls",
          "model_module_version": "1.5.0",
          "model_name": "HTMLModel",
          "state": {
            "_dom_classes": [],
            "_model_module": "@jupyter-widgets/controls",
            "_model_module_version": "1.5.0",
            "_model_name": "HTMLModel",
            "_view_count": null,
            "_view_module": "@jupyter-widgets/controls",
            "_view_module_version": "1.5.0",
            "_view_name": "HTMLView",
            "description": "",
            "description_tooltip": null,
            "layout": "IPY_MODEL_881a3bf3969742abbbd313650e5255cf",
            "placeholder": "​",
            "style": "IPY_MODEL_618b53b19f034a218732b10ad6b8d715",
            "value": "Downloading: 100%"
          }
        },
        "827921ca10bf4e8ea364420022deb47e": {
          "model_module": "@jupyter-widgets/controls",
          "model_module_version": "1.5.0",
          "model_name": "HTMLModel",
          "state": {
            "_dom_classes": [],
            "_model_module": "@jupyter-widgets/controls",
            "_model_module_version": "1.5.0",
            "_model_name": "HTMLModel",
            "_view_count": null,
            "_view_module": "@jupyter-widgets/controls",
            "_view_module_version": "1.5.0",
            "_view_name": "HTMLView",
            "description": "",
            "description_tooltip": null,
            "layout": "IPY_MODEL_2aa6cea622ca445a949cfa4ed1b1f03f",
            "placeholder": "​",
            "style": "IPY_MODEL_c4e1170c45eb48e594dc7043125bad1c",
            "value": "Downloading: 100%"
          }
        },
        "84f429a6db564e67b44e99213db989a3": {
          "model_module": "@jupyter-widgets/base",
          "model_module_version": "1.2.0",
          "model_name": "LayoutModel",
          "state": {
            "_model_module": "@jupyter-widgets/base",
            "_model_module_version": "1.2.0",
            "_model_name": "LayoutModel",
            "_view_count": null,
            "_view_module": "@jupyter-widgets/base",
            "_view_module_version": "1.2.0",
            "_view_name": "LayoutView",
            "align_content": null,
            "align_items": null,
            "align_self": null,
            "border": null,
            "bottom": null,
            "display": null,
            "flex": null,
            "flex_flow": null,
            "grid_area": null,
            "grid_auto_columns": null,
            "grid_auto_flow": null,
            "grid_auto_rows": null,
            "grid_column": null,
            "grid_gap": null,
            "grid_row": null,
            "grid_template_areas": null,
            "grid_template_columns": null,
            "grid_template_rows": null,
            "height": null,
            "justify_content": null,
            "justify_items": null,
            "left": null,
            "margin": null,
            "max_height": null,
            "max_width": null,
            "min_height": null,
            "min_width": null,
            "object_fit": null,
            "object_position": null,
            "order": null,
            "overflow": null,
            "overflow_x": null,
            "overflow_y": null,
            "padding": null,
            "right": null,
            "top": null,
            "visibility": null,
            "width": null
          }
        },
        "86019b6e17664f549c5c61c0c1164cb0": {
          "model_module": "@jupyter-widgets/base",
          "model_module_version": "1.2.0",
          "model_name": "LayoutModel",
          "state": {
            "_model_module": "@jupyter-widgets/base",
            "_model_module_version": "1.2.0",
            "_model_name": "LayoutModel",
            "_view_count": null,
            "_view_module": "@jupyter-widgets/base",
            "_view_module_version": "1.2.0",
            "_view_name": "LayoutView",
            "align_content": null,
            "align_items": null,
            "align_self": null,
            "border": null,
            "bottom": null,
            "display": null,
            "flex": null,
            "flex_flow": null,
            "grid_area": null,
            "grid_auto_columns": null,
            "grid_auto_flow": null,
            "grid_auto_rows": null,
            "grid_column": null,
            "grid_gap": null,
            "grid_row": null,
            "grid_template_areas": null,
            "grid_template_columns": null,
            "grid_template_rows": null,
            "height": null,
            "justify_content": null,
            "justify_items": null,
            "left": null,
            "margin": null,
            "max_height": null,
            "max_width": null,
            "min_height": null,
            "min_width": null,
            "object_fit": null,
            "object_position": null,
            "order": null,
            "overflow": null,
            "overflow_x": null,
            "overflow_y": null,
            "padding": null,
            "right": null,
            "top": null,
            "visibility": null,
            "width": null
          }
        },
        "8655b737ec974df685ce14ffcc81bce0": {
          "model_module": "@jupyter-widgets/base",
          "model_module_version": "1.2.0",
          "model_name": "LayoutModel",
          "state": {
            "_model_module": "@jupyter-widgets/base",
            "_model_module_version": "1.2.0",
            "_model_name": "LayoutModel",
            "_view_count": null,
            "_view_module": "@jupyter-widgets/base",
            "_view_module_version": "1.2.0",
            "_view_name": "LayoutView",
            "align_content": null,
            "align_items": null,
            "align_self": null,
            "border": null,
            "bottom": null,
            "display": null,
            "flex": null,
            "flex_flow": null,
            "grid_area": null,
            "grid_auto_columns": null,
            "grid_auto_flow": null,
            "grid_auto_rows": null,
            "grid_column": null,
            "grid_gap": null,
            "grid_row": null,
            "grid_template_areas": null,
            "grid_template_columns": null,
            "grid_template_rows": null,
            "height": null,
            "justify_content": null,
            "justify_items": null,
            "left": null,
            "margin": null,
            "max_height": null,
            "max_width": null,
            "min_height": null,
            "min_width": null,
            "object_fit": null,
            "object_position": null,
            "order": null,
            "overflow": null,
            "overflow_x": null,
            "overflow_y": null,
            "padding": null,
            "right": null,
            "top": null,
            "visibility": null,
            "width": null
          }
        },
        "881a3bf3969742abbbd313650e5255cf": {
          "model_module": "@jupyter-widgets/base",
          "model_module_version": "1.2.0",
          "model_name": "LayoutModel",
          "state": {
            "_model_module": "@jupyter-widgets/base",
            "_model_module_version": "1.2.0",
            "_model_name": "LayoutModel",
            "_view_count": null,
            "_view_module": "@jupyter-widgets/base",
            "_view_module_version": "1.2.0",
            "_view_name": "LayoutView",
            "align_content": null,
            "align_items": null,
            "align_self": null,
            "border": null,
            "bottom": null,
            "display": null,
            "flex": null,
            "flex_flow": null,
            "grid_area": null,
            "grid_auto_columns": null,
            "grid_auto_flow": null,
            "grid_auto_rows": null,
            "grid_column": null,
            "grid_gap": null,
            "grid_row": null,
            "grid_template_areas": null,
            "grid_template_columns": null,
            "grid_template_rows": null,
            "height": null,
            "justify_content": null,
            "justify_items": null,
            "left": null,
            "margin": null,
            "max_height": null,
            "max_width": null,
            "min_height": null,
            "min_width": null,
            "object_fit": null,
            "object_position": null,
            "order": null,
            "overflow": null,
            "overflow_x": null,
            "overflow_y": null,
            "padding": null,
            "right": null,
            "top": null,
            "visibility": null,
            "width": null
          }
        },
        "930575a7b79b4aa29c01c0f2299f99f8": {
          "model_module": "@jupyter-widgets/controls",
          "model_module_version": "1.5.0",
          "model_name": "HTMLModel",
          "state": {
            "_dom_classes": [],
            "_model_module": "@jupyter-widgets/controls",
            "_model_module_version": "1.5.0",
            "_model_name": "HTMLModel",
            "_view_count": null,
            "_view_module": "@jupyter-widgets/controls",
            "_view_module_version": "1.5.0",
            "_view_name": "HTMLView",
            "description": "",
            "description_tooltip": null,
            "layout": "IPY_MODEL_b2019d93d2d24b098bde40a9876897a7",
            "placeholder": "​",
            "style": "IPY_MODEL_55e00945e89a49c9bff5a72fa4916688",
            "value": "Downloading: 100%"
          }
        },
        "9e4bc2c7465d469da44ddde0794eb5b5": {
          "model_module": "@jupyter-widgets/controls",
          "model_module_version": "1.5.0",
          "model_name": "HTMLModel",
          "state": {
            "_dom_classes": [],
            "_model_module": "@jupyter-widgets/controls",
            "_model_module_version": "1.5.0",
            "_model_name": "HTMLModel",
            "_view_count": null,
            "_view_module": "@jupyter-widgets/controls",
            "_view_module_version": "1.5.0",
            "_view_name": "HTMLView",
            "description": "",
            "description_tooltip": null,
            "layout": "IPY_MODEL_d9aa4f12bd2f4f40a75a13fa63786eb1",
            "placeholder": "​",
            "style": "IPY_MODEL_426c9decaf2b4654821813afacdfcdd1",
            "value": " 878k/878k [00:00&lt;00:00, 911kB/s]"
          }
        },
        "9f61bc56918f47f1972e9c7d0aced35f": {
          "model_module": "@jupyter-widgets/base",
          "model_module_version": "1.2.0",
          "model_name": "LayoutModel",
          "state": {
            "_model_module": "@jupyter-widgets/base",
            "_model_module_version": "1.2.0",
            "_model_name": "LayoutModel",
            "_view_count": null,
            "_view_module": "@jupyter-widgets/base",
            "_view_module_version": "1.2.0",
            "_view_name": "LayoutView",
            "align_content": null,
            "align_items": null,
            "align_self": null,
            "border": null,
            "bottom": null,
            "display": null,
            "flex": null,
            "flex_flow": null,
            "grid_area": null,
            "grid_auto_columns": null,
            "grid_auto_flow": null,
            "grid_auto_rows": null,
            "grid_column": null,
            "grid_gap": null,
            "grid_row": null,
            "grid_template_areas": null,
            "grid_template_columns": null,
            "grid_template_rows": null,
            "height": null,
            "justify_content": null,
            "justify_items": null,
            "left": null,
            "margin": null,
            "max_height": null,
            "max_width": null,
            "min_height": null,
            "min_width": null,
            "object_fit": null,
            "object_position": null,
            "order": null,
            "overflow": null,
            "overflow_x": null,
            "overflow_y": null,
            "padding": null,
            "right": null,
            "top": null,
            "visibility": null,
            "width": null
          }
        },
        "a0fa324e55e4412580ebf8032ae98ca2": {
          "model_module": "@jupyter-widgets/base",
          "model_module_version": "1.2.0",
          "model_name": "LayoutModel",
          "state": {
            "_model_module": "@jupyter-widgets/base",
            "_model_module_version": "1.2.0",
            "_model_name": "LayoutModel",
            "_view_count": null,
            "_view_module": "@jupyter-widgets/base",
            "_view_module_version": "1.2.0",
            "_view_name": "LayoutView",
            "align_content": null,
            "align_items": null,
            "align_self": null,
            "border": null,
            "bottom": null,
            "display": null,
            "flex": null,
            "flex_flow": null,
            "grid_area": null,
            "grid_auto_columns": null,
            "grid_auto_flow": null,
            "grid_auto_rows": null,
            "grid_column": null,
            "grid_gap": null,
            "grid_row": null,
            "grid_template_areas": null,
            "grid_template_columns": null,
            "grid_template_rows": null,
            "height": null,
            "justify_content": null,
            "justify_items": null,
            "left": null,
            "margin": null,
            "max_height": null,
            "max_width": null,
            "min_height": null,
            "min_width": null,
            "object_fit": null,
            "object_position": null,
            "order": null,
            "overflow": null,
            "overflow_x": null,
            "overflow_y": null,
            "padding": null,
            "right": null,
            "top": null,
            "visibility": null,
            "width": null
          }
        },
        "a69b52a8d9884d33a63f90e84301c53e": {
          "model_module": "@jupyter-widgets/controls",
          "model_module_version": "1.5.0",
          "model_name": "FloatProgressModel",
          "state": {
            "_dom_classes": [],
            "_model_module": "@jupyter-widgets/controls",
            "_model_module_version": "1.5.0",
            "_model_name": "FloatProgressModel",
            "_view_count": null,
            "_view_module": "@jupyter-widgets/controls",
            "_view_module_version": "1.5.0",
            "_view_name": "ProgressView",
            "bar_style": "success",
            "description": "",
            "description_tooltip": null,
            "layout": "IPY_MODEL_55d0b83ce6c447079e319e89864a8e12",
            "max": 150,
            "min": 0,
            "orientation": "horizontal",
            "style": "IPY_MODEL_3963017effb84467a0f137acf5027ec6",
            "value": 150
          }
        },
        "ac9ce7fe98ce4f62b20daaa3a5cc9d90": {
          "model_module": "@jupyter-widgets/base",
          "model_module_version": "1.2.0",
          "model_name": "LayoutModel",
          "state": {
            "_model_module": "@jupyter-widgets/base",
            "_model_module_version": "1.2.0",
            "_model_name": "LayoutModel",
            "_view_count": null,
            "_view_module": "@jupyter-widgets/base",
            "_view_module_version": "1.2.0",
            "_view_name": "LayoutView",
            "align_content": null,
            "align_items": null,
            "align_self": null,
            "border": null,
            "bottom": null,
            "display": null,
            "flex": null,
            "flex_flow": null,
            "grid_area": null,
            "grid_auto_columns": null,
            "grid_auto_flow": null,
            "grid_auto_rows": null,
            "grid_column": null,
            "grid_gap": null,
            "grid_row": null,
            "grid_template_areas": null,
            "grid_template_columns": null,
            "grid_template_rows": null,
            "height": null,
            "justify_content": null,
            "justify_items": null,
            "left": null,
            "margin": null,
            "max_height": null,
            "max_width": null,
            "min_height": null,
            "min_width": null,
            "object_fit": null,
            "object_position": null,
            "order": null,
            "overflow": null,
            "overflow_x": null,
            "overflow_y": null,
            "padding": null,
            "right": null,
            "top": null,
            "visibility": null,
            "width": null
          }
        },
        "b2019d93d2d24b098bde40a9876897a7": {
          "model_module": "@jupyter-widgets/base",
          "model_module_version": "1.2.0",
          "model_name": "LayoutModel",
          "state": {
            "_model_module": "@jupyter-widgets/base",
            "_model_module_version": "1.2.0",
            "_model_name": "LayoutModel",
            "_view_count": null,
            "_view_module": "@jupyter-widgets/base",
            "_view_module_version": "1.2.0",
            "_view_name": "LayoutView",
            "align_content": null,
            "align_items": null,
            "align_self": null,
            "border": null,
            "bottom": null,
            "display": null,
            "flex": null,
            "flex_flow": null,
            "grid_area": null,
            "grid_auto_columns": null,
            "grid_auto_flow": null,
            "grid_auto_rows": null,
            "grid_column": null,
            "grid_gap": null,
            "grid_row": null,
            "grid_template_areas": null,
            "grid_template_columns": null,
            "grid_template_rows": null,
            "height": null,
            "justify_content": null,
            "justify_items": null,
            "left": null,
            "margin": null,
            "max_height": null,
            "max_width": null,
            "min_height": null,
            "min_width": null,
            "object_fit": null,
            "object_position": null,
            "order": null,
            "overflow": null,
            "overflow_x": null,
            "overflow_y": null,
            "padding": null,
            "right": null,
            "top": null,
            "visibility": null,
            "width": null
          }
        },
        "b53d07f182d14dddb47bcdfedf8c368b": {
          "model_module": "@jupyter-widgets/controls",
          "model_module_version": "1.5.0",
          "model_name": "ProgressStyleModel",
          "state": {
            "_model_module": "@jupyter-widgets/controls",
            "_model_module_version": "1.5.0",
            "_model_name": "ProgressStyleModel",
            "_view_count": null,
            "_view_module": "@jupyter-widgets/base",
            "_view_module_version": "1.2.0",
            "_view_name": "StyleView",
            "bar_color": null,
            "description_width": ""
          }
        },
        "b963f85cf1ab4ca5898fce2fc833a2a0": {
          "model_module": "@jupyter-widgets/controls",
          "model_module_version": "1.5.0",
          "model_name": "HBoxModel",
          "state": {
            "_dom_classes": [],
            "_model_module": "@jupyter-widgets/controls",
            "_model_module_version": "1.5.0",
            "_model_name": "HBoxModel",
            "_view_count": null,
            "_view_module": "@jupyter-widgets/controls",
            "_view_module_version": "1.5.0",
            "_view_name": "HBoxView",
            "box_style": "",
            "children": [
              "IPY_MODEL_019f1aa85afc4b8e8eefb989cb51b316",
              "IPY_MODEL_223ccf30bd5a4838bbd3a878d52f2c5f",
              "IPY_MODEL_d7e35b47116c48a5b1b619ca2138aa89"
            ],
            "layout": "IPY_MODEL_3b413a23e25b46f9895b8ada6263ddb2"
          }
        },
        "be1e56810275419ba90539a14e010649": {
          "model_module": "@jupyter-widgets/controls",
          "model_module_version": "1.5.0",
          "model_name": "DescriptionStyleModel",
          "state": {
            "_model_module": "@jupyter-widgets/controls",
            "_model_module_version": "1.5.0",
            "_model_name": "DescriptionStyleModel",
            "_view_count": null,
            "_view_module": "@jupyter-widgets/base",
            "_view_module_version": "1.2.0",
            "_view_name": "StyleView",
            "description_width": ""
          }
        },
        "c329e98d061a4dc081d268521f6c86b4": {
          "model_module": "@jupyter-widgets/base",
          "model_module_version": "1.2.0",
          "model_name": "LayoutModel",
          "state": {
            "_model_module": "@jupyter-widgets/base",
            "_model_module_version": "1.2.0",
            "_model_name": "LayoutModel",
            "_view_count": null,
            "_view_module": "@jupyter-widgets/base",
            "_view_module_version": "1.2.0",
            "_view_name": "LayoutView",
            "align_content": null,
            "align_items": null,
            "align_self": null,
            "border": null,
            "bottom": null,
            "display": null,
            "flex": null,
            "flex_flow": null,
            "grid_area": null,
            "grid_auto_columns": null,
            "grid_auto_flow": null,
            "grid_auto_rows": null,
            "grid_column": null,
            "grid_gap": null,
            "grid_row": null,
            "grid_template_areas": null,
            "grid_template_columns": null,
            "grid_template_rows": null,
            "height": null,
            "justify_content": null,
            "justify_items": null,
            "left": null,
            "margin": null,
            "max_height": null,
            "max_width": null,
            "min_height": null,
            "min_width": null,
            "object_fit": null,
            "object_position": null,
            "order": null,
            "overflow": null,
            "overflow_x": null,
            "overflow_y": null,
            "padding": null,
            "right": null,
            "top": null,
            "visibility": null,
            "width": null
          }
        },
        "c4e1170c45eb48e594dc7043125bad1c": {
          "model_module": "@jupyter-widgets/controls",
          "model_module_version": "1.5.0",
          "model_name": "DescriptionStyleModel",
          "state": {
            "_model_module": "@jupyter-widgets/controls",
            "_model_module_version": "1.5.0",
            "_model_name": "DescriptionStyleModel",
            "_view_count": null,
            "_view_module": "@jupyter-widgets/base",
            "_view_module_version": "1.2.0",
            "_view_name": "StyleView",
            "description_width": ""
          }
        },
        "cd324a8252254ed4a682564a08e0fa49": {
          "model_module": "@jupyter-widgets/base",
          "model_module_version": "1.2.0",
          "model_name": "LayoutModel",
          "state": {
            "_model_module": "@jupyter-widgets/base",
            "_model_module_version": "1.2.0",
            "_model_name": "LayoutModel",
            "_view_count": null,
            "_view_module": "@jupyter-widgets/base",
            "_view_module_version": "1.2.0",
            "_view_name": "LayoutView",
            "align_content": null,
            "align_items": null,
            "align_self": null,
            "border": null,
            "bottom": null,
            "display": null,
            "flex": null,
            "flex_flow": null,
            "grid_area": null,
            "grid_auto_columns": null,
            "grid_auto_flow": null,
            "grid_auto_rows": null,
            "grid_column": null,
            "grid_gap": null,
            "grid_row": null,
            "grid_template_areas": null,
            "grid_template_columns": null,
            "grid_template_rows": null,
            "height": null,
            "justify_content": null,
            "justify_items": null,
            "left": null,
            "margin": null,
            "max_height": null,
            "max_width": null,
            "min_height": null,
            "min_width": null,
            "object_fit": null,
            "object_position": null,
            "order": null,
            "overflow": null,
            "overflow_x": null,
            "overflow_y": null,
            "padding": null,
            "right": null,
            "top": null,
            "visibility": null,
            "width": null
          }
        },
        "cf75eedba484495b9e56b2deec91ebfe": {
          "model_module": "@jupyter-widgets/controls",
          "model_module_version": "1.5.0",
          "model_name": "DescriptionStyleModel",
          "state": {
            "_model_module": "@jupyter-widgets/controls",
            "_model_module_version": "1.5.0",
            "_model_name": "DescriptionStyleModel",
            "_view_count": null,
            "_view_module": "@jupyter-widgets/base",
            "_view_module_version": "1.2.0",
            "_view_name": "StyleView",
            "description_width": ""
          }
        },
        "cf86ca81acd044739c10eb570286d77f": {
          "model_module": "@jupyter-widgets/controls",
          "model_module_version": "1.5.0",
          "model_name": "DescriptionStyleModel",
          "state": {
            "_model_module": "@jupyter-widgets/controls",
            "_model_module_version": "1.5.0",
            "_model_name": "DescriptionStyleModel",
            "_view_count": null,
            "_view_module": "@jupyter-widgets/base",
            "_view_module_version": "1.2.0",
            "_view_name": "StyleView",
            "description_width": ""
          }
        },
        "d1603ac34a3b4fc786b6f21ebddaf09f": {
          "model_module": "@jupyter-widgets/controls",
          "model_module_version": "1.5.0",
          "model_name": "HTMLModel",
          "state": {
            "_dom_classes": [],
            "_model_module": "@jupyter-widgets/controls",
            "_model_module_version": "1.5.0",
            "_model_name": "HTMLModel",
            "_view_count": null,
            "_view_module": "@jupyter-widgets/controls",
            "_view_module_version": "1.5.0",
            "_view_name": "HTMLView",
            "description": "",
            "description_tooltip": null,
            "layout": "IPY_MODEL_fb7d57cbedba4bbb989c1456c743f4c3",
            "placeholder": "​",
            "style": "IPY_MODEL_cf86ca81acd044739c10eb570286d77f",
            "value": " 478M/478M [00:19&lt;00:00, 11.5MB/s]"
          }
        },
        "d7810966adc34d979cdf3ce8374829b9": {
          "model_module": "@jupyter-widgets/controls",
          "model_module_version": "1.5.0",
          "model_name": "ProgressStyleModel",
          "state": {
            "_model_module": "@jupyter-widgets/controls",
            "_model_module_version": "1.5.0",
            "_model_name": "ProgressStyleModel",
            "_view_count": null,
            "_view_module": "@jupyter-widgets/base",
            "_view_module_version": "1.2.0",
            "_view_name": "StyleView",
            "bar_color": null,
            "description_width": ""
          }
        },
        "d7e35b47116c48a5b1b619ca2138aa89": {
          "model_module": "@jupyter-widgets/controls",
          "model_module_version": "1.5.0",
          "model_name": "HTMLModel",
          "state": {
            "_dom_classes": [],
            "_model_module": "@jupyter-widgets/controls",
            "_model_module_version": "1.5.0",
            "_model_name": "HTMLModel",
            "_view_count": null,
            "_view_module": "@jupyter-widgets/controls",
            "_view_module_version": "1.5.0",
            "_view_name": "HTMLView",
            "description": "",
            "description_tooltip": null,
            "layout": "IPY_MODEL_f131652e20134c42891e567f7664ab3b",
            "placeholder": "​",
            "style": "IPY_MODEL_140fcf40286046e99bda4dacd3c5d87d",
            "value": " 446k/446k [00:00&lt;00:00, 691kB/s]"
          }
        },
        "d9aa4f12bd2f4f40a75a13fa63786eb1": {
          "model_module": "@jupyter-widgets/base",
          "model_module_version": "1.2.0",
          "model_name": "LayoutModel",
          "state": {
            "_model_module": "@jupyter-widgets/base",
            "_model_module_version": "1.2.0",
            "_model_name": "LayoutModel",
            "_view_count": null,
            "_view_module": "@jupyter-widgets/base",
            "_view_module_version": "1.2.0",
            "_view_name": "LayoutView",
            "align_content": null,
            "align_items": null,
            "align_self": null,
            "border": null,
            "bottom": null,
            "display": null,
            "flex": null,
            "flex_flow": null,
            "grid_area": null,
            "grid_auto_columns": null,
            "grid_auto_flow": null,
            "grid_auto_rows": null,
            "grid_column": null,
            "grid_gap": null,
            "grid_row": null,
            "grid_template_areas": null,
            "grid_template_columns": null,
            "grid_template_rows": null,
            "height": null,
            "justify_content": null,
            "justify_items": null,
            "left": null,
            "margin": null,
            "max_height": null,
            "max_width": null,
            "min_height": null,
            "min_width": null,
            "object_fit": null,
            "object_position": null,
            "order": null,
            "overflow": null,
            "overflow_x": null,
            "overflow_y": null,
            "padding": null,
            "right": null,
            "top": null,
            "visibility": null,
            "width": null
          }
        },
        "e8af29e8992c42c393e30ff8a9e062de": {
          "model_module": "@jupyter-widgets/base",
          "model_module_version": "1.2.0",
          "model_name": "LayoutModel",
          "state": {
            "_model_module": "@jupyter-widgets/base",
            "_model_module_version": "1.2.0",
            "_model_name": "LayoutModel",
            "_view_count": null,
            "_view_module": "@jupyter-widgets/base",
            "_view_module_version": "1.2.0",
            "_view_name": "LayoutView",
            "align_content": null,
            "align_items": null,
            "align_self": null,
            "border": null,
            "bottom": null,
            "display": null,
            "flex": null,
            "flex_flow": null,
            "grid_area": null,
            "grid_auto_columns": null,
            "grid_auto_flow": null,
            "grid_auto_rows": null,
            "grid_column": null,
            "grid_gap": null,
            "grid_row": null,
            "grid_template_areas": null,
            "grid_template_columns": null,
            "grid_template_rows": null,
            "height": null,
            "justify_content": null,
            "justify_items": null,
            "left": null,
            "margin": null,
            "max_height": null,
            "max_width": null,
            "min_height": null,
            "min_width": null,
            "object_fit": null,
            "object_position": null,
            "order": null,
            "overflow": null,
            "overflow_x": null,
            "overflow_y": null,
            "padding": null,
            "right": null,
            "top": null,
            "visibility": null,
            "width": null
          }
        },
        "f131652e20134c42891e567f7664ab3b": {
          "model_module": "@jupyter-widgets/base",
          "model_module_version": "1.2.0",
          "model_name": "LayoutModel",
          "state": {
            "_model_module": "@jupyter-widgets/base",
            "_model_module_version": "1.2.0",
            "_model_name": "LayoutModel",
            "_view_count": null,
            "_view_module": "@jupyter-widgets/base",
            "_view_module_version": "1.2.0",
            "_view_name": "LayoutView",
            "align_content": null,
            "align_items": null,
            "align_self": null,
            "border": null,
            "bottom": null,
            "display": null,
            "flex": null,
            "flex_flow": null,
            "grid_area": null,
            "grid_auto_columns": null,
            "grid_auto_flow": null,
            "grid_auto_rows": null,
            "grid_column": null,
            "grid_gap": null,
            "grid_row": null,
            "grid_template_areas": null,
            "grid_template_columns": null,
            "grid_template_rows": null,
            "height": null,
            "justify_content": null,
            "justify_items": null,
            "left": null,
            "margin": null,
            "max_height": null,
            "max_width": null,
            "min_height": null,
            "min_width": null,
            "object_fit": null,
            "object_position": null,
            "order": null,
            "overflow": null,
            "overflow_x": null,
            "overflow_y": null,
            "padding": null,
            "right": null,
            "top": null,
            "visibility": null,
            "width": null
          }
        },
        "f2184639cdf141c289969a5380ce9b9c": {
          "model_module": "@jupyter-widgets/controls",
          "model_module_version": "1.5.0",
          "model_name": "HTMLModel",
          "state": {
            "_dom_classes": [],
            "_model_module": "@jupyter-widgets/controls",
            "_model_module_version": "1.5.0",
            "_model_name": "HTMLModel",
            "_view_count": null,
            "_view_module": "@jupyter-widgets/controls",
            "_view_module_version": "1.5.0",
            "_view_name": "HTMLView",
            "description": "",
            "description_tooltip": null,
            "layout": "IPY_MODEL_86019b6e17664f549c5c61c0c1164cb0",
            "placeholder": "​",
            "style": "IPY_MODEL_be1e56810275419ba90539a14e010649",
            "value": " 150/150 [00:00&lt;00:00, 1.07kB/s]"
          }
        },
        "f8f5f0566b8d46c99639b18756999e47": {
          "model_module": "@jupyter-widgets/controls",
          "model_module_version": "1.5.0",
          "model_name": "DescriptionStyleModel",
          "state": {
            "_model_module": "@jupyter-widgets/controls",
            "_model_module_version": "1.5.0",
            "_model_name": "DescriptionStyleModel",
            "_view_count": null,
            "_view_module": "@jupyter-widgets/base",
            "_view_module_version": "1.2.0",
            "_view_name": "StyleView",
            "description_width": ""
          }
        },
        "fb1ec0e989e44d31a940e5e227fb001c": {
          "model_module": "@jupyter-widgets/controls",
          "model_module_version": "1.5.0",
          "model_name": "HBoxModel",
          "state": {
            "_dom_classes": [],
            "_model_module": "@jupyter-widgets/controls",
            "_model_module_version": "1.5.0",
            "_model_name": "HBoxModel",
            "_view_count": null,
            "_view_module": "@jupyter-widgets/controls",
            "_view_module_version": "1.5.0",
            "_view_name": "HBoxView",
            "box_style": "",
            "children": [
              "IPY_MODEL_6d6f02b39bce464093f0796a5ab0d322",
              "IPY_MODEL_1bae26db4b204c34b50fc88834ed9b4f",
              "IPY_MODEL_9e4bc2c7465d469da44ddde0794eb5b5"
            ],
            "layout": "IPY_MODEL_cd324a8252254ed4a682564a08e0fa49"
          }
        },
        "fb7d57cbedba4bbb989c1456c743f4c3": {
          "model_module": "@jupyter-widgets/base",
          "model_module_version": "1.2.0",
          "model_name": "LayoutModel",
          "state": {
            "_model_module": "@jupyter-widgets/base",
            "_model_module_version": "1.2.0",
            "_model_name": "LayoutModel",
            "_view_count": null,
            "_view_module": "@jupyter-widgets/base",
            "_view_module_version": "1.2.0",
            "_view_name": "LayoutView",
            "align_content": null,
            "align_items": null,
            "align_self": null,
            "border": null,
            "bottom": null,
            "display": null,
            "flex": null,
            "flex_flow": null,
            "grid_area": null,
            "grid_auto_columns": null,
            "grid_auto_flow": null,
            "grid_auto_rows": null,
            "grid_column": null,
            "grid_gap": null,
            "grid_row": null,
            "grid_template_areas": null,
            "grid_template_columns": null,
            "grid_template_rows": null,
            "height": null,
            "justify_content": null,
            "justify_items": null,
            "left": null,
            "margin": null,
            "max_height": null,
            "max_width": null,
            "min_height": null,
            "min_width": null,
            "object_fit": null,
            "object_position": null,
            "order": null,
            "overflow": null,
            "overflow_x": null,
            "overflow_y": null,
            "padding": null,
            "right": null,
            "top": null,
            "visibility": null,
            "width": null
          }
        },
        "ff958f5cf9af478395c2071d9422cc1a": {
          "model_module": "@jupyter-widgets/controls",
          "model_module_version": "1.5.0",
          "model_name": "FloatProgressModel",
          "state": {
            "_dom_classes": [],
            "_model_module": "@jupyter-widgets/controls",
            "_model_module_version": "1.5.0",
            "_model_name": "FloatProgressModel",
            "_view_count": null,
            "_view_module": "@jupyter-widgets/controls",
            "_view_module_version": "1.5.0",
            "_view_name": "ProgressView",
            "bar_style": "success",
            "description": "",
            "description_tooltip": null,
            "layout": "IPY_MODEL_2cfa6bcc112c464389fff9e07ecba7fe",
            "max": 501229896,
            "min": 0,
            "orientation": "horizontal",
            "style": "IPY_MODEL_d7810966adc34d979cdf3ce8374829b9",
            "value": 501229896
          }
        },
        "7725d714f6d644cdb041499e102a071c": {
          "model_module": "@jupyter-widgets/controls",
          "model_name": "HBoxModel",
          "model_module_version": "1.5.0",
          "state": {
            "_dom_classes": [],
            "_model_module": "@jupyter-widgets/controls",
            "_model_module_version": "1.5.0",
            "_model_name": "HBoxModel",
            "_view_count": null,
            "_view_module": "@jupyter-widgets/controls",
            "_view_module_version": "1.5.0",
            "_view_name": "HBoxView",
            "box_style": "",
            "children": [
              "IPY_MODEL_d15e6cc180ca4de89887a0ea9d042645",
              "IPY_MODEL_23d140b0e59c418a918573ca2cd8aecf",
              "IPY_MODEL_9addf586c997455d8f6879289de8ae44"
            ],
            "layout": "IPY_MODEL_4b8200a621264e8d923eaa77d0a42bb1"
          }
        },
        "d15e6cc180ca4de89887a0ea9d042645": {
          "model_module": "@jupyter-widgets/controls",
          "model_name": "HTMLModel",
          "model_module_version": "1.5.0",
          "state": {
            "_dom_classes": [],
            "_model_module": "@jupyter-widgets/controls",
            "_model_module_version": "1.5.0",
            "_model_name": "HTMLModel",
            "_view_count": null,
            "_view_module": "@jupyter-widgets/controls",
            "_view_module_version": "1.5.0",
            "_view_name": "HTMLView",
            "description": "",
            "description_tooltip": null,
            "layout": "IPY_MODEL_c7a3dd9bd35f4b608a81c409a86579e7",
            "placeholder": "​",
            "style": "IPY_MODEL_7112274cb76d47038f31c71c491f3e83",
            "value": "Downloading: 100%"
          }
        },
        "23d140b0e59c418a918573ca2cd8aecf": {
          "model_module": "@jupyter-widgets/controls",
          "model_name": "FloatProgressModel",
          "model_module_version": "1.5.0",
          "state": {
            "_dom_classes": [],
            "_model_module": "@jupyter-widgets/controls",
            "_model_module_version": "1.5.0",
            "_model_name": "FloatProgressModel",
            "_view_count": null,
            "_view_module": "@jupyter-widgets/controls",
            "_view_module_version": "1.5.0",
            "_view_name": "ProgressView",
            "bar_style": "success",
            "description": "",
            "description_tooltip": null,
            "layout": "IPY_MODEL_33e0dc734d58474eac0da58f72e093a3",
            "max": 28,
            "min": 0,
            "orientation": "horizontal",
            "style": "IPY_MODEL_6f95cd5625184a5ca829dcfbbae67cef",
            "value": 28
          }
        },
        "9addf586c997455d8f6879289de8ae44": {
          "model_module": "@jupyter-widgets/controls",
          "model_name": "HTMLModel",
          "model_module_version": "1.5.0",
          "state": {
            "_dom_classes": [],
            "_model_module": "@jupyter-widgets/controls",
            "_model_module_version": "1.5.0",
            "_model_name": "HTMLModel",
            "_view_count": null,
            "_view_module": "@jupyter-widgets/controls",
            "_view_module_version": "1.5.0",
            "_view_name": "HTMLView",
            "description": "",
            "description_tooltip": null,
            "layout": "IPY_MODEL_ef34be61f9bf41a0b8abedd625f7a62a",
            "placeholder": "​",
            "style": "IPY_MODEL_e8819e61117f46af92296d5028701d5b",
            "value": " 28.0/28.0 [00:00&lt;00:00, 244B/s]"
          }
        },
        "4b8200a621264e8d923eaa77d0a42bb1": {
          "model_module": "@jupyter-widgets/base",
          "model_name": "LayoutModel",
          "model_module_version": "1.2.0",
          "state": {
            "_model_module": "@jupyter-widgets/base",
            "_model_module_version": "1.2.0",
            "_model_name": "LayoutModel",
            "_view_count": null,
            "_view_module": "@jupyter-widgets/base",
            "_view_module_version": "1.2.0",
            "_view_name": "LayoutView",
            "align_content": null,
            "align_items": null,
            "align_self": null,
            "border": null,
            "bottom": null,
            "display": null,
            "flex": null,
            "flex_flow": null,
            "grid_area": null,
            "grid_auto_columns": null,
            "grid_auto_flow": null,
            "grid_auto_rows": null,
            "grid_column": null,
            "grid_gap": null,
            "grid_row": null,
            "grid_template_areas": null,
            "grid_template_columns": null,
            "grid_template_rows": null,
            "height": null,
            "justify_content": null,
            "justify_items": null,
            "left": null,
            "margin": null,
            "max_height": null,
            "max_width": null,
            "min_height": null,
            "min_width": null,
            "object_fit": null,
            "object_position": null,
            "order": null,
            "overflow": null,
            "overflow_x": null,
            "overflow_y": null,
            "padding": null,
            "right": null,
            "top": null,
            "visibility": null,
            "width": null
          }
        },
        "c7a3dd9bd35f4b608a81c409a86579e7": {
          "model_module": "@jupyter-widgets/base",
          "model_name": "LayoutModel",
          "model_module_version": "1.2.0",
          "state": {
            "_model_module": "@jupyter-widgets/base",
            "_model_module_version": "1.2.0",
            "_model_name": "LayoutModel",
            "_view_count": null,
            "_view_module": "@jupyter-widgets/base",
            "_view_module_version": "1.2.0",
            "_view_name": "LayoutView",
            "align_content": null,
            "align_items": null,
            "align_self": null,
            "border": null,
            "bottom": null,
            "display": null,
            "flex": null,
            "flex_flow": null,
            "grid_area": null,
            "grid_auto_columns": null,
            "grid_auto_flow": null,
            "grid_auto_rows": null,
            "grid_column": null,
            "grid_gap": null,
            "grid_row": null,
            "grid_template_areas": null,
            "grid_template_columns": null,
            "grid_template_rows": null,
            "height": null,
            "justify_content": null,
            "justify_items": null,
            "left": null,
            "margin": null,
            "max_height": null,
            "max_width": null,
            "min_height": null,
            "min_width": null,
            "object_fit": null,
            "object_position": null,
            "order": null,
            "overflow": null,
            "overflow_x": null,
            "overflow_y": null,
            "padding": null,
            "right": null,
            "top": null,
            "visibility": null,
            "width": null
          }
        },
        "7112274cb76d47038f31c71c491f3e83": {
          "model_module": "@jupyter-widgets/controls",
          "model_name": "DescriptionStyleModel",
          "model_module_version": "1.5.0",
          "state": {
            "_model_module": "@jupyter-widgets/controls",
            "_model_module_version": "1.5.0",
            "_model_name": "DescriptionStyleModel",
            "_view_count": null,
            "_view_module": "@jupyter-widgets/base",
            "_view_module_version": "1.2.0",
            "_view_name": "StyleView",
            "description_width": ""
          }
        },
        "33e0dc734d58474eac0da58f72e093a3": {
          "model_module": "@jupyter-widgets/base",
          "model_name": "LayoutModel",
          "model_module_version": "1.2.0",
          "state": {
            "_model_module": "@jupyter-widgets/base",
            "_model_module_version": "1.2.0",
            "_model_name": "LayoutModel",
            "_view_count": null,
            "_view_module": "@jupyter-widgets/base",
            "_view_module_version": "1.2.0",
            "_view_name": "LayoutView",
            "align_content": null,
            "align_items": null,
            "align_self": null,
            "border": null,
            "bottom": null,
            "display": null,
            "flex": null,
            "flex_flow": null,
            "grid_area": null,
            "grid_auto_columns": null,
            "grid_auto_flow": null,
            "grid_auto_rows": null,
            "grid_column": null,
            "grid_gap": null,
            "grid_row": null,
            "grid_template_areas": null,
            "grid_template_columns": null,
            "grid_template_rows": null,
            "height": null,
            "justify_content": null,
            "justify_items": null,
            "left": null,
            "margin": null,
            "max_height": null,
            "max_width": null,
            "min_height": null,
            "min_width": null,
            "object_fit": null,
            "object_position": null,
            "order": null,
            "overflow": null,
            "overflow_x": null,
            "overflow_y": null,
            "padding": null,
            "right": null,
            "top": null,
            "visibility": null,
            "width": null
          }
        },
        "6f95cd5625184a5ca829dcfbbae67cef": {
          "model_module": "@jupyter-widgets/controls",
          "model_name": "ProgressStyleModel",
          "model_module_version": "1.5.0",
          "state": {
            "_model_module": "@jupyter-widgets/controls",
            "_model_module_version": "1.5.0",
            "_model_name": "ProgressStyleModel",
            "_view_count": null,
            "_view_module": "@jupyter-widgets/base",
            "_view_module_version": "1.2.0",
            "_view_name": "StyleView",
            "bar_color": null,
            "description_width": ""
          }
        },
        "ef34be61f9bf41a0b8abedd625f7a62a": {
          "model_module": "@jupyter-widgets/base",
          "model_name": "LayoutModel",
          "model_module_version": "1.2.0",
          "state": {
            "_model_module": "@jupyter-widgets/base",
            "_model_module_version": "1.2.0",
            "_model_name": "LayoutModel",
            "_view_count": null,
            "_view_module": "@jupyter-widgets/base",
            "_view_module_version": "1.2.0",
            "_view_name": "LayoutView",
            "align_content": null,
            "align_items": null,
            "align_self": null,
            "border": null,
            "bottom": null,
            "display": null,
            "flex": null,
            "flex_flow": null,
            "grid_area": null,
            "grid_auto_columns": null,
            "grid_auto_flow": null,
            "grid_auto_rows": null,
            "grid_column": null,
            "grid_gap": null,
            "grid_row": null,
            "grid_template_areas": null,
            "grid_template_columns": null,
            "grid_template_rows": null,
            "height": null,
            "justify_content": null,
            "justify_items": null,
            "left": null,
            "margin": null,
            "max_height": null,
            "max_width": null,
            "min_height": null,
            "min_width": null,
            "object_fit": null,
            "object_position": null,
            "order": null,
            "overflow": null,
            "overflow_x": null,
            "overflow_y": null,
            "padding": null,
            "right": null,
            "top": null,
            "visibility": null,
            "width": null
          }
        },
        "e8819e61117f46af92296d5028701d5b": {
          "model_module": "@jupyter-widgets/controls",
          "model_name": "DescriptionStyleModel",
          "model_module_version": "1.5.0",
          "state": {
            "_model_module": "@jupyter-widgets/controls",
            "_model_module_version": "1.5.0",
            "_model_name": "DescriptionStyleModel",
            "_view_count": null,
            "_view_module": "@jupyter-widgets/base",
            "_view_module_version": "1.2.0",
            "_view_name": "StyleView",
            "description_width": ""
          }
        },
        "63f864be50af402bb429dadc14b818c1": {
          "model_module": "@jupyter-widgets/controls",
          "model_name": "HBoxModel",
          "model_module_version": "1.5.0",
          "state": {
            "_dom_classes": [],
            "_model_module": "@jupyter-widgets/controls",
            "_model_module_version": "1.5.0",
            "_model_name": "HBoxModel",
            "_view_count": null,
            "_view_module": "@jupyter-widgets/controls",
            "_view_module_version": "1.5.0",
            "_view_name": "HBoxView",
            "box_style": "",
            "children": [
              "IPY_MODEL_194ad5f1f14441d49b4366d37e5feaf0",
              "IPY_MODEL_624d240f97db4d03bc8eb3d6f7f2a89c",
              "IPY_MODEL_5264ba64fc41481d96986401c8c92864"
            ],
            "layout": "IPY_MODEL_2c5d2538afc64229848dad5252224aa3"
          }
        },
        "194ad5f1f14441d49b4366d37e5feaf0": {
          "model_module": "@jupyter-widgets/controls",
          "model_name": "HTMLModel",
          "model_module_version": "1.5.0",
          "state": {
            "_dom_classes": [],
            "_model_module": "@jupyter-widgets/controls",
            "_model_module_version": "1.5.0",
            "_model_name": "HTMLModel",
            "_view_count": null,
            "_view_module": "@jupyter-widgets/controls",
            "_view_module_version": "1.5.0",
            "_view_name": "HTMLView",
            "description": "",
            "description_tooltip": null,
            "layout": "IPY_MODEL_d15202f63b2e448e930e373675addda1",
            "placeholder": "​",
            "style": "IPY_MODEL_76c3edfdd18d4a25a0879dcb8a653626",
            "value": "Downloading: 100%"
          }
        },
        "624d240f97db4d03bc8eb3d6f7f2a89c": {
          "model_module": "@jupyter-widgets/controls",
          "model_name": "FloatProgressModel",
          "model_module_version": "1.5.0",
          "state": {
            "_dom_classes": [],
            "_model_module": "@jupyter-widgets/controls",
            "_model_module_version": "1.5.0",
            "_model_name": "FloatProgressModel",
            "_view_count": null,
            "_view_module": "@jupyter-widgets/controls",
            "_view_module_version": "1.5.0",
            "_view_name": "ProgressView",
            "bar_style": "success",
            "description": "",
            "description_tooltip": null,
            "layout": "IPY_MODEL_0a60cdce2f1f4132b7b109b3719e6d6c",
            "max": 231508,
            "min": 0,
            "orientation": "horizontal",
            "style": "IPY_MODEL_2122043580204a3f9d77605c0d86e403",
            "value": 231508
          }
        },
        "5264ba64fc41481d96986401c8c92864": {
          "model_module": "@jupyter-widgets/controls",
          "model_name": "HTMLModel",
          "model_module_version": "1.5.0",
          "state": {
            "_dom_classes": [],
            "_model_module": "@jupyter-widgets/controls",
            "_model_module_version": "1.5.0",
            "_model_name": "HTMLModel",
            "_view_count": null,
            "_view_module": "@jupyter-widgets/controls",
            "_view_module_version": "1.5.0",
            "_view_name": "HTMLView",
            "description": "",
            "description_tooltip": null,
            "layout": "IPY_MODEL_ed591c4d9e5349418d095f9559bf9d80",
            "placeholder": "​",
            "style": "IPY_MODEL_53400a9cf89f48aea8d558e7fbeea868",
            "value": " 226k/226k [00:00&lt;00:00, 324kB/s]"
          }
        },
        "2c5d2538afc64229848dad5252224aa3": {
          "model_module": "@jupyter-widgets/base",
          "model_name": "LayoutModel",
          "model_module_version": "1.2.0",
          "state": {
            "_model_module": "@jupyter-widgets/base",
            "_model_module_version": "1.2.0",
            "_model_name": "LayoutModel",
            "_view_count": null,
            "_view_module": "@jupyter-widgets/base",
            "_view_module_version": "1.2.0",
            "_view_name": "LayoutView",
            "align_content": null,
            "align_items": null,
            "align_self": null,
            "border": null,
            "bottom": null,
            "display": null,
            "flex": null,
            "flex_flow": null,
            "grid_area": null,
            "grid_auto_columns": null,
            "grid_auto_flow": null,
            "grid_auto_rows": null,
            "grid_column": null,
            "grid_gap": null,
            "grid_row": null,
            "grid_template_areas": null,
            "grid_template_columns": null,
            "grid_template_rows": null,
            "height": null,
            "justify_content": null,
            "justify_items": null,
            "left": null,
            "margin": null,
            "max_height": null,
            "max_width": null,
            "min_height": null,
            "min_width": null,
            "object_fit": null,
            "object_position": null,
            "order": null,
            "overflow": null,
            "overflow_x": null,
            "overflow_y": null,
            "padding": null,
            "right": null,
            "top": null,
            "visibility": null,
            "width": null
          }
        },
        "d15202f63b2e448e930e373675addda1": {
          "model_module": "@jupyter-widgets/base",
          "model_name": "LayoutModel",
          "model_module_version": "1.2.0",
          "state": {
            "_model_module": "@jupyter-widgets/base",
            "_model_module_version": "1.2.0",
            "_model_name": "LayoutModel",
            "_view_count": null,
            "_view_module": "@jupyter-widgets/base",
            "_view_module_version": "1.2.0",
            "_view_name": "LayoutView",
            "align_content": null,
            "align_items": null,
            "align_self": null,
            "border": null,
            "bottom": null,
            "display": null,
            "flex": null,
            "flex_flow": null,
            "grid_area": null,
            "grid_auto_columns": null,
            "grid_auto_flow": null,
            "grid_auto_rows": null,
            "grid_column": null,
            "grid_gap": null,
            "grid_row": null,
            "grid_template_areas": null,
            "grid_template_columns": null,
            "grid_template_rows": null,
            "height": null,
            "justify_content": null,
            "justify_items": null,
            "left": null,
            "margin": null,
            "max_height": null,
            "max_width": null,
            "min_height": null,
            "min_width": null,
            "object_fit": null,
            "object_position": null,
            "order": null,
            "overflow": null,
            "overflow_x": null,
            "overflow_y": null,
            "padding": null,
            "right": null,
            "top": null,
            "visibility": null,
            "width": null
          }
        },
        "76c3edfdd18d4a25a0879dcb8a653626": {
          "model_module": "@jupyter-widgets/controls",
          "model_name": "DescriptionStyleModel",
          "model_module_version": "1.5.0",
          "state": {
            "_model_module": "@jupyter-widgets/controls",
            "_model_module_version": "1.5.0",
            "_model_name": "DescriptionStyleModel",
            "_view_count": null,
            "_view_module": "@jupyter-widgets/base",
            "_view_module_version": "1.2.0",
            "_view_name": "StyleView",
            "description_width": ""
          }
        },
        "0a60cdce2f1f4132b7b109b3719e6d6c": {
          "model_module": "@jupyter-widgets/base",
          "model_name": "LayoutModel",
          "model_module_version": "1.2.0",
          "state": {
            "_model_module": "@jupyter-widgets/base",
            "_model_module_version": "1.2.0",
            "_model_name": "LayoutModel",
            "_view_count": null,
            "_view_module": "@jupyter-widgets/base",
            "_view_module_version": "1.2.0",
            "_view_name": "LayoutView",
            "align_content": null,
            "align_items": null,
            "align_self": null,
            "border": null,
            "bottom": null,
            "display": null,
            "flex": null,
            "flex_flow": null,
            "grid_area": null,
            "grid_auto_columns": null,
            "grid_auto_flow": null,
            "grid_auto_rows": null,
            "grid_column": null,
            "grid_gap": null,
            "grid_row": null,
            "grid_template_areas": null,
            "grid_template_columns": null,
            "grid_template_rows": null,
            "height": null,
            "justify_content": null,
            "justify_items": null,
            "left": null,
            "margin": null,
            "max_height": null,
            "max_width": null,
            "min_height": null,
            "min_width": null,
            "object_fit": null,
            "object_position": null,
            "order": null,
            "overflow": null,
            "overflow_x": null,
            "overflow_y": null,
            "padding": null,
            "right": null,
            "top": null,
            "visibility": null,
            "width": null
          }
        },
        "2122043580204a3f9d77605c0d86e403": {
          "model_module": "@jupyter-widgets/controls",
          "model_name": "ProgressStyleModel",
          "model_module_version": "1.5.0",
          "state": {
            "_model_module": "@jupyter-widgets/controls",
            "_model_module_version": "1.5.0",
            "_model_name": "ProgressStyleModel",
            "_view_count": null,
            "_view_module": "@jupyter-widgets/base",
            "_view_module_version": "1.2.0",
            "_view_name": "StyleView",
            "bar_color": null,
            "description_width": ""
          }
        },
        "ed591c4d9e5349418d095f9559bf9d80": {
          "model_module": "@jupyter-widgets/base",
          "model_name": "LayoutModel",
          "model_module_version": "1.2.0",
          "state": {
            "_model_module": "@jupyter-widgets/base",
            "_model_module_version": "1.2.0",
            "_model_name": "LayoutModel",
            "_view_count": null,
            "_view_module": "@jupyter-widgets/base",
            "_view_module_version": "1.2.0",
            "_view_name": "LayoutView",
            "align_content": null,
            "align_items": null,
            "align_self": null,
            "border": null,
            "bottom": null,
            "display": null,
            "flex": null,
            "flex_flow": null,
            "grid_area": null,
            "grid_auto_columns": null,
            "grid_auto_flow": null,
            "grid_auto_rows": null,
            "grid_column": null,
            "grid_gap": null,
            "grid_row": null,
            "grid_template_areas": null,
            "grid_template_columns": null,
            "grid_template_rows": null,
            "height": null,
            "justify_content": null,
            "justify_items": null,
            "left": null,
            "margin": null,
            "max_height": null,
            "max_width": null,
            "min_height": null,
            "min_width": null,
            "object_fit": null,
            "object_position": null,
            "order": null,
            "overflow": null,
            "overflow_x": null,
            "overflow_y": null,
            "padding": null,
            "right": null,
            "top": null,
            "visibility": null,
            "width": null
          }
        },
        "53400a9cf89f48aea8d558e7fbeea868": {
          "model_module": "@jupyter-widgets/controls",
          "model_name": "DescriptionStyleModel",
          "model_module_version": "1.5.0",
          "state": {
            "_model_module": "@jupyter-widgets/controls",
            "_model_module_version": "1.5.0",
            "_model_name": "DescriptionStyleModel",
            "_view_count": null,
            "_view_module": "@jupyter-widgets/base",
            "_view_module_version": "1.2.0",
            "_view_name": "StyleView",
            "description_width": ""
          }
        },
        "6b841ba2f8fe45b49a10db7eefecb2b8": {
          "model_module": "@jupyter-widgets/controls",
          "model_name": "HBoxModel",
          "model_module_version": "1.5.0",
          "state": {
            "_dom_classes": [],
            "_model_module": "@jupyter-widgets/controls",
            "_model_module_version": "1.5.0",
            "_model_name": "HBoxModel",
            "_view_count": null,
            "_view_module": "@jupyter-widgets/controls",
            "_view_module_version": "1.5.0",
            "_view_name": "HBoxView",
            "box_style": "",
            "children": [
              "IPY_MODEL_482d37b4021f4eb6afcc6da8b21df7b8",
              "IPY_MODEL_90bd3622ec954087b33f212a80196787",
              "IPY_MODEL_054250412c1141338dea10b48d483b5e"
            ],
            "layout": "IPY_MODEL_13ac65735dc34495ba518ee581aff902"
          }
        },
        "482d37b4021f4eb6afcc6da8b21df7b8": {
          "model_module": "@jupyter-widgets/controls",
          "model_name": "HTMLModel",
          "model_module_version": "1.5.0",
          "state": {
            "_dom_classes": [],
            "_model_module": "@jupyter-widgets/controls",
            "_model_module_version": "1.5.0",
            "_model_name": "HTMLModel",
            "_view_count": null,
            "_view_module": "@jupyter-widgets/controls",
            "_view_module_version": "1.5.0",
            "_view_name": "HTMLView",
            "description": "",
            "description_tooltip": null,
            "layout": "IPY_MODEL_fc628727d1dd423ba3ed04242fdb413b",
            "placeholder": "​",
            "style": "IPY_MODEL_dcb9547298ce47b1877783d9d1c9b388",
            "value": "Downloading: 100%"
          }
        },
        "90bd3622ec954087b33f212a80196787": {
          "model_module": "@jupyter-widgets/controls",
          "model_name": "FloatProgressModel",
          "model_module_version": "1.5.0",
          "state": {
            "_dom_classes": [],
            "_model_module": "@jupyter-widgets/controls",
            "_model_module_version": "1.5.0",
            "_model_name": "FloatProgressModel",
            "_view_count": null,
            "_view_module": "@jupyter-widgets/controls",
            "_view_module_version": "1.5.0",
            "_view_name": "ProgressView",
            "bar_style": "success",
            "description": "",
            "description_tooltip": null,
            "layout": "IPY_MODEL_4952ce6a271c4aefb0786b1965f32cca",
            "max": 466062,
            "min": 0,
            "orientation": "horizontal",
            "style": "IPY_MODEL_2874f674a73a41838d44b92beac4a2ea",
            "value": 466062
          }
        },
        "054250412c1141338dea10b48d483b5e": {
          "model_module": "@jupyter-widgets/controls",
          "model_name": "HTMLModel",
          "model_module_version": "1.5.0",
          "state": {
            "_dom_classes": [],
            "_model_module": "@jupyter-widgets/controls",
            "_model_module_version": "1.5.0",
            "_model_name": "HTMLModel",
            "_view_count": null,
            "_view_module": "@jupyter-widgets/controls",
            "_view_module_version": "1.5.0",
            "_view_name": "HTMLView",
            "description": "",
            "description_tooltip": null,
            "layout": "IPY_MODEL_130648a817f04d0da59a4eacec4a5502",
            "placeholder": "​",
            "style": "IPY_MODEL_7e7473707dac466ea0fb727e8c319b1f",
            "value": " 455k/455k [00:00&lt;00:00, 593kB/s]"
          }
        },
        "13ac65735dc34495ba518ee581aff902": {
          "model_module": "@jupyter-widgets/base",
          "model_name": "LayoutModel",
          "model_module_version": "1.2.0",
          "state": {
            "_model_module": "@jupyter-widgets/base",
            "_model_module_version": "1.2.0",
            "_model_name": "LayoutModel",
            "_view_count": null,
            "_view_module": "@jupyter-widgets/base",
            "_view_module_version": "1.2.0",
            "_view_name": "LayoutView",
            "align_content": null,
            "align_items": null,
            "align_self": null,
            "border": null,
            "bottom": null,
            "display": null,
            "flex": null,
            "flex_flow": null,
            "grid_area": null,
            "grid_auto_columns": null,
            "grid_auto_flow": null,
            "grid_auto_rows": null,
            "grid_column": null,
            "grid_gap": null,
            "grid_row": null,
            "grid_template_areas": null,
            "grid_template_columns": null,
            "grid_template_rows": null,
            "height": null,
            "justify_content": null,
            "justify_items": null,
            "left": null,
            "margin": null,
            "max_height": null,
            "max_width": null,
            "min_height": null,
            "min_width": null,
            "object_fit": null,
            "object_position": null,
            "order": null,
            "overflow": null,
            "overflow_x": null,
            "overflow_y": null,
            "padding": null,
            "right": null,
            "top": null,
            "visibility": null,
            "width": null
          }
        },
        "fc628727d1dd423ba3ed04242fdb413b": {
          "model_module": "@jupyter-widgets/base",
          "model_name": "LayoutModel",
          "model_module_version": "1.2.0",
          "state": {
            "_model_module": "@jupyter-widgets/base",
            "_model_module_version": "1.2.0",
            "_model_name": "LayoutModel",
            "_view_count": null,
            "_view_module": "@jupyter-widgets/base",
            "_view_module_version": "1.2.0",
            "_view_name": "LayoutView",
            "align_content": null,
            "align_items": null,
            "align_self": null,
            "border": null,
            "bottom": null,
            "display": null,
            "flex": null,
            "flex_flow": null,
            "grid_area": null,
            "grid_auto_columns": null,
            "grid_auto_flow": null,
            "grid_auto_rows": null,
            "grid_column": null,
            "grid_gap": null,
            "grid_row": null,
            "grid_template_areas": null,
            "grid_template_columns": null,
            "grid_template_rows": null,
            "height": null,
            "justify_content": null,
            "justify_items": null,
            "left": null,
            "margin": null,
            "max_height": null,
            "max_width": null,
            "min_height": null,
            "min_width": null,
            "object_fit": null,
            "object_position": null,
            "order": null,
            "overflow": null,
            "overflow_x": null,
            "overflow_y": null,
            "padding": null,
            "right": null,
            "top": null,
            "visibility": null,
            "width": null
          }
        },
        "dcb9547298ce47b1877783d9d1c9b388": {
          "model_module": "@jupyter-widgets/controls",
          "model_name": "DescriptionStyleModel",
          "model_module_version": "1.5.0",
          "state": {
            "_model_module": "@jupyter-widgets/controls",
            "_model_module_version": "1.5.0",
            "_model_name": "DescriptionStyleModel",
            "_view_count": null,
            "_view_module": "@jupyter-widgets/base",
            "_view_module_version": "1.2.0",
            "_view_name": "StyleView",
            "description_width": ""
          }
        },
        "4952ce6a271c4aefb0786b1965f32cca": {
          "model_module": "@jupyter-widgets/base",
          "model_name": "LayoutModel",
          "model_module_version": "1.2.0",
          "state": {
            "_model_module": "@jupyter-widgets/base",
            "_model_module_version": "1.2.0",
            "_model_name": "LayoutModel",
            "_view_count": null,
            "_view_module": "@jupyter-widgets/base",
            "_view_module_version": "1.2.0",
            "_view_name": "LayoutView",
            "align_content": null,
            "align_items": null,
            "align_self": null,
            "border": null,
            "bottom": null,
            "display": null,
            "flex": null,
            "flex_flow": null,
            "grid_area": null,
            "grid_auto_columns": null,
            "grid_auto_flow": null,
            "grid_auto_rows": null,
            "grid_column": null,
            "grid_gap": null,
            "grid_row": null,
            "grid_template_areas": null,
            "grid_template_columns": null,
            "grid_template_rows": null,
            "height": null,
            "justify_content": null,
            "justify_items": null,
            "left": null,
            "margin": null,
            "max_height": null,
            "max_width": null,
            "min_height": null,
            "min_width": null,
            "object_fit": null,
            "object_position": null,
            "order": null,
            "overflow": null,
            "overflow_x": null,
            "overflow_y": null,
            "padding": null,
            "right": null,
            "top": null,
            "visibility": null,
            "width": null
          }
        },
        "2874f674a73a41838d44b92beac4a2ea": {
          "model_module": "@jupyter-widgets/controls",
          "model_name": "ProgressStyleModel",
          "model_module_version": "1.5.0",
          "state": {
            "_model_module": "@jupyter-widgets/controls",
            "_model_module_version": "1.5.0",
            "_model_name": "ProgressStyleModel",
            "_view_count": null,
            "_view_module": "@jupyter-widgets/base",
            "_view_module_version": "1.2.0",
            "_view_name": "StyleView",
            "bar_color": null,
            "description_width": ""
          }
        },
        "130648a817f04d0da59a4eacec4a5502": {
          "model_module": "@jupyter-widgets/base",
          "model_name": "LayoutModel",
          "model_module_version": "1.2.0",
          "state": {
            "_model_module": "@jupyter-widgets/base",
            "_model_module_version": "1.2.0",
            "_model_name": "LayoutModel",
            "_view_count": null,
            "_view_module": "@jupyter-widgets/base",
            "_view_module_version": "1.2.0",
            "_view_name": "LayoutView",
            "align_content": null,
            "align_items": null,
            "align_self": null,
            "border": null,
            "bottom": null,
            "display": null,
            "flex": null,
            "flex_flow": null,
            "grid_area": null,
            "grid_auto_columns": null,
            "grid_auto_flow": null,
            "grid_auto_rows": null,
            "grid_column": null,
            "grid_gap": null,
            "grid_row": null,
            "grid_template_areas": null,
            "grid_template_columns": null,
            "grid_template_rows": null,
            "height": null,
            "justify_content": null,
            "justify_items": null,
            "left": null,
            "margin": null,
            "max_height": null,
            "max_width": null,
            "min_height": null,
            "min_width": null,
            "object_fit": null,
            "object_position": null,
            "order": null,
            "overflow": null,
            "overflow_x": null,
            "overflow_y": null,
            "padding": null,
            "right": null,
            "top": null,
            "visibility": null,
            "width": null
          }
        },
        "7e7473707dac466ea0fb727e8c319b1f": {
          "model_module": "@jupyter-widgets/controls",
          "model_name": "DescriptionStyleModel",
          "model_module_version": "1.5.0",
          "state": {
            "_model_module": "@jupyter-widgets/controls",
            "_model_module_version": "1.5.0",
            "_model_name": "DescriptionStyleModel",
            "_view_count": null,
            "_view_module": "@jupyter-widgets/base",
            "_view_module_version": "1.2.0",
            "_view_name": "StyleView",
            "description_width": ""
          }
        },
        "67ffd56ab4cc49bf9e2ea985fe780987": {
          "model_module": "@jupyter-widgets/controls",
          "model_name": "HBoxModel",
          "model_module_version": "1.5.0",
          "state": {
            "_dom_classes": [],
            "_model_module": "@jupyter-widgets/controls",
            "_model_module_version": "1.5.0",
            "_model_name": "HBoxModel",
            "_view_count": null,
            "_view_module": "@jupyter-widgets/controls",
            "_view_module_version": "1.5.0",
            "_view_name": "HBoxView",
            "box_style": "",
            "children": [
              "IPY_MODEL_adef031b6b3841d9984e4d047ee6697f",
              "IPY_MODEL_c2542e68e1064146af18ab2c40de40d0",
              "IPY_MODEL_21556941a2e749748e81df9c9f3acf06"
            ],
            "layout": "IPY_MODEL_190d72930fa04410b2f843b6af13ac21"
          }
        },
        "adef031b6b3841d9984e4d047ee6697f": {
          "model_module": "@jupyter-widgets/controls",
          "model_name": "HTMLModel",
          "model_module_version": "1.5.0",
          "state": {
            "_dom_classes": [],
            "_model_module": "@jupyter-widgets/controls",
            "_model_module_version": "1.5.0",
            "_model_name": "HTMLModel",
            "_view_count": null,
            "_view_module": "@jupyter-widgets/controls",
            "_view_module_version": "1.5.0",
            "_view_name": "HTMLView",
            "description": "",
            "description_tooltip": null,
            "layout": "IPY_MODEL_a9672bcf4ff445c6977129978f678aad",
            "placeholder": "​",
            "style": "IPY_MODEL_6e0e3a0bbd9f49c7a283e1cf0f626be5",
            "value": "Downloading: 100%"
          }
        },
        "c2542e68e1064146af18ab2c40de40d0": {
          "model_module": "@jupyter-widgets/controls",
          "model_name": "FloatProgressModel",
          "model_module_version": "1.5.0",
          "state": {
            "_dom_classes": [],
            "_model_module": "@jupyter-widgets/controls",
            "_model_module_version": "1.5.0",
            "_model_name": "FloatProgressModel",
            "_view_count": null,
            "_view_module": "@jupyter-widgets/controls",
            "_view_module_version": "1.5.0",
            "_view_name": "ProgressView",
            "bar_style": "success",
            "description": "",
            "description_tooltip": null,
            "layout": "IPY_MODEL_74ed1a5723c041b3a065a51afba1e89a",
            "max": 483,
            "min": 0,
            "orientation": "horizontal",
            "style": "IPY_MODEL_474fdb27497144bea6c07cb9c63ce1c2",
            "value": 483
          }
        },
        "21556941a2e749748e81df9c9f3acf06": {
          "model_module": "@jupyter-widgets/controls",
          "model_name": "HTMLModel",
          "model_module_version": "1.5.0",
          "state": {
            "_dom_classes": [],
            "_model_module": "@jupyter-widgets/controls",
            "_model_module_version": "1.5.0",
            "_model_name": "HTMLModel",
            "_view_count": null,
            "_view_module": "@jupyter-widgets/controls",
            "_view_module_version": "1.5.0",
            "_view_name": "HTMLView",
            "description": "",
            "description_tooltip": null,
            "layout": "IPY_MODEL_c60c8844817647ce8b9c7cd7f7440359",
            "placeholder": "​",
            "style": "IPY_MODEL_c5b1efec570d42e188f3649708b66bed",
            "value": " 483/483 [00:00&lt;00:00, 12.0kB/s]"
          }
        },
        "190d72930fa04410b2f843b6af13ac21": {
          "model_module": "@jupyter-widgets/base",
          "model_name": "LayoutModel",
          "model_module_version": "1.2.0",
          "state": {
            "_model_module": "@jupyter-widgets/base",
            "_model_module_version": "1.2.0",
            "_model_name": "LayoutModel",
            "_view_count": null,
            "_view_module": "@jupyter-widgets/base",
            "_view_module_version": "1.2.0",
            "_view_name": "LayoutView",
            "align_content": null,
            "align_items": null,
            "align_self": null,
            "border": null,
            "bottom": null,
            "display": null,
            "flex": null,
            "flex_flow": null,
            "grid_area": null,
            "grid_auto_columns": null,
            "grid_auto_flow": null,
            "grid_auto_rows": null,
            "grid_column": null,
            "grid_gap": null,
            "grid_row": null,
            "grid_template_areas": null,
            "grid_template_columns": null,
            "grid_template_rows": null,
            "height": null,
            "justify_content": null,
            "justify_items": null,
            "left": null,
            "margin": null,
            "max_height": null,
            "max_width": null,
            "min_height": null,
            "min_width": null,
            "object_fit": null,
            "object_position": null,
            "order": null,
            "overflow": null,
            "overflow_x": null,
            "overflow_y": null,
            "padding": null,
            "right": null,
            "top": null,
            "visibility": null,
            "width": null
          }
        },
        "a9672bcf4ff445c6977129978f678aad": {
          "model_module": "@jupyter-widgets/base",
          "model_name": "LayoutModel",
          "model_module_version": "1.2.0",
          "state": {
            "_model_module": "@jupyter-widgets/base",
            "_model_module_version": "1.2.0",
            "_model_name": "LayoutModel",
            "_view_count": null,
            "_view_module": "@jupyter-widgets/base",
            "_view_module_version": "1.2.0",
            "_view_name": "LayoutView",
            "align_content": null,
            "align_items": null,
            "align_self": null,
            "border": null,
            "bottom": null,
            "display": null,
            "flex": null,
            "flex_flow": null,
            "grid_area": null,
            "grid_auto_columns": null,
            "grid_auto_flow": null,
            "grid_auto_rows": null,
            "grid_column": null,
            "grid_gap": null,
            "grid_row": null,
            "grid_template_areas": null,
            "grid_template_columns": null,
            "grid_template_rows": null,
            "height": null,
            "justify_content": null,
            "justify_items": null,
            "left": null,
            "margin": null,
            "max_height": null,
            "max_width": null,
            "min_height": null,
            "min_width": null,
            "object_fit": null,
            "object_position": null,
            "order": null,
            "overflow": null,
            "overflow_x": null,
            "overflow_y": null,
            "padding": null,
            "right": null,
            "top": null,
            "visibility": null,
            "width": null
          }
        },
        "6e0e3a0bbd9f49c7a283e1cf0f626be5": {
          "model_module": "@jupyter-widgets/controls",
          "model_name": "DescriptionStyleModel",
          "model_module_version": "1.5.0",
          "state": {
            "_model_module": "@jupyter-widgets/controls",
            "_model_module_version": "1.5.0",
            "_model_name": "DescriptionStyleModel",
            "_view_count": null,
            "_view_module": "@jupyter-widgets/base",
            "_view_module_version": "1.2.0",
            "_view_name": "StyleView",
            "description_width": ""
          }
        },
        "74ed1a5723c041b3a065a51afba1e89a": {
          "model_module": "@jupyter-widgets/base",
          "model_name": "LayoutModel",
          "model_module_version": "1.2.0",
          "state": {
            "_model_module": "@jupyter-widgets/base",
            "_model_module_version": "1.2.0",
            "_model_name": "LayoutModel",
            "_view_count": null,
            "_view_module": "@jupyter-widgets/base",
            "_view_module_version": "1.2.0",
            "_view_name": "LayoutView",
            "align_content": null,
            "align_items": null,
            "align_self": null,
            "border": null,
            "bottom": null,
            "display": null,
            "flex": null,
            "flex_flow": null,
            "grid_area": null,
            "grid_auto_columns": null,
            "grid_auto_flow": null,
            "grid_auto_rows": null,
            "grid_column": null,
            "grid_gap": null,
            "grid_row": null,
            "grid_template_areas": null,
            "grid_template_columns": null,
            "grid_template_rows": null,
            "height": null,
            "justify_content": null,
            "justify_items": null,
            "left": null,
            "margin": null,
            "max_height": null,
            "max_width": null,
            "min_height": null,
            "min_width": null,
            "object_fit": null,
            "object_position": null,
            "order": null,
            "overflow": null,
            "overflow_x": null,
            "overflow_y": null,
            "padding": null,
            "right": null,
            "top": null,
            "visibility": null,
            "width": null
          }
        },
        "474fdb27497144bea6c07cb9c63ce1c2": {
          "model_module": "@jupyter-widgets/controls",
          "model_name": "ProgressStyleModel",
          "model_module_version": "1.5.0",
          "state": {
            "_model_module": "@jupyter-widgets/controls",
            "_model_module_version": "1.5.0",
            "_model_name": "ProgressStyleModel",
            "_view_count": null,
            "_view_module": "@jupyter-widgets/base",
            "_view_module_version": "1.2.0",
            "_view_name": "StyleView",
            "bar_color": null,
            "description_width": ""
          }
        },
        "c60c8844817647ce8b9c7cd7f7440359": {
          "model_module": "@jupyter-widgets/base",
          "model_name": "LayoutModel",
          "model_module_version": "1.2.0",
          "state": {
            "_model_module": "@jupyter-widgets/base",
            "_model_module_version": "1.2.0",
            "_model_name": "LayoutModel",
            "_view_count": null,
            "_view_module": "@jupyter-widgets/base",
            "_view_module_version": "1.2.0",
            "_view_name": "LayoutView",
            "align_content": null,
            "align_items": null,
            "align_self": null,
            "border": null,
            "bottom": null,
            "display": null,
            "flex": null,
            "flex_flow": null,
            "grid_area": null,
            "grid_auto_columns": null,
            "grid_auto_flow": null,
            "grid_auto_rows": null,
            "grid_column": null,
            "grid_gap": null,
            "grid_row": null,
            "grid_template_areas": null,
            "grid_template_columns": null,
            "grid_template_rows": null,
            "height": null,
            "justify_content": null,
            "justify_items": null,
            "left": null,
            "margin": null,
            "max_height": null,
            "max_width": null,
            "min_height": null,
            "min_width": null,
            "object_fit": null,
            "object_position": null,
            "order": null,
            "overflow": null,
            "overflow_x": null,
            "overflow_y": null,
            "padding": null,
            "right": null,
            "top": null,
            "visibility": null,
            "width": null
          }
        },
        "c5b1efec570d42e188f3649708b66bed": {
          "model_module": "@jupyter-widgets/controls",
          "model_name": "DescriptionStyleModel",
          "model_module_version": "1.5.0",
          "state": {
            "_model_module": "@jupyter-widgets/controls",
            "_model_module_version": "1.5.0",
            "_model_name": "DescriptionStyleModel",
            "_view_count": null,
            "_view_module": "@jupyter-widgets/base",
            "_view_module_version": "1.2.0",
            "_view_name": "StyleView",
            "description_width": ""
          }
        },
        "cb801a108fba4fb39545b05ad235bd2a": {
          "model_module": "@jupyter-widgets/controls",
          "model_name": "HBoxModel",
          "model_module_version": "1.5.0",
          "state": {
            "_dom_classes": [],
            "_model_module": "@jupyter-widgets/controls",
            "_model_module_version": "1.5.0",
            "_model_name": "HBoxModel",
            "_view_count": null,
            "_view_module": "@jupyter-widgets/controls",
            "_view_module_version": "1.5.0",
            "_view_name": "HBoxView",
            "box_style": "",
            "children": [
              "IPY_MODEL_845cdb7fbeb3407ab6b26cf5222092bd",
              "IPY_MODEL_48bd62cfd9bf420a9b5ea0664a6c1f80",
              "IPY_MODEL_d9ef31de77b34a6f91699e82c702b3cc"
            ],
            "layout": "IPY_MODEL_e2a103ceac114c6e858423ff81390e70"
          }
        },
        "845cdb7fbeb3407ab6b26cf5222092bd": {
          "model_module": "@jupyter-widgets/controls",
          "model_name": "HTMLModel",
          "model_module_version": "1.5.0",
          "state": {
            "_dom_classes": [],
            "_model_module": "@jupyter-widgets/controls",
            "_model_module_version": "1.5.0",
            "_model_name": "HTMLModel",
            "_view_count": null,
            "_view_module": "@jupyter-widgets/controls",
            "_view_module_version": "1.5.0",
            "_view_name": "HTMLView",
            "description": "",
            "description_tooltip": null,
            "layout": "IPY_MODEL_4829419baea644ceb3584cff9a6b5f06",
            "placeholder": "​",
            "style": "IPY_MODEL_50ff15be23e84d52a05245b63a3dde96",
            "value": "Downloading: 100%"
          }
        },
        "48bd62cfd9bf420a9b5ea0664a6c1f80": {
          "model_module": "@jupyter-widgets/controls",
          "model_name": "FloatProgressModel",
          "model_module_version": "1.5.0",
          "state": {
            "_dom_classes": [],
            "_model_module": "@jupyter-widgets/controls",
            "_model_module_version": "1.5.0",
            "_model_name": "FloatProgressModel",
            "_view_count": null,
            "_view_module": "@jupyter-widgets/controls",
            "_view_module_version": "1.5.0",
            "_view_name": "ProgressView",
            "bar_style": "success",
            "description": "",
            "description_tooltip": null,
            "layout": "IPY_MODEL_7e0161eca8c84a3d9126e0a3f994b188",
            "max": 28,
            "min": 0,
            "orientation": "horizontal",
            "style": "IPY_MODEL_27901beb2513493e9b2f53d1072a49e6",
            "value": 28
          }
        },
        "d9ef31de77b34a6f91699e82c702b3cc": {
          "model_module": "@jupyter-widgets/controls",
          "model_name": "HTMLModel",
          "model_module_version": "1.5.0",
          "state": {
            "_dom_classes": [],
            "_model_module": "@jupyter-widgets/controls",
            "_model_module_version": "1.5.0",
            "_model_name": "HTMLModel",
            "_view_count": null,
            "_view_module": "@jupyter-widgets/controls",
            "_view_module_version": "1.5.0",
            "_view_name": "HTMLView",
            "description": "",
            "description_tooltip": null,
            "layout": "IPY_MODEL_e61993940c794448821c0ebdef638028",
            "placeholder": "​",
            "style": "IPY_MODEL_8f5b736fe1774e0bbdec59313b714192",
            "value": " 28.0/28.0 [00:00&lt;00:00, 261B/s]"
          }
        },
        "e2a103ceac114c6e858423ff81390e70": {
          "model_module": "@jupyter-widgets/base",
          "model_name": "LayoutModel",
          "model_module_version": "1.2.0",
          "state": {
            "_model_module": "@jupyter-widgets/base",
            "_model_module_version": "1.2.0",
            "_model_name": "LayoutModel",
            "_view_count": null,
            "_view_module": "@jupyter-widgets/base",
            "_view_module_version": "1.2.0",
            "_view_name": "LayoutView",
            "align_content": null,
            "align_items": null,
            "align_self": null,
            "border": null,
            "bottom": null,
            "display": null,
            "flex": null,
            "flex_flow": null,
            "grid_area": null,
            "grid_auto_columns": null,
            "grid_auto_flow": null,
            "grid_auto_rows": null,
            "grid_column": null,
            "grid_gap": null,
            "grid_row": null,
            "grid_template_areas": null,
            "grid_template_columns": null,
            "grid_template_rows": null,
            "height": null,
            "justify_content": null,
            "justify_items": null,
            "left": null,
            "margin": null,
            "max_height": null,
            "max_width": null,
            "min_height": null,
            "min_width": null,
            "object_fit": null,
            "object_position": null,
            "order": null,
            "overflow": null,
            "overflow_x": null,
            "overflow_y": null,
            "padding": null,
            "right": null,
            "top": null,
            "visibility": null,
            "width": null
          }
        },
        "4829419baea644ceb3584cff9a6b5f06": {
          "model_module": "@jupyter-widgets/base",
          "model_name": "LayoutModel",
          "model_module_version": "1.2.0",
          "state": {
            "_model_module": "@jupyter-widgets/base",
            "_model_module_version": "1.2.0",
            "_model_name": "LayoutModel",
            "_view_count": null,
            "_view_module": "@jupyter-widgets/base",
            "_view_module_version": "1.2.0",
            "_view_name": "LayoutView",
            "align_content": null,
            "align_items": null,
            "align_self": null,
            "border": null,
            "bottom": null,
            "display": null,
            "flex": null,
            "flex_flow": null,
            "grid_area": null,
            "grid_auto_columns": null,
            "grid_auto_flow": null,
            "grid_auto_rows": null,
            "grid_column": null,
            "grid_gap": null,
            "grid_row": null,
            "grid_template_areas": null,
            "grid_template_columns": null,
            "grid_template_rows": null,
            "height": null,
            "justify_content": null,
            "justify_items": null,
            "left": null,
            "margin": null,
            "max_height": null,
            "max_width": null,
            "min_height": null,
            "min_width": null,
            "object_fit": null,
            "object_position": null,
            "order": null,
            "overflow": null,
            "overflow_x": null,
            "overflow_y": null,
            "padding": null,
            "right": null,
            "top": null,
            "visibility": null,
            "width": null
          }
        },
        "50ff15be23e84d52a05245b63a3dde96": {
          "model_module": "@jupyter-widgets/controls",
          "model_name": "DescriptionStyleModel",
          "model_module_version": "1.5.0",
          "state": {
            "_model_module": "@jupyter-widgets/controls",
            "_model_module_version": "1.5.0",
            "_model_name": "DescriptionStyleModel",
            "_view_count": null,
            "_view_module": "@jupyter-widgets/base",
            "_view_module_version": "1.2.0",
            "_view_name": "StyleView",
            "description_width": ""
          }
        },
        "7e0161eca8c84a3d9126e0a3f994b188": {
          "model_module": "@jupyter-widgets/base",
          "model_name": "LayoutModel",
          "model_module_version": "1.2.0",
          "state": {
            "_model_module": "@jupyter-widgets/base",
            "_model_module_version": "1.2.0",
            "_model_name": "LayoutModel",
            "_view_count": null,
            "_view_module": "@jupyter-widgets/base",
            "_view_module_version": "1.2.0",
            "_view_name": "LayoutView",
            "align_content": null,
            "align_items": null,
            "align_self": null,
            "border": null,
            "bottom": null,
            "display": null,
            "flex": null,
            "flex_flow": null,
            "grid_area": null,
            "grid_auto_columns": null,
            "grid_auto_flow": null,
            "grid_auto_rows": null,
            "grid_column": null,
            "grid_gap": null,
            "grid_row": null,
            "grid_template_areas": null,
            "grid_template_columns": null,
            "grid_template_rows": null,
            "height": null,
            "justify_content": null,
            "justify_items": null,
            "left": null,
            "margin": null,
            "max_height": null,
            "max_width": null,
            "min_height": null,
            "min_width": null,
            "object_fit": null,
            "object_position": null,
            "order": null,
            "overflow": null,
            "overflow_x": null,
            "overflow_y": null,
            "padding": null,
            "right": null,
            "top": null,
            "visibility": null,
            "width": null
          }
        },
        "27901beb2513493e9b2f53d1072a49e6": {
          "model_module": "@jupyter-widgets/controls",
          "model_name": "ProgressStyleModel",
          "model_module_version": "1.5.0",
          "state": {
            "_model_module": "@jupyter-widgets/controls",
            "_model_module_version": "1.5.0",
            "_model_name": "ProgressStyleModel",
            "_view_count": null,
            "_view_module": "@jupyter-widgets/base",
            "_view_module_version": "1.2.0",
            "_view_name": "StyleView",
            "bar_color": null,
            "description_width": ""
          }
        },
        "e61993940c794448821c0ebdef638028": {
          "model_module": "@jupyter-widgets/base",
          "model_name": "LayoutModel",
          "model_module_version": "1.2.0",
          "state": {
            "_model_module": "@jupyter-widgets/base",
            "_model_module_version": "1.2.0",
            "_model_name": "LayoutModel",
            "_view_count": null,
            "_view_module": "@jupyter-widgets/base",
            "_view_module_version": "1.2.0",
            "_view_name": "LayoutView",
            "align_content": null,
            "align_items": null,
            "align_self": null,
            "border": null,
            "bottom": null,
            "display": null,
            "flex": null,
            "flex_flow": null,
            "grid_area": null,
            "grid_auto_columns": null,
            "grid_auto_flow": null,
            "grid_auto_rows": null,
            "grid_column": null,
            "grid_gap": null,
            "grid_row": null,
            "grid_template_areas": null,
            "grid_template_columns": null,
            "grid_template_rows": null,
            "height": null,
            "justify_content": null,
            "justify_items": null,
            "left": null,
            "margin": null,
            "max_height": null,
            "max_width": null,
            "min_height": null,
            "min_width": null,
            "object_fit": null,
            "object_position": null,
            "order": null,
            "overflow": null,
            "overflow_x": null,
            "overflow_y": null,
            "padding": null,
            "right": null,
            "top": null,
            "visibility": null,
            "width": null
          }
        },
        "8f5b736fe1774e0bbdec59313b714192": {
          "model_module": "@jupyter-widgets/controls",
          "model_name": "DescriptionStyleModel",
          "model_module_version": "1.5.0",
          "state": {
            "_model_module": "@jupyter-widgets/controls",
            "_model_module_version": "1.5.0",
            "_model_name": "DescriptionStyleModel",
            "_view_count": null,
            "_view_module": "@jupyter-widgets/base",
            "_view_module_version": "1.2.0",
            "_view_name": "StyleView",
            "description_width": ""
          }
        },
        "3388de62d02c44aba6f70a9d8e12850c": {
          "model_module": "@jupyter-widgets/controls",
          "model_name": "HBoxModel",
          "model_module_version": "1.5.0",
          "state": {
            "_dom_classes": [],
            "_model_module": "@jupyter-widgets/controls",
            "_model_module_version": "1.5.0",
            "_model_name": "HBoxModel",
            "_view_count": null,
            "_view_module": "@jupyter-widgets/controls",
            "_view_module_version": "1.5.0",
            "_view_name": "HBoxView",
            "box_style": "",
            "children": [
              "IPY_MODEL_57987e3895cc4fa9a966318a2a2eb20d",
              "IPY_MODEL_f02e33215af94324accc6e30578075ea",
              "IPY_MODEL_ffb9c6198022490c9d3a348a6bdcef16"
            ],
            "layout": "IPY_MODEL_d653a62a76d24dc59159fac05aa5172c"
          }
        },
        "57987e3895cc4fa9a966318a2a2eb20d": {
          "model_module": "@jupyter-widgets/controls",
          "model_name": "HTMLModel",
          "model_module_version": "1.5.0",
          "state": {
            "_dom_classes": [],
            "_model_module": "@jupyter-widgets/controls",
            "_model_module_version": "1.5.0",
            "_model_name": "HTMLModel",
            "_view_count": null,
            "_view_module": "@jupyter-widgets/controls",
            "_view_module_version": "1.5.0",
            "_view_name": "HTMLView",
            "description": "",
            "description_tooltip": null,
            "layout": "IPY_MODEL_74c46af72e4b431d97e9612308f56579",
            "placeholder": "​",
            "style": "IPY_MODEL_843dbf528de94c6c88c3d4c47100d6cc",
            "value": "Downloading: 100%"
          }
        },
        "f02e33215af94324accc6e30578075ea": {
          "model_module": "@jupyter-widgets/controls",
          "model_name": "FloatProgressModel",
          "model_module_version": "1.5.0",
          "state": {
            "_dom_classes": [],
            "_model_module": "@jupyter-widgets/controls",
            "_model_module_version": "1.5.0",
            "_model_name": "FloatProgressModel",
            "_view_count": null,
            "_view_module": "@jupyter-widgets/controls",
            "_view_module_version": "1.5.0",
            "_view_name": "ProgressView",
            "bar_style": "success",
            "description": "",
            "description_tooltip": null,
            "layout": "IPY_MODEL_489877d98ad349cfac41573f97ea84e8",
            "max": 570,
            "min": 0,
            "orientation": "horizontal",
            "style": "IPY_MODEL_b4de6a5496f541d693c0108df97b81f9",
            "value": 570
          }
        },
        "ffb9c6198022490c9d3a348a6bdcef16": {
          "model_module": "@jupyter-widgets/controls",
          "model_name": "HTMLModel",
          "model_module_version": "1.5.0",
          "state": {
            "_dom_classes": [],
            "_model_module": "@jupyter-widgets/controls",
            "_model_module_version": "1.5.0",
            "_model_name": "HTMLModel",
            "_view_count": null,
            "_view_module": "@jupyter-widgets/controls",
            "_view_module_version": "1.5.0",
            "_view_name": "HTMLView",
            "description": "",
            "description_tooltip": null,
            "layout": "IPY_MODEL_c838fdecdeac41b7929c687b66581e2c",
            "placeholder": "​",
            "style": "IPY_MODEL_e914e2904e3946118690861d101ef48c",
            "value": " 570/570 [00:00&lt;00:00, 7.30kB/s]"
          }
        },
        "d653a62a76d24dc59159fac05aa5172c": {
          "model_module": "@jupyter-widgets/base",
          "model_name": "LayoutModel",
          "model_module_version": "1.2.0",
          "state": {
            "_model_module": "@jupyter-widgets/base",
            "_model_module_version": "1.2.0",
            "_model_name": "LayoutModel",
            "_view_count": null,
            "_view_module": "@jupyter-widgets/base",
            "_view_module_version": "1.2.0",
            "_view_name": "LayoutView",
            "align_content": null,
            "align_items": null,
            "align_self": null,
            "border": null,
            "bottom": null,
            "display": null,
            "flex": null,
            "flex_flow": null,
            "grid_area": null,
            "grid_auto_columns": null,
            "grid_auto_flow": null,
            "grid_auto_rows": null,
            "grid_column": null,
            "grid_gap": null,
            "grid_row": null,
            "grid_template_areas": null,
            "grid_template_columns": null,
            "grid_template_rows": null,
            "height": null,
            "justify_content": null,
            "justify_items": null,
            "left": null,
            "margin": null,
            "max_height": null,
            "max_width": null,
            "min_height": null,
            "min_width": null,
            "object_fit": null,
            "object_position": null,
            "order": null,
            "overflow": null,
            "overflow_x": null,
            "overflow_y": null,
            "padding": null,
            "right": null,
            "top": null,
            "visibility": null,
            "width": null
          }
        },
        "74c46af72e4b431d97e9612308f56579": {
          "model_module": "@jupyter-widgets/base",
          "model_name": "LayoutModel",
          "model_module_version": "1.2.0",
          "state": {
            "_model_module": "@jupyter-widgets/base",
            "_model_module_version": "1.2.0",
            "_model_name": "LayoutModel",
            "_view_count": null,
            "_view_module": "@jupyter-widgets/base",
            "_view_module_version": "1.2.0",
            "_view_name": "LayoutView",
            "align_content": null,
            "align_items": null,
            "align_self": null,
            "border": null,
            "bottom": null,
            "display": null,
            "flex": null,
            "flex_flow": null,
            "grid_area": null,
            "grid_auto_columns": null,
            "grid_auto_flow": null,
            "grid_auto_rows": null,
            "grid_column": null,
            "grid_gap": null,
            "grid_row": null,
            "grid_template_areas": null,
            "grid_template_columns": null,
            "grid_template_rows": null,
            "height": null,
            "justify_content": null,
            "justify_items": null,
            "left": null,
            "margin": null,
            "max_height": null,
            "max_width": null,
            "min_height": null,
            "min_width": null,
            "object_fit": null,
            "object_position": null,
            "order": null,
            "overflow": null,
            "overflow_x": null,
            "overflow_y": null,
            "padding": null,
            "right": null,
            "top": null,
            "visibility": null,
            "width": null
          }
        },
        "843dbf528de94c6c88c3d4c47100d6cc": {
          "model_module": "@jupyter-widgets/controls",
          "model_name": "DescriptionStyleModel",
          "model_module_version": "1.5.0",
          "state": {
            "_model_module": "@jupyter-widgets/controls",
            "_model_module_version": "1.5.0",
            "_model_name": "DescriptionStyleModel",
            "_view_count": null,
            "_view_module": "@jupyter-widgets/base",
            "_view_module_version": "1.2.0",
            "_view_name": "StyleView",
            "description_width": ""
          }
        },
        "489877d98ad349cfac41573f97ea84e8": {
          "model_module": "@jupyter-widgets/base",
          "model_name": "LayoutModel",
          "model_module_version": "1.2.0",
          "state": {
            "_model_module": "@jupyter-widgets/base",
            "_model_module_version": "1.2.0",
            "_model_name": "LayoutModel",
            "_view_count": null,
            "_view_module": "@jupyter-widgets/base",
            "_view_module_version": "1.2.0",
            "_view_name": "LayoutView",
            "align_content": null,
            "align_items": null,
            "align_self": null,
            "border": null,
            "bottom": null,
            "display": null,
            "flex": null,
            "flex_flow": null,
            "grid_area": null,
            "grid_auto_columns": null,
            "grid_auto_flow": null,
            "grid_auto_rows": null,
            "grid_column": null,
            "grid_gap": null,
            "grid_row": null,
            "grid_template_areas": null,
            "grid_template_columns": null,
            "grid_template_rows": null,
            "height": null,
            "justify_content": null,
            "justify_items": null,
            "left": null,
            "margin": null,
            "max_height": null,
            "max_width": null,
            "min_height": null,
            "min_width": null,
            "object_fit": null,
            "object_position": null,
            "order": null,
            "overflow": null,
            "overflow_x": null,
            "overflow_y": null,
            "padding": null,
            "right": null,
            "top": null,
            "visibility": null,
            "width": null
          }
        },
        "b4de6a5496f541d693c0108df97b81f9": {
          "model_module": "@jupyter-widgets/controls",
          "model_name": "ProgressStyleModel",
          "model_module_version": "1.5.0",
          "state": {
            "_model_module": "@jupyter-widgets/controls",
            "_model_module_version": "1.5.0",
            "_model_name": "ProgressStyleModel",
            "_view_count": null,
            "_view_module": "@jupyter-widgets/base",
            "_view_module_version": "1.2.0",
            "_view_name": "StyleView",
            "bar_color": null,
            "description_width": ""
          }
        },
        "c838fdecdeac41b7929c687b66581e2c": {
          "model_module": "@jupyter-widgets/base",
          "model_name": "LayoutModel",
          "model_module_version": "1.2.0",
          "state": {
            "_model_module": "@jupyter-widgets/base",
            "_model_module_version": "1.2.0",
            "_model_name": "LayoutModel",
            "_view_count": null,
            "_view_module": "@jupyter-widgets/base",
            "_view_module_version": "1.2.0",
            "_view_name": "LayoutView",
            "align_content": null,
            "align_items": null,
            "align_self": null,
            "border": null,
            "bottom": null,
            "display": null,
            "flex": null,
            "flex_flow": null,
            "grid_area": null,
            "grid_auto_columns": null,
            "grid_auto_flow": null,
            "grid_auto_rows": null,
            "grid_column": null,
            "grid_gap": null,
            "grid_row": null,
            "grid_template_areas": null,
            "grid_template_columns": null,
            "grid_template_rows": null,
            "height": null,
            "justify_content": null,
            "justify_items": null,
            "left": null,
            "margin": null,
            "max_height": null,
            "max_width": null,
            "min_height": null,
            "min_width": null,
            "object_fit": null,
            "object_position": null,
            "order": null,
            "overflow": null,
            "overflow_x": null,
            "overflow_y": null,
            "padding": null,
            "right": null,
            "top": null,
            "visibility": null,
            "width": null
          }
        },
        "e914e2904e3946118690861d101ef48c": {
          "model_module": "@jupyter-widgets/controls",
          "model_name": "DescriptionStyleModel",
          "model_module_version": "1.5.0",
          "state": {
            "_model_module": "@jupyter-widgets/controls",
            "_model_module_version": "1.5.0",
            "_model_name": "DescriptionStyleModel",
            "_view_count": null,
            "_view_module": "@jupyter-widgets/base",
            "_view_module_version": "1.2.0",
            "_view_name": "StyleView",
            "description_width": ""
          }
        },
        "34de187ae4164221b816102329ad0471": {
          "model_module": "@jupyter-widgets/controls",
          "model_name": "HBoxModel",
          "model_module_version": "1.5.0",
          "state": {
            "_dom_classes": [],
            "_model_module": "@jupyter-widgets/controls",
            "_model_module_version": "1.5.0",
            "_model_name": "HBoxModel",
            "_view_count": null,
            "_view_module": "@jupyter-widgets/controls",
            "_view_module_version": "1.5.0",
            "_view_name": "HBoxView",
            "box_style": "",
            "children": [
              "IPY_MODEL_d255798b6230420985dea8d0804e379b",
              "IPY_MODEL_a7c4af57faae484ca9486da00a20e0b7",
              "IPY_MODEL_4121cfde2b934fbfbb34bdd95cfb117a"
            ],
            "layout": "IPY_MODEL_ae66e8f7be42458584f58a441915a98a"
          }
        },
        "d255798b6230420985dea8d0804e379b": {
          "model_module": "@jupyter-widgets/controls",
          "model_name": "HTMLModel",
          "model_module_version": "1.5.0",
          "state": {
            "_dom_classes": [],
            "_model_module": "@jupyter-widgets/controls",
            "_model_module_version": "1.5.0",
            "_model_name": "HTMLModel",
            "_view_count": null,
            "_view_module": "@jupyter-widgets/controls",
            "_view_module_version": "1.5.0",
            "_view_name": "HTMLView",
            "description": "",
            "description_tooltip": null,
            "layout": "IPY_MODEL_cb34d9dfdb344bfe9cd99d1eeff44fe0",
            "placeholder": "​",
            "style": "IPY_MODEL_9332d017fa1447a3bcfe69f89336710d",
            "value": "Downloading: 100%"
          }
        },
        "a7c4af57faae484ca9486da00a20e0b7": {
          "model_module": "@jupyter-widgets/controls",
          "model_name": "FloatProgressModel",
          "model_module_version": "1.5.0",
          "state": {
            "_dom_classes": [],
            "_model_module": "@jupyter-widgets/controls",
            "_model_module_version": "1.5.0",
            "_model_name": "FloatProgressModel",
            "_view_count": null,
            "_view_module": "@jupyter-widgets/controls",
            "_view_module_version": "1.5.0",
            "_view_name": "ProgressView",
            "bar_style": "success",
            "description": "",
            "description_tooltip": null,
            "layout": "IPY_MODEL_15131385591e4f89a9e00a65b461e9fc",
            "max": 231508,
            "min": 0,
            "orientation": "horizontal",
            "style": "IPY_MODEL_bb1b638dad0e467881afda384a5e9174",
            "value": 231508
          }
        },
        "4121cfde2b934fbfbb34bdd95cfb117a": {
          "model_module": "@jupyter-widgets/controls",
          "model_name": "HTMLModel",
          "model_module_version": "1.5.0",
          "state": {
            "_dom_classes": [],
            "_model_module": "@jupyter-widgets/controls",
            "_model_module_version": "1.5.0",
            "_model_name": "HTMLModel",
            "_view_count": null,
            "_view_module": "@jupyter-widgets/controls",
            "_view_module_version": "1.5.0",
            "_view_name": "HTMLView",
            "description": "",
            "description_tooltip": null,
            "layout": "IPY_MODEL_303e1bb7b4d047399fa840c8d41990f7",
            "placeholder": "​",
            "style": "IPY_MODEL_ebc909d5e1214016b7c76f891ab95d9e",
            "value": " 226k/226k [00:00&lt;00:00, 230kB/s]"
          }
        },
        "ae66e8f7be42458584f58a441915a98a": {
          "model_module": "@jupyter-widgets/base",
          "model_name": "LayoutModel",
          "model_module_version": "1.2.0",
          "state": {
            "_model_module": "@jupyter-widgets/base",
            "_model_module_version": "1.2.0",
            "_model_name": "LayoutModel",
            "_view_count": null,
            "_view_module": "@jupyter-widgets/base",
            "_view_module_version": "1.2.0",
            "_view_name": "LayoutView",
            "align_content": null,
            "align_items": null,
            "align_self": null,
            "border": null,
            "bottom": null,
            "display": null,
            "flex": null,
            "flex_flow": null,
            "grid_area": null,
            "grid_auto_columns": null,
            "grid_auto_flow": null,
            "grid_auto_rows": null,
            "grid_column": null,
            "grid_gap": null,
            "grid_row": null,
            "grid_template_areas": null,
            "grid_template_columns": null,
            "grid_template_rows": null,
            "height": null,
            "justify_content": null,
            "justify_items": null,
            "left": null,
            "margin": null,
            "max_height": null,
            "max_width": null,
            "min_height": null,
            "min_width": null,
            "object_fit": null,
            "object_position": null,
            "order": null,
            "overflow": null,
            "overflow_x": null,
            "overflow_y": null,
            "padding": null,
            "right": null,
            "top": null,
            "visibility": null,
            "width": null
          }
        },
        "cb34d9dfdb344bfe9cd99d1eeff44fe0": {
          "model_module": "@jupyter-widgets/base",
          "model_name": "LayoutModel",
          "model_module_version": "1.2.0",
          "state": {
            "_model_module": "@jupyter-widgets/base",
            "_model_module_version": "1.2.0",
            "_model_name": "LayoutModel",
            "_view_count": null,
            "_view_module": "@jupyter-widgets/base",
            "_view_module_version": "1.2.0",
            "_view_name": "LayoutView",
            "align_content": null,
            "align_items": null,
            "align_self": null,
            "border": null,
            "bottom": null,
            "display": null,
            "flex": null,
            "flex_flow": null,
            "grid_area": null,
            "grid_auto_columns": null,
            "grid_auto_flow": null,
            "grid_auto_rows": null,
            "grid_column": null,
            "grid_gap": null,
            "grid_row": null,
            "grid_template_areas": null,
            "grid_template_columns": null,
            "grid_template_rows": null,
            "height": null,
            "justify_content": null,
            "justify_items": null,
            "left": null,
            "margin": null,
            "max_height": null,
            "max_width": null,
            "min_height": null,
            "min_width": null,
            "object_fit": null,
            "object_position": null,
            "order": null,
            "overflow": null,
            "overflow_x": null,
            "overflow_y": null,
            "padding": null,
            "right": null,
            "top": null,
            "visibility": null,
            "width": null
          }
        },
        "9332d017fa1447a3bcfe69f89336710d": {
          "model_module": "@jupyter-widgets/controls",
          "model_name": "DescriptionStyleModel",
          "model_module_version": "1.5.0",
          "state": {
            "_model_module": "@jupyter-widgets/controls",
            "_model_module_version": "1.5.0",
            "_model_name": "DescriptionStyleModel",
            "_view_count": null,
            "_view_module": "@jupyter-widgets/base",
            "_view_module_version": "1.2.0",
            "_view_name": "StyleView",
            "description_width": ""
          }
        },
        "15131385591e4f89a9e00a65b461e9fc": {
          "model_module": "@jupyter-widgets/base",
          "model_name": "LayoutModel",
          "model_module_version": "1.2.0",
          "state": {
            "_model_module": "@jupyter-widgets/base",
            "_model_module_version": "1.2.0",
            "_model_name": "LayoutModel",
            "_view_count": null,
            "_view_module": "@jupyter-widgets/base",
            "_view_module_version": "1.2.0",
            "_view_name": "LayoutView",
            "align_content": null,
            "align_items": null,
            "align_self": null,
            "border": null,
            "bottom": null,
            "display": null,
            "flex": null,
            "flex_flow": null,
            "grid_area": null,
            "grid_auto_columns": null,
            "grid_auto_flow": null,
            "grid_auto_rows": null,
            "grid_column": null,
            "grid_gap": null,
            "grid_row": null,
            "grid_template_areas": null,
            "grid_template_columns": null,
            "grid_template_rows": null,
            "height": null,
            "justify_content": null,
            "justify_items": null,
            "left": null,
            "margin": null,
            "max_height": null,
            "max_width": null,
            "min_height": null,
            "min_width": null,
            "object_fit": null,
            "object_position": null,
            "order": null,
            "overflow": null,
            "overflow_x": null,
            "overflow_y": null,
            "padding": null,
            "right": null,
            "top": null,
            "visibility": null,
            "width": null
          }
        },
        "bb1b638dad0e467881afda384a5e9174": {
          "model_module": "@jupyter-widgets/controls",
          "model_name": "ProgressStyleModel",
          "model_module_version": "1.5.0",
          "state": {
            "_model_module": "@jupyter-widgets/controls",
            "_model_module_version": "1.5.0",
            "_model_name": "ProgressStyleModel",
            "_view_count": null,
            "_view_module": "@jupyter-widgets/base",
            "_view_module_version": "1.2.0",
            "_view_name": "StyleView",
            "bar_color": null,
            "description_width": ""
          }
        },
        "303e1bb7b4d047399fa840c8d41990f7": {
          "model_module": "@jupyter-widgets/base",
          "model_name": "LayoutModel",
          "model_module_version": "1.2.0",
          "state": {
            "_model_module": "@jupyter-widgets/base",
            "_model_module_version": "1.2.0",
            "_model_name": "LayoutModel",
            "_view_count": null,
            "_view_module": "@jupyter-widgets/base",
            "_view_module_version": "1.2.0",
            "_view_name": "LayoutView",
            "align_content": null,
            "align_items": null,
            "align_self": null,
            "border": null,
            "bottom": null,
            "display": null,
            "flex": null,
            "flex_flow": null,
            "grid_area": null,
            "grid_auto_columns": null,
            "grid_auto_flow": null,
            "grid_auto_rows": null,
            "grid_column": null,
            "grid_gap": null,
            "grid_row": null,
            "grid_template_areas": null,
            "grid_template_columns": null,
            "grid_template_rows": null,
            "height": null,
            "justify_content": null,
            "justify_items": null,
            "left": null,
            "margin": null,
            "max_height": null,
            "max_width": null,
            "min_height": null,
            "min_width": null,
            "object_fit": null,
            "object_position": null,
            "order": null,
            "overflow": null,
            "overflow_x": null,
            "overflow_y": null,
            "padding": null,
            "right": null,
            "top": null,
            "visibility": null,
            "width": null
          }
        },
        "ebc909d5e1214016b7c76f891ab95d9e": {
          "model_module": "@jupyter-widgets/controls",
          "model_name": "DescriptionStyleModel",
          "model_module_version": "1.5.0",
          "state": {
            "_model_module": "@jupyter-widgets/controls",
            "_model_module_version": "1.5.0",
            "_model_name": "DescriptionStyleModel",
            "_view_count": null,
            "_view_module": "@jupyter-widgets/base",
            "_view_module_version": "1.2.0",
            "_view_name": "StyleView",
            "description_width": ""
          }
        },
        "4ac5bd3128254aedb0c792f29a763765": {
          "model_module": "@jupyter-widgets/controls",
          "model_name": "HBoxModel",
          "model_module_version": "1.5.0",
          "state": {
            "_dom_classes": [],
            "_model_module": "@jupyter-widgets/controls",
            "_model_module_version": "1.5.0",
            "_model_name": "HBoxModel",
            "_view_count": null,
            "_view_module": "@jupyter-widgets/controls",
            "_view_module_version": "1.5.0",
            "_view_name": "HBoxView",
            "box_style": "",
            "children": [
              "IPY_MODEL_0d68c100379c4c4cabc13cf4571e3a55",
              "IPY_MODEL_2fb8e684c4764d8ebc7fb9468010544a",
              "IPY_MODEL_92abba112bd247439406c2f8d69cc21d"
            ],
            "layout": "IPY_MODEL_c0ee38f2b0f74fafac1c3b18b73d994a"
          }
        },
        "0d68c100379c4c4cabc13cf4571e3a55": {
          "model_module": "@jupyter-widgets/controls",
          "model_name": "HTMLModel",
          "model_module_version": "1.5.0",
          "state": {
            "_dom_classes": [],
            "_model_module": "@jupyter-widgets/controls",
            "_model_module_version": "1.5.0",
            "_model_name": "HTMLModel",
            "_view_count": null,
            "_view_module": "@jupyter-widgets/controls",
            "_view_module_version": "1.5.0",
            "_view_name": "HTMLView",
            "description": "",
            "description_tooltip": null,
            "layout": "IPY_MODEL_c14e3f6af7424e17b70d2c803457e028",
            "placeholder": "​",
            "style": "IPY_MODEL_2b5f76639fe14656af9202c4130e82a4",
            "value": "Downloading: 100%"
          }
        },
        "2fb8e684c4764d8ebc7fb9468010544a": {
          "model_module": "@jupyter-widgets/controls",
          "model_name": "FloatProgressModel",
          "model_module_version": "1.5.0",
          "state": {
            "_dom_classes": [],
            "_model_module": "@jupyter-widgets/controls",
            "_model_module_version": "1.5.0",
            "_model_name": "FloatProgressModel",
            "_view_count": null,
            "_view_module": "@jupyter-widgets/controls",
            "_view_module_version": "1.5.0",
            "_view_name": "ProgressView",
            "bar_style": "success",
            "description": "",
            "description_tooltip": null,
            "layout": "IPY_MODEL_8417193e5b464897a3a92fc3a0f800ae",
            "max": 466062,
            "min": 0,
            "orientation": "horizontal",
            "style": "IPY_MODEL_3aa5b61da5464fbc8c71a064f01d0d9f",
            "value": 466062
          }
        },
        "92abba112bd247439406c2f8d69cc21d": {
          "model_module": "@jupyter-widgets/controls",
          "model_name": "HTMLModel",
          "model_module_version": "1.5.0",
          "state": {
            "_dom_classes": [],
            "_model_module": "@jupyter-widgets/controls",
            "_model_module_version": "1.5.0",
            "_model_name": "HTMLModel",
            "_view_count": null,
            "_view_module": "@jupyter-widgets/controls",
            "_view_module_version": "1.5.0",
            "_view_name": "HTMLView",
            "description": "",
            "description_tooltip": null,
            "layout": "IPY_MODEL_049d2c6265ae400db7950e3d5d9c5022",
            "placeholder": "​",
            "style": "IPY_MODEL_4a3133b964f94591bc4168d0a9e9ff54",
            "value": " 455k/455k [00:00&lt;00:00, 584kB/s]"
          }
        },
        "c0ee38f2b0f74fafac1c3b18b73d994a": {
          "model_module": "@jupyter-widgets/base",
          "model_name": "LayoutModel",
          "model_module_version": "1.2.0",
          "state": {
            "_model_module": "@jupyter-widgets/base",
            "_model_module_version": "1.2.0",
            "_model_name": "LayoutModel",
            "_view_count": null,
            "_view_module": "@jupyter-widgets/base",
            "_view_module_version": "1.2.0",
            "_view_name": "LayoutView",
            "align_content": null,
            "align_items": null,
            "align_self": null,
            "border": null,
            "bottom": null,
            "display": null,
            "flex": null,
            "flex_flow": null,
            "grid_area": null,
            "grid_auto_columns": null,
            "grid_auto_flow": null,
            "grid_auto_rows": null,
            "grid_column": null,
            "grid_gap": null,
            "grid_row": null,
            "grid_template_areas": null,
            "grid_template_columns": null,
            "grid_template_rows": null,
            "height": null,
            "justify_content": null,
            "justify_items": null,
            "left": null,
            "margin": null,
            "max_height": null,
            "max_width": null,
            "min_height": null,
            "min_width": null,
            "object_fit": null,
            "object_position": null,
            "order": null,
            "overflow": null,
            "overflow_x": null,
            "overflow_y": null,
            "padding": null,
            "right": null,
            "top": null,
            "visibility": null,
            "width": null
          }
        },
        "c14e3f6af7424e17b70d2c803457e028": {
          "model_module": "@jupyter-widgets/base",
          "model_name": "LayoutModel",
          "model_module_version": "1.2.0",
          "state": {
            "_model_module": "@jupyter-widgets/base",
            "_model_module_version": "1.2.0",
            "_model_name": "LayoutModel",
            "_view_count": null,
            "_view_module": "@jupyter-widgets/base",
            "_view_module_version": "1.2.0",
            "_view_name": "LayoutView",
            "align_content": null,
            "align_items": null,
            "align_self": null,
            "border": null,
            "bottom": null,
            "display": null,
            "flex": null,
            "flex_flow": null,
            "grid_area": null,
            "grid_auto_columns": null,
            "grid_auto_flow": null,
            "grid_auto_rows": null,
            "grid_column": null,
            "grid_gap": null,
            "grid_row": null,
            "grid_template_areas": null,
            "grid_template_columns": null,
            "grid_template_rows": null,
            "height": null,
            "justify_content": null,
            "justify_items": null,
            "left": null,
            "margin": null,
            "max_height": null,
            "max_width": null,
            "min_height": null,
            "min_width": null,
            "object_fit": null,
            "object_position": null,
            "order": null,
            "overflow": null,
            "overflow_x": null,
            "overflow_y": null,
            "padding": null,
            "right": null,
            "top": null,
            "visibility": null,
            "width": null
          }
        },
        "2b5f76639fe14656af9202c4130e82a4": {
          "model_module": "@jupyter-widgets/controls",
          "model_name": "DescriptionStyleModel",
          "model_module_version": "1.5.0",
          "state": {
            "_model_module": "@jupyter-widgets/controls",
            "_model_module_version": "1.5.0",
            "_model_name": "DescriptionStyleModel",
            "_view_count": null,
            "_view_module": "@jupyter-widgets/base",
            "_view_module_version": "1.2.0",
            "_view_name": "StyleView",
            "description_width": ""
          }
        },
        "8417193e5b464897a3a92fc3a0f800ae": {
          "model_module": "@jupyter-widgets/base",
          "model_name": "LayoutModel",
          "model_module_version": "1.2.0",
          "state": {
            "_model_module": "@jupyter-widgets/base",
            "_model_module_version": "1.2.0",
            "_model_name": "LayoutModel",
            "_view_count": null,
            "_view_module": "@jupyter-widgets/base",
            "_view_module_version": "1.2.0",
            "_view_name": "LayoutView",
            "align_content": null,
            "align_items": null,
            "align_self": null,
            "border": null,
            "bottom": null,
            "display": null,
            "flex": null,
            "flex_flow": null,
            "grid_area": null,
            "grid_auto_columns": null,
            "grid_auto_flow": null,
            "grid_auto_rows": null,
            "grid_column": null,
            "grid_gap": null,
            "grid_row": null,
            "grid_template_areas": null,
            "grid_template_columns": null,
            "grid_template_rows": null,
            "height": null,
            "justify_content": null,
            "justify_items": null,
            "left": null,
            "margin": null,
            "max_height": null,
            "max_width": null,
            "min_height": null,
            "min_width": null,
            "object_fit": null,
            "object_position": null,
            "order": null,
            "overflow": null,
            "overflow_x": null,
            "overflow_y": null,
            "padding": null,
            "right": null,
            "top": null,
            "visibility": null,
            "width": null
          }
        },
        "3aa5b61da5464fbc8c71a064f01d0d9f": {
          "model_module": "@jupyter-widgets/controls",
          "model_name": "ProgressStyleModel",
          "model_module_version": "1.5.0",
          "state": {
            "_model_module": "@jupyter-widgets/controls",
            "_model_module_version": "1.5.0",
            "_model_name": "ProgressStyleModel",
            "_view_count": null,
            "_view_module": "@jupyter-widgets/base",
            "_view_module_version": "1.2.0",
            "_view_name": "StyleView",
            "bar_color": null,
            "description_width": ""
          }
        },
        "049d2c6265ae400db7950e3d5d9c5022": {
          "model_module": "@jupyter-widgets/base",
          "model_name": "LayoutModel",
          "model_module_version": "1.2.0",
          "state": {
            "_model_module": "@jupyter-widgets/base",
            "_model_module_version": "1.2.0",
            "_model_name": "LayoutModel",
            "_view_count": null,
            "_view_module": "@jupyter-widgets/base",
            "_view_module_version": "1.2.0",
            "_view_name": "LayoutView",
            "align_content": null,
            "align_items": null,
            "align_self": null,
            "border": null,
            "bottom": null,
            "display": null,
            "flex": null,
            "flex_flow": null,
            "grid_area": null,
            "grid_auto_columns": null,
            "grid_auto_flow": null,
            "grid_auto_rows": null,
            "grid_column": null,
            "grid_gap": null,
            "grid_row": null,
            "grid_template_areas": null,
            "grid_template_columns": null,
            "grid_template_rows": null,
            "height": null,
            "justify_content": null,
            "justify_items": null,
            "left": null,
            "margin": null,
            "max_height": null,
            "max_width": null,
            "min_height": null,
            "min_width": null,
            "object_fit": null,
            "object_position": null,
            "order": null,
            "overflow": null,
            "overflow_x": null,
            "overflow_y": null,
            "padding": null,
            "right": null,
            "top": null,
            "visibility": null,
            "width": null
          }
        },
        "4a3133b964f94591bc4168d0a9e9ff54": {
          "model_module": "@jupyter-widgets/controls",
          "model_name": "DescriptionStyleModel",
          "model_module_version": "1.5.0",
          "state": {
            "_model_module": "@jupyter-widgets/controls",
            "_model_module_version": "1.5.0",
            "_model_name": "DescriptionStyleModel",
            "_view_count": null,
            "_view_module": "@jupyter-widgets/base",
            "_view_module_version": "1.2.0",
            "_view_name": "StyleView",
            "description_width": ""
          }
        },
        "18ad687895494cd0a9ed956840930efd": {
          "model_module": "@jupyter-widgets/controls",
          "model_name": "HBoxModel",
          "model_module_version": "1.5.0",
          "state": {
            "_dom_classes": [],
            "_model_module": "@jupyter-widgets/controls",
            "_model_module_version": "1.5.0",
            "_model_name": "HBoxModel",
            "_view_count": null,
            "_view_module": "@jupyter-widgets/controls",
            "_view_module_version": "1.5.0",
            "_view_name": "HBoxView",
            "box_style": "",
            "children": [
              "IPY_MODEL_0ea2da81f093421398be2ae353990d6f",
              "IPY_MODEL_ad2c41413730485b95cc02cb3660b98f",
              "IPY_MODEL_49cefe5defc1408f8d963e2e3d01a337"
            ],
            "layout": "IPY_MODEL_7d0ea23c65564df59ca8b663557ed930"
          }
        },
        "0ea2da81f093421398be2ae353990d6f": {
          "model_module": "@jupyter-widgets/controls",
          "model_name": "HTMLModel",
          "model_module_version": "1.5.0",
          "state": {
            "_dom_classes": [],
            "_model_module": "@jupyter-widgets/controls",
            "_model_module_version": "1.5.0",
            "_model_name": "HTMLModel",
            "_view_count": null,
            "_view_module": "@jupyter-widgets/controls",
            "_view_module_version": "1.5.0",
            "_view_name": "HTMLView",
            "description": "",
            "description_tooltip": null,
            "layout": "IPY_MODEL_5ac3f4b832e44ce9ba1cf930627ae6d5",
            "placeholder": "​",
            "style": "IPY_MODEL_77c58bc04bc54333873b995040549bed",
            "value": "Downloading: 100%"
          }
        },
        "ad2c41413730485b95cc02cb3660b98f": {
          "model_module": "@jupyter-widgets/controls",
          "model_name": "FloatProgressModel",
          "model_module_version": "1.5.0",
          "state": {
            "_dom_classes": [],
            "_model_module": "@jupyter-widgets/controls",
            "_model_module_version": "1.5.0",
            "_model_name": "FloatProgressModel",
            "_view_count": null,
            "_view_module": "@jupyter-widgets/controls",
            "_view_module_version": "1.5.0",
            "_view_name": "ProgressView",
            "bar_style": "success",
            "description": "",
            "description_tooltip": null,
            "layout": "IPY_MODEL_3a3cdb39492548368b7da38995c481ab",
            "max": 536063208,
            "min": 0,
            "orientation": "horizontal",
            "style": "IPY_MODEL_68c88c0e96b9484588841cbc47fd2162",
            "value": 536063208
          }
        },
        "49cefe5defc1408f8d963e2e3d01a337": {
          "model_module": "@jupyter-widgets/controls",
          "model_name": "HTMLModel",
          "model_module_version": "1.5.0",
          "state": {
            "_dom_classes": [],
            "_model_module": "@jupyter-widgets/controls",
            "_model_module_version": "1.5.0",
            "_model_name": "HTMLModel",
            "_view_count": null,
            "_view_module": "@jupyter-widgets/controls",
            "_view_module_version": "1.5.0",
            "_view_name": "HTMLView",
            "description": "",
            "description_tooltip": null,
            "layout": "IPY_MODEL_0904773af4354cc9b3ade044ae4bc16a",
            "placeholder": "​",
            "style": "IPY_MODEL_2d2e959f4a574d92ae24ce6cb0dec20a",
            "value": " 511M/511M [00:15&lt;00:00, 36.6MB/s]"
          }
        },
        "7d0ea23c65564df59ca8b663557ed930": {
          "model_module": "@jupyter-widgets/base",
          "model_name": "LayoutModel",
          "model_module_version": "1.2.0",
          "state": {
            "_model_module": "@jupyter-widgets/base",
            "_model_module_version": "1.2.0",
            "_model_name": "LayoutModel",
            "_view_count": null,
            "_view_module": "@jupyter-widgets/base",
            "_view_module_version": "1.2.0",
            "_view_name": "LayoutView",
            "align_content": null,
            "align_items": null,
            "align_self": null,
            "border": null,
            "bottom": null,
            "display": null,
            "flex": null,
            "flex_flow": null,
            "grid_area": null,
            "grid_auto_columns": null,
            "grid_auto_flow": null,
            "grid_auto_rows": null,
            "grid_column": null,
            "grid_gap": null,
            "grid_row": null,
            "grid_template_areas": null,
            "grid_template_columns": null,
            "grid_template_rows": null,
            "height": null,
            "justify_content": null,
            "justify_items": null,
            "left": null,
            "margin": null,
            "max_height": null,
            "max_width": null,
            "min_height": null,
            "min_width": null,
            "object_fit": null,
            "object_position": null,
            "order": null,
            "overflow": null,
            "overflow_x": null,
            "overflow_y": null,
            "padding": null,
            "right": null,
            "top": null,
            "visibility": null,
            "width": null
          }
        },
        "5ac3f4b832e44ce9ba1cf930627ae6d5": {
          "model_module": "@jupyter-widgets/base",
          "model_name": "LayoutModel",
          "model_module_version": "1.2.0",
          "state": {
            "_model_module": "@jupyter-widgets/base",
            "_model_module_version": "1.2.0",
            "_model_name": "LayoutModel",
            "_view_count": null,
            "_view_module": "@jupyter-widgets/base",
            "_view_module_version": "1.2.0",
            "_view_name": "LayoutView",
            "align_content": null,
            "align_items": null,
            "align_self": null,
            "border": null,
            "bottom": null,
            "display": null,
            "flex": null,
            "flex_flow": null,
            "grid_area": null,
            "grid_auto_columns": null,
            "grid_auto_flow": null,
            "grid_auto_rows": null,
            "grid_column": null,
            "grid_gap": null,
            "grid_row": null,
            "grid_template_areas": null,
            "grid_template_columns": null,
            "grid_template_rows": null,
            "height": null,
            "justify_content": null,
            "justify_items": null,
            "left": null,
            "margin": null,
            "max_height": null,
            "max_width": null,
            "min_height": null,
            "min_width": null,
            "object_fit": null,
            "object_position": null,
            "order": null,
            "overflow": null,
            "overflow_x": null,
            "overflow_y": null,
            "padding": null,
            "right": null,
            "top": null,
            "visibility": null,
            "width": null
          }
        },
        "77c58bc04bc54333873b995040549bed": {
          "model_module": "@jupyter-widgets/controls",
          "model_name": "DescriptionStyleModel",
          "model_module_version": "1.5.0",
          "state": {
            "_model_module": "@jupyter-widgets/controls",
            "_model_module_version": "1.5.0",
            "_model_name": "DescriptionStyleModel",
            "_view_count": null,
            "_view_module": "@jupyter-widgets/base",
            "_view_module_version": "1.2.0",
            "_view_name": "StyleView",
            "description_width": ""
          }
        },
        "3a3cdb39492548368b7da38995c481ab": {
          "model_module": "@jupyter-widgets/base",
          "model_name": "LayoutModel",
          "model_module_version": "1.2.0",
          "state": {
            "_model_module": "@jupyter-widgets/base",
            "_model_module_version": "1.2.0",
            "_model_name": "LayoutModel",
            "_view_count": null,
            "_view_module": "@jupyter-widgets/base",
            "_view_module_version": "1.2.0",
            "_view_name": "LayoutView",
            "align_content": null,
            "align_items": null,
            "align_self": null,
            "border": null,
            "bottom": null,
            "display": null,
            "flex": null,
            "flex_flow": null,
            "grid_area": null,
            "grid_auto_columns": null,
            "grid_auto_flow": null,
            "grid_auto_rows": null,
            "grid_column": null,
            "grid_gap": null,
            "grid_row": null,
            "grid_template_areas": null,
            "grid_template_columns": null,
            "grid_template_rows": null,
            "height": null,
            "justify_content": null,
            "justify_items": null,
            "left": null,
            "margin": null,
            "max_height": null,
            "max_width": null,
            "min_height": null,
            "min_width": null,
            "object_fit": null,
            "object_position": null,
            "order": null,
            "overflow": null,
            "overflow_x": null,
            "overflow_y": null,
            "padding": null,
            "right": null,
            "top": null,
            "visibility": null,
            "width": null
          }
        },
        "68c88c0e96b9484588841cbc47fd2162": {
          "model_module": "@jupyter-widgets/controls",
          "model_name": "ProgressStyleModel",
          "model_module_version": "1.5.0",
          "state": {
            "_model_module": "@jupyter-widgets/controls",
            "_model_module_version": "1.5.0",
            "_model_name": "ProgressStyleModel",
            "_view_count": null,
            "_view_module": "@jupyter-widgets/base",
            "_view_module_version": "1.2.0",
            "_view_name": "StyleView",
            "bar_color": null,
            "description_width": ""
          }
        },
        "0904773af4354cc9b3ade044ae4bc16a": {
          "model_module": "@jupyter-widgets/base",
          "model_name": "LayoutModel",
          "model_module_version": "1.2.0",
          "state": {
            "_model_module": "@jupyter-widgets/base",
            "_model_module_version": "1.2.0",
            "_model_name": "LayoutModel",
            "_view_count": null,
            "_view_module": "@jupyter-widgets/base",
            "_view_module_version": "1.2.0",
            "_view_name": "LayoutView",
            "align_content": null,
            "align_items": null,
            "align_self": null,
            "border": null,
            "bottom": null,
            "display": null,
            "flex": null,
            "flex_flow": null,
            "grid_area": null,
            "grid_auto_columns": null,
            "grid_auto_flow": null,
            "grid_auto_rows": null,
            "grid_column": null,
            "grid_gap": null,
            "grid_row": null,
            "grid_template_areas": null,
            "grid_template_columns": null,
            "grid_template_rows": null,
            "height": null,
            "justify_content": null,
            "justify_items": null,
            "left": null,
            "margin": null,
            "max_height": null,
            "max_width": null,
            "min_height": null,
            "min_width": null,
            "object_fit": null,
            "object_position": null,
            "order": null,
            "overflow": null,
            "overflow_x": null,
            "overflow_y": null,
            "padding": null,
            "right": null,
            "top": null,
            "visibility": null,
            "width": null
          }
        },
        "2d2e959f4a574d92ae24ce6cb0dec20a": {
          "model_module": "@jupyter-widgets/controls",
          "model_name": "DescriptionStyleModel",
          "model_module_version": "1.5.0",
          "state": {
            "_model_module": "@jupyter-widgets/controls",
            "_model_module_version": "1.5.0",
            "_model_name": "DescriptionStyleModel",
            "_view_count": null,
            "_view_module": "@jupyter-widgets/base",
            "_view_module_version": "1.2.0",
            "_view_name": "StyleView",
            "description_width": ""
          }
        }
      }
    }
  },
  "nbformat": 4,
  "nbformat_minor": 0
}